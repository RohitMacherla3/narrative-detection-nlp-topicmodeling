{
 "cells": [
  {
   "cell_type": "code",
   "execution_count": null,
   "id": "2ebf6be0",
   "metadata": {},
   "outputs": [],
   "source": [
    "from sentence_transformers import SentenceTransformer, util\n",
    "import torch\n",
    "import pandas as pd\n",
    "import numpy as np\n",
    "from concurrent.futures import ThreadPoolExecutor"
   ]
  },
  {
   "cell_type": "code",
   "execution_count": null,
   "id": "2392e1a8",
   "metadata": {},
   "outputs": [],
   "source": [
    "# Define the model\n",
    "\n",
    "model = SentenceTransformer('sentence-transformers/all-mpnet-base-v2')"
   ]
  },
  {
   "cell_type": "code",
   "execution_count": null,
   "id": "46e81b22",
   "metadata": {},
   "outputs": [],
   "source": [
    "def generate_embeddings(text):\n",
    "    if not text:\n",
    "        return []  # Return an empty list if input is empty or None\n",
    "    embeddings = model.encode(text, convert_to_tensor=True)\n",
    "    print(\"Running...\")\n",
    "    return embeddings"
   ]
  },
  {
   "cell_type": "code",
   "execution_count": null,
   "id": "489bb4f4",
   "metadata": {},
   "outputs": [],
   "source": [
    "podcast_data = pd.read_pickle('Podcast/podcast_data_processed.pkl')\n",
    "podcast_data"
   ]
  },
  {
   "cell_type": "code",
   "execution_count": null,
   "id": "dc581268",
   "metadata": {},
   "outputs": [],
   "source": [
    "with ThreadPoolExecutor(max_workers=8) as executor:\n",
    "    embeddings_list = list(executor.map(generate_embeddings, podcast_data['Passages']))"
   ]
  },
  {
   "cell_type": "code",
   "execution_count": null,
   "id": "8a05c38f",
   "metadata": {},
   "outputs": [],
   "source": [
    "np.savez('Podcast/podcast_embeddings.npz', embeddings_list, allow_pickle=True)"
   ]
  }
 ],
 "metadata": {
  "kernelspec": {
   "display_name": "Python 3 (ipykernel)",
   "language": "python",
   "name": "python3"
  },
  "language_info": {
   "codemirror_mode": {
    "name": "ipython",
    "version": 3
   },
   "file_extension": ".py",
   "mimetype": "text/x-python",
   "name": "python",
   "nbconvert_exporter": "python",
   "pygments_lexer": "ipython3",
   "version": "3.10.8"
  }
 },
 "nbformat": 4,
 "nbformat_minor": 5
}
