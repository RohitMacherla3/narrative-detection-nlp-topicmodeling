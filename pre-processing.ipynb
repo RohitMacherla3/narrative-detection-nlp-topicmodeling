{
 "cells": [
  {
   "cell_type": "code",
   "execution_count": 1,
   "metadata": {},
   "outputs": [],
   "source": [
    "import pandas as pd\n",
    "import numpy as np\n",
    "import re\n",
    "import string\n",
    "import emoji\n",
    "import nltk"
   ]
  },
  {
   "cell_type": "code",
   "execution_count": 2,
   "metadata": {},
   "outputs": [],
   "source": [
    "def pre_processing(text):\n",
    "    if isinstance(text, str):\n",
    "        \n",
    "        # Removing URLs\n",
    "        def remove_url(text):\n",
    "            pattern = re.compile(r'https?://\\S+|www\\.\\S+')\n",
    "            return pattern.sub(r'', text)\n",
    "\n",
    "        text = remove_url(text)\n",
    "\n",
    "        # Removing HTML tags\n",
    "        def remove_html_tags(text):\n",
    "            pattern = re.compile('<.*?>')\n",
    "            return pattern.sub(r'', text)\n",
    "\n",
    "        text = remove_html_tags(text)\n",
    "        \n",
    "        # Removing Emojis\n",
    "        def remove_emojis(text):\n",
    "            emoji_unicode_dict = emoji.get_emoji_unicode_dict(lang='en')\n",
    "            emoji_pattern = re.compile(\"|\".join(emoji_unicode_dict.keys()))\n",
    "            return emoji_pattern.sub(r'', text)\n",
    "    \n",
    "        text = remove_emojis(text)\n",
    "\n",
    "    return text"
   ]
  },
  {
   "cell_type": "code",
   "execution_count": 3,
   "metadata": {},
   "outputs": [],
   "source": [
    "def create_passages(text, max_words_per_passage=100):\n",
    "    if isinstance(text, str):\n",
    "        sentences = nltk.sent_tokenize(text)\n",
    "        passages = []\n",
    "        passage = \"\"\n",
    "        word_count = 0\n",
    "\n",
    "        for sentence in sentences:\n",
    "            words = nltk.word_tokenize(sentence)\n",
    "            word_count += len(words)\n",
    "\n",
    "            if word_count <= max_words_per_passage:\n",
    "                passage += \" \" + sentence\n",
    "            else:\n",
    "                passages.append(passage.strip())\n",
    "                passage = sentence\n",
    "                word_count = len(words)\n",
    "\n",
    "        if passage:\n",
    "            passages.append(passage.strip())\n",
    "\n",
    "        return passages"
   ]
  },
  {
   "cell_type": "markdown",
   "metadata": {},
   "source": [
    "### Emails Data"
   ]
  },
  {
   "cell_type": "code",
   "execution_count": 4,
   "metadata": {},
   "outputs": [
    {
     "data": {
      "text/plain": [
       "(80100, 13)"
      ]
     },
     "execution_count": 4,
     "metadata": {},
     "output_type": "execute_result"
    }
   ],
   "source": [
    "emails_data = pd.read_csv('Email/emails_raw.csv')\n",
    "\n",
    "#filtering 2022 emails\n",
    "emails_2022 = emails_data[emails_data['Year'] == 2022]\n",
    "emails_2022.shape"
   ]
  },
  {
   "cell_type": "code",
   "execution_count": 5,
   "metadata": {},
   "outputs": [
    {
     "data": {
      "text/html": [
       "<div>\n",
       "<style scoped>\n",
       "    .dataframe tbody tr th:only-of-type {\n",
       "        vertical-align: middle;\n",
       "    }\n",
       "\n",
       "    .dataframe tbody tr th {\n",
       "        vertical-align: top;\n",
       "    }\n",
       "\n",
       "    .dataframe thead th {\n",
       "        text-align: right;\n",
       "    }\n",
       "</style>\n",
       "<table border=\"1\" class=\"dataframe\">\n",
       "  <thead>\n",
       "    <tr style=\"text-align: right;\">\n",
       "      <th></th>\n",
       "      <th>Name</th>\n",
       "      <th>Subject</th>\n",
       "      <th>Body</th>\n",
       "    </tr>\n",
       "  </thead>\n",
       "  <tbody>\n",
       "    <tr>\n",
       "      <th>34715</th>\n",
       "      <td>DUE @ 11:59 PM | Upset the Setup</td>\n",
       "      <td>re: President Joe Biden</td>\n",
       "      <td>☆ OFFICIAL UTS APPROVAL POLL | REGISTERED TO P...</td>\n",
       "    </tr>\n",
       "    <tr>\n",
       "      <th>34863</th>\n",
       "      <td>Coach Tuberville</td>\n",
       "      <td>🎉 Happy New Year 🎉</td>\n",
       "      <td>96 Peter, The countdown is on – 2022 is quickl...</td>\n",
       "    </tr>\n",
       "    <tr>\n",
       "      <th>34872</th>\n",
       "      <td>Derek Kilmer for Congress</td>\n",
       "      <td>One last update</td>\n",
       "      <td>Peter, Before tonight's festivities begin, we ...</td>\n",
       "    </tr>\n",
       "    <tr>\n",
       "      <th>34873</th>\n",
       "      <td>Sarah Longwell</td>\n",
       "      <td>A great year for democracy</td>\n",
       "      <td>We thought you might want to see this special ...</td>\n",
       "    </tr>\n",
       "    <tr>\n",
       "      <th>34875</th>\n",
       "      <td>Donald J. Trump</td>\n",
       "      <td>2022 is almost over</td>\n",
       "      <td>--- | | | | | | | Untitled Document![Trump 202...</td>\n",
       "    </tr>\n",
       "  </tbody>\n",
       "</table>\n",
       "</div>"
      ],
      "text/plain": [
       "                                   Name                     Subject  \\\n",
       "34715  DUE @ 11:59 PM | Upset the Setup     re: President Joe Biden   \n",
       "34863                  Coach Tuberville          🎉 Happy New Year 🎉   \n",
       "34872         Derek Kilmer for Congress             One last update   \n",
       "34873                    Sarah Longwell  A great year for democracy   \n",
       "34875                   Donald J. Trump         2022 is almost over   \n",
       "\n",
       "                                                    Body  \n",
       "34715  ☆ OFFICIAL UTS APPROVAL POLL | REGISTERED TO P...  \n",
       "34863  96 Peter, The countdown is on – 2022 is quickl...  \n",
       "34872  Peter, Before tonight's festivities begin, we ...  \n",
       "34873  We thought you might want to see this special ...  \n",
       "34875  --- | | | | | | | Untitled Document![Trump 202...  "
      ]
     },
     "execution_count": 5,
     "metadata": {},
     "output_type": "execute_result"
    }
   ],
   "source": [
    "emails_df = emails_2022[['Name', 'Subject','Body']]\n",
    "emails_df.head()"
   ]
  },
  {
   "cell_type": "code",
   "execution_count": 6,
   "metadata": {},
   "outputs": [
    {
     "name": "stderr",
     "output_type": "stream",
     "text": [
      "/var/folders/kg/_lk6hlqn05z_ghjpvh5y1z400000gn/T/ipykernel_41998/2943005930.py:3: FutureWarning: The behavior of `series[i:j]` with an integer-dtype index is deprecated. In a future version, this will be treated as *label-based* indexing, consistent with e.g. `series[i]` lookups. To retain the old behavior, use `series.iloc[i:j]`. To get the future behavior, use `series.loc[i:j]`.\n",
      "  emails_df['Body'][34875:34900]\n"
     ]
    },
    {
     "data": {
      "text/plain": [
       "70194    Leora Levy for U.S. Senate I'm beyond honored ...\n",
       "70195    Friend – I'm less than 24 hours away from my f...\n",
       "70196    I’m going to tell you about my tattoos. | | |!...\n",
       "70197    Can I count on you? https://electalexis.us4.li...\n",
       "70198    Peter — in June, the Supreme Court OVERTURNED ...\n",
       "70199    If you believe you received this message in er...\n",
       "70200    https://www.thefairnessproject.org/ [https://w...\n",
       "70201    Folks, I have never felt more hopeful about th...\n",
       "70202    JD Vance for US Senate                        ...\n",
       "70203    [1]Charles Booker Peter, take a look at this: ...\n",
       "70204    Herschel Walker for Senate This is bad, Peter....\n",
       "70205    Did you see the news, Peter? MAGA Republican M...\n",
       "70206    Derek, Marriage equality is the law of the lan...\n",
       "70207    Here's the thing: People like being able to ch...\n",
       "70208    Tyler Kistner for Congress Building up our fie...\n",
       "70209    Official RNC Updates The raid on Pres. Trump’s...\n",
       "70210    Feenstra for Congress Delete once read        ...\n",
       "70211    President Trump wants you to join his prestigi...\n",
       "70212    Doctor Oz For Senate                          ...\n",
       "70213    Have you seen this email, team? I’m reaching o...\n",
       "70214    Official RNC Updates Please step up. Peter, Ga...\n",
       "70215    Peter, Do you even recognize the country in wh...\n",
       "70216    Peter, I grew up in a family committed to its ...\n",
       "70217    URGENT from The Washington Post: Donald Trump ...\n",
       "70218    Team – did you see this? According to a new po...\n",
       "Name: Body, dtype: object"
      ]
     },
     "execution_count": 6,
     "metadata": {},
     "output_type": "execute_result"
    }
   ],
   "source": [
    "# before pre-processing\n",
    "\n",
    "emails_df['Body'][34875:34900]"
   ]
  },
  {
   "cell_type": "code",
   "execution_count": 7,
   "metadata": {},
   "outputs": [
    {
     "name": "stderr",
     "output_type": "stream",
     "text": [
      "/var/folders/kg/_lk6hlqn05z_ghjpvh5y1z400000gn/T/ipykernel_41998/582073124.py:3: SettingWithCopyWarning: \n",
      "A value is trying to be set on a copy of a slice from a DataFrame.\n",
      "Try using .loc[row_indexer,col_indexer] = value instead\n",
      "\n",
      "See the caveats in the documentation: https://pandas.pydata.org/pandas-docs/stable/user_guide/indexing.html#returning-a-view-versus-a-copy\n",
      "  emails_df['Body'] = emails_df['Body'].apply(pre_processing)\n"
     ]
    }
   ],
   "source": [
    "# pre-processing on \"Body\" column\n",
    "\n",
    "emails_df['Body'] = emails_df['Body'].apply(pre_processing)"
   ]
  },
  {
   "cell_type": "code",
   "execution_count": 8,
   "metadata": {},
   "outputs": [
    {
     "name": "stderr",
     "output_type": "stream",
     "text": [
      "/var/folders/kg/_lk6hlqn05z_ghjpvh5y1z400000gn/T/ipykernel_41998/1797652354.py:3: FutureWarning: The behavior of `series[i:j]` with an integer-dtype index is deprecated. In a future version, this will be treated as *label-based* indexing, consistent with e.g. `series[i]` lookups. To retain the old behavior, use `series.iloc[i:j]`. To get the future behavior, use `series.loc[i:j]`.\n",
      "  emails_df['Body'][34875:34900]\n"
     ]
    },
    {
     "data": {
      "text/plain": [
       "70194    Leora Levy for U.S. Senate I'm beyond honored ...\n",
       "70195    Friend – I'm less than 24 hours away from my f...\n",
       "70196    I’m going to tell you about my tattoos. | | |!...\n",
       "70197    Can I count on you?  The end of August is fast...\n",
       "70198    Peter — in June, the Supreme Court OVERTURNED ...\n",
       "70199    If you believe you received this message in er...\n",
       "70200     [ Team— In the first major test of the 2022 e...\n",
       "70201    Folks, I have never felt more hopeful about th...\n",
       "70202    JD Vance for US Senate                        ...\n",
       "70203    [1]Charles Booker Peter, take a look at this: ...\n",
       "70204    Herschel Walker for Senate This is bad, Peter....\n",
       "70205    Did you see the news, Peter? MAGA Republican M...\n",
       "70206    Derek, Marriage equality is the law of the lan...\n",
       "70207    Here's the thing: People like being able to ch...\n",
       "70208    Tyler Kistner for Congress Building up our fie...\n",
       "70209    Official RNC Updates The raid on Pres. Trump’s...\n",
       "70210    Feenstra for Congress Delete once read        ...\n",
       "70211    President Trump wants you to join his prestigi...\n",
       "70212    Doctor Oz For Senate                          ...\n",
       "70213    Have you seen this email, team? I’m reaching o...\n",
       "70214    Official RNC Updates Please step up. Peter, Ga...\n",
       "70215    Peter, Do you even recognize the country in wh...\n",
       "70216    Peter, I grew up in a family committed to its ...\n",
       "70217    URGENT from The Washington Post: Donald Trump ...\n",
       "70218    Team – did you see this? According to a new po...\n",
       "Name: Body, dtype: object"
      ]
     },
     "execution_count": 8,
     "metadata": {},
     "output_type": "execute_result"
    }
   ],
   "source": [
    "# after pre-processing\n",
    "\n",
    "emails_df['Body'][34875:34900]"
   ]
  },
  {
   "cell_type": "code",
   "execution_count": 9,
   "metadata": {},
   "outputs": [],
   "source": [
    "# j = 0\n",
    "# for i in emails_df['Body']:\n",
    "#     if j <=10:\n",
    "#         print(i)\n",
    "#         print(\"**********************************\")\n",
    "#         print()\n",
    "#     j +=1"
   ]
  },
  {
   "cell_type": "code",
   "execution_count": 10,
   "metadata": {},
   "outputs": [
    {
     "name": "stderr",
     "output_type": "stream",
     "text": [
      "/var/folders/kg/_lk6hlqn05z_ghjpvh5y1z400000gn/T/ipykernel_41998/4239503947.py:1: SettingWithCopyWarning: \n",
      "A value is trying to be set on a copy of a slice from a DataFrame.\n",
      "Try using .loc[row_indexer,col_indexer] = value instead\n",
      "\n",
      "See the caveats in the documentation: https://pandas.pydata.org/pandas-docs/stable/user_guide/indexing.html#returning-a-view-versus-a-copy\n",
      "  emails_df['Passages'] = emails_df['Body'].apply(create_passages)\n"
     ]
    }
   ],
   "source": [
    "emails_df['Passages'] = emails_df['Body'].apply(create_passages)"
   ]
  },
  {
   "cell_type": "code",
   "execution_count": 11,
   "metadata": {},
   "outputs": [
    {
     "data": {
      "text/html": [
       "<div>\n",
       "<style scoped>\n",
       "    .dataframe tbody tr th:only-of-type {\n",
       "        vertical-align: middle;\n",
       "    }\n",
       "\n",
       "    .dataframe tbody tr th {\n",
       "        vertical-align: top;\n",
       "    }\n",
       "\n",
       "    .dataframe thead th {\n",
       "        text-align: right;\n",
       "    }\n",
       "</style>\n",
       "<table border=\"1\" class=\"dataframe\">\n",
       "  <thead>\n",
       "    <tr style=\"text-align: right;\">\n",
       "      <th></th>\n",
       "      <th>Name</th>\n",
       "      <th>Subject</th>\n",
       "      <th>Body</th>\n",
       "      <th>Passages</th>\n",
       "    </tr>\n",
       "  </thead>\n",
       "  <tbody>\n",
       "    <tr>\n",
       "      <th>34715</th>\n",
       "      <td>DUE @ 11:59 PM | Upset the Setup</td>\n",
       "      <td>re: President Joe Biden</td>\n",
       "      <td>☆ OFFICIAL UTS APPROVAL POLL | REGISTERED TO P...</td>\n",
       "      <td>[☆ OFFICIAL UTS APPROVAL POLL | REGISTERED TO ...</td>\n",
       "    </tr>\n",
       "    <tr>\n",
       "      <th>34863</th>\n",
       "      <td>Coach Tuberville</td>\n",
       "      <td>🎉 Happy New Year 🎉</td>\n",
       "      <td>96 Peter, The countdown is on – 2022 is quickl...</td>\n",
       "      <td>[96 Peter, The countdown is on – 2022 is quick...</td>\n",
       "    </tr>\n",
       "    <tr>\n",
       "      <th>34872</th>\n",
       "      <td>Derek Kilmer for Congress</td>\n",
       "      <td>One last update</td>\n",
       "      <td>Peter, Before tonight's festivities begin, we ...</td>\n",
       "      <td>[Peter, Before tonight's festivities begin, we...</td>\n",
       "    </tr>\n",
       "    <tr>\n",
       "      <th>34873</th>\n",
       "      <td>Sarah Longwell</td>\n",
       "      <td>A great year for democracy</td>\n",
       "      <td>We thought you might want to see this special ...</td>\n",
       "      <td>[We thought you might want to see this special...</td>\n",
       "    </tr>\n",
       "    <tr>\n",
       "      <th>34875</th>\n",
       "      <td>Donald J. Trump</td>\n",
       "      <td>2022 is almost over</td>\n",
       "      <td>--- | | | | | | | Untitled Document![Trump 202...</td>\n",
       "      <td>[--- | | | | | | | Untitled Document! [Trump 2...</td>\n",
       "    </tr>\n",
       "    <tr>\n",
       "      <th>...</th>\n",
       "      <td>...</td>\n",
       "      <td>...</td>\n",
       "      <td>...</td>\n",
       "      <td>...</td>\n",
       "    </tr>\n",
       "    <tr>\n",
       "      <th>186607</th>\n",
       "      <td>Justices Gorsuch and Kavanaugh LIED to the Ame...</td>\n",
       "      <td>5X match to hold Republicans accountable</td>\n",
       "      <td>Team, Representatives Ted Lieu and Alexandria ...</td>\n",
       "      <td>[Team, Representatives Ted Lieu and Alexandria...</td>\n",
       "    </tr>\n",
       "    <tr>\n",
       "      <th>186608</th>\n",
       "      <td>Dan Goldman</td>\n",
       "      <td>A new playbook in Congress</td>\n",
       "      <td>Today marks 50 days until Election Day, Peter....</td>\n",
       "      <td>[Today marks 50 days until Election Day, Peter...</td>\n",
       "    </tr>\n",
       "    <tr>\n",
       "      <th>186609</th>\n",
       "      <td>Team Beshear</td>\n",
       "      <td>Andy's opponents are threatening to undo our p...</td>\n",
       "      <td>FIRST: It was reported that former disgraced g...</td>\n",
       "      <td>[FIRST: It was reported that former disgraced ...</td>\n",
       "    </tr>\n",
       "    <tr>\n",
       "      <th>186611</th>\n",
       "      <td>Tom Malinowski</td>\n",
       "      <td>thank you for keeping up this fight</td>\n",
       "      <td>͏ ͏ ͏ ͏ ͏ ͏ ͏ ͏ ͏ ͏ ͏ ͏ ͏ ͏ ͏ ͏ ͏ ͏ ͏ ͏ ͏ ͏ ͏ ...</td>\n",
       "      <td>[, ͏ ͏ ͏ ͏ ͏ ͏ ͏ ͏ ͏ ͏ ͏ ͏ ͏ ͏ ͏ ͏ ͏ ͏ ͏ ͏ ͏ ͏...</td>\n",
       "    </tr>\n",
       "    <tr>\n",
       "      <th>186615</th>\n",
       "      <td>Sean Patrick Maloney</td>\n",
       "      <td>Republican fundraiser BACKFIRES</td>\n",
       "      <td>Derek, I can’t believe what I just learned: --...</td>\n",
       "      <td>[Derek, I can’t believe what I just learned: -...</td>\n",
       "    </tr>\n",
       "  </tbody>\n",
       "</table>\n",
       "<p>80100 rows × 4 columns</p>\n",
       "</div>"
      ],
      "text/plain": [
       "                                                     Name  \\\n",
       "34715                    DUE @ 11:59 PM | Upset the Setup   \n",
       "34863                                    Coach Tuberville   \n",
       "34872                           Derek Kilmer for Congress   \n",
       "34873                                      Sarah Longwell   \n",
       "34875                                     Donald J. Trump   \n",
       "...                                                   ...   \n",
       "186607  Justices Gorsuch and Kavanaugh LIED to the Ame...   \n",
       "186608                                        Dan Goldman   \n",
       "186609                                       Team Beshear   \n",
       "186611                                     Tom Malinowski   \n",
       "186615                               Sean Patrick Maloney   \n",
       "\n",
       "                                                  Subject  \\\n",
       "34715                             re: President Joe Biden   \n",
       "34863                                  🎉 Happy New Year 🎉   \n",
       "34872                                     One last update   \n",
       "34873                          A great year for democracy   \n",
       "34875                                 2022 is almost over   \n",
       "...                                                   ...   \n",
       "186607           5X match to hold Republicans accountable   \n",
       "186608                         A new playbook in Congress   \n",
       "186609  Andy's opponents are threatening to undo our p...   \n",
       "186611                thank you for keeping up this fight   \n",
       "186615                    Republican fundraiser BACKFIRES   \n",
       "\n",
       "                                                     Body  \\\n",
       "34715   ☆ OFFICIAL UTS APPROVAL POLL | REGISTERED TO P...   \n",
       "34863   96 Peter, The countdown is on – 2022 is quickl...   \n",
       "34872   Peter, Before tonight's festivities begin, we ...   \n",
       "34873   We thought you might want to see this special ...   \n",
       "34875   --- | | | | | | | Untitled Document![Trump 202...   \n",
       "...                                                   ...   \n",
       "186607  Team, Representatives Ted Lieu and Alexandria ...   \n",
       "186608  Today marks 50 days until Election Day, Peter....   \n",
       "186609  FIRST: It was reported that former disgraced g...   \n",
       "186611  ͏ ͏ ͏ ͏ ͏ ͏ ͏ ͏ ͏ ͏ ͏ ͏ ͏ ͏ ͏ ͏ ͏ ͏ ͏ ͏ ͏ ͏ ͏ ...   \n",
       "186615  Derek, I can’t believe what I just learned: --...   \n",
       "\n",
       "                                                 Passages  \n",
       "34715   [☆ OFFICIAL UTS APPROVAL POLL | REGISTERED TO ...  \n",
       "34863   [96 Peter, The countdown is on – 2022 is quick...  \n",
       "34872   [Peter, Before tonight's festivities begin, we...  \n",
       "34873   [We thought you might want to see this special...  \n",
       "34875   [--- | | | | | | | Untitled Document! [Trump 2...  \n",
       "...                                                   ...  \n",
       "186607  [Team, Representatives Ted Lieu and Alexandria...  \n",
       "186608  [Today marks 50 days until Election Day, Peter...  \n",
       "186609  [FIRST: It was reported that former disgraced ...  \n",
       "186611  [, ͏ ͏ ͏ ͏ ͏ ͏ ͏ ͏ ͏ ͏ ͏ ͏ ͏ ͏ ͏ ͏ ͏ ͏ ͏ ͏ ͏ ͏...  \n",
       "186615  [Derek, I can’t believe what I just learned: -...  \n",
       "\n",
       "[80100 rows x 4 columns]"
      ]
     },
     "execution_count": 11,
     "metadata": {},
     "output_type": "execute_result"
    }
   ],
   "source": [
    "emails_df"
   ]
  },
  {
   "cell_type": "code",
   "execution_count": 12,
   "metadata": {},
   "outputs": [],
   "source": [
    "emails_df.to_csv('Email/emails_processed.csv')"
   ]
  },
  {
   "cell_type": "code",
   "execution_count": null,
   "metadata": {},
   "outputs": [],
   "source": []
  },
  {
   "cell_type": "code",
   "execution_count": null,
   "metadata": {},
   "outputs": [],
   "source": []
  },
  {
   "cell_type": "code",
   "execution_count": null,
   "metadata": {},
   "outputs": [],
   "source": []
  },
  {
   "cell_type": "markdown",
   "metadata": {},
   "source": [
    "### Podcast Data"
   ]
  },
  {
   "cell_type": "code",
   "execution_count": 13,
   "metadata": {},
   "outputs": [
    {
     "data": {
      "text/html": [
       "<div>\n",
       "<style scoped>\n",
       "    .dataframe tbody tr th:only-of-type {\n",
       "        vertical-align: middle;\n",
       "    }\n",
       "\n",
       "    .dataframe tbody tr th {\n",
       "        vertical-align: top;\n",
       "    }\n",
       "\n",
       "    .dataframe thead th {\n",
       "        text-align: right;\n",
       "    }\n",
       "</style>\n",
       "<table border=\"1\" class=\"dataframe\">\n",
       "  <thead>\n",
       "    <tr style=\"text-align: right;\">\n",
       "      <th></th>\n",
       "      <th>Podcast</th>\n",
       "      <th>Date</th>\n",
       "      <th>Part</th>\n",
       "      <th>Transcript</th>\n",
       "    </tr>\n",
       "  </thead>\n",
       "  <tbody>\n",
       "    <tr>\n",
       "      <th>0</th>\n",
       "      <td>Conservative_Review_with_Daniel_Horowitz</td>\n",
       "      <td>2022-05-12</td>\n",
       "      <td>1</td>\n",
       "      <td>And welcome back fellow American patriots and...</td>\n",
       "    </tr>\n",
       "    <tr>\n",
       "      <th>1</th>\n",
       "      <td>Conservative_Review_with_Daniel_Horowitz</td>\n",
       "      <td>2022-11-04</td>\n",
       "      <td>1</td>\n",
       "      <td>And welcome back fellow American patriots and...</td>\n",
       "    </tr>\n",
       "    <tr>\n",
       "      <th>2</th>\n",
       "      <td>Conservative_Review_with_Daniel_Horowitz</td>\n",
       "      <td>2022-02-10</td>\n",
       "      <td>1</td>\n",
       "      <td>Set five years after Jedi Fallen Order, follo...</td>\n",
       "    </tr>\n",
       "    <tr>\n",
       "      <th>3</th>\n",
       "      <td>Conservative_Review_with_Daniel_Horowitz</td>\n",
       "      <td>2022-05-16</td>\n",
       "      <td>1</td>\n",
       "      <td>Politics Without the Soap Opera with unfilter...</td>\n",
       "    </tr>\n",
       "    <tr>\n",
       "      <th>4</th>\n",
       "      <td>Conservative_Review_with_Daniel_Horowitz</td>\n",
       "      <td>2022-09-13</td>\n",
       "      <td>1</td>\n",
       "      <td>And welcome back fellow American patriots and...</td>\n",
       "    </tr>\n",
       "    <tr>\n",
       "      <th>...</th>\n",
       "      <td>...</td>\n",
       "      <td>...</td>\n",
       "      <td>...</td>\n",
       "      <td>...</td>\n",
       "    </tr>\n",
       "    <tr>\n",
       "      <th>6944</th>\n",
       "      <td>Louder_with_Crowder</td>\n",
       "      <td>2022-11-10</td>\n",
       "      <td>1</td>\n",
       "      <td>Alright, Mr. Jeremy Quartering. Does your aud...</td>\n",
       "    </tr>\n",
       "    <tr>\n",
       "      <th>6945</th>\n",
       "      <td>Louder_with_Crowder</td>\n",
       "      <td>2022-09-06</td>\n",
       "      <td>14</td>\n",
       "      <td>You're running for press, you socialist cheat...</td>\n",
       "    </tr>\n",
       "    <tr>\n",
       "      <th>6946</th>\n",
       "      <td>Louder_with_Crowder</td>\n",
       "      <td>2022-09-06</td>\n",
       "      <td>1</td>\n",
       "      <td>Yeah, uh, don't get it twisted This late nigh...</td>\n",
       "    </tr>\n",
       "    <tr>\n",
       "      <th>6947</th>\n",
       "      <td>Louder_with_Crowder</td>\n",
       "      <td>2022-09-07</td>\n",
       "      <td>2</td>\n",
       "      <td>It's Parody Week! You can find today's track ...</td>\n",
       "    </tr>\n",
       "    <tr>\n",
       "      <th>6948</th>\n",
       "      <td>Louder_with_Crowder</td>\n",
       "      <td>2022-06-22</td>\n",
       "      <td>1</td>\n",
       "      <td>Alright, audio listener, I will keep this bri...</td>\n",
       "    </tr>\n",
       "  </tbody>\n",
       "</table>\n",
       "<p>6949 rows × 4 columns</p>\n",
       "</div>"
      ],
      "text/plain": [
       "                                       Podcast        Date  Part  \\\n",
       "0     Conservative_Review_with_Daniel_Horowitz  2022-05-12     1   \n",
       "1     Conservative_Review_with_Daniel_Horowitz  2022-11-04     1   \n",
       "2     Conservative_Review_with_Daniel_Horowitz  2022-02-10     1   \n",
       "3     Conservative_Review_with_Daniel_Horowitz  2022-05-16     1   \n",
       "4     Conservative_Review_with_Daniel_Horowitz  2022-09-13     1   \n",
       "...                                        ...         ...   ...   \n",
       "6944                       Louder_with_Crowder  2022-11-10     1   \n",
       "6945                       Louder_with_Crowder  2022-09-06    14   \n",
       "6946                       Louder_with_Crowder  2022-09-06     1   \n",
       "6947                       Louder_with_Crowder  2022-09-07     2   \n",
       "6948                       Louder_with_Crowder  2022-06-22     1   \n",
       "\n",
       "                                             Transcript  \n",
       "0      And welcome back fellow American patriots and...  \n",
       "1      And welcome back fellow American patriots and...  \n",
       "2      Set five years after Jedi Fallen Order, follo...  \n",
       "3      Politics Without the Soap Opera with unfilter...  \n",
       "4      And welcome back fellow American patriots and...  \n",
       "...                                                 ...  \n",
       "6944   Alright, Mr. Jeremy Quartering. Does your aud...  \n",
       "6945   You're running for press, you socialist cheat...  \n",
       "6946   Yeah, uh, don't get it twisted This late nigh...  \n",
       "6947   It's Parody Week! You can find today's track ...  \n",
       "6948   Alright, audio listener, I will keep this bri...  \n",
       "\n",
       "[6949 rows x 4 columns]"
      ]
     },
     "execution_count": 13,
     "metadata": {},
     "output_type": "execute_result"
    }
   ],
   "source": [
    "podcast_data = pd.read_csv('Podcast/podcast_data_raw.csv')\n",
    "podcast_data"
   ]
  },
  {
   "cell_type": "code",
   "execution_count": 14,
   "metadata": {},
   "outputs": [
    {
     "data": {
      "text/html": [
       "<div>\n",
       "<style scoped>\n",
       "    .dataframe tbody tr th:only-of-type {\n",
       "        vertical-align: middle;\n",
       "    }\n",
       "\n",
       "    .dataframe tbody tr th {\n",
       "        vertical-align: top;\n",
       "    }\n",
       "\n",
       "    .dataframe thead th {\n",
       "        text-align: right;\n",
       "    }\n",
       "</style>\n",
       "<table border=\"1\" class=\"dataframe\">\n",
       "  <thead>\n",
       "    <tr style=\"text-align: right;\">\n",
       "      <th></th>\n",
       "      <th>Podcast</th>\n",
       "      <th>Date</th>\n",
       "      <th>Part</th>\n",
       "      <th>Transcript</th>\n",
       "    </tr>\n",
       "  </thead>\n",
       "  <tbody>\n",
       "    <tr>\n",
       "      <th>0</th>\n",
       "      <td>Conservative_Review_with_Daniel_Horowitz</td>\n",
       "      <td>2022-05-12</td>\n",
       "      <td>1</td>\n",
       "      <td>And welcome back fellow American patriots and...</td>\n",
       "    </tr>\n",
       "    <tr>\n",
       "      <th>1</th>\n",
       "      <td>Conservative_Review_with_Daniel_Horowitz</td>\n",
       "      <td>2022-11-04</td>\n",
       "      <td>1</td>\n",
       "      <td>And welcome back fellow American patriots and...</td>\n",
       "    </tr>\n",
       "    <tr>\n",
       "      <th>2</th>\n",
       "      <td>Conservative_Review_with_Daniel_Horowitz</td>\n",
       "      <td>2022-02-10</td>\n",
       "      <td>1</td>\n",
       "      <td>Set five years after Jedi Fallen Order, follo...</td>\n",
       "    </tr>\n",
       "    <tr>\n",
       "      <th>3</th>\n",
       "      <td>Conservative_Review_with_Daniel_Horowitz</td>\n",
       "      <td>2022-05-16</td>\n",
       "      <td>1</td>\n",
       "      <td>Politics Without the Soap Opera with unfilter...</td>\n",
       "    </tr>\n",
       "    <tr>\n",
       "      <th>4</th>\n",
       "      <td>Conservative_Review_with_Daniel_Horowitz</td>\n",
       "      <td>2022-09-13</td>\n",
       "      <td>1</td>\n",
       "      <td>And welcome back fellow American patriots and...</td>\n",
       "    </tr>\n",
       "    <tr>\n",
       "      <th>...</th>\n",
       "      <td>...</td>\n",
       "      <td>...</td>\n",
       "      <td>...</td>\n",
       "      <td>...</td>\n",
       "    </tr>\n",
       "    <tr>\n",
       "      <th>6944</th>\n",
       "      <td>Louder_with_Crowder</td>\n",
       "      <td>2022-11-10</td>\n",
       "      <td>1</td>\n",
       "      <td>Alright, Mr. Jeremy Quartering. Does your aud...</td>\n",
       "    </tr>\n",
       "    <tr>\n",
       "      <th>6945</th>\n",
       "      <td>Louder_with_Crowder</td>\n",
       "      <td>2022-09-06</td>\n",
       "      <td>14</td>\n",
       "      <td>You're running for press, you socialist cheat...</td>\n",
       "    </tr>\n",
       "    <tr>\n",
       "      <th>6946</th>\n",
       "      <td>Louder_with_Crowder</td>\n",
       "      <td>2022-09-06</td>\n",
       "      <td>1</td>\n",
       "      <td>Yeah, uh, don't get it twisted This late nigh...</td>\n",
       "    </tr>\n",
       "    <tr>\n",
       "      <th>6947</th>\n",
       "      <td>Louder_with_Crowder</td>\n",
       "      <td>2022-09-07</td>\n",
       "      <td>2</td>\n",
       "      <td>It's Parody Week! You can find today's track ...</td>\n",
       "    </tr>\n",
       "    <tr>\n",
       "      <th>6948</th>\n",
       "      <td>Louder_with_Crowder</td>\n",
       "      <td>2022-06-22</td>\n",
       "      <td>1</td>\n",
       "      <td>Alright, audio listener, I will keep this bri...</td>\n",
       "    </tr>\n",
       "  </tbody>\n",
       "</table>\n",
       "<p>6949 rows × 4 columns</p>\n",
       "</div>"
      ],
      "text/plain": [
       "                                       Podcast        Date  Part  \\\n",
       "0     Conservative_Review_with_Daniel_Horowitz  2022-05-12     1   \n",
       "1     Conservative_Review_with_Daniel_Horowitz  2022-11-04     1   \n",
       "2     Conservative_Review_with_Daniel_Horowitz  2022-02-10     1   \n",
       "3     Conservative_Review_with_Daniel_Horowitz  2022-05-16     1   \n",
       "4     Conservative_Review_with_Daniel_Horowitz  2022-09-13     1   \n",
       "...                                        ...         ...   ...   \n",
       "6944                       Louder_with_Crowder  2022-11-10     1   \n",
       "6945                       Louder_with_Crowder  2022-09-06    14   \n",
       "6946                       Louder_with_Crowder  2022-09-06     1   \n",
       "6947                       Louder_with_Crowder  2022-09-07     2   \n",
       "6948                       Louder_with_Crowder  2022-06-22     1   \n",
       "\n",
       "                                             Transcript  \n",
       "0      And welcome back fellow American patriots and...  \n",
       "1      And welcome back fellow American patriots and...  \n",
       "2      Set five years after Jedi Fallen Order, follo...  \n",
       "3      Politics Without the Soap Opera with unfilter...  \n",
       "4      And welcome back fellow American patriots and...  \n",
       "...                                                 ...  \n",
       "6944   Alright, Mr. Jeremy Quartering. Does your aud...  \n",
       "6945   You're running for press, you socialist cheat...  \n",
       "6946   Yeah, uh, don't get it twisted This late nigh...  \n",
       "6947   It's Parody Week! You can find today's track ...  \n",
       "6948   Alright, audio listener, I will keep this bri...  \n",
       "\n",
       "[6949 rows x 4 columns]"
      ]
     },
     "execution_count": 14,
     "metadata": {},
     "output_type": "execute_result"
    }
   ],
   "source": [
    "podcast_data['Transcript'] = podcast_data['Transcript'].apply(pre_processing)\n",
    "podcast_data"
   ]
  },
  {
   "cell_type": "code",
   "execution_count": 15,
   "metadata": {},
   "outputs": [],
   "source": [
    "# j = 0\n",
    "# for i in podcast_data['Transcript']:\n",
    "#     if j <=5:\n",
    "#         print(i)\n",
    "#         print(\"**********************************\")\n",
    "#         print()\n",
    "#     j +=1"
   ]
  },
  {
   "cell_type": "code",
   "execution_count": 16,
   "metadata": {},
   "outputs": [
    {
     "data": {
      "text/plain": [
       "0       [And welcome back fellow American patriots and...\n",
       "1       [And welcome back fellow American patriots and...\n",
       "2       [Set five years after Jedi Fallen Order, follo...\n",
       "3       [Politics Without the Soap Opera with unfilter...\n",
       "4       [And welcome back fellow American patriots and...\n",
       "                              ...                        \n",
       "6944    [Alright, Mr. Jeremy Quartering. Does your aud...\n",
       "6945    [, You're running for press, you socialist che...\n",
       "6946    [, Yeah, uh, don't get it twisted This late ni...\n",
       "6947    [It's Parody Week! You can find today's track ...\n",
       "6948    [Alright, audio listener, I will keep this bri...\n",
       "Name: Passages, Length: 6949, dtype: object"
      ]
     },
     "execution_count": 16,
     "metadata": {},
     "output_type": "execute_result"
    }
   ],
   "source": [
    "podcast_data['Passages'] = podcast_data['Transcript'].apply(create_passages)\n",
    "podcast_data['Passages']"
   ]
  },
  {
   "cell_type": "code",
   "execution_count": 17,
   "metadata": {},
   "outputs": [],
   "source": [
    "podcast_data.to_csv('Podcast/podcast_data_processed.csv')"
   ]
  },
  {
   "cell_type": "code",
   "execution_count": null,
   "metadata": {},
   "outputs": [],
   "source": []
  },
  {
   "cell_type": "code",
   "execution_count": 51,
   "metadata": {},
   "outputs": [
    {
     "data": {
      "text/plain": [
       "[\"And welcome back fellow American patriots and minimans standing at the ready to fight anew for our life, our liberty, and our property here at Sierra podcast on this fine Tuesday, September 13th. Daniel Horowitz back here in the house today. And folks, I was thinking has there ever been a revolution in global history where there was no opposition? It's like you're facing a revolution but you don't even know it. Where are the troops? Where's the cavalry? Where's everyone?\",\n",
       " 'Name me a single issue that is confronting us systemically, the transhumanism, the medical fascism, the war on food fuel, forcing us to eat bugs and drink sewage water, the border, crime, anything where there is a meaningful, coherent opposition that is likely to get into power and implement a plan or even is articulating a plan. I think back to 2010, the issues of the time were Obamacare and spending, and at least in word, there was a united front to fight them.',\n",
       " \"Now they lied about it, but you can at least lie to yourself and dupe yourself into saying, hey, I'll vote Republican in two months. And there's a likelihood that something will change. How could anyone look themselves in the mirror today, mid September and say, look, seven weeks from now, if I vote Republican, this and this will change.\",\n",
       " \"I challenge you to try to ascertain one issue that will change, one benefit we will see, one benefit that they're even promising to deliver on. See, they might just tag the Democrats with these broad strokes of all this too much crime, there's too much stuff, the border, too much inflation. That's basically their message. But they failed to tell you what they're going to do about it.\",\n",
       " \"And the reason they can't tell you that is because they were part of everything that caused it, which is broadly why the Democrats don't fear it. There's no deterrent. The Democrats fear no opposition. They feel no opposition. Put yourself in their shoes. What is stopping you from going all out? Well, it's unlawful. It's immoral. Oh, really? Has that stopped them? There is nothing they cannot do to violate legal norms, political norms, human rights standards.\",\n",
       " \"Because guess what? They already did that since March 2020. And Republicans don't even complain about it. Much less events a strong opposition, a strong image that could somehow deter them. So we're going to go through what Republicans are up to these days. And you're going to judge for yourself what that portends for the future, because I don't know what you do with that. Now, one thing you can do is work on parallel economies yourself.\",\n",
       " \"I mean, this is what we should we should have a plan in all the red states to actively build infrastructure independent from the communists left on every vital good and service. But for now, when it comes to your cell phone, okay, well, what are you going to use? Spy mobile, Verizon, AT&T? They're all the same. They spy on you. And the telecoms is actually probably in the top five of funding the Great Reset and promoting it.\",\n",
       " \"Patriot Mobile is America's only Christian conservative mobile provider. They've been on the front lines fighting for your values rather than subverting them. And look, you know, typically, you have to sacrifice when you're moving away from you know, the big monopolies here, they use the same tower, same coverage. The only difference is when you call a customer service, which inevitably you have to do with a mobile plan, you actually get an English speaking American on the phone.\",\n",
       " \"So go to patriot mobile.com slash CR or call 972 Patriot. Use offer code CR to get free activation. If you're a veteran or first responder, please let them know because they actually support you rather than hate you. And we'll offer you a special discount. So again, join our movement today and make the switch away from the cartel. Join parallel economies with Patriot Mobile. It's patriot mobile.com slash CR or call 972 Patriot.\",\n",
       " \"So folks today everyone is yelping about inflation because the CPI came out today. And like, look at that Democrats, you said you promised to lower inflation so much for that so much for build back better. It's not any better. Prices are up so much for the Inflation Reduction Act. Like what you fools. They're debating the Democrats as if this were the 1980s or something. Like we have a intellectual debate over how to best deal with inflation. And you guys are wrong.\",\n",
       " \"We have a better plan. No, they believe in it. They want it. They arsoned it. That is the point. They don't want reduction in prices because they want you eating bugs and walking instead of driving and living in. I don't know if you've ever seen these simulations where they have these mock cities they want to build that are a couple hundred feet wide and long where everyone's living in some sort of transhuman utopia. That's what they want.\",\n",
       " \"And they're achieving it. And they're achieving it because the same Republicans that just use these feeble talking points a couple of weeks before an election to militate and they against some of the worst symptoms of what they helped cause. They fail to realize that they mean business and Republicans help them get to this point. It's pathetic. You know, it's interesting. Republicans will only fight.\",\n",
       " \"I noticed the only issue they seem to care about is the student loan thing of all things that have happened to us. They've killed millions with the lockdowns and the shots and the creation of virus and the more more stuff they plan on creating. You cannot even go anywhere to get normal treatment for anything. Health care is destroyed. Food they're in the process of destroying. Fuel everything. We need to interpose against the tyranny.\",\n",
       " \"You have the FBI now going after anyone who just espouses the political views of Trump and they're roping them in, subpoenaing them. And obviously of crime the border. They might indulge it as a talking point here and there. But the only thing they get all excited about. So one of the things I keep mentioning is that governors need to get together and form an alliance and say this and this doesn't happen in the state. FBI, IRS don't violate human rights.\",\n",
       " \"We're going to work together to build our parallel economies to secure food and fuel supply chains and infrastructure, medical freedom. It's going to be a constitutional sanctuary zone. No. The one thing I think pretty much every GOP governor signed this, they signed a letter complaining about the canceling of $10,000 worth of student loan. Again, I don't disagree with what they're saying, but it's just funny how that's the one thing they understand.\",\n",
       " \"But they don't really understand it because again, why are student loans out of control? Because tuition is out of control. Why is tuition out of control? Because Republicans joined the Democrats for several decades in funding the subsidizing the cartel. The same way they complain about inflation and they caused it. By the way, what I wanted to say for today is that even though gas prices are down a lot, inflation is worse than ever, particularly with food.\",\n",
       " \"I mentioned this throughout the last couple of months. Gas prices are a straw man. None of us like it when it's high, but the truth be told, you're paying a couple hundred dollars more if you travel a lot, maybe $1,000, $2,000 more. That hurts, but what's even more is everything else. What this demonstrates is it's not just because of the gas supply. There's inherent inflation across the board. Why is that?\",\n",
       " \"That is because of the trillions of dollars of fiscal and monetary pumping that Republicans have supported for decades and culminating with the COVID craziness. They literally tried to call up Thomas Massey, even the conservative ones to convince him not to call for a recorded vote that day, March 27th, 2020. So almost everyone not named Thomas Massey is responsible for it. But it's funny how Republicans won't even realize the cause of the issue.\",\n",
       " \"They don't understand the magnitude of it, where it's coming from and where it's headed, frankly, because they're a part of it. And again, that is why the bad guys neither feel nor fear any deterrent, which is why they now openly call their shots. If you notice, they will openly admit, oh, I don't know why we're doing this, but shut up. We're doing it anyway.\",\n",
       " \"Yeah, the shots don't work, but that's why you need a booster. We're going to do this anyway. They admit it. They admit that their policies serve no logical purpose other than the purpose we know it serves, which is control. But they know they don't need to even intellectually defend it because nobody's going to hold them accountable.\",\n",
       " \"You might have one or two people poke at them, an elected official, an outside commentator, but you don't have a critical mass movement that has power. And the reason you don't is because it was done that way by design to have this controlled opposition. And I want to show you a perfect example of this. But first, our final sponsor today, Policy Genius, it's not an insurance company, but they aggregate for you online.\",\n",
       " \"So in a couple minutes, you just put in your information and they will show apples to apples comparison of the best quotes for life insurance. Those of you who roll your eyes at life insurance just understand that most people do not get enough coverage through their job. You usually need about 10 times more, especially if you, you know, you're like me, you got a family of four kids.\",\n",
       " \"And I don't mean to be rude, but I mean, especially if you got the shots, you better be looking at this because with an 84% increase in life insurance claims for the middle age brackets because of sudden adult death syndrome, AKA mRNA genocide, those rates are going to be going up. So you should go to policygenius.com slash Daniel and do your shopping right now.\",\n",
       " \"You could save 50% or more on life insurance by comparing quotes with Policy Genius and more than just a website, they actually have a team of licensed experts. So you could call their hotline to better understand the options that are laid out for you and apply for a policy with them. And again, they're not a company that sells insurance. They work for you, not the insurance companies. And so you could trust their unbiased help and advocacy. They don't add extra fees.\",\n",
       " \"They don't sell your info to third parties. Since 2014, Policy Genius has helped over 30 million people shop for insurance. They placed 120 billion in coverage. So head over to policygenius.com slash Daniel to get your free life insurance quotes and see how much you could save before that window of opportunity closes.\",\n",
       " \"By the way, with that window of opportunity closing, I mentioned yesterday and I have a column out today, this New England Journal of Medicine study that shows that those who got the shots, even though they already had the virus, wound up having less protection than those who didn't get the shots and never had the virus. Because the shots not only make it more likely that you get the virus, but it erases your natural immunity. So I mentioned that yesterday.\",\n",
       " \"But amazingly, if you look at the conclusion of that study, they say, therefore you need boosters. See, this is what they do. They're like, yeah, this is going to kill you. You know, you've never heard these pharmaceutical ads. There's like 30 seconds worth of disclaimers. This might cause brain bleeds and heart attacks and strokes and diabetes. But make sure you pick up your pack at the pharmacy nearby. It's like, what? What did you just say?\",\n",
       " \"How does like one plus five equals 27? It's like, yeah, this thing erases your natural immunity. That's why you can't rely on it. And that's why you need to constantly get more of it. And they get away with it openly. So with that, I want to play here. An amazing clip, you might have heard it. It was going around the internet last week.\",\n",
       " \"There's this Australian senator, Senator Pauline Hanson, during a floor debate in their parliament, asked Penny Wong, who's the Minister of Foreign Affairs, on net zero, just to define for us what net zero is. And we all know what it is. It means that you choke off all so-called carbon, which basically means you have no food and fuel, which is exactly what they want.\",\n",
       " \"Hence, walking around naked like cavemen, eating bugs and sewage water and, you know, nothing that actually works to enhance your life. So she asked her what it is. Just define for us what it is. Take a listen to this unbelievable clip. Would the minister please explain to the Australian people and I what net zero emissions actually means in layman's terms? Thank you, Senator Hanson. Minister. I'm not sure how to explain it other than to say it means net zero.\",\n",
       " \"I mean, you know, and I understand that the senator, it's one of those situations I will think through if I can provide an explanation to make it clearer than that. But to me, the words net zero are quite clear. I think we all understand what net emissions means. I am reminded of a time when I was climate minister and I think Senator Fielding wanted an explanation and I got in the chief scientist to try and take him through it.\",\n",
       " \"And we did get to a point where I thought I don't actually know. And neither did she at that time. How how to break it down any further. But I will have to think about that. I think it's a commonly understood objective and it's an objective, as the senator knows, that is shared by those opposite. I thought maybe not. Well, obviously not Senator Canavan. I know that.\",\n",
       " \"But the coalition, I thought broadly, had had agreed to net zero emissions by 2050. And maybe Senator Canavan is indicating a change in policy under the coalition, under Mr. Dutton. And and obviously, I think it's 84 percent. I could be wrong. Australia's exporters have also export markets have already signed the same target was discussed at the G20. So there's broad global agreement about the need to. Minister, please resume your seat. Senator Canavan.\",\n",
       " \"So again, that was Penny Wong, the minister of foreign affairs. She's like, yeah, I don't know what it is. I'm not a scientist. I can't explain it, but everyone's doing it. So we're going to do it. It's like they will do life altering, civilization changing policies at the drop of a hat and openly admit that they can't answer basic questions about what it is.\",\n",
       " \"It's safety, it's efficacy, and it doesn't matter. They don't even fear it because, yeah, you'll have one person here or there, a Marjorie Taylor Greene and Thomas Massey, a Chip Roy and, you know, this senator, Pauline Hanson in Australia here or there. But they understand that the basic power structure controlling the more so-called conservative party in whatever country you're talking about, and it's really all of them, they're in on it.\",\n",
       " \"They are totally in on it. And the way in America, the Republican Party is in on it because the conservative movement is in on it. You see, conservatism in this day and age has no fixed views. OK, there's no fixed views.\",\n",
       " \"At any given moment, what conservatism is, is finding the most extreme thing that the left is saying or doing, complaining about it, and then excusing everything up until that line, thereby allowing the Overton window to shift inexorably to the left ever, you know, everlasting. You know, everlasting. It never ends. OK, there's always, in fact, the left is always moving over because the phony right allows them to move over. So we never reclaim territory.\",\n",
       " \"And they're always able to think of new things. And you see this perfectly with the Pennsylvania Senate race. Everyone, even Tucker had had Dr. Oz on. They're all excited about we got to defeat Fetterman, you know, because the left always provides you with fodder that they're crazy. I mean, you look at Fetterman, you're like, how could a guy that had a stroke? He literally sounds like a caveman, looks like a caveman. The guy's utterly retarded.\",\n",
       " \"How could a guy like that win? This is unjust. We have to defeat him. But defeat him with what? With a guy who's going to be subversive? He's not even promising to support our values. He actually tweeted out yesterday that he's supporting gay marriage. He's not even waiting till after the election. Again, these are things the left could never do alone. They need Republican buy-in. They need Republican buy-in. It's subtraction by addition.\",\n",
       " \"I was going to say addiction because the conservative movement is addicted to Republicans. So this is what it is. Fetterman is such a clown show. I almost fall into the trap. It makes me want to, all right, I'll just hold my nose and vote for Oz. But we've been doing that for 35 years. Okay, 33 years, whatever, since Reagan. When we're going to keep doing this? What is the plan to change this? To evacuate us from this morass?\",\n",
       " \"So anyway, Oz tweets out this article, this Washington Post article. Yeah, I'm a part of this. I'm happy. So what's this article? It's a Washington Post. Prominent Republicans push GOP senators to support same-sex marriage bill. This is a critical week for the same-sex marriage bill as Senators Collins and Tammy Baldwin continue to work to win enough GOP senators. They're getting help from some Republican prominent Republicans, including GOP Senate candidates.\",\n",
       " \"More than 400 former and current GOP officials have signed a letter that will be released today backing the bill as part of a campaign led by Ken Melman, who managed former President George W. Bush's 2004 re-election campaign. Among the signatories are Massachusetts Governor Charlie Baker, Mehmet Oz, Joe Odeya, the Republican Senate nominee in Colorado. So you have two Senate candidates, National Association of Manufacturers President Jay Timmons, George W. Bush's daughter Barbara Bush. I didn't think she gained any clout with that.\",\n",
       " 'You have Trump figures like David Urban, the pollster Tony Fabrizio. So a whole business there. Log Cabin Republicans are involved. So there you go. Think about that. I even said it in front of this microphone a couple months ago. For the first time in a generation, I felt we were actually pushing back that Overton window and reclaiming ground on culture, putting the other side on defense for the grooming, for the drag shows and all of that.',\n",
       " \"And we were actually starting to win on that issue where people for a while, they didn't understand, okay, what do I care about? Marry, gay marriage, give them the license. And we all warned like, well, that's the point. They're able to do what they want anyway. What do you mean let them do what they want? They were always able to do what they want. They could always live together and do it. No one stopped that.\",\n",
       " \"Why do you need to redefine an institution? Something that doesn't mean it must mean that you're trying to codify it as a right. And you're going to force that on other people, force it in culture, in society, even on religious institutions everywhere. And lo and behold, that's what's confronting us today. It's become a culture, a runaway culture. Every year, a new letter of the alphabet soup representing another licentious act codified as a human trait and a right.\",\n",
       " \"And yet Republicans take that and they're like, yes, exactly. We're going to help ban marriage in the states at a time when we need to evacuate the red states from the federal government. The federal Republicans, including the ones that are running for this great GOP controlled Senate, that here's what we're going to do. We're going to make it that states cannot define marriage as a marriage.\",\n",
       " \"And not just in terms of a marriage certificate, but because it will be codified as a right. It will force it in all sorts of scenarios upon private individuals and institutions, organizations, schools, churches, religious colleges. That's your Republican Party. So that's why they don't care. They don't care. Oh, yeah, Arsha, they could get up there and say our shots kill you and it won't stop. Because why would it? The Democrats could all announce tomorrow.\",\n",
       " \"The COVID shots will kill you, but we're mandating them anyway. And Republicans will not challenge that because you can't be anti-vax. You have to support either. You have to be a homo. Okay, it's the same thing they did on crime in the border. I can't look like I'm anti-immigrant. I can't look like I'm anti-black. Right? Because somehow if you're like for locking up violent criminals, that's anti-black.\",\n",
       " \"But that's that was the GOP mentality on every issue that matters. I promise you, they could say it openly. What's happening today? Again, it reminds me of that old news agency from like a generation ago. They were kind of making fun out of the news. And they would have these women get up and give the news, you know, they have an anchor and a reporter. And they would, you know, put on a serious face.\",\n",
       " \"And you know, if you would close your eyes, the news was very serious. But while they were doing it, they would blithely take off their clothes one by one. It was they were I don't know if they're making fun out of the whole news dynamic or whatever. But that's what it reminds me of. They're like, yeah, and this is gonna kill you. And I don't even know what net zero is, but we're doing it anyway.\",\n",
       " \"And like, what do you just say? Like what just happened there? But they don't care. They're never gonna be held accountable. So that's Oz and gay marriage and everything. The sick little irony is, I mean, I don't know how lucid Federman always was. But right now he had a stroke. And it's almost certainly because of the shots. The guy was a young guy. Dr. Oz supports those shots just as passionately as Federman.\",\n",
       " \"That's the sick irony. Oz has nothing to run on. So now his only campaign is that just Federman is not physically fit to be a senator. That's the only thing he can run on. And that's the only thing they disagree on. It's like, I'm a communist, but I'm a healthy communist. And you might not be able to properly, you know, fulfill your communist duties. And I will. That's basically the campaign.\",\n",
       " \"But ironically, that only that difference only exists because the shots that Mehmet Oz, the Grand Pasha of Turkey supports. And by the way, if we're gonna brag about having the first Muslim senator, like whatever happened to the Koran, at least let's get the benefits of Sharia. But no, we have to find the guy that promotes the homosexual agenda. It's unbelievable. So we were winning on that issue.\",\n",
       " \"What's another issue that I don't know if I'd say we're winning on because Republicans aren't doing anything about it. But rhetorically, you know, again, the whole climate change, global warming for many years, it pulled very well, because everyone wants to support science or whatever. But now people really are seeing the pain. You know, for too long, food and fuel wasn't a lot of money, people didn't care.\",\n",
       " \"And we were warning, look, dude, they're gonna destroy everything, food, fuel, you know, these products, yeah, every little product you have, you don't realize it, but it's garbage. You can't even get anything to work anymore. But it was too subtle. Now it's not subtle. People do get it. Like, you know, they might be willing to give into the small time environmental agendas.\",\n",
       " \"But if you're gonna tell me I can't have live my normal lifestyle, that's all people care about. And yet, the guy who's considered by some to be the second most conservative governor after DeSantis, Kevin Stitt, and I mean, not by me, but Kevin Stitt, the Oklahoma governor, this from Yahoo News, climate change is less a threat and more a business opportunity.\",\n",
       " \"Speaking to more than 100 state government officials from across the western United States, Governor Kevin Stitt listed off the ways Oklahoma had embraced renewable energies and a greener future. This is not just some, you know, speech from 10 years ago when, you know, all the Republicans got sucked into it. And then now at least they realize how stupid no, he's doing it right now. The state's electricity grid offers business, some form of carbon neutrality.\",\n",
       " \"The number of charging stations spread out along highways conserve thousands of electric vehicles, and a plan to create a new hydrogen energy hub will help the nation move away from fossil fuels, they said at the Western Governors Association May meeting in Oklahoma City. While Stitt peppered in talk about freedom and the state's conservative way of life, the parts of his speech on energy sounded more in line with coastal Democrat, not a Republican governor from an oil and gas rich state. This is Yahoo News.\",\n",
       " \"Most Republican governors would not tackle that. But as a business person, you're looking at where the investments are headed. Stitt told the Oklahoma, the Oklahoman after his address, acknowledging the economic shift underway in an effort to respond to mandate climate change. So rather than laying down on the tracks and saying we are a thread away from them crushing our way of life, I mean, not even just convenience, but literally down to the food we eat and our ability to function.\",\n",
       " \"But it's a very instructive and profound statement. That's worth studying. He's right. As a business person, you look to where investments are headed. That is what even the better Republicans are about. They're like, we're not here as warriors for you. We're businessmen. This is the same reason why the business world fully embraced and adopted this. Goldman Sachs years ago, they got into carbon trading. All right. You want to have carbon credits? All right.\",\n",
       " \"We'll make a market out of the socialism. That's where I coined the term venture socialism. They'll find a way to make money off of socialism. Right. So the elected Republicans are the same way. I'm actually very proud of him for admitting it. That is exactly what they believe. And again, this is not your Mitt Romney's, your Susan Collins, Lisa Murkowski's, even Lindsey Graham's. This is he's regarded as like the second most conservative governor.\",\n",
       " \"Now, mind you, this is the same guy who supports refugees and literally is more passionate about jailbreak than the California governor. He had the greatest jailbreak in the history of the country. Over 401 day, one of them went on to murder like four people and cook their heart. I did an article on that last year. That's Kevin Stitt for you. Stitt believes the climate is changing, but it's downplayed the scientific consensus. It doesn't mean it's an existential threat.\",\n",
       " \"But while Stitt might not view the climate change threat as real, he has spent much of his first term in office fully embracing the climate change economy by working to carve out a place for Oklahoma in a world that is increasingly moving away from fossil fuel dependent sectors. So here we're sitting and wondering, why don't Texas and Oklahoma and all these states get together and say, this is what we're doing. Regardless of the feds, this is genocide.\",\n",
       " \"What they're doing, they're arsoning our food and fuel. We're not going to sit and eat bugs and drink sewage water. So we're going to form a compact together to invite companies in to develop our energy. No, they're like, this is where it's headed. This is what we're doing. The red state governors are just as passionate about net zero as the Democrats are. They're just as passionate about Pfizer as the Democrats are.\",\n",
       " \"They're just as passionate about the homosexual agenda as the Democrats are. They're just as passionate, if not more, in the case of these phony southern evangelical governors around jailbreak and letting criminals out and giving them second chances, which really means 100 chances, as the Democrats are. They're just as passionate about slave labor and open borders for their business interests. In fact, they're even more passionate because they're businessmen. They're businessmen. They're businessmen. They're businessmen.\",\n",
       " \"That's where the money is. That's where the power is. So rather than fighting it, they're part of it. And they believe in it even more. See, the Democrats just want to control you. If there was a conservative policy they felt that would help control you, they'd push that. Republicans are more ideologically committed to the Democrat ideology than Democrats are. This is what you need to understand.\",\n",
       " \"It's not like, oh, I wish they were better, but they're better than nothing. They're a little bit better. I used to think that too. They're indispensable to the left. Without their political cover, they could not get away with implementing their agenda. Democrats laugh at it. This is one of the few Democrat state senators, Mary Boren. She's a Democrat lawmaker from Norman. We definitely are a state that is trying to cash in on climate change.\",\n",
       " \"If we acknowledge climate change exists by making money from it, maybe we'll acknowledge it exists and try to stop it. So they're laughing at him. They're like, all right, well, if you're going to join us to make money, that's fine. It's unbelievable. Unbelievable. And they go on to, in the article, you'll see, you'll hear this line from these guys, and Mitch McConnell recently used it.\",\n",
       " \"Oh, we're for an all of the above approach. So you might listen to them talk about drilling and gas and permitting, and they might sound like they're the same as us. But the reality is, if you agree with funding the green lean machine side by side, it's going to necessarily box out the other stuff because of the structure they've created. It's classic republicanism. It's truly, truly disgusting.\",\n",
       " \"For Stitt, the growing electric car market is one he wants Oklahoma to tap into. The investments are heading to electric car manufacturing, battery manufacturing technology, alternative energies. What a disgusting piece of garbage. But again, all of these people easily, easily won their primaries. You don't even have anyone making the case against them. Oh, Joe Biden, the Democrats, we have to get them out. What are you talking about?\",\n",
       " \"We're not even talking about the we're not even talking about the Republican senators here. We're talking about Republican governors who should be completely autonomous. They're they're the president of their states, right? They could do what they want. So they're not subject to like, well, you know, the president's going to veto this. We only have Congress. We'll have the House. No, they have in Oklahoma.\",\n",
       " \"They have like an 80 to 20 or 81 to 19 majority in the House and similar majority in the Senate. Super duper majorities, you can't even get bigger majorities than that. And this is what they do. They're not weak. They're not. They are part of the Davos World Economic Forum, Bill Gates agenda.\",\n",
       " \"That's why they they more passionately support all these visas from India and China and and this more than then they might use the most extreme manifestations of the open border to you need some sort of rhetorical flair to use to campaign against the Democrats. Same thing with crime, same thing with inflation, same thing with going after energy. But they support the foundation of what the Democrats have created that irrevocably put those policies in motion on each and every one of those issues. So there you have it.\",\n",
       " \"That is our good buddy, Kevin Stitt for you. But they always dangle in front of us. These nonsensical, meaningless things. Last night, Sean Hannity says I have it on good word that that there's going to be Republicans are going to push a bill banning abortion after 15 weeks. And then a couple hours later, Lindsey Graham says he's sponsoring it. So, you know, Hannity and Lindsey are, you know, have a monkey pox relationship there.\",\n",
       " \"So you know, that's conservatism now. Lindsey Graham is like the president of Fox News. So, okay, on the issue that does matter. So let me let me explain to you the structure of the Senate. Republicans will never have enough votes to pass something. 60 conservatives, that's what you would need. They'll never even get 60 Republicans, right? So they don't have enough votes to pass anything good.\",\n",
       " \"So anything you introduce is a joke has to be done at a state level. It is being done. Most state red states are completely banning abortion. So like at a federal level, we're going to ban it after 15 weeks. What? I mean, that's stupid because it's never going to pass. And you're doing bigger things in red states anyway. Like so that's all designed to distract us. You'll never be able to pass it.\",\n",
       " \"But at the same time, they do have the votes to prevent bad stuff from passing if they would all stick together. Right. You only need for 41 to block and they have 50. And on the issue that does matter, which is codifying homosexuality is a national religion. That's what it does. Everything that you see with the grooming will be codified. They're all for it. Oh, boy, abortion. See, this is being shoved on us.\",\n",
       " \"My kids don't see abortions in the streets. They do see this. I'm sick of these Republicans hiding behind the abortion issue. I almost feel like becoming pro abortion just for the sake of it. I'm sick of that issue being used as just a straw man so you could destroy us and everything. If you're part of the homosexual agenda and I'm pro I'm anti abortion, but not really anyway. Go to hell. I don't want to hear about that.\",\n",
       " \"Next Rhino Rampage moment. Rhino Rampage. This is from Epoch Times. So Nunu, the Republican dirtbag governor of New Hampshire, has created a super PAC to target the conservatives in the legislature. As you well know, the New Hampshire House has a lot of conservatives in it and they've passed some pretty good medical freedom bills. All those people and the election is today.\",\n",
       " \"All those people that were responsible for those great bills that a lot of them were vetoed by this crazy governor, such as preventing schools from forcing bondage on children. There was a grooming bill and a masking bill, separate separate bills that were vetoed by this dirtbag governor. Groom and mask. That's your Republican governor so he's now targeting them. This is what you have everywhere you turn. The Florida governor is an exception.\",\n",
       " \"There's a reason why people can't stop talking about him because you don't have anyone else. Read my lips. Okay, let me say this slowly. There is not one other governor that shares our values. Not one. Okay? Not one. If Kerry Lake winds up winning in Arizona, we'll get our second one, but that's it. Every open seat we had, every other one was claimed in terms of the nomination by another dirtbag Republican. And this is where we are.\",\n",
       " \"Now that we're on the Lindsey Graham train, again, today's Rhino Rampage Day. And what I'm telling you is this is like the heat of the moment, the September, October, before the election when Republicans promised the most. This is how bad they are now. You could imagine if they were to take over Congress, they'll work with Biden to like, who knows? I don't even know what they would do.\",\n",
       " \"I'm a little bit tongue-tied because I can't think of worse things than they're already doing, but they'll find them. This is from the Hill, former President Trump's promise to grant pardons to the rioters who storm rioters who stormed the Capitol is a lie, is running into strong opposition from Senate Republicans. This is what we hope to reelect. Senator Lindsey Graham, one of Trump's closest allies, said that granting pardons to J6 protesters is a bad idea.\",\n",
       " \"Pardons are given to people who admit misconduct, rehabilitate them, says they're not supposed to be used for other purposes. What a piece of garbage. Then it goes on, Kevin Cramer, North Dakota, I don't think potential candidates should hold pardons out as a promise. Mike Rounds, another animal, if he were elected, he would have a constitutional ability to do it. I would disagree with it. I think there was an insurrection. He called it an insurrection.\",\n",
       " \"John Thune, who's the whip, the number two. The only people that get pardoned are people who are charged with crimes. If they were charged with crimes, they have to be prosecuted like everybody else. Romney, of course, is thrown in the mix. One after another, after another. That is your GOP Senate that for the next two months, every conservative commentator is pining for. Everything is going to revolve around that. And meanwhile, these are people who did nothing wrong.\",\n",
       " \"Their lives are being destroyed. By the way, there's no rule of law. One of the lawyers working on some of the cases told me today, a friend of mine, that you now have them moving prisoners around. So the wife will call up and say, hey, my husband's no longer in the DC Gulag. Where was he moved? And the DC officials are, oh, I don't know. The marshals have him somewhere. And they can't track the guy down.\",\n",
       " \"And then when they try to issue habeas court, file habeas motions with the federal court, and they name the attorney general, they're like, the attorney general has nothing to do with this. And they dismiss the lawsuit. Dismiss the motion. And it's like, what do you mean? They say that it's under the auspices of the marshal, which is controlled by the attorney general. What's up with that?\",\n",
       " \"Illegal aliens, every illegal alien lawsuit that they sue for some sort of right. It's always it always names the attorney general sessions. Loretta Lynch, if you remember, I mean, all those cases, all the immigration cases, it's named after the AG. The rule of law doesn't matter. The judges are like, shut up, speak to the hand. You're an insurrectionist. You have no rights. That's literally happening.\",\n",
       " \"And they're now going after anyone who just espouses these views. We're living in the fourth freaking Reich. And you have the best conservatives, like thinking this is just your good old 1980s type of fights. You have your mainstream Republicans cashing in on this, and the other Republicans downright supporting every single thing that faces us. They agree with the left. If you look carefully, cut through the vacuous campaign rhetoric, they actually agree.\",\n",
       " \"So terrific column written by our friend, Eric Lindrum, and American greatness going through this Hill article of all the Republicans. And he mentions, you know, Republican senators criticize Trump's promise to pardon January 6 protesters. So check it out. You could see the list of all the Republican senators that literally have no problem with taking someone who committed no crime, a military veteran, did amazing things in his life.\",\n",
       " \"No prior record, and holding that guy in solitary confinement, beating, violating every human right around, and it's totally fine. Your lead Republican senators say it was an insurrection. And we are investing all of our time rather than finding more DeSantis's rather than working on state and local sanctuaries, creating parallel economies, creating interposition. They work on empowering those who hate us with more intrepid passion than the Democrats do. Democrats is more control. The Republicans hate us.\",\n",
       " \"They're really just trying to hate us. They're repulsed. They ideologically hate us. They're repulsed by us. And we're supposed to be patronized into saying you better vote for Mehmet Oz. I would vote for the Democrat over these people. It doesn't matter. Name me one other conservative figure that has a bigger platform than I do that's focusing on this.\",\n",
       " \"I don't mean a one-off issue of the FBI is terrible and whatever, and really just to defend Trump's honor, not with a forward-looking agenda to defend the honor of all of Trump's supporters. Because I don't like these guys that ignore January 6th and then suddenly, when it came to Trump, all the FBI is terrible. No, someone who really has a plan, like the CFO of Florida, that put out a four-point plan on how to interpose against federal tyranny.\",\n",
       " \"We're going to get him on the show one of these days. But this is where we are. This is where we are seven weeks before the election. Before the election. They agree with BLM. They agree with COVID fascism. They agree with Ukraine. They agree with the insurrection narrative, targeting conservatives. They agree with endless open borders. They'll just use the most extreme things that Biden is doing as a talking point. But they agree with endless visas.\",\n",
       " \"DeSantis spoke out against that at the National Conservatism confab in Florida, but there's no other governor that's like that. To this day, the Tennessee and Oklahoma governors literally want to abolish prison for violent criminals, but I guess they support it for us. They support the green energy agenda. They support the great reset. They support agenda 2030. Every one of these, every one of these guys is in on it. What are we going to do about it?\",\n",
       " 'And among all the issues that we spoke about today, these systemic issues, civilization-changing issues for which Republicans are always on the other side, I want to just revisit one of them before getting to the end of the show today. The crime issue. We talked about last week, the rampage in Memphis with two notorious killers in one week who were released early, thanks to jailbreak. To this day, the governor refuses to even talk about it like the Democrats in Memphis do.',\n",
       " \"Because he religiously believes in jailbreak and the very policies that allow these rapists and murderers to be set free. So there's some news in the Elijah Fletcher case. So this guy, this fiend, this Henderson guy that's being accused of the murder. So it turns out that, where is this? It turns out there's now an affidavit that provides a little bit more information because he was arraigned in court. Now it turns out he, he likely raped and kidnapped a woman at gunpoint last September.\",\n",
       " \"So he was released November 2020, allegedly committed a rape like 10 months later, somehow wasn't charged until now. And then obviously, last week, allegedly murdered Elijah Fletcher. But in this affidavit from the court documents, it says that this guy vowed to shoot any white ho on the sidewalk and go Zeke mode on nothing but white people. Zeke is mentioned as a reference to Ezekiel Kelly, who's the other killer, the Facebook live streaming guy that committed four shootings that same week.\",\n",
       " \"So yeah, yeah, this is where we are. Notice that there's a lot of, there's this undertow of black supremacism, this violence. Okay, that's being fomented. That's a big part of the Republican acquiescence to it. And again, just like the Great Reset is part of a plan. Just like the Great Reset is part of a plan. Letting criminals out of jail is also part of a plan. It's not just all we spend too much money on prisons.\",\n",
       " \"Well, then you sure as heck wouldn't lock up, you know, people like the nine, you know, J sixers, right? No, this is about a Great Reset. Sicking upon us this army of criminals, and among them are many black supremacists. And to transpose this into our final discussion, I just want to give a, you know, maybe we'll do this every few days, an update of news stories on transhumanism and where this and where everything is headed on that front.\",\n",
       " \"You know where Republicans actually could have led on in terms of standing up for black people. I mean, if that is their thing that they want to look like they're not racist, they can actually stand up for Africans who are constantly bombarded as lab rats by the Gates Foundation. An annual farming African farming summit takes place, took place last week in Rwanda.\",\n",
       " 'Activist farmers and faith leaders from Seattle to Nairobi are calling on the Gates Foundation and other funders to stop supporting an effort they say has failed to deliver on promises to radically reduce hunger and increase farmer productivity and income. They say the Alliance for a Green Revolution in Africa founded in 2006 with money from the Gates and Rockefeller foundations has produced has promoted an industrial mode of agricultural that poisons soils with chemicals and encourages farmers to go into debt by buying expensive seeds, fertilizers, and pesticides.',\n",
       " \"As a result of that debt, some farmers had to sell their land or household goods like stoves and TVs. And that's where they could have stood up for black people. But of course they don't. Because as Kevin Stitt said, it's all about where the investments are headed. And by the way, so we're going to go through our transhumanism update. Speaking of fertilizer and what they're doing, they're doing this everywhere now.\",\n",
       " \"UN food official warns fertilizer affordability crisis could slash global grain production by 40%. Again, why at a time like this would you cut off Russia, which produces all the fertilizer? The answer is because you know that's the key to shutting off food productivity. Maximo Torero, the chief economist from the Food and Agricultural Organization of the UN, told Bloomberg that elevated fertilizer prices could decrease global grain production by upwards of 40%. Do you understand how serious that is?\",\n",
       " \"This is from the African Development Bank. We are really starting to yell from every tower that there's a fertilizer crisis. This is real. And what's their plan? And by the way, someone put this out and I want to give credit but I forgot where it's from. It's on the USDA's website. They have a press release. USDA opens People's Garden Initiative to gardens nationwide. This is released September 9.\",\n",
       " \"Now, what would be the solution to all of this is to become self-reliant, right? To have your own victory garden. They have a People's Garden Initiative. Do you know what that initiative is? Basically, you could register on the USDA website and if you meet criteria, including benefiting the community, you could be part of their program. Their affiliate People's Garden locations will be featured on a map on the USDA website. And they have a whole registration program.\",\n",
       " \"You know what this is about. So they could identify who has their own gardens and target it and destroy it. It's obvious as day why they would put that out suddenly. So that's on the food front. What about on the digital front? This is from Tyler Durden. China creates digital twin of Americans, former DoD cybersecurity expert says.\",\n",
       " \"As reports have emerged that Chinese military-linked firms gather American DNA, these firms are now capable of creating digital replicas of Americans, according to John Mills, former director of cybersecurity policy strategy and international affairs at DoD. They have the capacity to create these complex models of each of us. They're making digital twins of us. Digital twins. And our government is responsible for that.\",\n",
       " 'Our government worked with China to allow China access to everything that they can now literally have a replica of every American and know exactly what needs to happen. And guess what that is? The biggest thing is medical records. They can get our medical records. They could know how to create viruses that target specific ethnicities, DNA. Everything, my friends, is on the table. What else? This is from Peter Sweden. His substack, schools are now feeding bugs to children.',\n",
       " \"It's not a joke anymore. A thousand schools in Australia have started offering children chips containing basically like cricket powder. Where's that coming from? This is from the Daily Telegraph. Chips are coming from the Daily Telegraph. Chips are great, aren't they? And these chips are even better because I think they're better for you. Do you know? Did you know that? Yeah. That way, you know, mom and dad might let you have more chips. Good stuff.\",\n",
       " \"Children at four primary schools age five to 11 in Wales were offering insects to eat as part of a project to see how children's appetites are for alternative protein, alternative protein. Think of that term. Think of that term. There's a reason why it's all over the Bible that eating bugs and creepy crawlers is an abomination. And that's where we're headed. And then what are they going to do with all this control? Now we'll go on to banking.\",\n",
       " \"So again, we have it everything. The FBI, big tech, big banking all collaborate to censor us. The bank sponsor drag shows and track everything and then eventually cut off credit. And credit card companies join forces with the left to flag gun sales. And we're still saying, oh, it's private enterprise. This is from AmmoLand.com. UPS threatens to cancel service for most of the gun industry.\",\n",
       " \"They're requiring online sellers to ship an average of 50 handguns daily, ones that ship 50 daily to use its second day air service. Sellers who do not ship at least 350 handguns a week risk losing their shipping accounts under the new agreement. UPS is only required to give customers a 10 day notice before cutting them off from shipping service. And this was just sent to arms dealers. Okay, there's no doubt it's coming from the ATF.\",\n",
       " \"But what they do is they funnel it through the private sector. Again, we need this is what we need in the red states. Anti-discrimination laws, if we're going to have them, they need to be applied evenly. And the lesson the question that needs to be asked about all this ESG stuff, whether it's banking, whether it's PayPal, whether it's anything, what would happen if they would do it to the homosexual agenda?\",\n",
       " \"And whatever that answer is, needs to apply to us. You want to abolish anti-discrimination laws, we could have that conversation. But if we're going to have them, we will apply them evenly. That is the discussion that needs to take place in red states. Oh, a private business could do what they want. No, this is all done, as we've well learned at the BS the government. But the point is, this is just a smattering of our latest transhuman agenda.\",\n",
       " \"When I say transhumanism, I mean, their desire to literally shut down our humanity, our life, our liberty, our property, our physical being surveil us, control us, treat us like Lego toys, destroy our food, fuel, medicine. We had a rhino rampage update and a transhumanism update. And it's very profound, because one demonstrates the severity of what we're up against and the other demonstrates that the opposition that has been tapped to represent us in combating that is literally in on it.\",\n",
       " \"As Kevin Stitt, one of the most conservative governor said, Governor said, that's where the investments are. So again, it's not only that they're going to be a weak opposition. No, if you know that that's where the money and investments are, you're going to be a strong proponent for in favor of what they're doing. Because that's where the money is.\",\n",
       " \"And until we as a movement, recognize what we have laid out today, we will never, ever even embark on rectifying these problems, because we're married to those that are inducing it. And folks, that's just the way it is for today. We will try to get on some more guests later this week. Again, give us a five star rating on iTunes is always with a comment. It certainly does help. I appreciate it. Email me Daniel Hurwitz at startmail.com.\",\n",
       " \"You can follow me on Twitter at C 19 truth bombs. I'm sorry, not Twitter. I'm kicked off Twitter telegram at C 19 truth bombs till tomorrow. God bless y'all and thank you for listening.\"]"
      ]
     },
     "execution_count": 51,
     "metadata": {},
     "output_type": "execute_result"
    }
   ],
   "source": [
    "podcast_data['Passages'][4]"
   ]
  },
  {
   "cell_type": "markdown",
   "metadata": {},
   "source": [
    "### TV Data"
   ]
  },
  {
   "cell_type": "code",
   "execution_count": 19,
   "metadata": {},
   "outputs": [
    {
     "data": {
      "text/html": [
       "<div>\n",
       "<style scoped>\n",
       "    .dataframe tbody tr th:only-of-type {\n",
       "        vertical-align: middle;\n",
       "    }\n",
       "\n",
       "    .dataframe tbody tr th {\n",
       "        vertical-align: top;\n",
       "    }\n",
       "\n",
       "    .dataframe thead th {\n",
       "        text-align: right;\n",
       "    }\n",
       "</style>\n",
       "<table border=\"1\" class=\"dataframe\">\n",
       "  <thead>\n",
       "    <tr style=\"text-align: right;\">\n",
       "      <th></th>\n",
       "      <th>addeddate</th>\n",
       "      <th>contributor</th>\n",
       "      <th>description</th>\n",
       "      <th>program</th>\n",
       "      <th>tuner</th>\n",
       "      <th>text</th>\n",
       "    </tr>\n",
       "  </thead>\n",
       "  <tbody>\n",
       "    <tr>\n",
       "      <th>0</th>\n",
       "      <td>2022-02-02 08:00:00</td>\n",
       "      <td>MSNBCW</td>\n",
       "      <td>\"Chris Hayes reports on some of the biggest ne...</td>\n",
       "      <td>All In With Chris Hayes</td>\n",
       "      <td>Virtual Ch. 787</td>\n",
       "      <td>tonight on all in. &gt;&gt; they know it\\'s true, th...</td>\n",
       "    </tr>\n",
       "    <tr>\n",
       "      <th>1</th>\n",
       "      <td>2022-01-02 00:30:00</td>\n",
       "      <td>RT</td>\n",
       "      <td>\"Markets!  Finance!  Scandal!  Keiser Report i...</td>\n",
       "      <td>Keiser Report</td>\n",
       "      <td>Channel IPTV</td>\n",
       "      <td>\"ah ah whoa, happy new year special kaiser rep...</td>\n",
       "    </tr>\n",
       "    <tr>\n",
       "      <th>2</th>\n",
       "      <td>2022-01-06 13:30:00</td>\n",
       "      <td>RT</td>\n",
       "      <td>Former First Minister of Scotland Alex Salmond...</td>\n",
       "      <td>The Alex Salmond Show</td>\n",
       "      <td>Channel IPTV</td>\n",
       "      <td>\"ah, for june . welcome to the alexander. so i...</td>\n",
       "    </tr>\n",
       "    <tr>\n",
       "      <th>3</th>\n",
       "      <td>2022-01-14 05:00:00</td>\n",
       "      <td>RT</td>\n",
       "      <td>RT news, interviews and shows available as pod...</td>\n",
       "      <td>News</td>\n",
       "      <td>Channel IPTV</td>\n",
       "      <td>\"ah ah, his royal highness, no more. queen eli...</td>\n",
       "    </tr>\n",
       "    <tr>\n",
       "      <th>4</th>\n",
       "      <td>2022-01-16 17:00:00</td>\n",
       "      <td>RT</td>\n",
       "      <td>RT news, interviews and shows available as pod...</td>\n",
       "      <td>News</td>\n",
       "      <td>Channel IPTV</td>\n",
       "      <td>\"ah, with tennis superstar new york of h is de...</td>\n",
       "    </tr>\n",
       "    <tr>\n",
       "      <th>...</th>\n",
       "      <td>...</td>\n",
       "      <td>...</td>\n",
       "      <td>...</td>\n",
       "      <td>...</td>\n",
       "      <td>...</td>\n",
       "      <td>...</td>\n",
       "    </tr>\n",
       "    <tr>\n",
       "      <th>43279</th>\n",
       "      <td>2022-05-13 03:00:00</td>\n",
       "      <td>FOXNEWSW</td>\n",
       "      <td>Greg Gutfeld examines the news of the day thro...</td>\n",
       "      <td>Gutfeld!</td>\n",
       "      <td>Virtual Ch. 760</td>\n",
       "      <td>who bought them? &gt;&gt; they sent them an email. &gt;...</td>\n",
       "    </tr>\n",
       "    <tr>\n",
       "      <th>43280</th>\n",
       "      <td>2022-10-27 00:30:00</td>\n",
       "      <td>RT</td>\n",
       "      <td>\"RT's documentaries give a varied and unique v...</td>\n",
       "      <td>Documentary</td>\n",
       "      <td>Channel IPTV</td>\n",
       "      <td>\"have any quality for russians, all we gotta d...</td>\n",
       "    </tr>\n",
       "    <tr>\n",
       "      <th>43281</th>\n",
       "      <td>2022-10-26 17:30:00</td>\n",
       "      <td>RT</td>\n",
       "      <td>\"RT's documentaries give a varied and unique v...</td>\n",
       "      <td>Documentary</td>\n",
       "      <td>Channel IPTV</td>\n",
       "      <td>\"ah ah a ah with. ringback ringback ah, becaus...</td>\n",
       "    </tr>\n",
       "    <tr>\n",
       "      <th>43282</th>\n",
       "      <td>2022-10-19 05:00:00</td>\n",
       "      <td>FOXNEWSW</td>\n",
       "      <td>Powerful analysis and spirited debates with gu...</td>\n",
       "      <td>Tucker Carlson Tonight</td>\n",
       "      <td>Virtual Ch. 760</td>\n",
       "      <td>\"&gt;&gt; they willw em. they fought for us .sn no't...</td>\n",
       "    </tr>\n",
       "    <tr>\n",
       "      <th>43283</th>\n",
       "      <td>2022-10-27 02:00:00</td>\n",
       "      <td>RT</td>\n",
       "      <td>\"RT's documentaries give a varied and unique v...</td>\n",
       "      <td>Documentary</td>\n",
       "      <td>Channel IPTV</td>\n",
       "      <td>\"ah a. ringback ringback because she spent wit...</td>\n",
       "    </tr>\n",
       "  </tbody>\n",
       "</table>\n",
       "<p>43284 rows × 6 columns</p>\n",
       "</div>"
      ],
      "text/plain": [
       "                 addeddate contributor  \\\n",
       "0      2022-02-02 08:00:00      MSNBCW   \n",
       "1      2022-01-02 00:30:00          RT   \n",
       "2      2022-01-06 13:30:00          RT   \n",
       "3      2022-01-14 05:00:00          RT   \n",
       "4      2022-01-16 17:00:00          RT   \n",
       "...                    ...         ...   \n",
       "43279  2022-05-13 03:00:00    FOXNEWSW   \n",
       "43280  2022-10-27 00:30:00          RT   \n",
       "43281  2022-10-26 17:30:00          RT   \n",
       "43282  2022-10-19 05:00:00    FOXNEWSW   \n",
       "43283  2022-10-27 02:00:00          RT   \n",
       "\n",
       "                                             description  \\\n",
       "0      \"Chris Hayes reports on some of the biggest ne...   \n",
       "1      \"Markets!  Finance!  Scandal!  Keiser Report i...   \n",
       "2      Former First Minister of Scotland Alex Salmond...   \n",
       "3      RT news, interviews and shows available as pod...   \n",
       "4      RT news, interviews and shows available as pod...   \n",
       "...                                                  ...   \n",
       "43279  Greg Gutfeld examines the news of the day thro...   \n",
       "43280  \"RT's documentaries give a varied and unique v...   \n",
       "43281  \"RT's documentaries give a varied and unique v...   \n",
       "43282  Powerful analysis and spirited debates with gu...   \n",
       "43283  \"RT's documentaries give a varied and unique v...   \n",
       "\n",
       "                       program            tuner  \\\n",
       "0      All In With Chris Hayes  Virtual Ch. 787   \n",
       "1                Keiser Report     Channel IPTV   \n",
       "2        The Alex Salmond Show     Channel IPTV   \n",
       "3                         News     Channel IPTV   \n",
       "4                         News     Channel IPTV   \n",
       "...                        ...              ...   \n",
       "43279                 Gutfeld!  Virtual Ch. 760   \n",
       "43280              Documentary     Channel IPTV   \n",
       "43281              Documentary     Channel IPTV   \n",
       "43282   Tucker Carlson Tonight  Virtual Ch. 760   \n",
       "43283              Documentary     Channel IPTV   \n",
       "\n",
       "                                                    text  \n",
       "0      tonight on all in. >> they know it\\'s true, th...  \n",
       "1      \"ah ah whoa, happy new year special kaiser rep...  \n",
       "2      \"ah, for june . welcome to the alexander. so i...  \n",
       "3      \"ah ah, his royal highness, no more. queen eli...  \n",
       "4      \"ah, with tennis superstar new york of h is de...  \n",
       "...                                                  ...  \n",
       "43279  who bought them? >> they sent them an email. >...  \n",
       "43280  \"have any quality for russians, all we gotta d...  \n",
       "43281  \"ah ah a ah with. ringback ringback ah, becaus...  \n",
       "43282  \">> they willw em. they fought for us .sn no't...  \n",
       "43283  \"ah a. ringback ringback because she spent wit...  \n",
       "\n",
       "[43284 rows x 6 columns]"
      ]
     },
     "execution_count": 19,
     "metadata": {},
     "output_type": "execute_result"
    }
   ],
   "source": [
    "tv_data = pd.read_csv('TV/Tv_data_raw_2022.csv')\n",
    "tv_data"
   ]
  },
  {
   "cell_type": "code",
   "execution_count": 20,
   "metadata": {},
   "outputs": [
    {
     "data": {
      "text/html": [
       "<div>\n",
       "<style scoped>\n",
       "    .dataframe tbody tr th:only-of-type {\n",
       "        vertical-align: middle;\n",
       "    }\n",
       "\n",
       "    .dataframe tbody tr th {\n",
       "        vertical-align: top;\n",
       "    }\n",
       "\n",
       "    .dataframe thead th {\n",
       "        text-align: right;\n",
       "    }\n",
       "</style>\n",
       "<table border=\"1\" class=\"dataframe\">\n",
       "  <thead>\n",
       "    <tr style=\"text-align: right;\">\n",
       "      <th></th>\n",
       "      <th>addeddate</th>\n",
       "      <th>contributor</th>\n",
       "      <th>description</th>\n",
       "      <th>program</th>\n",
       "      <th>tuner</th>\n",
       "      <th>text</th>\n",
       "    </tr>\n",
       "  </thead>\n",
       "  <tbody>\n",
       "    <tr>\n",
       "      <th>0</th>\n",
       "      <td>2022-02-02 08:00:00</td>\n",
       "      <td>MSNBCW</td>\n",
       "      <td>\"Chris Hayes reports on some of the biggest ne...</td>\n",
       "      <td>All In With Chris Hayes</td>\n",
       "      <td>Virtual Ch. 787</td>\n",
       "      <td>tonight on all in. &gt;&gt; they know it\\'s true, th...</td>\n",
       "    </tr>\n",
       "    <tr>\n",
       "      <th>1</th>\n",
       "      <td>2022-01-02 00:30:00</td>\n",
       "      <td>RT</td>\n",
       "      <td>\"Markets!  Finance!  Scandal!  Keiser Report i...</td>\n",
       "      <td>Keiser Report</td>\n",
       "      <td>Channel IPTV</td>\n",
       "      <td>\"ah ah whoa, happy new year special kaiser rep...</td>\n",
       "    </tr>\n",
       "    <tr>\n",
       "      <th>2</th>\n",
       "      <td>2022-01-06 13:30:00</td>\n",
       "      <td>RT</td>\n",
       "      <td>Former First Minister of Scotland Alex Salmond...</td>\n",
       "      <td>The Alex Salmond Show</td>\n",
       "      <td>Channel IPTV</td>\n",
       "      <td>\"ah, for june . welcome to the alexander. so i...</td>\n",
       "    </tr>\n",
       "    <tr>\n",
       "      <th>3</th>\n",
       "      <td>2022-01-14 05:00:00</td>\n",
       "      <td>RT</td>\n",
       "      <td>RT news, interviews and shows available as pod...</td>\n",
       "      <td>News</td>\n",
       "      <td>Channel IPTV</td>\n",
       "      <td>\"ah ah, his royal highness, no more. queen eli...</td>\n",
       "    </tr>\n",
       "    <tr>\n",
       "      <th>4</th>\n",
       "      <td>2022-01-16 17:00:00</td>\n",
       "      <td>RT</td>\n",
       "      <td>RT news, interviews and shows available as pod...</td>\n",
       "      <td>News</td>\n",
       "      <td>Channel IPTV</td>\n",
       "      <td>\"ah, with tennis superstar new york of h is de...</td>\n",
       "    </tr>\n",
       "    <tr>\n",
       "      <th>...</th>\n",
       "      <td>...</td>\n",
       "      <td>...</td>\n",
       "      <td>...</td>\n",
       "      <td>...</td>\n",
       "      <td>...</td>\n",
       "      <td>...</td>\n",
       "    </tr>\n",
       "    <tr>\n",
       "      <th>43279</th>\n",
       "      <td>2022-05-13 03:00:00</td>\n",
       "      <td>FOXNEWSW</td>\n",
       "      <td>Greg Gutfeld examines the news of the day thro...</td>\n",
       "      <td>Gutfeld!</td>\n",
       "      <td>Virtual Ch. 760</td>\n",
       "      <td>who bought them? &gt;&gt; they sent them an email. &gt;...</td>\n",
       "    </tr>\n",
       "    <tr>\n",
       "      <th>43280</th>\n",
       "      <td>2022-10-27 00:30:00</td>\n",
       "      <td>RT</td>\n",
       "      <td>\"RT's documentaries give a varied and unique v...</td>\n",
       "      <td>Documentary</td>\n",
       "      <td>Channel IPTV</td>\n",
       "      <td>\"have any quality for russians, all we gotta d...</td>\n",
       "    </tr>\n",
       "    <tr>\n",
       "      <th>43281</th>\n",
       "      <td>2022-10-26 17:30:00</td>\n",
       "      <td>RT</td>\n",
       "      <td>\"RT's documentaries give a varied and unique v...</td>\n",
       "      <td>Documentary</td>\n",
       "      <td>Channel IPTV</td>\n",
       "      <td>\"ah ah a ah with. ringback ringback ah, becaus...</td>\n",
       "    </tr>\n",
       "    <tr>\n",
       "      <th>43282</th>\n",
       "      <td>2022-10-19 05:00:00</td>\n",
       "      <td>FOXNEWSW</td>\n",
       "      <td>Powerful analysis and spirited debates with gu...</td>\n",
       "      <td>Tucker Carlson Tonight</td>\n",
       "      <td>Virtual Ch. 760</td>\n",
       "      <td>\"&gt;&gt; they willw em. they fought for us .sn no't...</td>\n",
       "    </tr>\n",
       "    <tr>\n",
       "      <th>43283</th>\n",
       "      <td>2022-10-27 02:00:00</td>\n",
       "      <td>RT</td>\n",
       "      <td>\"RT's documentaries give a varied and unique v...</td>\n",
       "      <td>Documentary</td>\n",
       "      <td>Channel IPTV</td>\n",
       "      <td>\"ah a. ringback ringback because she spent wit...</td>\n",
       "    </tr>\n",
       "  </tbody>\n",
       "</table>\n",
       "<p>43284 rows × 6 columns</p>\n",
       "</div>"
      ],
      "text/plain": [
       "                 addeddate contributor  \\\n",
       "0      2022-02-02 08:00:00      MSNBCW   \n",
       "1      2022-01-02 00:30:00          RT   \n",
       "2      2022-01-06 13:30:00          RT   \n",
       "3      2022-01-14 05:00:00          RT   \n",
       "4      2022-01-16 17:00:00          RT   \n",
       "...                    ...         ...   \n",
       "43279  2022-05-13 03:00:00    FOXNEWSW   \n",
       "43280  2022-10-27 00:30:00          RT   \n",
       "43281  2022-10-26 17:30:00          RT   \n",
       "43282  2022-10-19 05:00:00    FOXNEWSW   \n",
       "43283  2022-10-27 02:00:00          RT   \n",
       "\n",
       "                                             description  \\\n",
       "0      \"Chris Hayes reports on some of the biggest ne...   \n",
       "1      \"Markets!  Finance!  Scandal!  Keiser Report i...   \n",
       "2      Former First Minister of Scotland Alex Salmond...   \n",
       "3      RT news, interviews and shows available as pod...   \n",
       "4      RT news, interviews and shows available as pod...   \n",
       "...                                                  ...   \n",
       "43279  Greg Gutfeld examines the news of the day thro...   \n",
       "43280  \"RT's documentaries give a varied and unique v...   \n",
       "43281  \"RT's documentaries give a varied and unique v...   \n",
       "43282  Powerful analysis and spirited debates with gu...   \n",
       "43283  \"RT's documentaries give a varied and unique v...   \n",
       "\n",
       "                       program            tuner  \\\n",
       "0      All In With Chris Hayes  Virtual Ch. 787   \n",
       "1                Keiser Report     Channel IPTV   \n",
       "2        The Alex Salmond Show     Channel IPTV   \n",
       "3                         News     Channel IPTV   \n",
       "4                         News     Channel IPTV   \n",
       "...                        ...              ...   \n",
       "43279                 Gutfeld!  Virtual Ch. 760   \n",
       "43280              Documentary     Channel IPTV   \n",
       "43281              Documentary     Channel IPTV   \n",
       "43282   Tucker Carlson Tonight  Virtual Ch. 760   \n",
       "43283              Documentary     Channel IPTV   \n",
       "\n",
       "                                                    text  \n",
       "0      tonight on all in. >> they know it\\'s true, th...  \n",
       "1      \"ah ah whoa, happy new year special kaiser rep...  \n",
       "2      \"ah, for june . welcome to the alexander. so i...  \n",
       "3      \"ah ah, his royal highness, no more. queen eli...  \n",
       "4      \"ah, with tennis superstar new york of h is de...  \n",
       "...                                                  ...  \n",
       "43279  who bought them? >> they sent them an email. >...  \n",
       "43280  \"have any quality for russians, all we gotta d...  \n",
       "43281  \"ah ah a ah with. ringback ringback ah, becaus...  \n",
       "43282  \">> they willw em. they fought for us .sn no't...  \n",
       "43283  \"ah a. ringback ringback because she spent wit...  \n",
       "\n",
       "[43284 rows x 6 columns]"
      ]
     },
     "execution_count": 20,
     "metadata": {},
     "output_type": "execute_result"
    }
   ],
   "source": [
    "tv_data['text'] = tv_data['text'].apply(pre_processing)\n",
    "tv_data"
   ]
  },
  {
   "cell_type": "code",
   "execution_count": 21,
   "metadata": {},
   "outputs": [],
   "source": [
    "# j = 0\n",
    "# for i in tv_data['text']:\n",
    "#     if j <=5:\n",
    "#         print(i)\n",
    "#         print(\"**********************************\")\n",
    "#         print()\n",
    "#     j +=1"
   ]
  },
  {
   "cell_type": "code",
   "execution_count": 22,
   "metadata": {},
   "outputs": [
    {
     "data": {
      "text/plain": [
       "0        [tonight on all in. >> they know it\\'s true, t...\n",
       "1        [\"ah ah whoa, happy new year special kaiser re...\n",
       "2        [\"ah, for june . welcome to the alexander. so ...\n",
       "3        [\"ah ah, his royal highness, no more. queen el...\n",
       "4        [\"ah, with tennis superstar new york of h is d...\n",
       "                               ...                        \n",
       "43279    [who bought them? >> they sent them an email. ...\n",
       "43280    [\"have any quality for russians, all we gotta ...\n",
       "43281    [\"ah ah a ah with. ringback ringback ah, becau...\n",
       "43282    [\">> they willw em. they fought for us .sn no'...\n",
       "43283    [\"ah a. ringback ringback because she spent wi...\n",
       "Name: Passages, Length: 43284, dtype: object"
      ]
     },
     "execution_count": 22,
     "metadata": {},
     "output_type": "execute_result"
    }
   ],
   "source": [
    "tv_data['Passages'] = tv_data['text'].apply(create_passages)\n",
    "tv_data['Passages']"
   ]
  },
  {
   "cell_type": "code",
   "execution_count": 25,
   "metadata": {},
   "outputs": [],
   "source": [
    "tv_data.to_csv('TV/Tv_data_processed.csv')"
   ]
  },
  {
   "cell_type": "code",
   "execution_count": null,
   "metadata": {},
   "outputs": [],
   "source": []
  },
  {
   "cell_type": "markdown",
   "metadata": {},
   "source": [
    "### Embeddings"
   ]
  },
  {
   "cell_type": "markdown",
   "metadata": {},
   "source": [
    "We specifically embed passages using a version of MPNet\n",
    "that we fine-tune on the semantic text similarity (STS)\n",
    "task [37], [56] using unsupervised contrastive learning for\n",
    "sentence embeddings as specified in Gao et al. [57] on a\n",
    "random assortment of passages from January 2022 from\n",
    "our websites. We perform this fine-tuning with the default\n",
    "hyperparameters (learning rate 3 × 10−5, batch size=128,\n",
    "and 1M examples) specified in Gao et al. and by freezing\n",
    "all but the last two layers of a public version of MPNet.2\n",
    "See Appendix A for details. This ensures that our model is\n",
    "attuned to the language present on our set of websites. As\n",
    "seen in Table 1, despite not being trained on the SemEval\n",
    "STS Benchmark [51], a benchmark for measuring the quality\n",
    "of text embeddings, our model outperforms the fine-tuned\n",
    "publicly released version of MPNet. After fine-tuning our\n",
    "model, from the 2.1M articles, we embed 27,850,016 passages\n",
    "(11.00 hours on an Nvidia RTX A6000)."
   ]
  },
  {
   "cell_type": "code",
   "execution_count": 28,
   "metadata": {},
   "outputs": [],
   "source": [
    "# pip install sentence-transformers transformers"
   ]
  },
  {
   "cell_type": "code",
   "execution_count": 27,
   "metadata": {},
   "outputs": [],
   "source": [
    "from sentence_transformers import SentenceTransformer, util\n",
    "import torch"
   ]
  },
  {
   "cell_type": "code",
   "execution_count": 29,
   "metadata": {},
   "outputs": [
    {
     "data": {
      "application/vnd.jupyter.widget-view+json": {
       "model_id": "cc7a698889d544249f684438f6a00451",
       "version_major": 2,
       "version_minor": 0
      },
      "text/plain": [
       "Downloading (…)a8e1d/.gitattributes:   0%|          | 0.00/1.18k [00:00<?, ?B/s]"
      ]
     },
     "metadata": {},
     "output_type": "display_data"
    },
    {
     "data": {
      "application/vnd.jupyter.widget-view+json": {
       "model_id": "079afecc825c4625934b3d31b03f82be",
       "version_major": 2,
       "version_minor": 0
      },
      "text/plain": [
       "Downloading (…)_Pooling/config.json:   0%|          | 0.00/190 [00:00<?, ?B/s]"
      ]
     },
     "metadata": {},
     "output_type": "display_data"
    },
    {
     "data": {
      "application/vnd.jupyter.widget-view+json": {
       "model_id": "d53a343eb43c4124982de346c30d1b11",
       "version_major": 2,
       "version_minor": 0
      },
      "text/plain": [
       "Downloading (…)b20bca8e1d/README.md:   0%|          | 0.00/10.6k [00:00<?, ?B/s]"
      ]
     },
     "metadata": {},
     "output_type": "display_data"
    },
    {
     "data": {
      "application/vnd.jupyter.widget-view+json": {
       "model_id": "450304b87ba4439b8d283ee700662cdd",
       "version_major": 2,
       "version_minor": 0
      },
      "text/plain": [
       "Downloading (…)0bca8e1d/config.json:   0%|          | 0.00/571 [00:00<?, ?B/s]"
      ]
     },
     "metadata": {},
     "output_type": "display_data"
    },
    {
     "data": {
      "application/vnd.jupyter.widget-view+json": {
       "model_id": "97f711d3246f4fe0848caa2eeb74af69",
       "version_major": 2,
       "version_minor": 0
      },
      "text/plain": [
       "Downloading (…)ce_transformers.json:   0%|          | 0.00/116 [00:00<?, ?B/s]"
      ]
     },
     "metadata": {},
     "output_type": "display_data"
    },
    {
     "data": {
      "application/vnd.jupyter.widget-view+json": {
       "model_id": "9f810e675a704a818790324851bfb157",
       "version_major": 2,
       "version_minor": 0
      },
      "text/plain": [
       "Downloading (…)e1d/data_config.json:   0%|          | 0.00/39.3k [00:00<?, ?B/s]"
      ]
     },
     "metadata": {},
     "output_type": "display_data"
    },
    {
     "data": {
      "application/vnd.jupyter.widget-view+json": {
       "model_id": "7de3fd2e24a646aab0b2e2e37ec44a1c",
       "version_major": 2,
       "version_minor": 0
      },
      "text/plain": [
       "Downloading pytorch_model.bin:   0%|          | 0.00/438M [00:00<?, ?B/s]"
      ]
     },
     "metadata": {},
     "output_type": "display_data"
    },
    {
     "data": {
      "application/vnd.jupyter.widget-view+json": {
       "model_id": "9a0e326fa41647e6a15da03edc8a4443",
       "version_major": 2,
       "version_minor": 0
      },
      "text/plain": [
       "Downloading (…)nce_bert_config.json:   0%|          | 0.00/53.0 [00:00<?, ?B/s]"
      ]
     },
     "metadata": {},
     "output_type": "display_data"
    },
    {
     "data": {
      "application/vnd.jupyter.widget-view+json": {
       "model_id": "21c7bddaaa0045ff9b714dda5c3cc7ed",
       "version_major": 2,
       "version_minor": 0
      },
      "text/plain": [
       "Downloading (…)cial_tokens_map.json:   0%|          | 0.00/239 [00:00<?, ?B/s]"
      ]
     },
     "metadata": {},
     "output_type": "display_data"
    },
    {
     "data": {
      "application/vnd.jupyter.widget-view+json": {
       "model_id": "30fa31f1da7e452f867a8cc8cf707b46",
       "version_major": 2,
       "version_minor": 0
      },
      "text/plain": [
       "Downloading (…)a8e1d/tokenizer.json:   0%|          | 0.00/466k [00:00<?, ?B/s]"
      ]
     },
     "metadata": {},
     "output_type": "display_data"
    },
    {
     "data": {
      "application/vnd.jupyter.widget-view+json": {
       "model_id": "a261c9c473b44b7fbe9b2969c946d720",
       "version_major": 2,
       "version_minor": 0
      },
      "text/plain": [
       "Downloading (…)okenizer_config.json:   0%|          | 0.00/363 [00:00<?, ?B/s]"
      ]
     },
     "metadata": {},
     "output_type": "display_data"
    },
    {
     "data": {
      "application/vnd.jupyter.widget-view+json": {
       "model_id": "8e4a0b39995349d1b16633296d807178",
       "version_major": 2,
       "version_minor": 0
      },
      "text/plain": [
       "Downloading (…)8e1d/train_script.py:   0%|          | 0.00/13.1k [00:00<?, ?B/s]"
      ]
     },
     "metadata": {},
     "output_type": "display_data"
    },
    {
     "data": {
      "application/vnd.jupyter.widget-view+json": {
       "model_id": "865fd4bf1b7a4acba1576c28a6e20126",
       "version_major": 2,
       "version_minor": 0
      },
      "text/plain": [
       "Downloading (…)b20bca8e1d/vocab.txt:   0%|          | 0.00/232k [00:00<?, ?B/s]"
      ]
     },
     "metadata": {},
     "output_type": "display_data"
    },
    {
     "data": {
      "application/vnd.jupyter.widget-view+json": {
       "model_id": "f162ed0a355d4fb2822b26d87ae0ea58",
       "version_major": 2,
       "version_minor": 0
      },
      "text/plain": [
       "Downloading (…)bca8e1d/modules.json:   0%|          | 0.00/349 [00:00<?, ?B/s]"
      ]
     },
     "metadata": {},
     "output_type": "display_data"
    }
   ],
   "source": [
    "# Define the model\n",
    "\n",
    "model = SentenceTransformer('sentence-transformers/all-mpnet-base-v2')"
   ]
  },
  {
   "cell_type": "code",
   "execution_count": 52,
   "metadata": {},
   "outputs": [],
   "source": [
    "def generate_embeddings(text):\n",
    "    embedding = model.encode(text, convert_to_tensor=True)\n",
    "    return embedding"
   ]
  },
  {
   "cell_type": "code",
   "execution_count": 54,
   "metadata": {},
   "outputs": [],
   "source": [
    "# podcast_data['Embeddings'] = podcast_data['Passages'].apply(generate_embeddings)"
   ]
  },
  {
   "cell_type": "code",
   "execution_count": null,
   "metadata": {},
   "outputs": [],
   "source": []
  }
 ],
 "metadata": {
  "kernelspec": {
   "display_name": "Python 3 (ipykernel)",
   "language": "python",
   "name": "python3"
  },
  "language_info": {
   "codemirror_mode": {
    "name": "ipython",
    "version": 3
   },
   "file_extension": ".py",
   "mimetype": "text/x-python",
   "name": "python",
   "nbconvert_exporter": "python",
   "pygments_lexer": "ipython3",
   "version": "3.10.8"
  }
 },
 "nbformat": 4,
 "nbformat_minor": 2
}
