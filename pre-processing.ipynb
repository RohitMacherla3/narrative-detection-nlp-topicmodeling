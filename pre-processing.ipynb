{
 "cells": [
  {
   "cell_type": "code",
   "execution_count": 1,
   "metadata": {},
   "outputs": [
    {
     "name": "stderr",
     "output_type": "stream",
     "text": [
      "/home/rm1667/.local/lib/python3.7/site-packages/pandas/compat/_optional.py:138: UserWarning: Pandas requires version '2.7.0' or newer of 'numexpr' (version '2.6.8' currently installed).\n",
      "  warnings.warn(msg, UserWarning)\n"
     ]
    }
   ],
   "source": [
    "import pandas as pd\n",
    "import numpy as np\n",
    "import sqlite3\n",
    "import os\n",
    "import re\n",
    "import string\n",
    "import gzip\n",
    "import shutil\n",
    "import glob\n",
    "from datetime import datetime\n",
    "import matplotlib.pyplot as plt\n",
    "from spellchecker import SpellChecker\n",
    "%matplotlib inline"
   ]
  },
  {
   "cell_type": "markdown",
   "metadata": {},
   "source": [
    "### Emails Data"
   ]
  },
  {
   "cell_type": "code",
   "execution_count": 2,
   "metadata": {},
   "outputs": [],
   "source": [
    "emails_data = pd.read_csv('Email/emails_raw.csv')"
   ]
  },
  {
   "cell_type": "code",
   "execution_count": 3,
   "metadata": {},
   "outputs": [],
   "source": [
    "emails_2022 = emails_data[emails_data['Year'] == 2022]"
   ]
  },
  {
   "cell_type": "code",
   "execution_count": 4,
   "metadata": {},
   "outputs": [
    {
     "data": {
      "text/plain": [
       "(80100, 13)"
      ]
     },
     "execution_count": 4,
     "metadata": {},
     "output_type": "execute_result"
    }
   ],
   "source": [
    "emails_2022.shape"
   ]
  },
  {
   "cell_type": "code",
   "execution_count": null,
   "metadata": {},
   "outputs": [],
   "source": [
    "emails_df = emails_2022[['Name', 'Subject','Body']]"
   ]
  },
  {
   "cell_type": "code",
   "execution_count": null,
   "metadata": {},
   "outputs": [
    {
     "data": {
      "text/html": [
       "<div>\n",
       "<style scoped>\n",
       "    .dataframe tbody tr th:only-of-type {\n",
       "        vertical-align: middle;\n",
       "    }\n",
       "\n",
       "    .dataframe tbody tr th {\n",
       "        vertical-align: top;\n",
       "    }\n",
       "\n",
       "    .dataframe thead th {\n",
       "        text-align: right;\n",
       "    }\n",
       "</style>\n",
       "<table border=\"1\" class=\"dataframe\">\n",
       "  <thead>\n",
       "    <tr style=\"text-align: right;\">\n",
       "      <th></th>\n",
       "      <th>Name</th>\n",
       "      <th>Subject</th>\n",
       "      <th>Body</th>\n",
       "    </tr>\n",
       "  </thead>\n",
       "  <tbody>\n",
       "    <tr>\n",
       "      <th>34715</th>\n",
       "      <td>DUE @ 11:59 PM | Upset the Setup</td>\n",
       "      <td>re: President Joe Biden</td>\n",
       "      <td>☆ OFFICIAL UTS APPROVAL POLL | REGISTERED TO P...</td>\n",
       "    </tr>\n",
       "    <tr>\n",
       "      <th>34863</th>\n",
       "      <td>Coach Tuberville</td>\n",
       "      <td>🎉 Happy New Year 🎉</td>\n",
       "      <td>96 Peter, The countdown is on – 2022 is quickl...</td>\n",
       "    </tr>\n",
       "    <tr>\n",
       "      <th>34872</th>\n",
       "      <td>Derek Kilmer for Congress</td>\n",
       "      <td>One last update</td>\n",
       "      <td>Peter, Before tonight's festivities begin, we ...</td>\n",
       "    </tr>\n",
       "    <tr>\n",
       "      <th>34873</th>\n",
       "      <td>Sarah Longwell</td>\n",
       "      <td>A great year for democracy</td>\n",
       "      <td>We thought you might want to see this special ...</td>\n",
       "    </tr>\n",
       "    <tr>\n",
       "      <th>34875</th>\n",
       "      <td>Donald J. Trump</td>\n",
       "      <td>2022 is almost over</td>\n",
       "      <td>--- | | | | | | | Untitled Document![Trump 202...</td>\n",
       "    </tr>\n",
       "  </tbody>\n",
       "</table>\n",
       "</div>"
      ],
      "text/plain": [
       "                                   Name                     Subject  \\\n",
       "34715  DUE @ 11:59 PM | Upset the Setup     re: President Joe Biden   \n",
       "34863                  Coach Tuberville          🎉 Happy New Year 🎉   \n",
       "34872         Derek Kilmer for Congress             One last update   \n",
       "34873                    Sarah Longwell  A great year for democracy   \n",
       "34875                   Donald J. Trump         2022 is almost over   \n",
       "\n",
       "                                                    Body  \n",
       "34715  ☆ OFFICIAL UTS APPROVAL POLL | REGISTERED TO P...  \n",
       "34863  96 Peter, The countdown is on – 2022 is quickl...  \n",
       "34872  Peter, Before tonight's festivities begin, we ...  \n",
       "34873  We thought you might want to see this special ...  \n",
       "34875  --- | | | | | | | Untitled Document![Trump 202...  "
      ]
     },
     "execution_count": 6,
     "metadata": {},
     "output_type": "execute_result"
    }
   ],
   "source": [
    "emails_df.head()"
   ]
  },
  {
   "cell_type": "code",
   "execution_count": null,
   "metadata": {},
   "outputs": [],
   "source": [
    "def pre_processing(text):\n",
    "    if isinstance(text, str):\n",
    "        # Lowercasing\n",
    "        text = text.lower()\n",
    "\n",
    "        # Removing HTML tags\n",
    "        def remove_html_tags(text):\n",
    "            pattern = re.compile('<.*?>')\n",
    "            return pattern.sub(r'', text)\n",
    "\n",
    "        text = remove_html_tags(text)\n",
    "\n",
    "        # Removing URLs\n",
    "        def remove_url(text):\n",
    "            pattern = re.compile(r'https?://\\S+|www\\.\\S+')\n",
    "            return pattern.sub(r'', text)\n",
    "\n",
    "        text = remove_url(text)\n",
    "\n",
    "        # Remove punctuations\n",
    "        punc = string.punctuation\n",
    "        def remove_punc(text):\n",
    "            return text.translate(str.maketrans('', '', punc))\n",
    "\n",
    "        text = remove_punc(text)\n",
    "        \n",
    "        # Spelling corrections\n",
    "        spell = SpellChecker()\n",
    "\n",
    "        def correct_spelling(text):\n",
    "            words = text.split()\n",
    "            corrected_words = []\n",
    "            for word in words:\n",
    "                correction = spell.correction(word)\n",
    "                corrected_words.append(correction if correction else word)\n",
    "            return ' '.join(corrected_words)\n",
    "\n",
    "        text = correct_spelling(text)\n",
    "\n",
    "    return text"
   ]
  },
  {
   "cell_type": "code",
   "execution_count": null,
   "metadata": {},
   "outputs": [],
   "source": [
    "emails_df['Body'] = emails_df['Body'].apply(pre_processing)"
   ]
  },
  {
   "cell_type": "code",
   "execution_count": null,
   "metadata": {},
   "outputs": [],
   "source": [
    "emails_df['Subject'] = emails_df['Subject'].apply(pre_processing)"
   ]
  },
  {
   "cell_type": "code",
   "execution_count": null,
   "metadata": {},
   "outputs": [],
   "source": [
    "emails_df"
   ]
  },
  {
   "cell_type": "code",
   "execution_count": null,
   "metadata": {},
   "outputs": [],
   "source": []
  }
 ],
 "metadata": {
  "kernelspec": {
   "display_name": "Python 3",
   "language": "python",
   "name": "python3"
  },
  "language_info": {
   "codemirror_mode": {
    "name": "ipython",
    "version": 3
   },
   "file_extension": ".py",
   "mimetype": "text/x-python",
   "name": "python",
   "nbconvert_exporter": "python",
   "pygments_lexer": "ipython3",
   "version": "3.7.3"
  }
 },
 "nbformat": 4,
 "nbformat_minor": 2
}
