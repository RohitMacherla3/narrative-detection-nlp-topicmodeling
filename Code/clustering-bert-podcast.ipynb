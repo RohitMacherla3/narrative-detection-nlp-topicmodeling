{
 "cells": [
  {
   "cell_type": "code",
   "execution_count": 1,
   "id": "812cf0fd",
   "metadata": {},
   "outputs": [],
   "source": [
    "import pandas as pd\n",
    "import numpy as np\n",
    "import matplotlib.pyplot as plt\n",
    "%matplotlib inline\n",
    "import plotly.express as px\n",
    "from collections import Counter\n",
    "import time\n",
    "\n",
    "from bertopic import BERTopic\n",
    "from itertools import chain\n",
    "from nltk.corpus import stopwords\n",
    "from nltk.tokenize import word_tokenize\n",
    "from umap import UMAP\n",
    "from hdbscan import HDBSCAN"
   ]
  },
  {
   "cell_type": "code",
   "execution_count": 2,
   "id": "d9ccbc34",
   "metadata": {},
   "outputs": [],
   "source": [
    "podcast_df = pd.read_pickle('Podcast/podcast_data_processed.pkl')"
   ]
  },
  {
   "cell_type": "code",
   "execution_count": 3,
   "id": "b1a76e58",
   "metadata": {},
   "outputs": [],
   "source": [
    "flattened_passages = list(chain.from_iterable(podcast_df['Passages']))"
   ]
  },
  {
   "cell_type": "code",
   "execution_count": 4,
   "id": "b49995e9",
   "metadata": {},
   "outputs": [
    {
     "data": {
      "text/plain": [
       "656040"
      ]
     },
     "execution_count": 4,
     "metadata": {},
     "output_type": "execute_result"
    }
   ],
   "source": [
    "len(flattened_passages)"
   ]
  },
  {
   "cell_type": "code",
   "execution_count": 5,
   "id": "27025c2b",
   "metadata": {},
   "outputs": [],
   "source": [
    "umap_model = UMAP(n_neighbors=3, min_dist=0.25, random_state=42)\n",
    "hdbscan_model = HDBSCAN(min_cluster_size=125, gen_min_span_tree=True, prediction_data=True)"
   ]
  },
  {
   "cell_type": "code",
   "execution_count": null,
   "id": "89b02b6d",
   "metadata": {},
   "outputs": [
    {
     "data": {
      "application/vnd.jupyter.widget-view+json": {
       "model_id": "fab895647fd543c6a190509c026f3d00",
       "version_major": 2,
       "version_minor": 0
      },
      "text/plain": [
       "Batches:   0%|          | 0/20502 [00:00<?, ?it/s]"
      ]
     },
     "metadata": {},
     "output_type": "display_data"
    },
    {
     "name": "stderr",
     "output_type": "stream",
     "text": [
      "2023-11-09 00:54:28,624 - BERTopic - Transformed documents to Embeddings\n",
      "2023-11-09 01:27:59,559 - BERTopic - Reduced dimensionality\n",
      "huggingface/tokenizers: The current process just got forked, after parallelism has already been used. Disabling parallelism to avoid deadlocks...\n",
      "To disable this warning, you can either:\n",
      "\t- Avoid using `tokenizers` before the fork if possible\n",
      "\t- Explicitly set the environment variable TOKENIZERS_PARALLELISM=(true | false)\n",
      "huggingface/tokenizers: The current process just got forked, after parallelism has already been used. Disabling parallelism to avoid deadlocks...\n",
      "To disable this warning, you can either:\n",
      "\t- Avoid using `tokenizers` before the fork if possible\n",
      "\t- Explicitly set the environment variable TOKENIZERS_PARALLELISM=(true | false)\n",
      "huggingface/tokenizers: The current process just got forked, after parallelism has already been used. Disabling parallelism to avoid deadlocks...\n",
      "To disable this warning, you can either:\n",
      "\t- Avoid using `tokenizers` before the fork if possible\n",
      "\t- Explicitly set the environment variable TOKENIZERS_PARALLELISM=(true | false)\n",
      "huggingface/tokenizers: The current process just got forked, after parallelism has already been used. Disabling parallelism to avoid deadlocks...\n",
      "To disable this warning, you can either:\n",
      "\t- Avoid using `tokenizers` before the fork if possible\n",
      "\t- Explicitly set the environment variable TOKENIZERS_PARALLELISM=(true | false)\n",
      "huggingface/tokenizers: The current process just got forked, after parallelism has already been used. Disabling parallelism to avoid deadlocks...\n",
      "To disable this warning, you can either:\n",
      "\t- Avoid using `tokenizers` before the fork if possible\n",
      "\t- Explicitly set the environment variable TOKENIZERS_PARALLELISM=(true | false)\n",
      "huggingface/tokenizers: The current process just got forked, after parallelism has already been used. Disabling parallelism to avoid deadlocks...\n",
      "To disable this warning, you can either:\n",
      "\t- Avoid using `tokenizers` before the fork if possible\n",
      "\t- Explicitly set the environment variable TOKENIZERS_PARALLELISM=(true | false)\n",
      "2023-11-09 01:30:28,873 - BERTopic - Clustered reduced embeddings\n"
     ]
    }
   ],
   "source": [
    "topic_model = BERTopic(n_gram_range=(1, 3), top_n_words=10,\n",
    "                      umap_model=umap_model, hdbscan_model=hdbscan_model, verbose=True)\n",
    "topics, probs = topic_model.fit_transform(flattened_passages)\n",
    "topic_model.save(\"Podcast/bertopic_model\")"
   ]
  },
  {
   "cell_type": "code",
   "execution_count": null,
   "id": "c927338f",
   "metadata": {},
   "outputs": [],
   "source": [
    "podcast_passage_splits = [len(embedding) for embedding in podcast_df['Passages']]"
   ]
  },
  {
   "cell_type": "code",
   "execution_count": null,
   "id": "4f41bbad",
   "metadata": {},
   "outputs": [],
   "source": [
    "passage_mapping ={}\n",
    "j = 0\n",
    "for i in range(len(podcast_passage_splits)):\n",
    "    passages_count = podcast_passage_splits[i]\n",
    "    passage_mapping[i] = topics[j:j+passages_count]\n",
    "    j += passages_count"
   ]
  },
  {
   "cell_type": "code",
   "execution_count": null,
   "id": "0d089a58",
   "metadata": {},
   "outputs": [],
   "source": [
    "podcast_df['cluster_ids'] = passage_mapping.values()"
   ]
  },
  {
   "cell_type": "code",
   "execution_count": null,
   "id": "dbf3485d",
   "metadata": {},
   "outputs": [],
   "source": [
    "podcast_df.to_pickle('Podcast/podcast_cluster_ids.pkl')"
   ]
  },
  {
   "cell_type": "code",
   "execution_count": null,
   "id": "ac8ca5b8",
   "metadata": {},
   "outputs": [],
   "source": [
    "topic_model.get_topic_info()"
   ]
  },
  {
   "cell_type": "code",
   "execution_count": null,
   "id": "d009b26d",
   "metadata": {},
   "outputs": [],
   "source": [
    "topic_model.get_topic_info().to_pickle('Podcast/podcast-bert-clust.pkl')"
   ]
  },
  {
   "cell_type": "code",
   "execution_count": null,
   "id": "719efda4",
   "metadata": {},
   "outputs": [],
   "source": [
    "topic_model.visualize_hierarchy().write_html('Podcast/podcast-bert-clust.html')"
   ]
  }
 ],
 "metadata": {
  "kernelspec": {
   "display_name": "Python 3 (ipykernel)",
   "language": "python",
   "name": "python3"
  },
  "language_info": {
   "codemirror_mode": {
    "name": "ipython",
    "version": 3
   },
   "file_extension": ".py",
   "mimetype": "text/x-python",
   "name": "python",
   "nbconvert_exporter": "python",
   "pygments_lexer": "ipython3",
   "version": "3.9.13"
  }
 },
 "nbformat": 4,
 "nbformat_minor": 5
}
