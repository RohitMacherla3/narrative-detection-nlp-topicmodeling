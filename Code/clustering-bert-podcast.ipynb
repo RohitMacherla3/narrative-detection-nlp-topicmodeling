{
 "cells": [
  {
   "cell_type": "code",
   "execution_count": 1,
   "id": "812cf0fd",
   "metadata": {},
   "outputs": [],
   "source": [
    "import pandas as pd\n",
    "import numpy as np\n",
    "import matplotlib.pyplot as plt\n",
    "%matplotlib inline\n",
    "import plotly.express as px\n",
    "from collections import Counter\n",
    "import time\n",
    "\n",
    "from bertopic import BERTopic\n",
    "from itertools import chain\n",
    "from nltk.corpus import stopwords\n",
    "from nltk.tokenize import word_tokenize\n",
    "from umap import UMAP\n",
    "from hdbscan import HDBSCAN"
   ]
  },
  {
   "cell_type": "code",
   "execution_count": 2,
   "id": "be68b495",
   "metadata": {},
   "outputs": [],
   "source": [
    "# email_passage_splits = [len(embedding) for embedding in email_embeddings_np]\n",
    "\n",
    "# passage_mapping ={}\n",
    "# j = 0\n",
    "# for i in range(len(email_passage_splits)):\n",
    "#     passages_count = email_passage_splits[i]\n",
    "#     passage_mapping[i] = cluster_labels[j:j+passages_count]\n",
    "#     j += passages_count"
   ]
  },
  {
   "cell_type": "code",
   "execution_count": 3,
   "id": "d9ccbc34",
   "metadata": {},
   "outputs": [],
   "source": [
    "podcast_df = pd.read_pickle('Podcast/podcast_data_processed.pkl')"
   ]
  },
  {
   "cell_type": "code",
   "execution_count": 4,
   "id": "b1a76e58",
   "metadata": {},
   "outputs": [],
   "source": [
    "flattened_passages = list(chain.from_iterable(podcast_df['Passages']))"
   ]
  },
  {
   "cell_type": "code",
   "execution_count": 18,
   "id": "2591dd8a",
   "metadata": {},
   "outputs": [
    {
     "data": {
      "text/plain": [
       "656040"
      ]
     },
     "execution_count": 18,
     "metadata": {},
     "output_type": "execute_result"
    }
   ],
   "source": [
    "len(flattened_passages)"
   ]
  },
  {
   "cell_type": "code",
   "execution_count": 5,
   "id": "8a7200da",
   "metadata": {},
   "outputs": [],
   "source": [
    "# import random\n",
    "# samples = random.sample(flattened_passages, 50000)"
   ]
  },
  {
   "cell_type": "code",
   "execution_count": 12,
   "id": "27025c2b",
   "metadata": {},
   "outputs": [],
   "source": [
    "umap_model = UMAP(n_neighbors=4, min_dist=0.25)\n",
    "hdbscan_model = HDBSCAN(min_cluster_size=125, gen_min_span_tree=True, prediction_data=True)"
   ]
  },
  {
   "cell_type": "code",
   "execution_count": 13,
   "id": "89b02b6d",
   "metadata": {},
   "outputs": [
    {
     "data": {
      "application/vnd.jupyter.widget-view+json": {
       "model_id": "c8723a58dc344442a73d9788e6f2e0c9",
       "version_major": 2,
       "version_minor": 0
      },
      "text/plain": [
       "Batches:   0%|          | 0/20502 [00:00<?, ?it/s]"
      ]
     },
     "metadata": {},
     "output_type": "display_data"
    },
    {
     "name": "stderr",
     "output_type": "stream",
     "text": [
      "2023-10-18 21:19:22,041 - BERTopic - Transformed documents to Embeddings\n",
      "2023-10-18 22:12:55,578 - BERTopic - Reduced dimensionality\n",
      "python(28346) MallocStackLogging: can't turn off malloc stack logging because it was not enabled.\n",
      "python(28347) MallocStackLogging: can't turn off malloc stack logging because it was not enabled.\n"
     ]
    },
    {
     "name": "stdout",
     "output_type": "stream",
     "text": [
      "huggingface/tokenizers: The current process just got forked, after parallelism has already been used. Disabling parallelism to avoid deadlocks...\n",
      "To disable this warning, you can either:\n",
      "\t- Avoid using `tokenizers` before the fork if possible\n",
      "\t- Explicitly set the environment variable TOKENIZERS_PARALLELISM=(true | false)\n",
      "huggingface/tokenizers: The current process just got forked, after parallelism has already been used. Disabling parallelism to avoid deadlocks...\n",
      "To disable this warning, you can either:\n",
      "\t- Avoid using `tokenizers` before the fork if possible\n",
      "\t- Explicitly set the environment variable TOKENIZERS_PARALLELISM=(true | false)\n",
      "huggingface/tokenizers: The current process just got forked, after parallelism has already been used. Disabling parallelism to avoid deadlocks...\n",
      "To disable this warning, you can either:\n",
      "\t- Avoid using `tokenizers` before the fork if possible\n",
      "\t- Explicitly set the environment variable TOKENIZERS_PARALLELISM=(true | false)\n"
     ]
    },
    {
     "name": "stderr",
     "output_type": "stream",
     "text": [
      "python(28348) MallocStackLogging: can't turn off malloc stack logging because it was not enabled.\n",
      "python(28349) MallocStackLogging: can't turn off malloc stack logging because it was not enabled.\n"
     ]
    },
    {
     "name": "stdout",
     "output_type": "stream",
     "text": [
      "huggingface/tokenizers: The current process just got forked, after parallelism has already been used. Disabling parallelism to avoid deadlocks...\n",
      "To disable this warning, you can either:\n",
      "\t- Avoid using `tokenizers` before the fork if possible\n",
      "\t- Explicitly set the environment variable TOKENIZERS_PARALLELISM=(true | false)\n"
     ]
    },
    {
     "name": "stderr",
     "output_type": "stream",
     "text": [
      "2023-10-18 22:14:19,371 - BERTopic - Clustered reduced embeddings\n"
     ]
    }
   ],
   "source": [
    "topic_model = BERTopic(n_gram_range=(1, 3), top_n_words=10,\n",
    "                      umap_model=umap_model, hdbscan_model=hdbscan_model, verbose=True)\n",
    "topics, probs = topic_model.fit_transform(flattened_passages)"
   ]
  },
  {
   "cell_type": "code",
   "execution_count": 14,
   "id": "691debd1",
   "metadata": {},
   "outputs": [
    {
     "data": {
      "text/html": [
       "<div>\n",
       "<style scoped>\n",
       "    .dataframe tbody tr th:only-of-type {\n",
       "        vertical-align: middle;\n",
       "    }\n",
       "\n",
       "    .dataframe tbody tr th {\n",
       "        vertical-align: top;\n",
       "    }\n",
       "\n",
       "    .dataframe thead th {\n",
       "        text-align: right;\n",
       "    }\n",
       "</style>\n",
       "<table border=\"1\" class=\"dataframe\">\n",
       "  <thead>\n",
       "    <tr style=\"text-align: right;\">\n",
       "      <th></th>\n",
       "      <th>Topic</th>\n",
       "      <th>Count</th>\n",
       "      <th>Name</th>\n",
       "      <th>Representation</th>\n",
       "      <th>Representative_Docs</th>\n",
       "    </tr>\n",
       "  </thead>\n",
       "  <tbody>\n",
       "    <tr>\n",
       "      <th>0</th>\n",
       "      <td>-1</td>\n",
       "      <td>190214</td>\n",
       "      <td>-1_the_to_and_you</td>\n",
       "      <td>[the, to, and, you, of, that, in, is, it, this]</td>\n",
       "      <td>[But the Republican leader Kevin McCarthy says...</td>\n",
       "    </tr>\n",
       "    <tr>\n",
       "      <th>1</th>\n",
       "      <td>0</td>\n",
       "      <td>279430</td>\n",
       "      <td>0_the_and_to_that</td>\n",
       "      <td>[the, and, to, that, you, of, in, is, it, this]</td>\n",
       "      <td>[I can tell you exactly what you're going to s...</td>\n",
       "    </tr>\n",
       "    <tr>\n",
       "      <th>2</th>\n",
       "      <td>1</td>\n",
       "      <td>26837</td>\n",
       "      <td>1_ukraine_putin_russia_the</td>\n",
       "      <td>[ukraine, putin, russia, the, to, and, of, in,...</td>\n",
       "      <td>[Instead, it turned out that Putin went for br...</td>\n",
       "    </tr>\n",
       "    <tr>\n",
       "      <th>3</th>\n",
       "      <td>2</td>\n",
       "      <td>19961</td>\n",
       "      <td>2_covid_vaccine_the_that</td>\n",
       "      <td>[covid, vaccine, the, that, and, to, of, you, ...</td>\n",
       "      <td>[I was going to say, when you when you look at...</td>\n",
       "    </tr>\n",
       "    <tr>\n",
       "      <th>4</th>\n",
       "      <td>3</td>\n",
       "      <td>16807</td>\n",
       "      <td>3_energy_oil_gas_the</td>\n",
       "      <td>[energy, oil, gas, the, to, and, of, we, is, p...</td>\n",
       "      <td>[And since those are the only two factors caus...</td>\n",
       "    </tr>\n",
       "    <tr>\n",
       "      <th>...</th>\n",
       "      <td>...</td>\n",
       "      <td>...</td>\n",
       "      <td>...</td>\n",
       "      <td>...</td>\n",
       "      <td>...</td>\n",
       "    </tr>\n",
       "    <tr>\n",
       "      <th>144</th>\n",
       "      <td>143</td>\n",
       "      <td>145</td>\n",
       "      <td>143_quinton_fedex_quinton here makes_quinton very</td>\n",
       "      <td>[quinton, fedex, quinton here makes, quinton v...</td>\n",
       "      <td>[Quinton here makes sustainable clothing. Yep....</td>\n",
       "    </tr>\n",
       "    <tr>\n",
       "      <th>145</th>\n",
       "      <td>144</td>\n",
       "      <td>137</td>\n",
       "      <td>144_title_home_your_home title</td>\n",
       "      <td>[title, home, your, home title, your homes tit...</td>\n",
       "      <td>[Like you got to pay for the legal fees. You c...</td>\n",
       "    </tr>\n",
       "    <tr>\n",
       "      <th>146</th>\n",
       "      <td>145</td>\n",
       "      <td>137</td>\n",
       "      <td>145_military_the military_you_to</td>\n",
       "      <td>[military, the military, you, to, the, in, and...</td>\n",
       "      <td>[You can barely find me now on YouTube. You ca...</td>\n",
       "    </tr>\n",
       "    <tr>\n",
       "      <th>147</th>\n",
       "      <td>146</td>\n",
       "      <td>130</td>\n",
       "      <td>146_marriage_divorce_babylon_married</td>\n",
       "      <td>[marriage, divorce, babylon, married, babylon ...</td>\n",
       "      <td>[There is no question that younger Americans a...</td>\n",
       "    </tr>\n",
       "    <tr>\n",
       "      <th>148</th>\n",
       "      <td>147</td>\n",
       "      <td>125</td>\n",
       "      <td>147_heart_heart disease_disease_salty</td>\n",
       "      <td>[heart, heart disease, disease, salty, you abo...</td>\n",
       "      <td>[Folks, let me tell you about salty, it's a co...</td>\n",
       "    </tr>\n",
       "  </tbody>\n",
       "</table>\n",
       "<p>149 rows × 5 columns</p>\n",
       "</div>"
      ],
      "text/plain": [
       "     Topic   Count                                               Name  \\\n",
       "0       -1  190214                                  -1_the_to_and_you   \n",
       "1        0  279430                                  0_the_and_to_that   \n",
       "2        1   26837                         1_ukraine_putin_russia_the   \n",
       "3        2   19961                           2_covid_vaccine_the_that   \n",
       "4        3   16807                               3_energy_oil_gas_the   \n",
       "..     ...     ...                                                ...   \n",
       "144    143     145  143_quinton_fedex_quinton here makes_quinton very   \n",
       "145    144     137                     144_title_home_your_home title   \n",
       "146    145     137                   145_military_the military_you_to   \n",
       "147    146     130               146_marriage_divorce_babylon_married   \n",
       "148    147     125              147_heart_heart disease_disease_salty   \n",
       "\n",
       "                                        Representation  \\\n",
       "0      [the, to, and, you, of, that, in, is, it, this]   \n",
       "1      [the, and, to, that, you, of, in, is, it, this]   \n",
       "2    [ukraine, putin, russia, the, to, and, of, in,...   \n",
       "3    [covid, vaccine, the, that, and, to, of, you, ...   \n",
       "4    [energy, oil, gas, the, to, and, of, we, is, p...   \n",
       "..                                                 ...   \n",
       "144  [quinton, fedex, quinton here makes, quinton v...   \n",
       "145  [title, home, your, home title, your homes tit...   \n",
       "146  [military, the military, you, to, the, in, and...   \n",
       "147  [marriage, divorce, babylon, married, babylon ...   \n",
       "148  [heart, heart disease, disease, salty, you abo...   \n",
       "\n",
       "                                   Representative_Docs  \n",
       "0    [But the Republican leader Kevin McCarthy says...  \n",
       "1    [I can tell you exactly what you're going to s...  \n",
       "2    [Instead, it turned out that Putin went for br...  \n",
       "3    [I was going to say, when you when you look at...  \n",
       "4    [And since those are the only two factors caus...  \n",
       "..                                                 ...  \n",
       "144  [Quinton here makes sustainable clothing. Yep....  \n",
       "145  [Like you got to pay for the legal fees. You c...  \n",
       "146  [You can barely find me now on YouTube. You ca...  \n",
       "147  [There is no question that younger Americans a...  \n",
       "148  [Folks, let me tell you about salty, it's a co...  \n",
       "\n",
       "[149 rows x 5 columns]"
      ]
     },
     "execution_count": 14,
     "metadata": {},
     "output_type": "execute_result"
    }
   ],
   "source": [
    "topic_model.get_topic_info()"
   ]
  },
  {
   "cell_type": "code",
   "execution_count": 15,
   "id": "bd7b1b1a",
   "metadata": {},
   "outputs": [
    {
     "data": {
      "application/vnd.plotly.v1+json": {
       "config": {
        "plotlyServerURL": "https://plot.ly"
       },
       "data": [
        {
         "hoverinfo": "text",
         "marker": {
          "color": "rgb(61,153,112)"
         },
         "mode": "lines",
         "type": "scatter",
         "x": [
          0,
          0.40085038446721555,
          0.40085038446721555,
          0
         ],
         "xaxis": "x",
         "y": [
          -5,
          -5,
          -15,
          -15
         ],
         "yaxis": "y"
        },
        {
         "hoverinfo": "text",
         "marker": {
          "color": "rgb(61,153,112)"
         },
         "mode": "lines",
         "type": "scatter",
         "x": [
          0,
          0.8070418817645499,
          0.8070418817645499,
          0
         ],
         "xaxis": "x",
         "y": [
          -25,
          -25,
          -35,
          -35
         ],
         "yaxis": "y"
        },
        {
         "hoverinfo": "text",
         "marker": {
          "color": "rgb(61,153,112)"
         },
         "mode": "lines",
         "type": "scatter",
         "x": [
          0.8070418817645499,
          0.8157172107505035,
          0.8157172107505035,
          0
         ],
         "xaxis": "x",
         "y": [
          -30,
          -30,
          -45,
          -45
         ],
         "yaxis": "y"
        },
        {
         "hoverinfo": "text",
         "marker": {
          "color": "rgb(61,153,112)"
         },
         "mode": "lines",
         "type": "scatter",
         "x": [
          0,
          0.5450863313611134,
          0.5450863313611134,
          0
         ],
         "xaxis": "x",
         "y": [
          -75,
          -75,
          -85,
          -85
         ],
         "yaxis": "y"
        },
        {
         "hoverinfo": "text",
         "marker": {
          "color": "rgb(61,153,112)"
         },
         "mode": "lines",
         "type": "scatter",
         "x": [
          0,
          0.6194420162917426,
          0.6194420162917426,
          0.5450863313611134
         ],
         "xaxis": "x",
         "y": [
          -65,
          -65,
          -80,
          -80
         ],
         "yaxis": "y"
        },
        {
         "hoverinfo": "text",
         "marker": {
          "color": "rgb(61,153,112)"
         },
         "mode": "lines",
         "type": "scatter",
         "x": [
          0,
          0.658230119363498,
          0.658230119363498,
          0.6194420162917426
         ],
         "xaxis": "x",
         "y": [
          -55,
          -55,
          -72.5,
          -72.5
         ],
         "yaxis": "y"
        },
        {
         "hoverinfo": "text",
         "marker": {
          "color": "rgb(61,153,112)"
         },
         "mode": "lines",
         "type": "scatter",
         "x": [
          0,
          0.7187002649328634,
          0.7187002649328634,
          0
         ],
         "xaxis": "x",
         "y": [
          -95,
          -95,
          -105,
          -105
         ],
         "yaxis": "y"
        },
        {
         "hoverinfo": "text",
         "marker": {
          "color": "rgb(61,153,112)"
         },
         "mode": "lines",
         "type": "scatter",
         "x": [
          0.7187002649328634,
          0.7445660258959266,
          0.7445660258959266,
          0
         ],
         "xaxis": "x",
         "y": [
          -100,
          -100,
          -115,
          -115
         ],
         "yaxis": "y"
        },
        {
         "hoverinfo": "text",
         "marker": {
          "color": "rgb(61,153,112)"
         },
         "mode": "lines",
         "type": "scatter",
         "x": [
          0.658230119363498,
          0.7782232129380039,
          0.7782232129380039,
          0.7445660258959266
         ],
         "xaxis": "x",
         "y": [
          -63.75,
          -63.75,
          -107.5,
          -107.5
         ],
         "yaxis": "y"
        },
        {
         "hoverinfo": "text",
         "marker": {
          "color": "rgb(61,153,112)"
         },
         "mode": "lines",
         "type": "scatter",
         "x": [
          0.8157172107505035,
          0.8370598866345437,
          0.8370598866345437,
          0.7782232129380039
         ],
         "xaxis": "x",
         "y": [
          -37.5,
          -37.5,
          -85.625,
          -85.625
         ],
         "yaxis": "y"
        },
        {
         "hoverinfo": "text",
         "marker": {
          "color": "rgb(61,153,112)"
         },
         "mode": "lines",
         "type": "scatter",
         "x": [
          0,
          0.6906278399106773,
          0.6906278399106773,
          0
         ],
         "xaxis": "x",
         "y": [
          -125,
          -125,
          -135,
          -135
         ],
         "yaxis": "y"
        },
        {
         "hoverinfo": "text",
         "marker": {
          "color": "rgb(61,153,112)"
         },
         "mode": "lines",
         "type": "scatter",
         "x": [
          0,
          0.5718826633282099,
          0.5718826633282099,
          0
         ],
         "xaxis": "x",
         "y": [
          -155,
          -155,
          -165,
          -165
         ],
         "yaxis": "y"
        },
        {
         "hoverinfo": "text",
         "marker": {
          "color": "rgb(61,153,112)"
         },
         "mode": "lines",
         "type": "scatter",
         "x": [
          0,
          0.6083153567409909,
          0.6083153567409909,
          0
         ],
         "xaxis": "x",
         "y": [
          -175,
          -175,
          -185,
          -185
         ],
         "yaxis": "y"
        },
        {
         "hoverinfo": "text",
         "marker": {
          "color": "rgb(61,153,112)"
         },
         "mode": "lines",
         "type": "scatter",
         "x": [
          0,
          0.549531952948132,
          0.549531952948132,
          0
         ],
         "xaxis": "x",
         "y": [
          -215,
          -215,
          -225,
          -225
         ],
         "yaxis": "y"
        },
        {
         "hoverinfo": "text",
         "marker": {
          "color": "rgb(61,153,112)"
         },
         "mode": "lines",
         "type": "scatter",
         "x": [
          0,
          0.5616176588254161,
          0.5616176588254161,
          0.549531952948132
         ],
         "xaxis": "x",
         "y": [
          -205,
          -205,
          -220,
          -220
         ],
         "yaxis": "y"
        },
        {
         "hoverinfo": "text",
         "marker": {
          "color": "rgb(61,153,112)"
         },
         "mode": "lines",
         "type": "scatter",
         "x": [
          0,
          0.12812746479509252,
          0.12812746479509252,
          0
         ],
         "xaxis": "x",
         "y": [
          -305,
          -305,
          -315,
          -315
         ],
         "yaxis": "y"
        },
        {
         "hoverinfo": "text",
         "marker": {
          "color": "rgb(61,153,112)"
         },
         "mode": "lines",
         "type": "scatter",
         "x": [
          0,
          0.2300680485436977,
          0.2300680485436977,
          0.12812746479509252
         ],
         "xaxis": "x",
         "y": [
          -295,
          -295,
          -310,
          -310
         ],
         "yaxis": "y"
        },
        {
         "hoverinfo": "text",
         "marker": {
          "color": "rgb(61,153,112)"
         },
         "mode": "lines",
         "type": "scatter",
         "x": [
          0,
          0.2783595307500272,
          0.2783595307500272,
          0.2300680485436977
         ],
         "xaxis": "x",
         "y": [
          -285,
          -285,
          -302.5,
          -302.5
         ],
         "yaxis": "y"
        },
        {
         "hoverinfo": "text",
         "marker": {
          "color": "rgb(61,153,112)"
         },
         "mode": "lines",
         "type": "scatter",
         "x": [
          0.2783595307500272,
          0.3155533155937312,
          0.3155533155937312,
          0
         ],
         "xaxis": "x",
         "y": [
          -293.75,
          -293.75,
          -325,
          -325
         ],
         "yaxis": "y"
        },
        {
         "hoverinfo": "text",
         "marker": {
          "color": "rgb(61,153,112)"
         },
         "mode": "lines",
         "type": "scatter",
         "x": [
          0,
          0.34173059294290425,
          0.34173059294290425,
          0.3155533155937312
         ],
         "xaxis": "x",
         "y": [
          -275,
          -275,
          -309.375,
          -309.375
         ],
         "yaxis": "y"
        },
        {
         "hoverinfo": "text",
         "marker": {
          "color": "rgb(61,153,112)"
         },
         "mode": "lines",
         "type": "scatter",
         "x": [
          0,
          0.41171636361012465,
          0.41171636361012465,
          0.34173059294290425
         ],
         "xaxis": "x",
         "y": [
          -265,
          -265,
          -292.1875,
          -292.1875
         ],
         "yaxis": "y"
        },
        {
         "hoverinfo": "text",
         "marker": {
          "color": "rgb(61,153,112)"
         },
         "mode": "lines",
         "type": "scatter",
         "x": [
          0.41171636361012465,
          0.42596229569209015,
          0.42596229569209015,
          0
         ],
         "xaxis": "x",
         "y": [
          -278.59375,
          -278.59375,
          -335,
          -335
         ],
         "yaxis": "y"
        },
        {
         "hoverinfo": "text",
         "marker": {
          "color": "rgb(61,153,112)"
         },
         "mode": "lines",
         "type": "scatter",
         "x": [
          0,
          0.4466976317674118,
          0.4466976317674118,
          0.42596229569209015
         ],
         "xaxis": "x",
         "y": [
          -255,
          -255,
          -306.796875,
          -306.796875
         ],
         "yaxis": "y"
        },
        {
         "hoverinfo": "text",
         "marker": {
          "color": "rgb(61,153,112)"
         },
         "mode": "lines",
         "type": "scatter",
         "x": [
          0,
          0.46729976825465597,
          0.46729976825465597,
          0.4466976317674118
         ],
         "xaxis": "x",
         "y": [
          -245,
          -245,
          -280.8984375,
          -280.8984375
         ],
         "yaxis": "y"
        },
        {
         "hoverinfo": "text",
         "marker": {
          "color": "rgb(61,153,112)"
         },
         "mode": "lines",
         "type": "scatter",
         "x": [
          0.46729976825465597,
          0.48526660876121086,
          0.48526660876121086,
          0
         ],
         "xaxis": "x",
         "y": [
          -262.94921875,
          -262.94921875,
          -345,
          -345
         ],
         "yaxis": "y"
        },
        {
         "hoverinfo": "text",
         "marker": {
          "color": "rgb(61,153,112)"
         },
         "mode": "lines",
         "type": "scatter",
         "x": [
          0,
          0.2729165400719733,
          0.2729165400719733,
          0
         ],
         "xaxis": "x",
         "y": [
          -365,
          -365,
          -375,
          -375
         ],
         "yaxis": "y"
        },
        {
         "hoverinfo": "text",
         "marker": {
          "color": "rgb(61,153,112)"
         },
         "mode": "lines",
         "type": "scatter",
         "x": [
          0,
          0.34414815022800954,
          0.34414815022800954,
          0.2729165400719733
         ],
         "xaxis": "x",
         "y": [
          -355,
          -355,
          -370,
          -370
         ],
         "yaxis": "y"
        },
        {
         "hoverinfo": "text",
         "marker": {
          "color": "rgb(61,153,112)"
         },
         "mode": "lines",
         "type": "scatter",
         "x": [
          0,
          0.2089960250130034,
          0.2089960250130034,
          0
         ],
         "xaxis": "x",
         "y": [
          -385,
          -385,
          -395,
          -395
         ],
         "yaxis": "y"
        },
        {
         "hoverinfo": "text",
         "marker": {
          "color": "rgb(61,153,112)"
         },
         "mode": "lines",
         "type": "scatter",
         "x": [
          0.2089960250130034,
          0.3120815783348082,
          0.3120815783348082,
          0
         ],
         "xaxis": "x",
         "y": [
          -390,
          -390,
          -405,
          -405
         ],
         "yaxis": "y"
        },
        {
         "hoverinfo": "text",
         "marker": {
          "color": "rgb(61,153,112)"
         },
         "mode": "lines",
         "type": "scatter",
         "x": [
          0.34414815022800954,
          0.38312318918350624,
          0.38312318918350624,
          0.3120815783348082
         ],
         "xaxis": "x",
         "y": [
          -362.5,
          -362.5,
          -397.5,
          -397.5
         ],
         "yaxis": "y"
        },
        {
         "hoverinfo": "text",
         "marker": {
          "color": "rgb(61,153,112)"
         },
         "mode": "lines",
         "type": "scatter",
         "x": [
          0.38312318918350624,
          0.46822538946326137,
          0.46822538946326137,
          0
         ],
         "xaxis": "x",
         "y": [
          -380,
          -380,
          -415,
          -415
         ],
         "yaxis": "y"
        },
        {
         "hoverinfo": "text",
         "marker": {
          "color": "rgb(61,153,112)"
         },
         "mode": "lines",
         "type": "scatter",
         "x": [
          0.48526660876121086,
          0.5203774095779494,
          0.5203774095779494,
          0.46822538946326137
         ],
         "xaxis": "x",
         "y": [
          -303.974609375,
          -303.974609375,
          -397.5,
          -397.5
         ],
         "yaxis": "y"
        },
        {
         "hoverinfo": "text",
         "marker": {
          "color": "rgb(61,153,112)"
         },
         "mode": "lines",
         "type": "scatter",
         "x": [
          0.5203774095779494,
          0.5242733471504819,
          0.5242733471504819,
          0
         ],
         "xaxis": "x",
         "y": [
          -350.7373046875,
          -350.7373046875,
          -425,
          -425
         ],
         "yaxis": "y"
        },
        {
         "hoverinfo": "text",
         "marker": {
          "color": "rgb(61,153,112)"
         },
         "mode": "lines",
         "type": "scatter",
         "x": [
          0,
          0.5426573780986328,
          0.5426573780986328,
          0.5242733471504819
         ],
         "xaxis": "x",
         "y": [
          -235,
          -235,
          -387.86865234375,
          -387.86865234375
         ],
         "yaxis": "y"
        },
        {
         "hoverinfo": "text",
         "marker": {
          "color": "rgb(61,153,112)"
         },
         "mode": "lines",
         "type": "scatter",
         "x": [
          0.5426573780986328,
          0.5487815484846171,
          0.5487815484846171,
          0
         ],
         "xaxis": "x",
         "y": [
          -311.434326171875,
          -311.434326171875,
          -435,
          -435
         ],
         "yaxis": "y"
        },
        {
         "hoverinfo": "text",
         "marker": {
          "color": "rgb(61,153,112)"
         },
         "mode": "lines",
         "type": "scatter",
         "x": [
          0.5616176588254161,
          0.5806401529939066,
          0.5806401529939066,
          0.5487815484846171
         ],
         "xaxis": "x",
         "y": [
          -212.5,
          -212.5,
          -373.2171630859375,
          -373.2171630859375
         ],
         "yaxis": "y"
        },
        {
         "hoverinfo": "text",
         "marker": {
          "color": "rgb(61,153,112)"
         },
         "mode": "lines",
         "type": "scatter",
         "x": [
          0,
          0.5836822668074844,
          0.5836822668074844,
          0.5806401529939066
         ],
         "xaxis": "x",
         "y": [
          -195,
          -195,
          -292.85858154296875,
          -292.85858154296875
         ],
         "yaxis": "y"
        },
        {
         "hoverinfo": "text",
         "marker": {
          "color": "rgb(61,153,112)"
         },
         "mode": "lines",
         "type": "scatter",
         "x": [
          0.5836822668074844,
          0.6129203901737228,
          0.6129203901737228,
          0
         ],
         "xaxis": "x",
         "y": [
          -243.92929077148438,
          -243.92929077148438,
          -445,
          -445
         ],
         "yaxis": "y"
        },
        {
         "hoverinfo": "text",
         "marker": {
          "color": "rgb(61,153,112)"
         },
         "mode": "lines",
         "type": "scatter",
         "x": [
          0.6083153567409909,
          0.614016289542454,
          0.614016289542454,
          0.6129203901737228
         ],
         "xaxis": "x",
         "y": [
          -180,
          -180,
          -344.4646453857422,
          -344.4646453857422
         ],
         "yaxis": "y"
        },
        {
         "hoverinfo": "text",
         "marker": {
          "color": "rgb(61,153,112)"
         },
         "mode": "lines",
         "type": "scatter",
         "x": [
          0.5718826633282099,
          0.6269808043407207,
          0.6269808043407207,
          0.614016289542454
         ],
         "xaxis": "x",
         "y": [
          -160,
          -160,
          -262.2323226928711,
          -262.2323226928711
         ],
         "yaxis": "y"
        },
        {
         "hoverinfo": "text",
         "marker": {
          "color": "rgb(61,153,112)"
         },
         "mode": "lines",
         "type": "scatter",
         "x": [
          0,
          0.6701765142878318,
          0.6701765142878318,
          0.6269808043407207
         ],
         "xaxis": "x",
         "y": [
          -145,
          -145,
          -211.11616134643555,
          -211.11616134643555
         ],
         "yaxis": "y"
        },
        {
         "hoverinfo": "text",
         "marker": {
          "color": "rgb(61,153,112)"
         },
         "mode": "lines",
         "type": "scatter",
         "x": [
          0,
          0.6699464455694877,
          0.6699464455694877,
          0
         ],
         "xaxis": "x",
         "y": [
          -455,
          -455,
          -465,
          -465
         ],
         "yaxis": "y"
        },
        {
         "hoverinfo": "text",
         "marker": {
          "color": "rgb(61,153,112)"
         },
         "mode": "lines",
         "type": "scatter",
         "x": [
          0.6701765142878318,
          0.7009451745111591,
          0.7009451745111591,
          0.6699464455694877
         ],
         "xaxis": "x",
         "y": [
          -178.05808067321777,
          -178.05808067321777,
          -460,
          -460
         ],
         "yaxis": "y"
        },
        {
         "hoverinfo": "text",
         "marker": {
          "color": "rgb(61,153,112)"
         },
         "mode": "lines",
         "type": "scatter",
         "x": [
          0.6906278399106773,
          0.7631379999890212,
          0.7631379999890212,
          0.7009451745111591
         ],
         "xaxis": "x",
         "y": [
          -130,
          -130,
          -319.0290403366089,
          -319.0290403366089
         ],
         "yaxis": "y"
        },
        {
         "hoverinfo": "text",
         "marker": {
          "color": "rgb(61,153,112)"
         },
         "mode": "lines",
         "type": "scatter",
         "x": [
          0,
          0.311051160921218,
          0.311051160921218,
          0
         ],
         "xaxis": "x",
         "y": [
          -485,
          -485,
          -495,
          -495
         ],
         "yaxis": "y"
        },
        {
         "hoverinfo": "text",
         "marker": {
          "color": "rgb(61,153,112)"
         },
         "mode": "lines",
         "type": "scatter",
         "x": [
          0,
          0.527469005761505,
          0.527469005761505,
          0.311051160921218
         ],
         "xaxis": "x",
         "y": [
          -475,
          -475,
          -490,
          -490
         ],
         "yaxis": "y"
        },
        {
         "hoverinfo": "text",
         "marker": {
          "color": "rgb(61,153,112)"
         },
         "mode": "lines",
         "type": "scatter",
         "x": [
          0.527469005761505,
          0.6248015234505273,
          0.6248015234505273,
          0
         ],
         "xaxis": "x",
         "y": [
          -482.5,
          -482.5,
          -505,
          -505
         ],
         "yaxis": "y"
        },
        {
         "hoverinfo": "text",
         "marker": {
          "color": "rgb(61,153,112)"
         },
         "mode": "lines",
         "type": "scatter",
         "x": [
          0,
          0.49811654104652403,
          0.49811654104652403,
          0
         ],
         "xaxis": "x",
         "y": [
          -515,
          -515,
          -525,
          -525
         ],
         "yaxis": "y"
        },
        {
         "hoverinfo": "text",
         "marker": {
          "color": "rgb(61,153,112)"
         },
         "mode": "lines",
         "type": "scatter",
         "x": [
          0.6248015234505273,
          0.7274411650717802,
          0.7274411650717802,
          0.49811654104652403
         ],
         "xaxis": "x",
         "y": [
          -493.75,
          -493.75,
          -520,
          -520
         ],
         "yaxis": "y"
        },
        {
         "hoverinfo": "text",
         "marker": {
          "color": "rgb(61,153,112)"
         },
         "mode": "lines",
         "type": "scatter",
         "x": [
          0.7274411650717802,
          0.8129466067160354,
          0.8129466067160354,
          0
         ],
         "xaxis": "x",
         "y": [
          -506.875,
          -506.875,
          -535,
          -535
         ],
         "yaxis": "y"
        },
        {
         "hoverinfo": "text",
         "marker": {
          "color": "rgb(61,153,112)"
         },
         "mode": "lines",
         "type": "scatter",
         "x": [
          0.7631379999890212,
          0.8755534153592536,
          0.8755534153592536,
          0.8129466067160354
         ],
         "xaxis": "x",
         "y": [
          -224.51452016830444,
          -224.51452016830444,
          -520.9375,
          -520.9375
         ],
         "yaxis": "y"
        },
        {
         "hoverinfo": "text",
         "marker": {
          "color": "rgb(61,153,112)"
         },
         "mode": "lines",
         "type": "scatter",
         "x": [
          0.8370598866345437,
          0.9177413807692615,
          0.9177413807692615,
          0.8755534153592536
         ],
         "xaxis": "x",
         "y": [
          -61.5625,
          -61.5625,
          -372.7260100841522,
          -372.7260100841522
         ],
         "yaxis": "y"
        },
        {
         "hoverinfo": "text",
         "marker": {
          "color": "rgb(61,153,112)"
         },
         "mode": "lines",
         "type": "scatter",
         "x": [
          0,
          0.6348553030284398,
          0.6348553030284398,
          0
         ],
         "xaxis": "x",
         "y": [
          -545,
          -545,
          -555,
          -555
         ],
         "yaxis": "y"
        },
        {
         "hoverinfo": "text",
         "marker": {
          "color": "rgb(61,153,112)"
         },
         "mode": "lines",
         "type": "scatter",
         "x": [
          0,
          0.7118017857652033,
          0.7118017857652033,
          0
         ],
         "xaxis": "x",
         "y": [
          -565,
          -565,
          -575,
          -575
         ],
         "yaxis": "y"
        },
        {
         "hoverinfo": "text",
         "marker": {
          "color": "rgb(61,153,112)"
         },
         "mode": "lines",
         "type": "scatter",
         "x": [
          0,
          0.5788964547070931,
          0.5788964547070931,
          0
         ],
         "xaxis": "x",
         "y": [
          -615,
          -615,
          -625,
          -625
         ],
         "yaxis": "y"
        },
        {
         "hoverinfo": "text",
         "marker": {
          "color": "rgb(61,153,112)"
         },
         "mode": "lines",
         "type": "scatter",
         "x": [
          0,
          0.616266936175881,
          0.616266936175881,
          0.5788964547070931
         ],
         "xaxis": "x",
         "y": [
          -605,
          -605,
          -620,
          -620
         ],
         "yaxis": "y"
        },
        {
         "hoverinfo": "text",
         "marker": {
          "color": "rgb(61,153,112)"
         },
         "mode": "lines",
         "type": "scatter",
         "x": [
          0,
          0.688958286985769,
          0.688958286985769,
          0
         ],
         "xaxis": "x",
         "y": [
          -635,
          -635,
          -645,
          -645
         ],
         "yaxis": "y"
        },
        {
         "hoverinfo": "text",
         "marker": {
          "color": "rgb(61,153,112)"
         },
         "mode": "lines",
         "type": "scatter",
         "x": [
          0.616266936175881,
          0.6950431674178845,
          0.6950431674178845,
          0.688958286985769
         ],
         "xaxis": "x",
         "y": [
          -612.5,
          -612.5,
          -640,
          -640
         ],
         "yaxis": "y"
        },
        {
         "hoverinfo": "text",
         "marker": {
          "color": "rgb(61,153,112)"
         },
         "mode": "lines",
         "type": "scatter",
         "x": [
          0,
          0.7176857779983618,
          0.7176857779983618,
          0.6950431674178845
         ],
         "xaxis": "x",
         "y": [
          -595,
          -595,
          -626.25,
          -626.25
         ],
         "yaxis": "y"
        },
        {
         "hoverinfo": "text",
         "marker": {
          "color": "rgb(61,153,112)"
         },
         "mode": "lines",
         "type": "scatter",
         "x": [
          0,
          0.6558033055886222,
          0.6558033055886222,
          0
         ],
         "xaxis": "x",
         "y": [
          -655,
          -655,
          -665,
          -665
         ],
         "yaxis": "y"
        },
        {
         "hoverinfo": "text",
         "marker": {
          "color": "rgb(61,153,112)"
         },
         "mode": "lines",
         "type": "scatter",
         "x": [
          0.7176857779983618,
          0.7757524641876036,
          0.7757524641876036,
          0.6558033055886222
         ],
         "xaxis": "x",
         "y": [
          -610.625,
          -610.625,
          -660,
          -660
         ],
         "yaxis": "y"
        },
        {
         "hoverinfo": "text",
         "marker": {
          "color": "rgb(61,153,112)"
         },
         "mode": "lines",
         "type": "scatter",
         "x": [
          0,
          0.7890701910759691,
          0.7890701910759691,
          0.7757524641876036
         ],
         "xaxis": "x",
         "y": [
          -585,
          -585,
          -635.3125,
          -635.3125
         ],
         "yaxis": "y"
        },
        {
         "hoverinfo": "text",
         "marker": {
          "color": "rgb(61,153,112)"
         },
         "mode": "lines",
         "type": "scatter",
         "x": [
          0,
          0.7151097130509043,
          0.7151097130509043,
          0
         ],
         "xaxis": "x",
         "y": [
          -675,
          -675,
          -685,
          -685
         ],
         "yaxis": "y"
        },
        {
         "hoverinfo": "text",
         "marker": {
          "color": "rgb(61,153,112)"
         },
         "mode": "lines",
         "type": "scatter",
         "x": [
          0,
          0.7057117997042475,
          0.7057117997042475,
          0
         ],
         "xaxis": "x",
         "y": [
          -695,
          -695,
          -705,
          -705
         ],
         "yaxis": "y"
        },
        {
         "hoverinfo": "text",
         "marker": {
          "color": "rgb(61,153,112)"
         },
         "mode": "lines",
         "type": "scatter",
         "x": [
          0.7057117997042475,
          0.7387813540312688,
          0.7387813540312688,
          0
         ],
         "xaxis": "x",
         "y": [
          -700,
          -700,
          -715,
          -715
         ],
         "yaxis": "y"
        },
        {
         "hoverinfo": "text",
         "marker": {
          "color": "rgb(61,153,112)"
         },
         "mode": "lines",
         "type": "scatter",
         "x": [
          0.7151097130509043,
          0.7821648813429154,
          0.7821648813429154,
          0.7387813540312688
         ],
         "xaxis": "x",
         "y": [
          -680,
          -680,
          -707.5,
          -707.5
         ],
         "yaxis": "y"
        },
        {
         "hoverinfo": "text",
         "marker": {
          "color": "rgb(61,153,112)"
         },
         "mode": "lines",
         "type": "scatter",
         "x": [
          0.7821648813429154,
          0.7932251890104436,
          0.7932251890104436,
          0
         ],
         "xaxis": "x",
         "y": [
          -693.75,
          -693.75,
          -725,
          -725
         ],
         "yaxis": "y"
        },
        {
         "hoverinfo": "text",
         "marker": {
          "color": "rgb(61,153,112)"
         },
         "mode": "lines",
         "type": "scatter",
         "x": [
          0.7890701910759691,
          0.8073189983724028,
          0.8073189983724028,
          0.7932251890104436
         ],
         "xaxis": "x",
         "y": [
          -610.15625,
          -610.15625,
          -709.375,
          -709.375
         ],
         "yaxis": "y"
        },
        {
         "hoverinfo": "text",
         "marker": {
          "color": "rgb(61,153,112)"
         },
         "mode": "lines",
         "type": "scatter",
         "x": [
          0.7118017857652033,
          0.8196642655074492,
          0.8196642655074492,
          0.8073189983724028
         ],
         "xaxis": "x",
         "y": [
          -570,
          -570,
          -659.765625,
          -659.765625
         ],
         "yaxis": "y"
        },
        {
         "hoverinfo": "text",
         "marker": {
          "color": "rgb(61,153,112)"
         },
         "mode": "lines",
         "type": "scatter",
         "x": [
          0,
          0.6377608249209133,
          0.6377608249209133,
          0
         ],
         "xaxis": "x",
         "y": [
          -745,
          -745,
          -755,
          -755
         ],
         "yaxis": "y"
        },
        {
         "hoverinfo": "text",
         "marker": {
          "color": "rgb(61,153,112)"
         },
         "mode": "lines",
         "type": "scatter",
         "x": [
          0,
          0.7190138914178258,
          0.7190138914178258,
          0.6377608249209133
         ],
         "xaxis": "x",
         "y": [
          -735,
          -735,
          -750,
          -750
         ],
         "yaxis": "y"
        },
        {
         "hoverinfo": "text",
         "marker": {
          "color": "rgb(61,153,112)"
         },
         "mode": "lines",
         "type": "scatter",
         "x": [
          0.8196642655074492,
          0.8272287405720646,
          0.8272287405720646,
          0.7190138914178258
         ],
         "xaxis": "x",
         "y": [
          -614.8828125,
          -614.8828125,
          -742.5,
          -742.5
         ],
         "yaxis": "y"
        },
        {
         "hoverinfo": "text",
         "marker": {
          "color": "rgb(61,153,112)"
         },
         "mode": "lines",
         "type": "scatter",
         "x": [
          0,
          0.8212880053454226,
          0.8212880053454226,
          0
         ],
         "xaxis": "x",
         "y": [
          -765,
          -765,
          -775,
          -775
         ],
         "yaxis": "y"
        },
        {
         "hoverinfo": "text",
         "marker": {
          "color": "rgb(61,153,112)"
         },
         "mode": "lines",
         "type": "scatter",
         "x": [
          0.8272287405720646,
          0.8338479192017733,
          0.8338479192017733,
          0.8212880053454226
         ],
         "xaxis": "x",
         "y": [
          -678.69140625,
          -678.69140625,
          -770,
          -770
         ],
         "yaxis": "y"
        },
        {
         "hoverinfo": "text",
         "marker": {
          "color": "rgb(61,153,112)"
         },
         "mode": "lines",
         "type": "scatter",
         "x": [
          0.6348553030284398,
          0.8510455632660068,
          0.8510455632660068,
          0.8338479192017733
         ],
         "xaxis": "x",
         "y": [
          -550,
          -550,
          -724.345703125,
          -724.345703125
         ],
         "yaxis": "y"
        },
        {
         "hoverinfo": "text",
         "marker": {
          "color": "rgb(61,153,112)"
         },
         "mode": "lines",
         "type": "scatter",
         "x": [
          0.9177413807692615,
          0.9224717087218649,
          0.9224717087218649,
          0.8510455632660068
         ],
         "xaxis": "x",
         "y": [
          -217.1442550420761,
          -217.1442550420761,
          -637.1728515625,
          -637.1728515625
         ],
         "yaxis": "y"
        },
        {
         "hoverinfo": "text",
         "marker": {
          "color": "rgb(61,153,112)"
         },
         "mode": "lines",
         "type": "scatter",
         "x": [
          0.40085038446721555,
          0.963484047550437,
          0.963484047550437,
          0.9224717087218649
         ],
         "xaxis": "x",
         "y": [
          -10,
          -10,
          -427.15855330228806,
          -427.15855330228806
         ],
         "yaxis": "y"
        },
        {
         "hoverinfo": "text",
         "marker": {
          "color": "rgb(255,65,54)"
         },
         "mode": "lines",
         "type": "scatter",
         "x": [
          0,
          0.6044694075304204,
          0.6044694075304204,
          0
         ],
         "xaxis": "x",
         "y": [
          -785,
          -785,
          -795,
          -795
         ],
         "yaxis": "y"
        },
        {
         "hoverinfo": "text",
         "marker": {
          "color": "rgb(35,205,205)"
         },
         "mode": "lines",
         "type": "scatter",
         "x": [
          0,
          0.5316691946980077,
          0.5316691946980077,
          0
         ],
         "xaxis": "x",
         "y": [
          -815,
          -815,
          -825,
          -825
         ],
         "yaxis": "y"
        },
        {
         "hoverinfo": "text",
         "marker": {
          "color": "rgb(35,205,205)"
         },
         "mode": "lines",
         "type": "scatter",
         "x": [
          0,
          0.749319547450558,
          0.749319547450558,
          0.5316691946980077
         ],
         "xaxis": "x",
         "y": [
          -805,
          -805,
          -820,
          -820
         ],
         "yaxis": "y"
        },
        {
         "hoverinfo": "text",
         "marker": {
          "color": "rgb(35,205,205)"
         },
         "mode": "lines",
         "type": "scatter",
         "x": [
          0,
          0.4592728124987945,
          0.4592728124987945,
          0
         ],
         "xaxis": "x",
         "y": [
          -845,
          -845,
          -855,
          -855
         ],
         "yaxis": "y"
        },
        {
         "hoverinfo": "text",
         "marker": {
          "color": "rgb(35,205,205)"
         },
         "mode": "lines",
         "type": "scatter",
         "x": [
          0,
          0.5779757470424326,
          0.5779757470424326,
          0.4592728124987945
         ],
         "xaxis": "x",
         "y": [
          -835,
          -835,
          -850,
          -850
         ],
         "yaxis": "y"
        },
        {
         "hoverinfo": "text",
         "marker": {
          "color": "rgb(35,205,205)"
         },
         "mode": "lines",
         "type": "scatter",
         "x": [
          0,
          0.6683768594387216,
          0.6683768594387216,
          0
         ],
         "xaxis": "x",
         "y": [
          -865,
          -865,
          -875,
          -875
         ],
         "yaxis": "y"
        },
        {
         "hoverinfo": "text",
         "marker": {
          "color": "rgb(35,205,205)"
         },
         "mode": "lines",
         "type": "scatter",
         "x": [
          0.5779757470424326,
          0.762793641767023,
          0.762793641767023,
          0.6683768594387216
         ],
         "xaxis": "x",
         "y": [
          -842.5,
          -842.5,
          -870,
          -870
         ],
         "yaxis": "y"
        },
        {
         "hoverinfo": "text",
         "marker": {
          "color": "rgb(35,205,205)"
         },
         "mode": "lines",
         "type": "scatter",
         "x": [
          0.749319547450558,
          0.8101645252011289,
          0.8101645252011289,
          0.762793641767023
         ],
         "xaxis": "x",
         "y": [
          -812.5,
          -812.5,
          -856.25,
          -856.25
         ],
         "yaxis": "y"
        },
        {
         "hoverinfo": "text",
         "marker": {
          "color": "rgb(35,205,205)"
         },
         "mode": "lines",
         "type": "scatter",
         "x": [
          0,
          0.7574770976870894,
          0.7574770976870894,
          0
         ],
         "xaxis": "x",
         "y": [
          -885,
          -885,
          -895,
          -895
         ],
         "yaxis": "y"
        },
        {
         "hoverinfo": "text",
         "marker": {
          "color": "rgb(35,205,205)"
         },
         "mode": "lines",
         "type": "scatter",
         "x": [
          0,
          0.848229647482109,
          0.848229647482109,
          0
         ],
         "xaxis": "x",
         "y": [
          -915,
          -915,
          -925,
          -925
         ],
         "yaxis": "y"
        },
        {
         "hoverinfo": "text",
         "marker": {
          "color": "rgb(35,205,205)"
         },
         "mode": "lines",
         "type": "scatter",
         "x": [
          0,
          0.8685202473753483,
          0.8685202473753483,
          0.848229647482109
         ],
         "xaxis": "x",
         "y": [
          -905,
          -905,
          -920,
          -920
         ],
         "yaxis": "y"
        },
        {
         "hoverinfo": "text",
         "marker": {
          "color": "rgb(35,205,205)"
         },
         "mode": "lines",
         "type": "scatter",
         "x": [
          0.8685202473753483,
          0.8808437406067502,
          0.8808437406067502,
          0
         ],
         "xaxis": "x",
         "y": [
          -912.5,
          -912.5,
          -935,
          -935
         ],
         "yaxis": "y"
        },
        {
         "hoverinfo": "text",
         "marker": {
          "color": "rgb(35,205,205)"
         },
         "mode": "lines",
         "type": "scatter",
         "x": [
          0.7574770976870894,
          0.8914247539030441,
          0.8914247539030441,
          0.8808437406067502
         ],
         "xaxis": "x",
         "y": [
          -890,
          -890,
          -923.75,
          -923.75
         ],
         "yaxis": "y"
        },
        {
         "hoverinfo": "text",
         "marker": {
          "color": "rgb(35,205,205)"
         },
         "mode": "lines",
         "type": "scatter",
         "x": [
          0.8101645252011289,
          0.9548368741813357,
          0.9548368741813357,
          0.8914247539030441
         ],
         "xaxis": "x",
         "y": [
          -834.375,
          -834.375,
          -906.875,
          -906.875
         ],
         "yaxis": "y"
        },
        {
         "hoverinfo": "text",
         "marker": {
          "color": "rgb(0,116,217)"
         },
         "mode": "lines",
         "type": "scatter",
         "x": [
          0.6044694075304204,
          1.0167844609449688,
          1.0167844609449688,
          0.9548368741813357
         ],
         "xaxis": "x",
         "y": [
          -790,
          -790,
          -870.625,
          -870.625
         ],
         "yaxis": "y"
        },
        {
         "hoverinfo": "text",
         "marker": {
          "color": "rgb(0,116,217)"
         },
         "mode": "lines",
         "type": "scatter",
         "x": [
          0.963484047550437,
          1.1112219629286053,
          1.1112219629286053,
          1.0167844609449688
         ],
         "xaxis": "x",
         "y": [
          -218.57927665114403,
          -218.57927665114403,
          -830.3125,
          -830.3125
         ],
         "yaxis": "y"
        },
        {
         "hoverinfo": "text",
         "marker": {
          "color": "rgb(133,20,75)"
         },
         "mode": "lines",
         "type": "scatter",
         "x": [
          0,
          0.48147800093833615,
          0.48147800093833615,
          0
         ],
         "xaxis": "x",
         "y": [
          -945,
          -945,
          -955,
          -955
         ],
         "yaxis": "y"
        },
        {
         "hoverinfo": "text",
         "marker": {
          "color": "rgb(255,220,0)"
         },
         "mode": "lines",
         "type": "scatter",
         "x": [
          0,
          0.6814742506199771,
          0.6814742506199771,
          0
         ],
         "xaxis": "x",
         "y": [
          -975,
          -975,
          -985,
          -985
         ],
         "yaxis": "y"
        },
        {
         "hoverinfo": "text",
         "marker": {
          "color": "rgb(255,220,0)"
         },
         "mode": "lines",
         "type": "scatter",
         "x": [
          0,
          0.9581573366792556,
          0.9581573366792556,
          0.6814742506199771
         ],
         "xaxis": "x",
         "y": [
          -965,
          -965,
          -980,
          -980
         ],
         "yaxis": "y"
        },
        {
         "hoverinfo": "text",
         "marker": {
          "color": "rgb(40,35,35)"
         },
         "mode": "lines",
         "type": "scatter",
         "x": [
          0,
          0.8834306563962061,
          0.8834306563962061,
          0
         ],
         "xaxis": "x",
         "y": [
          -1015,
          -1015,
          -1025,
          -1025
         ],
         "yaxis": "y"
        },
        {
         "hoverinfo": "text",
         "marker": {
          "color": "rgb(40,35,35)"
         },
         "mode": "lines",
         "type": "scatter",
         "x": [
          0,
          0.9381368380958042,
          0.9381368380958042,
          0.8834306563962061
         ],
         "xaxis": "x",
         "y": [
          -1005,
          -1005,
          -1020,
          -1020
         ],
         "yaxis": "y"
        },
        {
         "hoverinfo": "text",
         "marker": {
          "color": "rgb(40,35,35)"
         },
         "mode": "lines",
         "type": "scatter",
         "x": [
          0.9381368380958042,
          0.9437847949034673,
          0.9437847949034673,
          0
         ],
         "xaxis": "x",
         "y": [
          -1012.5,
          -1012.5,
          -1035,
          -1035
         ],
         "yaxis": "y"
        },
        {
         "hoverinfo": "text",
         "marker": {
          "color": "rgb(40,35,35)"
         },
         "mode": "lines",
         "type": "scatter",
         "x": [
          0.9437847949034673,
          0.9552468991904601,
          0.9552468991904601,
          0
         ],
         "xaxis": "x",
         "y": [
          -1023.75,
          -1023.75,
          -1045,
          -1045
         ],
         "yaxis": "y"
        },
        {
         "hoverinfo": "text",
         "marker": {
          "color": "rgb(40,35,35)"
         },
         "mode": "lines",
         "type": "scatter",
         "x": [
          0,
          0.9628365743412385,
          0.9628365743412385,
          0.9552468991904601
         ],
         "xaxis": "x",
         "y": [
          -995,
          -995,
          -1034.375,
          -1034.375
         ],
         "yaxis": "y"
        },
        {
         "hoverinfo": "text",
         "marker": {
          "color": "rgb(40,35,35)"
         },
         "mode": "lines",
         "type": "scatter",
         "x": [
          0.9628365743412385,
          0.9919791279841241,
          0.9919791279841241,
          0
         ],
         "xaxis": "x",
         "y": [
          -1014.6875,
          -1014.6875,
          -1055,
          -1055
         ],
         "yaxis": "y"
        },
        {
         "hoverinfo": "text",
         "marker": {
          "color": "rgb(61,153,112)"
         },
         "mode": "lines",
         "type": "scatter",
         "x": [
          0,
          0.7570893674638453,
          0.7570893674638453,
          0
         ],
         "xaxis": "x",
         "y": [
          -1065,
          -1065,
          -1075,
          -1075
         ],
         "yaxis": "y"
        },
        {
         "hoverinfo": "text",
         "marker": {
          "color": "rgb(61,153,112)"
         },
         "mode": "lines",
         "type": "scatter",
         "x": [
          0.7570893674638453,
          0.8407589295537782,
          0.8407589295537782,
          0
         ],
         "xaxis": "x",
         "y": [
          -1070,
          -1070,
          -1085,
          -1085
         ],
         "yaxis": "y"
        },
        {
         "hoverinfo": "text",
         "marker": {
          "color": "rgb(61,153,112)"
         },
         "mode": "lines",
         "type": "scatter",
         "x": [
          0,
          0.8433451862882165,
          0.8433451862882165,
          0
         ],
         "xaxis": "x",
         "y": [
          -1095,
          -1095,
          -1105,
          -1105
         ],
         "yaxis": "y"
        },
        {
         "hoverinfo": "text",
         "marker": {
          "color": "rgb(61,153,112)"
         },
         "mode": "lines",
         "type": "scatter",
         "x": [
          0,
          0.9124015444165515,
          0.9124015444165515,
          0
         ],
         "xaxis": "x",
         "y": [
          -1115,
          -1115,
          -1125,
          -1125
         ],
         "yaxis": "y"
        },
        {
         "hoverinfo": "text",
         "marker": {
          "color": "rgb(61,153,112)"
         },
         "mode": "lines",
         "type": "scatter",
         "x": [
          0.8433451862882165,
          0.9479243264582041,
          0.9479243264582041,
          0.9124015444165515
         ],
         "xaxis": "x",
         "y": [
          -1100,
          -1100,
          -1120,
          -1120
         ],
         "yaxis": "y"
        },
        {
         "hoverinfo": "text",
         "marker": {
          "color": "rgb(61,153,112)"
         },
         "mode": "lines",
         "type": "scatter",
         "x": [
          0.8407589295537782,
          0.9719383247478495,
          0.9719383247478495,
          0.9479243264582041
         ],
         "xaxis": "x",
         "y": [
          -1077.5,
          -1077.5,
          -1110,
          -1110
         ],
         "yaxis": "y"
        },
        {
         "hoverinfo": "text",
         "marker": {
          "color": "rgb(0,116,217)"
         },
         "mode": "lines",
         "type": "scatter",
         "x": [
          0.9919791279841241,
          1.007380650158372,
          1.007380650158372,
          0.9719383247478495
         ],
         "xaxis": "x",
         "y": [
          -1034.84375,
          -1034.84375,
          -1093.75,
          -1093.75
         ],
         "yaxis": "y"
        },
        {
         "hoverinfo": "text",
         "marker": {
          "color": "rgb(255,65,54)"
         },
         "mode": "lines",
         "type": "scatter",
         "x": [
          0,
          0.7609788471252118,
          0.7609788471252118,
          0
         ],
         "xaxis": "x",
         "y": [
          -1145,
          -1145,
          -1155,
          -1155
         ],
         "yaxis": "y"
        },
        {
         "hoverinfo": "text",
         "marker": {
          "color": "rgb(255,65,54)"
         },
         "mode": "lines",
         "type": "scatter",
         "x": [
          0,
          0.8023674556994344,
          0.8023674556994344,
          0.7609788471252118
         ],
         "xaxis": "x",
         "y": [
          -1135,
          -1135,
          -1150,
          -1150
         ],
         "yaxis": "y"
        },
        {
         "hoverinfo": "text",
         "marker": {
          "color": "rgb(255,65,54)"
         },
         "mode": "lines",
         "type": "scatter",
         "x": [
          0.8023674556994344,
          0.864721273697658,
          0.864721273697658,
          0
         ],
         "xaxis": "x",
         "y": [
          -1142.5,
          -1142.5,
          -1165,
          -1165
         ],
         "yaxis": "y"
        },
        {
         "hoverinfo": "text",
         "marker": {
          "color": "rgb(0,116,217)"
         },
         "mode": "lines",
         "type": "scatter",
         "x": [
          1.007380650158372,
          1.0399984424631765,
          1.0399984424631765,
          0.864721273697658
         ],
         "xaxis": "x",
         "y": [
          -1064.296875,
          -1064.296875,
          -1153.75,
          -1153.75
         ],
         "yaxis": "y"
        },
        {
         "hoverinfo": "text",
         "marker": {
          "color": "rgb(0,116,217)"
         },
         "mode": "lines",
         "type": "scatter",
         "x": [
          0.9581573366792556,
          1.0911233263438085,
          1.0911233263438085,
          1.0399984424631765
         ],
         "xaxis": "x",
         "y": [
          -972.5,
          -972.5,
          -1109.0234375,
          -1109.0234375
         ],
         "yaxis": "y"
        },
        {
         "hoverinfo": "text",
         "marker": {
          "color": "rgb(35,205,205)"
         },
         "mode": "lines",
         "type": "scatter",
         "x": [
          0,
          0.5281637370568422,
          0.5281637370568422,
          0
         ],
         "xaxis": "x",
         "y": [
          -1175,
          -1175,
          -1185,
          -1185
         ],
         "yaxis": "y"
        },
        {
         "hoverinfo": "text",
         "marker": {
          "color": "rgb(0,116,217)"
         },
         "mode": "lines",
         "type": "scatter",
         "x": [
          1.0911233263438085,
          1.1759454860137382,
          1.1759454860137382,
          0.5281637370568422
         ],
         "xaxis": "x",
         "y": [
          -1040.76171875,
          -1040.76171875,
          -1180,
          -1180
         ],
         "yaxis": "y"
        },
        {
         "hoverinfo": "text",
         "marker": {
          "color": "rgb(0,116,217)"
         },
         "mode": "lines",
         "type": "scatter",
         "x": [
          0.48147800093833615,
          1.2210925750388455,
          1.2210925750388455,
          1.1759454860137382
         ],
         "xaxis": "x",
         "y": [
          -950,
          -950,
          -1110.380859375,
          -1110.380859375
         ],
         "yaxis": "y"
        },
        {
         "hoverinfo": "text",
         "marker": {
          "color": "rgb(61,153,112)"
         },
         "mode": "lines",
         "type": "scatter",
         "x": [
          0,
          0.7504248697979073,
          0.7504248697979073,
          0
         ],
         "xaxis": "x",
         "y": [
          -1195,
          -1195,
          -1205,
          -1205
         ],
         "yaxis": "y"
        },
        {
         "hoverinfo": "text",
         "marker": {
          "color": "rgb(255,65,54)"
         },
         "mode": "lines",
         "type": "scatter",
         "x": [
          0,
          0.6428407061619108,
          0.6428407061619108,
          0
         ],
         "xaxis": "x",
         "y": [
          -1215,
          -1215,
          -1225,
          -1225
         ],
         "yaxis": "y"
        },
        {
         "hoverinfo": "text",
         "marker": {
          "color": "rgb(255,65,54)"
         },
         "mode": "lines",
         "type": "scatter",
         "x": [
          0,
          0.798899623124242,
          0.798899623124242,
          0
         ],
         "xaxis": "x",
         "y": [
          -1235,
          -1235,
          -1245,
          -1245
         ],
         "yaxis": "y"
        },
        {
         "hoverinfo": "text",
         "marker": {
          "color": "rgb(255,65,54)"
         },
         "mode": "lines",
         "type": "scatter",
         "x": [
          0.6428407061619108,
          0.8518422892908261,
          0.8518422892908261,
          0.798899623124242
         ],
         "xaxis": "x",
         "y": [
          -1220,
          -1220,
          -1240,
          -1240
         ],
         "yaxis": "y"
        },
        {
         "hoverinfo": "text",
         "marker": {
          "color": "rgb(255,65,54)"
         },
         "mode": "lines",
         "type": "scatter",
         "x": [
          0,
          0.8744558760336403,
          0.8744558760336403,
          0
         ],
         "xaxis": "x",
         "y": [
          -1255,
          -1255,
          -1265,
          -1265
         ],
         "yaxis": "y"
        },
        {
         "hoverinfo": "text",
         "marker": {
          "color": "rgb(255,65,54)"
         },
         "mode": "lines",
         "type": "scatter",
         "x": [
          0,
          0.8215223583133167,
          0.8215223583133167,
          0
         ],
         "xaxis": "x",
         "y": [
          -1285,
          -1285,
          -1295,
          -1295
         ],
         "yaxis": "y"
        },
        {
         "hoverinfo": "text",
         "marker": {
          "color": "rgb(255,65,54)"
         },
         "mode": "lines",
         "type": "scatter",
         "x": [
          0,
          0.8460552961027075,
          0.8460552961027075,
          0.8215223583133167
         ],
         "xaxis": "x",
         "y": [
          -1275,
          -1275,
          -1290,
          -1290
         ],
         "yaxis": "y"
        },
        {
         "hoverinfo": "text",
         "marker": {
          "color": "rgb(255,65,54)"
         },
         "mode": "lines",
         "type": "scatter",
         "x": [
          0,
          0.805231370731966,
          0.805231370731966,
          0
         ],
         "xaxis": "x",
         "y": [
          -1305,
          -1305,
          -1315,
          -1315
         ],
         "yaxis": "y"
        },
        {
         "hoverinfo": "text",
         "marker": {
          "color": "rgb(255,65,54)"
         },
         "mode": "lines",
         "type": "scatter",
         "x": [
          0.8460552961027075,
          0.8518972486832644,
          0.8518972486832644,
          0.805231370731966
         ],
         "xaxis": "x",
         "y": [
          -1282.5,
          -1282.5,
          -1310,
          -1310
         ],
         "yaxis": "y"
        },
        {
         "hoverinfo": "text",
         "marker": {
          "color": "rgb(255,65,54)"
         },
         "mode": "lines",
         "type": "scatter",
         "x": [
          0.8518972486832644,
          0.8652171966303451,
          0.8652171966303451,
          0
         ],
         "xaxis": "x",
         "y": [
          -1296.25,
          -1296.25,
          -1325,
          -1325
         ],
         "yaxis": "y"
        },
        {
         "hoverinfo": "text",
         "marker": {
          "color": "rgb(255,65,54)"
         },
         "mode": "lines",
         "type": "scatter",
         "x": [
          0.8744558760336403,
          0.9080000921557062,
          0.9080000921557062,
          0.8652171966303451
         ],
         "xaxis": "x",
         "y": [
          -1260,
          -1260,
          -1310.625,
          -1310.625
         ],
         "yaxis": "y"
        },
        {
         "hoverinfo": "text",
         "marker": {
          "color": "rgb(255,65,54)"
         },
         "mode": "lines",
         "type": "scatter",
         "x": [
          0,
          0.8874954426405501,
          0.8874954426405501,
          0
         ],
         "xaxis": "x",
         "y": [
          -1335,
          -1335,
          -1345,
          -1345
         ],
         "yaxis": "y"
        },
        {
         "hoverinfo": "text",
         "marker": {
          "color": "rgb(255,65,54)"
         },
         "mode": "lines",
         "type": "scatter",
         "x": [
          0.9080000921557062,
          0.9255155414736729,
          0.9255155414736729,
          0.8874954426405501
         ],
         "xaxis": "x",
         "y": [
          -1285.3125,
          -1285.3125,
          -1340,
          -1340
         ],
         "yaxis": "y"
        },
        {
         "hoverinfo": "text",
         "marker": {
          "color": "rgb(255,65,54)"
         },
         "mode": "lines",
         "type": "scatter",
         "x": [
          0.8518422892908261,
          0.9637766116271944,
          0.9637766116271944,
          0.9255155414736729
         ],
         "xaxis": "x",
         "y": [
          -1230,
          -1230,
          -1312.65625,
          -1312.65625
         ],
         "yaxis": "y"
        },
        {
         "hoverinfo": "text",
         "marker": {
          "color": "rgb(0,116,217)"
         },
         "mode": "lines",
         "type": "scatter",
         "x": [
          0.7504248697979073,
          1.0058829368319733,
          1.0058829368319733,
          0.9637766116271944
         ],
         "xaxis": "x",
         "y": [
          -1200,
          -1200,
          -1271.328125,
          -1271.328125
         ],
         "yaxis": "y"
        },
        {
         "hoverinfo": "text",
         "marker": {
          "color": "rgb(35,205,205)"
         },
         "mode": "lines",
         "type": "scatter",
         "x": [
          0,
          0.38165562228898864,
          0.38165562228898864,
          0
         ],
         "xaxis": "x",
         "y": [
          -1365,
          -1365,
          -1375,
          -1375
         ],
         "yaxis": "y"
        },
        {
         "hoverinfo": "text",
         "marker": {
          "color": "rgb(35,205,205)"
         },
         "mode": "lines",
         "type": "scatter",
         "x": [
          0,
          0.7126546832485074,
          0.7126546832485074,
          0
         ],
         "xaxis": "x",
         "y": [
          -1385,
          -1385,
          -1395,
          -1395
         ],
         "yaxis": "y"
        },
        {
         "hoverinfo": "text",
         "marker": {
          "color": "rgb(35,205,205)"
         },
         "mode": "lines",
         "type": "scatter",
         "x": [
          0.38165562228898864,
          0.822997329907922,
          0.822997329907922,
          0.7126546832485074
         ],
         "xaxis": "x",
         "y": [
          -1370,
          -1370,
          -1390,
          -1390
         ],
         "yaxis": "y"
        },
        {
         "hoverinfo": "text",
         "marker": {
          "color": "rgb(35,205,205)"
         },
         "mode": "lines",
         "type": "scatter",
         "x": [
          0,
          0.8657339937959605,
          0.8657339937959605,
          0.822997329907922
         ],
         "xaxis": "x",
         "y": [
          -1355,
          -1355,
          -1380,
          -1380
         ],
         "yaxis": "y"
        },
        {
         "hoverinfo": "text",
         "marker": {
          "color": "rgb(35,205,205)"
         },
         "mode": "lines",
         "type": "scatter",
         "x": [
          0,
          0.8582717992648717,
          0.8582717992648717,
          0
         ],
         "xaxis": "x",
         "y": [
          -1405,
          -1405,
          -1415,
          -1415
         ],
         "yaxis": "y"
        },
        {
         "hoverinfo": "text",
         "marker": {
          "color": "rgb(35,205,205)"
         },
         "mode": "lines",
         "type": "scatter",
         "x": [
          0.8657339937959605,
          0.9016061204886013,
          0.9016061204886013,
          0.8582717992648717
         ],
         "xaxis": "x",
         "y": [
          -1367.5,
          -1367.5,
          -1410,
          -1410
         ],
         "yaxis": "y"
        },
        {
         "hoverinfo": "text",
         "marker": {
          "color": "rgb(0,116,217)"
         },
         "mode": "lines",
         "type": "scatter",
         "x": [
          1.0058829368319733,
          1.0321175063186951,
          1.0321175063186951,
          0.9016061204886013
         ],
         "xaxis": "x",
         "y": [
          -1235.6640625,
          -1235.6640625,
          -1388.75,
          -1388.75
         ],
         "yaxis": "y"
        },
        {
         "hoverinfo": "text",
         "marker": {
          "color": "rgb(133,20,75)"
         },
         "mode": "lines",
         "type": "scatter",
         "x": [
          0,
          0.5271822564739206,
          0.5271822564739206,
          0
         ],
         "xaxis": "x",
         "y": [
          -1425,
          -1425,
          -1435,
          -1435
         ],
         "yaxis": "y"
        },
        {
         "hoverinfo": "text",
         "marker": {
          "color": "rgb(0,116,217)"
         },
         "mode": "lines",
         "type": "scatter",
         "x": [
          1.0321175063186951,
          1.0353080644247343,
          1.0353080644247343,
          0.5271822564739206
         ],
         "xaxis": "x",
         "y": [
          -1312.20703125,
          -1312.20703125,
          -1430,
          -1430
         ],
         "yaxis": "y"
        },
        {
         "hoverinfo": "text",
         "marker": {
          "color": "rgb(255,220,0)"
         },
         "mode": "lines",
         "type": "scatter",
         "x": [
          0,
          0.6386442841819431,
          0.6386442841819431,
          0
         ],
         "xaxis": "x",
         "y": [
          -1445,
          -1445,
          -1455,
          -1455
         ],
         "yaxis": "y"
        },
        {
         "hoverinfo": "text",
         "marker": {
          "color": "rgb(0,116,217)"
         },
         "mode": "lines",
         "type": "scatter",
         "x": [
          1.0353080644247343,
          1.1472596665318446,
          1.1472596665318446,
          0.6386442841819431
         ],
         "xaxis": "x",
         "y": [
          -1371.103515625,
          -1371.103515625,
          -1450,
          -1450
         ],
         "yaxis": "y"
        },
        {
         "hoverinfo": "text",
         "marker": {
          "color": "rgb(0,116,217)"
         },
         "mode": "lines",
         "type": "scatter",
         "x": [
          1.2210925750388455,
          1.2688392555457424,
          1.2688392555457424,
          1.1472596665318446
         ],
         "xaxis": "x",
         "y": [
          -1030.1904296875,
          -1030.1904296875,
          -1410.5517578125,
          -1410.5517578125
         ],
         "yaxis": "y"
        },
        {
         "hoverinfo": "text",
         "marker": {
          "color": "rgb(40,35,35)"
         },
         "mode": "lines",
         "type": "scatter",
         "x": [
          0,
          0.5094204999538487,
          0.5094204999538487,
          0
         ],
         "xaxis": "x",
         "y": [
          -1465,
          -1465,
          -1475,
          -1475
         ],
         "yaxis": "y"
        },
        {
         "hoverinfo": "text",
         "marker": {
          "color": "rgb(0,116,217)"
         },
         "mode": "lines",
         "type": "scatter",
         "x": [
          1.2688392555457424,
          1.364852717994501,
          1.364852717994501,
          0.5094204999538487
         ],
         "xaxis": "x",
         "y": [
          -1220.37109375,
          -1220.37109375,
          -1470,
          -1470
         ],
         "yaxis": "y"
        },
        {
         "hoverinfo": "text",
         "marker": {
          "color": "rgb(0,116,217)"
         },
         "mode": "lines",
         "type": "scatter",
         "x": [
          1.1112219629286053,
          2.4534680920994423,
          2.4534680920994423,
          1.364852717994501
         ],
         "xaxis": "x",
         "y": [
          -524.445888325572,
          -524.445888325572,
          -1345.185546875,
          -1345.185546875
         ],
         "yaxis": "y"
        }
       ],
       "layout": {
        "autosize": false,
        "height": 2420,
        "hoverlabel": {
         "bgcolor": "white",
         "font": {
          "family": "Rockwell",
          "size": 16
         }
        },
        "hovermode": "closest",
        "plot_bgcolor": "#ECEFF1",
        "showlegend": false,
        "template": {
         "data": {
          "bar": [
           {
            "error_x": {
             "color": "#2a3f5f"
            },
            "error_y": {
             "color": "#2a3f5f"
            },
            "marker": {
             "line": {
              "color": "white",
              "width": 0.5
             },
             "pattern": {
              "fillmode": "overlay",
              "size": 10,
              "solidity": 0.2
             }
            },
            "type": "bar"
           }
          ],
          "barpolar": [
           {
            "marker": {
             "line": {
              "color": "white",
              "width": 0.5
             },
             "pattern": {
              "fillmode": "overlay",
              "size": 10,
              "solidity": 0.2
             }
            },
            "type": "barpolar"
           }
          ],
          "carpet": [
           {
            "aaxis": {
             "endlinecolor": "#2a3f5f",
             "gridcolor": "#C8D4E3",
             "linecolor": "#C8D4E3",
             "minorgridcolor": "#C8D4E3",
             "startlinecolor": "#2a3f5f"
            },
            "baxis": {
             "endlinecolor": "#2a3f5f",
             "gridcolor": "#C8D4E3",
             "linecolor": "#C8D4E3",
             "minorgridcolor": "#C8D4E3",
             "startlinecolor": "#2a3f5f"
            },
            "type": "carpet"
           }
          ],
          "choropleth": [
           {
            "colorbar": {
             "outlinewidth": 0,
             "ticks": ""
            },
            "type": "choropleth"
           }
          ],
          "contour": [
           {
            "colorbar": {
             "outlinewidth": 0,
             "ticks": ""
            },
            "colorscale": [
             [
              0,
              "#0d0887"
             ],
             [
              0.1111111111111111,
              "#46039f"
             ],
             [
              0.2222222222222222,
              "#7201a8"
             ],
             [
              0.3333333333333333,
              "#9c179e"
             ],
             [
              0.4444444444444444,
              "#bd3786"
             ],
             [
              0.5555555555555556,
              "#d8576b"
             ],
             [
              0.6666666666666666,
              "#ed7953"
             ],
             [
              0.7777777777777778,
              "#fb9f3a"
             ],
             [
              0.8888888888888888,
              "#fdca26"
             ],
             [
              1,
              "#f0f921"
             ]
            ],
            "type": "contour"
           }
          ],
          "contourcarpet": [
           {
            "colorbar": {
             "outlinewidth": 0,
             "ticks": ""
            },
            "type": "contourcarpet"
           }
          ],
          "heatmap": [
           {
            "colorbar": {
             "outlinewidth": 0,
             "ticks": ""
            },
            "colorscale": [
             [
              0,
              "#0d0887"
             ],
             [
              0.1111111111111111,
              "#46039f"
             ],
             [
              0.2222222222222222,
              "#7201a8"
             ],
             [
              0.3333333333333333,
              "#9c179e"
             ],
             [
              0.4444444444444444,
              "#bd3786"
             ],
             [
              0.5555555555555556,
              "#d8576b"
             ],
             [
              0.6666666666666666,
              "#ed7953"
             ],
             [
              0.7777777777777778,
              "#fb9f3a"
             ],
             [
              0.8888888888888888,
              "#fdca26"
             ],
             [
              1,
              "#f0f921"
             ]
            ],
            "type": "heatmap"
           }
          ],
          "heatmapgl": [
           {
            "colorbar": {
             "outlinewidth": 0,
             "ticks": ""
            },
            "colorscale": [
             [
              0,
              "#0d0887"
             ],
             [
              0.1111111111111111,
              "#46039f"
             ],
             [
              0.2222222222222222,
              "#7201a8"
             ],
             [
              0.3333333333333333,
              "#9c179e"
             ],
             [
              0.4444444444444444,
              "#bd3786"
             ],
             [
              0.5555555555555556,
              "#d8576b"
             ],
             [
              0.6666666666666666,
              "#ed7953"
             ],
             [
              0.7777777777777778,
              "#fb9f3a"
             ],
             [
              0.8888888888888888,
              "#fdca26"
             ],
             [
              1,
              "#f0f921"
             ]
            ],
            "type": "heatmapgl"
           }
          ],
          "histogram": [
           {
            "marker": {
             "pattern": {
              "fillmode": "overlay",
              "size": 10,
              "solidity": 0.2
             }
            },
            "type": "histogram"
           }
          ],
          "histogram2d": [
           {
            "colorbar": {
             "outlinewidth": 0,
             "ticks": ""
            },
            "colorscale": [
             [
              0,
              "#0d0887"
             ],
             [
              0.1111111111111111,
              "#46039f"
             ],
             [
              0.2222222222222222,
              "#7201a8"
             ],
             [
              0.3333333333333333,
              "#9c179e"
             ],
             [
              0.4444444444444444,
              "#bd3786"
             ],
             [
              0.5555555555555556,
              "#d8576b"
             ],
             [
              0.6666666666666666,
              "#ed7953"
             ],
             [
              0.7777777777777778,
              "#fb9f3a"
             ],
             [
              0.8888888888888888,
              "#fdca26"
             ],
             [
              1,
              "#f0f921"
             ]
            ],
            "type": "histogram2d"
           }
          ],
          "histogram2dcontour": [
           {
            "colorbar": {
             "outlinewidth": 0,
             "ticks": ""
            },
            "colorscale": [
             [
              0,
              "#0d0887"
             ],
             [
              0.1111111111111111,
              "#46039f"
             ],
             [
              0.2222222222222222,
              "#7201a8"
             ],
             [
              0.3333333333333333,
              "#9c179e"
             ],
             [
              0.4444444444444444,
              "#bd3786"
             ],
             [
              0.5555555555555556,
              "#d8576b"
             ],
             [
              0.6666666666666666,
              "#ed7953"
             ],
             [
              0.7777777777777778,
              "#fb9f3a"
             ],
             [
              0.8888888888888888,
              "#fdca26"
             ],
             [
              1,
              "#f0f921"
             ]
            ],
            "type": "histogram2dcontour"
           }
          ],
          "mesh3d": [
           {
            "colorbar": {
             "outlinewidth": 0,
             "ticks": ""
            },
            "type": "mesh3d"
           }
          ],
          "parcoords": [
           {
            "line": {
             "colorbar": {
              "outlinewidth": 0,
              "ticks": ""
             }
            },
            "type": "parcoords"
           }
          ],
          "pie": [
           {
            "automargin": true,
            "type": "pie"
           }
          ],
          "scatter": [
           {
            "fillpattern": {
             "fillmode": "overlay",
             "size": 10,
             "solidity": 0.2
            },
            "type": "scatter"
           }
          ],
          "scatter3d": [
           {
            "line": {
             "colorbar": {
              "outlinewidth": 0,
              "ticks": ""
             }
            },
            "marker": {
             "colorbar": {
              "outlinewidth": 0,
              "ticks": ""
             }
            },
            "type": "scatter3d"
           }
          ],
          "scattercarpet": [
           {
            "marker": {
             "colorbar": {
              "outlinewidth": 0,
              "ticks": ""
             }
            },
            "type": "scattercarpet"
           }
          ],
          "scattergeo": [
           {
            "marker": {
             "colorbar": {
              "outlinewidth": 0,
              "ticks": ""
             }
            },
            "type": "scattergeo"
           }
          ],
          "scattergl": [
           {
            "marker": {
             "colorbar": {
              "outlinewidth": 0,
              "ticks": ""
             }
            },
            "type": "scattergl"
           }
          ],
          "scattermapbox": [
           {
            "marker": {
             "colorbar": {
              "outlinewidth": 0,
              "ticks": ""
             }
            },
            "type": "scattermapbox"
           }
          ],
          "scatterpolar": [
           {
            "marker": {
             "colorbar": {
              "outlinewidth": 0,
              "ticks": ""
             }
            },
            "type": "scatterpolar"
           }
          ],
          "scatterpolargl": [
           {
            "marker": {
             "colorbar": {
              "outlinewidth": 0,
              "ticks": ""
             }
            },
            "type": "scatterpolargl"
           }
          ],
          "scatterternary": [
           {
            "marker": {
             "colorbar": {
              "outlinewidth": 0,
              "ticks": ""
             }
            },
            "type": "scatterternary"
           }
          ],
          "surface": [
           {
            "colorbar": {
             "outlinewidth": 0,
             "ticks": ""
            },
            "colorscale": [
             [
              0,
              "#0d0887"
             ],
             [
              0.1111111111111111,
              "#46039f"
             ],
             [
              0.2222222222222222,
              "#7201a8"
             ],
             [
              0.3333333333333333,
              "#9c179e"
             ],
             [
              0.4444444444444444,
              "#bd3786"
             ],
             [
              0.5555555555555556,
              "#d8576b"
             ],
             [
              0.6666666666666666,
              "#ed7953"
             ],
             [
              0.7777777777777778,
              "#fb9f3a"
             ],
             [
              0.8888888888888888,
              "#fdca26"
             ],
             [
              1,
              "#f0f921"
             ]
            ],
            "type": "surface"
           }
          ],
          "table": [
           {
            "cells": {
             "fill": {
              "color": "#EBF0F8"
             },
             "line": {
              "color": "white"
             }
            },
            "header": {
             "fill": {
              "color": "#C8D4E3"
             },
             "line": {
              "color": "white"
             }
            },
            "type": "table"
           }
          ]
         },
         "layout": {
          "annotationdefaults": {
           "arrowcolor": "#2a3f5f",
           "arrowhead": 0,
           "arrowwidth": 1
          },
          "autotypenumbers": "strict",
          "coloraxis": {
           "colorbar": {
            "outlinewidth": 0,
            "ticks": ""
           }
          },
          "colorscale": {
           "diverging": [
            [
             0,
             "#8e0152"
            ],
            [
             0.1,
             "#c51b7d"
            ],
            [
             0.2,
             "#de77ae"
            ],
            [
             0.3,
             "#f1b6da"
            ],
            [
             0.4,
             "#fde0ef"
            ],
            [
             0.5,
             "#f7f7f7"
            ],
            [
             0.6,
             "#e6f5d0"
            ],
            [
             0.7,
             "#b8e186"
            ],
            [
             0.8,
             "#7fbc41"
            ],
            [
             0.9,
             "#4d9221"
            ],
            [
             1,
             "#276419"
            ]
           ],
           "sequential": [
            [
             0,
             "#0d0887"
            ],
            [
             0.1111111111111111,
             "#46039f"
            ],
            [
             0.2222222222222222,
             "#7201a8"
            ],
            [
             0.3333333333333333,
             "#9c179e"
            ],
            [
             0.4444444444444444,
             "#bd3786"
            ],
            [
             0.5555555555555556,
             "#d8576b"
            ],
            [
             0.6666666666666666,
             "#ed7953"
            ],
            [
             0.7777777777777778,
             "#fb9f3a"
            ],
            [
             0.8888888888888888,
             "#fdca26"
            ],
            [
             1,
             "#f0f921"
            ]
           ],
           "sequentialminus": [
            [
             0,
             "#0d0887"
            ],
            [
             0.1111111111111111,
             "#46039f"
            ],
            [
             0.2222222222222222,
             "#7201a8"
            ],
            [
             0.3333333333333333,
             "#9c179e"
            ],
            [
             0.4444444444444444,
             "#bd3786"
            ],
            [
             0.5555555555555556,
             "#d8576b"
            ],
            [
             0.6666666666666666,
             "#ed7953"
            ],
            [
             0.7777777777777778,
             "#fb9f3a"
            ],
            [
             0.8888888888888888,
             "#fdca26"
            ],
            [
             1,
             "#f0f921"
            ]
           ]
          },
          "colorway": [
           "#636efa",
           "#EF553B",
           "#00cc96",
           "#ab63fa",
           "#FFA15A",
           "#19d3f3",
           "#FF6692",
           "#B6E880",
           "#FF97FF",
           "#FECB52"
          ],
          "font": {
           "color": "#2a3f5f"
          },
          "geo": {
           "bgcolor": "white",
           "lakecolor": "white",
           "landcolor": "white",
           "showlakes": true,
           "showland": true,
           "subunitcolor": "#C8D4E3"
          },
          "hoverlabel": {
           "align": "left"
          },
          "hovermode": "closest",
          "mapbox": {
           "style": "light"
          },
          "paper_bgcolor": "white",
          "plot_bgcolor": "white",
          "polar": {
           "angularaxis": {
            "gridcolor": "#EBF0F8",
            "linecolor": "#EBF0F8",
            "ticks": ""
           },
           "bgcolor": "white",
           "radialaxis": {
            "gridcolor": "#EBF0F8",
            "linecolor": "#EBF0F8",
            "ticks": ""
           }
          },
          "scene": {
           "xaxis": {
            "backgroundcolor": "white",
            "gridcolor": "#DFE8F3",
            "gridwidth": 2,
            "linecolor": "#EBF0F8",
            "showbackground": true,
            "ticks": "",
            "zerolinecolor": "#EBF0F8"
           },
           "yaxis": {
            "backgroundcolor": "white",
            "gridcolor": "#DFE8F3",
            "gridwidth": 2,
            "linecolor": "#EBF0F8",
            "showbackground": true,
            "ticks": "",
            "zerolinecolor": "#EBF0F8"
           },
           "zaxis": {
            "backgroundcolor": "white",
            "gridcolor": "#DFE8F3",
            "gridwidth": 2,
            "linecolor": "#EBF0F8",
            "showbackground": true,
            "ticks": "",
            "zerolinecolor": "#EBF0F8"
           }
          },
          "shapedefaults": {
           "line": {
            "color": "#2a3f5f"
           }
          },
          "ternary": {
           "aaxis": {
            "gridcolor": "#DFE8F3",
            "linecolor": "#A2B1C6",
            "ticks": ""
           },
           "baxis": {
            "gridcolor": "#DFE8F3",
            "linecolor": "#A2B1C6",
            "ticks": ""
           },
           "bgcolor": "white",
           "caxis": {
            "gridcolor": "#DFE8F3",
            "linecolor": "#A2B1C6",
            "ticks": ""
           }
          },
          "title": {
           "x": 0.05
          },
          "xaxis": {
           "automargin": true,
           "gridcolor": "#EBF0F8",
           "linecolor": "#EBF0F8",
           "ticks": "",
           "title": {
            "standoff": 15
           },
           "zerolinecolor": "#EBF0F8",
           "zerolinewidth": 2
          },
          "yaxis": {
           "automargin": true,
           "gridcolor": "#EBF0F8",
           "linecolor": "#EBF0F8",
           "ticks": "",
           "title": {
            "standoff": 15
           },
           "zerolinecolor": "#EBF0F8",
           "zerolinewidth": 2
          }
         }
        },
        "title": {
         "font": {
          "color": "Black",
          "size": 22
         },
         "text": "<b>Hierarchical Clustering</b>",
         "x": 0.5,
         "xanchor": "center",
         "yanchor": "top"
        },
        "width": 1000,
        "xaxis": {
         "mirror": "allticks",
         "rangemode": "tozero",
         "showgrid": false,
         "showline": true,
         "showticklabels": true,
         "ticks": "outside",
         "type": "linear",
         "zeroline": false
        },
        "yaxis": {
         "mirror": "allticks",
         "range": [
          -1480,
          0
         ],
         "rangemode": "tozero",
         "showgrid": false,
         "showline": true,
         "showticklabels": true,
         "tickmode": "array",
         "ticks": "outside",
         "ticktext": [
          "60_spotify_rogan_joe rogan",
          "51_rogan_joe rogan_joe",
          "76_crack_pipes_crack pipes",
          "71_formula_baby formula_baby",
          "131_heartbeat_heart_fetal",
          "99_ivermectin_of ivermectin...",
          "112_myocarditis_that_it",
          "89_pfizer_that_the",
          "95_fda_the fda_pharma",
          "141_dioxide_carbon dioxide_...",
          "140_that_you_depression",
          "117_marijuana_pot_cannabis",
          "138_breyer_justice_court",
          "70_osha_passports_hair",
          "127_doctor_the_and",
          "31_omicron_delta_variant",
          "19_fauci_lab_wuhan",
          "39_fentanyl_drug_the",
          "100_socialism_the_of",
          "92_you_that_and",
          "17_disney_the_to",
          "68_airlines_the_airline",
          "14_mask_masks_wear",
          "29_tucker_lee_carlson",
          "30_gender_puberty_children",
          "21_sports_women_womens",
          "9_canada_trudeau_truckers",
          "8_gun_guns_the",
          "4_abortion_the_that",
          "7_woman_women_that",
          "0_the_and_to",
          "2_covid_vaccine_the",
          "27_fat_you_is",
          "45_the_to_and",
          "25_queen_she_the queen",
          "11_book_the_you",
          "1_ukraine_putin_russia",
          "13_afghanistan_war_we",
          "3_energy_oil_gas",
          "5_inflation_the_to",
          "6_border_the border_the",
          "37_starbucks_the_to",
          "52_the_columbus_of",
          "36_irs_the irs_agents",
          "48_hurricane_storm_florida",
          "66_alzheimers_brady_you",
          "61_sri_sri lanka_lanka",
          "65_olympics_china_the olymp...",
          "12_china_chinese_the",
          "10_taiwan_china_chinese",
          "18_hunter_biden_hunter biden",
          "22_iran_saudi_nuclear",
          "78_israel_peace_the",
          "53_nord_nord stream_stream",
          "146_marriage_divorce_babylon",
          "69_marriage_gay marriage_gay",
          "115_nfl_the nfl_coaches",
          "133_skateboarding_and_you",
          "63_tiktok_libs of_of tiktok",
          "43_depp_johnny_amber",
          "73_jews_jewish_antisemitic",
          "44_smith_will smith_chris r...",
          "34_kanye_knowles_michael kn...",
          "46_cuomo_zucker_cnn",
          "77_epstein_veritas_beto",
          "23_rumble_on rumble_youtube",
          "62_tickets_tour_dave",
          "81_esg_esg is_the esg",
          "80_italy_italian_maloney",
          "145_military_the military_you",
          "75_leah_leah thomas_thomas",
          "134_page_ellen_ellen page",
          "128_tulsi_gabbard_tulsi gab...",
          "35_civil war_civil_war",
          "58_slavery_slaves_slave",
          "130_juneteenth_lebron_holiday",
          "124_no more_has arrived_arr...",
          "110_bolsonaro_lula_brazil",
          "120_gold_silver_goldline",
          "85_gold_silver_dollar",
          "16_american financing_finan...",
          "20_student_debt_loan",
          "103_college_to college_degree",
          "50_digital_bitcoin_currency",
          "32_rates_interest_market",
          "113_reserve_fed_currency",
          "106_jobs_unemployment_job",
          "33_recession_in recession_q...",
          "119_parallel_parallel econo...",
          "132_paypal_parallel economy...",
          "102_title 42_42_title",
          "121_chips_finals_nba",
          "93_kansas_in kansas_blaze m...",
          "108_zone_fly zone_no fly zone",
          "144_title_home_your",
          "111_title_home_home title",
          "139_abnormal_50_abnormal 50",
          "84_levin_levin podcast_prom...",
          "114_target_firearm_save",
          "123_ziprecruiter_ziprecruit...",
          "101_ring_alarm_ring alarm",
          "59_laughing laughing_laughi...",
          "72_car_car shield_your car",
          "136_hr_bambi_hr manager",
          "98_listerine_fracking_bjs",
          "147_heart_heart disease_dis...",
          "109_glasses_better spectacl...",
          "49_ben_ben shapiro_shapiro",
          "41_expressvpn_expressvpncom...",
          "126_formulated_zstack_vitamin",
          "104_megyn kelly_megyn_kelly",
          "135_beautiful anonymous_ano...",
          "83_cash back_cash_app",
          "28_patriot_mobile_patriot m...",
          "91_sheets_phone_your phone",
          "122_month_pure talk_pure",
          "74_betmgm_unlimited_free",
          "88_your_consult with_consul...",
          "118_consult with your_consu...",
          "96_mattress_helix_sleep",
          "90_sleep_bed_of sleep",
          "129_wine_wines_athletic gre...",
          "15_monkeypox_mark levin_877...",
          "67_skin_retinol_free",
          "94_cash_cash from_bank",
          "55_real estate_estate_real ...",
          "116_blindscom_window_blinds",
          "57_insurance_life insurance...",
          "137_socks_grip6_grip",
          "86_ranchers_good ranchers_m...",
          "82_bar_protein_chocolate",
          "47_sponsor_about this spons...",
          "97_razors_jeremys_jeremys r...",
          "125_shoes_vivo_barefoot",
          "64_of certain us_certain us...",
          "79_sweat_sweat block_block",
          "24_glenn_glenn beck_beck",
          "56_glenn_blaze_blaze tv",
          "54_pillow_mypillowcom_promo",
          "38_lifelock_lifelockcom_ide...",
          "26_relief_relief factor_fac...",
          "42_dog_rough greens_rough",
          "40_sheets_naturally_thats t...",
          "142_wikipedia_epic_will",
          "87_oreilly_bill oreilly_bill",
          "105_oreilly_update heres_or...",
          "107_quinton_fedex_clothing ...",
          "143_quinton_fedex_quinton h..."
         ],
         "tickvals": [
          -5,
          -15,
          -25,
          -35,
          -45,
          -55,
          -65,
          -75,
          -85,
          -95,
          -105,
          -115,
          -125,
          -135,
          -145,
          -155,
          -165,
          -175,
          -185,
          -195,
          -205,
          -215,
          -225,
          -235,
          -245,
          -255,
          -265,
          -275,
          -285,
          -295,
          -305,
          -315,
          -325,
          -335,
          -345,
          -355,
          -365,
          -375,
          -385,
          -395,
          -405,
          -415,
          -425,
          -435,
          -445,
          -455,
          -465,
          -475,
          -485,
          -495,
          -505,
          -515,
          -525,
          -535,
          -545,
          -555,
          -565,
          -575,
          -585,
          -595,
          -605,
          -615,
          -625,
          -635,
          -645,
          -655,
          -665,
          -675,
          -685,
          -695,
          -705,
          -715,
          -725,
          -735,
          -745,
          -755,
          -765,
          -775,
          -785,
          -795,
          -805,
          -815,
          -825,
          -835,
          -845,
          -855,
          -865,
          -875,
          -885,
          -895,
          -905,
          -915,
          -925,
          -935,
          -945,
          -955,
          -965,
          -975,
          -985,
          -995,
          -1005,
          -1015,
          -1025,
          -1035,
          -1045,
          -1055,
          -1065,
          -1075,
          -1085,
          -1095,
          -1105,
          -1115,
          -1125,
          -1135,
          -1145,
          -1155,
          -1165,
          -1175,
          -1185,
          -1195,
          -1205,
          -1215,
          -1225,
          -1235,
          -1245,
          -1255,
          -1265,
          -1275,
          -1285,
          -1295,
          -1305,
          -1315,
          -1325,
          -1335,
          -1345,
          -1355,
          -1365,
          -1375,
          -1385,
          -1395,
          -1405,
          -1415,
          -1425,
          -1435,
          -1445,
          -1455,
          -1465,
          -1475
         ],
         "type": "linear",
         "zeroline": false
        }
       }
      },
      "text/html": [
       "<div>                            <div id=\"83f47c49-4241-4ed4-8e13-29ba47eb9625\" class=\"plotly-graph-div\" style=\"height:2420px; width:1000px;\"></div>            <script type=\"text/javascript\">                require([\"plotly\"], function(Plotly) {                    window.PLOTLYENV=window.PLOTLYENV || {};                                    if (document.getElementById(\"83f47c49-4241-4ed4-8e13-29ba47eb9625\")) {                    Plotly.newPlot(                        \"83f47c49-4241-4ed4-8e13-29ba47eb9625\",                        [{\"hoverinfo\":\"text\",\"marker\":{\"color\":\"rgb(61,153,112)\"},\"mode\":\"lines\",\"x\":[0.0,0.40085038446721555,0.40085038446721555,0.0],\"xaxis\":\"x\",\"y\":[-5.0,-5.0,-15.0,-15.0],\"yaxis\":\"y\",\"type\":\"scatter\"},{\"hoverinfo\":\"text\",\"marker\":{\"color\":\"rgb(61,153,112)\"},\"mode\":\"lines\",\"x\":[0.0,0.8070418817645499,0.8070418817645499,0.0],\"xaxis\":\"x\",\"y\":[-25.0,-25.0,-35.0,-35.0],\"yaxis\":\"y\",\"type\":\"scatter\"},{\"hoverinfo\":\"text\",\"marker\":{\"color\":\"rgb(61,153,112)\"},\"mode\":\"lines\",\"x\":[0.8070418817645499,0.8157172107505035,0.8157172107505035,0.0],\"xaxis\":\"x\",\"y\":[-30.0,-30.0,-45.0,-45.0],\"yaxis\":\"y\",\"type\":\"scatter\"},{\"hoverinfo\":\"text\",\"marker\":{\"color\":\"rgb(61,153,112)\"},\"mode\":\"lines\",\"x\":[0.0,0.5450863313611134,0.5450863313611134,0.0],\"xaxis\":\"x\",\"y\":[-75.0,-75.0,-85.0,-85.0],\"yaxis\":\"y\",\"type\":\"scatter\"},{\"hoverinfo\":\"text\",\"marker\":{\"color\":\"rgb(61,153,112)\"},\"mode\":\"lines\",\"x\":[0.0,0.6194420162917426,0.6194420162917426,0.5450863313611134],\"xaxis\":\"x\",\"y\":[-65.0,-65.0,-80.0,-80.0],\"yaxis\":\"y\",\"type\":\"scatter\"},{\"hoverinfo\":\"text\",\"marker\":{\"color\":\"rgb(61,153,112)\"},\"mode\":\"lines\",\"x\":[0.0,0.658230119363498,0.658230119363498,0.6194420162917426],\"xaxis\":\"x\",\"y\":[-55.0,-55.0,-72.5,-72.5],\"yaxis\":\"y\",\"type\":\"scatter\"},{\"hoverinfo\":\"text\",\"marker\":{\"color\":\"rgb(61,153,112)\"},\"mode\":\"lines\",\"x\":[0.0,0.7187002649328634,0.7187002649328634,0.0],\"xaxis\":\"x\",\"y\":[-95.0,-95.0,-105.0,-105.0],\"yaxis\":\"y\",\"type\":\"scatter\"},{\"hoverinfo\":\"text\",\"marker\":{\"color\":\"rgb(61,153,112)\"},\"mode\":\"lines\",\"x\":[0.7187002649328634,0.7445660258959266,0.7445660258959266,0.0],\"xaxis\":\"x\",\"y\":[-100.0,-100.0,-115.0,-115.0],\"yaxis\":\"y\",\"type\":\"scatter\"},{\"hoverinfo\":\"text\",\"marker\":{\"color\":\"rgb(61,153,112)\"},\"mode\":\"lines\",\"x\":[0.658230119363498,0.7782232129380039,0.7782232129380039,0.7445660258959266],\"xaxis\":\"x\",\"y\":[-63.75,-63.75,-107.5,-107.5],\"yaxis\":\"y\",\"type\":\"scatter\"},{\"hoverinfo\":\"text\",\"marker\":{\"color\":\"rgb(61,153,112)\"},\"mode\":\"lines\",\"x\":[0.8157172107505035,0.8370598866345437,0.8370598866345437,0.7782232129380039],\"xaxis\":\"x\",\"y\":[-37.5,-37.5,-85.625,-85.625],\"yaxis\":\"y\",\"type\":\"scatter\"},{\"hoverinfo\":\"text\",\"marker\":{\"color\":\"rgb(61,153,112)\"},\"mode\":\"lines\",\"x\":[0.0,0.6906278399106773,0.6906278399106773,0.0],\"xaxis\":\"x\",\"y\":[-125.0,-125.0,-135.0,-135.0],\"yaxis\":\"y\",\"type\":\"scatter\"},{\"hoverinfo\":\"text\",\"marker\":{\"color\":\"rgb(61,153,112)\"},\"mode\":\"lines\",\"x\":[0.0,0.5718826633282099,0.5718826633282099,0.0],\"xaxis\":\"x\",\"y\":[-155.0,-155.0,-165.0,-165.0],\"yaxis\":\"y\",\"type\":\"scatter\"},{\"hoverinfo\":\"text\",\"marker\":{\"color\":\"rgb(61,153,112)\"},\"mode\":\"lines\",\"x\":[0.0,0.6083153567409909,0.6083153567409909,0.0],\"xaxis\":\"x\",\"y\":[-175.0,-175.0,-185.0,-185.0],\"yaxis\":\"y\",\"type\":\"scatter\"},{\"hoverinfo\":\"text\",\"marker\":{\"color\":\"rgb(61,153,112)\"},\"mode\":\"lines\",\"x\":[0.0,0.549531952948132,0.549531952948132,0.0],\"xaxis\":\"x\",\"y\":[-215.0,-215.0,-225.0,-225.0],\"yaxis\":\"y\",\"type\":\"scatter\"},{\"hoverinfo\":\"text\",\"marker\":{\"color\":\"rgb(61,153,112)\"},\"mode\":\"lines\",\"x\":[0.0,0.5616176588254161,0.5616176588254161,0.549531952948132],\"xaxis\":\"x\",\"y\":[-205.0,-205.0,-220.0,-220.0],\"yaxis\":\"y\",\"type\":\"scatter\"},{\"hoverinfo\":\"text\",\"marker\":{\"color\":\"rgb(61,153,112)\"},\"mode\":\"lines\",\"x\":[0.0,0.12812746479509252,0.12812746479509252,0.0],\"xaxis\":\"x\",\"y\":[-305.0,-305.0,-315.0,-315.0],\"yaxis\":\"y\",\"type\":\"scatter\"},{\"hoverinfo\":\"text\",\"marker\":{\"color\":\"rgb(61,153,112)\"},\"mode\":\"lines\",\"x\":[0.0,0.2300680485436977,0.2300680485436977,0.12812746479509252],\"xaxis\":\"x\",\"y\":[-295.0,-295.0,-310.0,-310.0],\"yaxis\":\"y\",\"type\":\"scatter\"},{\"hoverinfo\":\"text\",\"marker\":{\"color\":\"rgb(61,153,112)\"},\"mode\":\"lines\",\"x\":[0.0,0.2783595307500272,0.2783595307500272,0.2300680485436977],\"xaxis\":\"x\",\"y\":[-285.0,-285.0,-302.5,-302.5],\"yaxis\":\"y\",\"type\":\"scatter\"},{\"hoverinfo\":\"text\",\"marker\":{\"color\":\"rgb(61,153,112)\"},\"mode\":\"lines\",\"x\":[0.2783595307500272,0.3155533155937312,0.3155533155937312,0.0],\"xaxis\":\"x\",\"y\":[-293.75,-293.75,-325.0,-325.0],\"yaxis\":\"y\",\"type\":\"scatter\"},{\"hoverinfo\":\"text\",\"marker\":{\"color\":\"rgb(61,153,112)\"},\"mode\":\"lines\",\"x\":[0.0,0.34173059294290425,0.34173059294290425,0.3155533155937312],\"xaxis\":\"x\",\"y\":[-275.0,-275.0,-309.375,-309.375],\"yaxis\":\"y\",\"type\":\"scatter\"},{\"hoverinfo\":\"text\",\"marker\":{\"color\":\"rgb(61,153,112)\"},\"mode\":\"lines\",\"x\":[0.0,0.41171636361012465,0.41171636361012465,0.34173059294290425],\"xaxis\":\"x\",\"y\":[-265.0,-265.0,-292.1875,-292.1875],\"yaxis\":\"y\",\"type\":\"scatter\"},{\"hoverinfo\":\"text\",\"marker\":{\"color\":\"rgb(61,153,112)\"},\"mode\":\"lines\",\"x\":[0.41171636361012465,0.42596229569209015,0.42596229569209015,0.0],\"xaxis\":\"x\",\"y\":[-278.59375,-278.59375,-335.0,-335.0],\"yaxis\":\"y\",\"type\":\"scatter\"},{\"hoverinfo\":\"text\",\"marker\":{\"color\":\"rgb(61,153,112)\"},\"mode\":\"lines\",\"x\":[0.0,0.4466976317674118,0.4466976317674118,0.42596229569209015],\"xaxis\":\"x\",\"y\":[-255.0,-255.0,-306.796875,-306.796875],\"yaxis\":\"y\",\"type\":\"scatter\"},{\"hoverinfo\":\"text\",\"marker\":{\"color\":\"rgb(61,153,112)\"},\"mode\":\"lines\",\"x\":[0.0,0.46729976825465597,0.46729976825465597,0.4466976317674118],\"xaxis\":\"x\",\"y\":[-245.0,-245.0,-280.8984375,-280.8984375],\"yaxis\":\"y\",\"type\":\"scatter\"},{\"hoverinfo\":\"text\",\"marker\":{\"color\":\"rgb(61,153,112)\"},\"mode\":\"lines\",\"x\":[0.46729976825465597,0.48526660876121086,0.48526660876121086,0.0],\"xaxis\":\"x\",\"y\":[-262.94921875,-262.94921875,-345.0,-345.0],\"yaxis\":\"y\",\"type\":\"scatter\"},{\"hoverinfo\":\"text\",\"marker\":{\"color\":\"rgb(61,153,112)\"},\"mode\":\"lines\",\"x\":[0.0,0.2729165400719733,0.2729165400719733,0.0],\"xaxis\":\"x\",\"y\":[-365.0,-365.0,-375.0,-375.0],\"yaxis\":\"y\",\"type\":\"scatter\"},{\"hoverinfo\":\"text\",\"marker\":{\"color\":\"rgb(61,153,112)\"},\"mode\":\"lines\",\"x\":[0.0,0.34414815022800954,0.34414815022800954,0.2729165400719733],\"xaxis\":\"x\",\"y\":[-355.0,-355.0,-370.0,-370.0],\"yaxis\":\"y\",\"type\":\"scatter\"},{\"hoverinfo\":\"text\",\"marker\":{\"color\":\"rgb(61,153,112)\"},\"mode\":\"lines\",\"x\":[0.0,0.2089960250130034,0.2089960250130034,0.0],\"xaxis\":\"x\",\"y\":[-385.0,-385.0,-395.0,-395.0],\"yaxis\":\"y\",\"type\":\"scatter\"},{\"hoverinfo\":\"text\",\"marker\":{\"color\":\"rgb(61,153,112)\"},\"mode\":\"lines\",\"x\":[0.2089960250130034,0.3120815783348082,0.3120815783348082,0.0],\"xaxis\":\"x\",\"y\":[-390.0,-390.0,-405.0,-405.0],\"yaxis\":\"y\",\"type\":\"scatter\"},{\"hoverinfo\":\"text\",\"marker\":{\"color\":\"rgb(61,153,112)\"},\"mode\":\"lines\",\"x\":[0.34414815022800954,0.38312318918350624,0.38312318918350624,0.3120815783348082],\"xaxis\":\"x\",\"y\":[-362.5,-362.5,-397.5,-397.5],\"yaxis\":\"y\",\"type\":\"scatter\"},{\"hoverinfo\":\"text\",\"marker\":{\"color\":\"rgb(61,153,112)\"},\"mode\":\"lines\",\"x\":[0.38312318918350624,0.46822538946326137,0.46822538946326137,0.0],\"xaxis\":\"x\",\"y\":[-380.0,-380.0,-415.0,-415.0],\"yaxis\":\"y\",\"type\":\"scatter\"},{\"hoverinfo\":\"text\",\"marker\":{\"color\":\"rgb(61,153,112)\"},\"mode\":\"lines\",\"x\":[0.48526660876121086,0.5203774095779494,0.5203774095779494,0.46822538946326137],\"xaxis\":\"x\",\"y\":[-303.974609375,-303.974609375,-397.5,-397.5],\"yaxis\":\"y\",\"type\":\"scatter\"},{\"hoverinfo\":\"text\",\"marker\":{\"color\":\"rgb(61,153,112)\"},\"mode\":\"lines\",\"x\":[0.5203774095779494,0.5242733471504819,0.5242733471504819,0.0],\"xaxis\":\"x\",\"y\":[-350.7373046875,-350.7373046875,-425.0,-425.0],\"yaxis\":\"y\",\"type\":\"scatter\"},{\"hoverinfo\":\"text\",\"marker\":{\"color\":\"rgb(61,153,112)\"},\"mode\":\"lines\",\"x\":[0.0,0.5426573780986328,0.5426573780986328,0.5242733471504819],\"xaxis\":\"x\",\"y\":[-235.0,-235.0,-387.86865234375,-387.86865234375],\"yaxis\":\"y\",\"type\":\"scatter\"},{\"hoverinfo\":\"text\",\"marker\":{\"color\":\"rgb(61,153,112)\"},\"mode\":\"lines\",\"x\":[0.5426573780986328,0.5487815484846171,0.5487815484846171,0.0],\"xaxis\":\"x\",\"y\":[-311.434326171875,-311.434326171875,-435.0,-435.0],\"yaxis\":\"y\",\"type\":\"scatter\"},{\"hoverinfo\":\"text\",\"marker\":{\"color\":\"rgb(61,153,112)\"},\"mode\":\"lines\",\"x\":[0.5616176588254161,0.5806401529939066,0.5806401529939066,0.5487815484846171],\"xaxis\":\"x\",\"y\":[-212.5,-212.5,-373.2171630859375,-373.2171630859375],\"yaxis\":\"y\",\"type\":\"scatter\"},{\"hoverinfo\":\"text\",\"marker\":{\"color\":\"rgb(61,153,112)\"},\"mode\":\"lines\",\"x\":[0.0,0.5836822668074844,0.5836822668074844,0.5806401529939066],\"xaxis\":\"x\",\"y\":[-195.0,-195.0,-292.85858154296875,-292.85858154296875],\"yaxis\":\"y\",\"type\":\"scatter\"},{\"hoverinfo\":\"text\",\"marker\":{\"color\":\"rgb(61,153,112)\"},\"mode\":\"lines\",\"x\":[0.5836822668074844,0.6129203901737228,0.6129203901737228,0.0],\"xaxis\":\"x\",\"y\":[-243.92929077148438,-243.92929077148438,-445.0,-445.0],\"yaxis\":\"y\",\"type\":\"scatter\"},{\"hoverinfo\":\"text\",\"marker\":{\"color\":\"rgb(61,153,112)\"},\"mode\":\"lines\",\"x\":[0.6083153567409909,0.614016289542454,0.614016289542454,0.6129203901737228],\"xaxis\":\"x\",\"y\":[-180.0,-180.0,-344.4646453857422,-344.4646453857422],\"yaxis\":\"y\",\"type\":\"scatter\"},{\"hoverinfo\":\"text\",\"marker\":{\"color\":\"rgb(61,153,112)\"},\"mode\":\"lines\",\"x\":[0.5718826633282099,0.6269808043407207,0.6269808043407207,0.614016289542454],\"xaxis\":\"x\",\"y\":[-160.0,-160.0,-262.2323226928711,-262.2323226928711],\"yaxis\":\"y\",\"type\":\"scatter\"},{\"hoverinfo\":\"text\",\"marker\":{\"color\":\"rgb(61,153,112)\"},\"mode\":\"lines\",\"x\":[0.0,0.6701765142878318,0.6701765142878318,0.6269808043407207],\"xaxis\":\"x\",\"y\":[-145.0,-145.0,-211.11616134643555,-211.11616134643555],\"yaxis\":\"y\",\"type\":\"scatter\"},{\"hoverinfo\":\"text\",\"marker\":{\"color\":\"rgb(61,153,112)\"},\"mode\":\"lines\",\"x\":[0.0,0.6699464455694877,0.6699464455694877,0.0],\"xaxis\":\"x\",\"y\":[-455.0,-455.0,-465.0,-465.0],\"yaxis\":\"y\",\"type\":\"scatter\"},{\"hoverinfo\":\"text\",\"marker\":{\"color\":\"rgb(61,153,112)\"},\"mode\":\"lines\",\"x\":[0.6701765142878318,0.7009451745111591,0.7009451745111591,0.6699464455694877],\"xaxis\":\"x\",\"y\":[-178.05808067321777,-178.05808067321777,-460.0,-460.0],\"yaxis\":\"y\",\"type\":\"scatter\"},{\"hoverinfo\":\"text\",\"marker\":{\"color\":\"rgb(61,153,112)\"},\"mode\":\"lines\",\"x\":[0.6906278399106773,0.7631379999890212,0.7631379999890212,0.7009451745111591],\"xaxis\":\"x\",\"y\":[-130.0,-130.0,-319.0290403366089,-319.0290403366089],\"yaxis\":\"y\",\"type\":\"scatter\"},{\"hoverinfo\":\"text\",\"marker\":{\"color\":\"rgb(61,153,112)\"},\"mode\":\"lines\",\"x\":[0.0,0.311051160921218,0.311051160921218,0.0],\"xaxis\":\"x\",\"y\":[-485.0,-485.0,-495.0,-495.0],\"yaxis\":\"y\",\"type\":\"scatter\"},{\"hoverinfo\":\"text\",\"marker\":{\"color\":\"rgb(61,153,112)\"},\"mode\":\"lines\",\"x\":[0.0,0.527469005761505,0.527469005761505,0.311051160921218],\"xaxis\":\"x\",\"y\":[-475.0,-475.0,-490.0,-490.0],\"yaxis\":\"y\",\"type\":\"scatter\"},{\"hoverinfo\":\"text\",\"marker\":{\"color\":\"rgb(61,153,112)\"},\"mode\":\"lines\",\"x\":[0.527469005761505,0.6248015234505273,0.6248015234505273,0.0],\"xaxis\":\"x\",\"y\":[-482.5,-482.5,-505.0,-505.0],\"yaxis\":\"y\",\"type\":\"scatter\"},{\"hoverinfo\":\"text\",\"marker\":{\"color\":\"rgb(61,153,112)\"},\"mode\":\"lines\",\"x\":[0.0,0.49811654104652403,0.49811654104652403,0.0],\"xaxis\":\"x\",\"y\":[-515.0,-515.0,-525.0,-525.0],\"yaxis\":\"y\",\"type\":\"scatter\"},{\"hoverinfo\":\"text\",\"marker\":{\"color\":\"rgb(61,153,112)\"},\"mode\":\"lines\",\"x\":[0.6248015234505273,0.7274411650717802,0.7274411650717802,0.49811654104652403],\"xaxis\":\"x\",\"y\":[-493.75,-493.75,-520.0,-520.0],\"yaxis\":\"y\",\"type\":\"scatter\"},{\"hoverinfo\":\"text\",\"marker\":{\"color\":\"rgb(61,153,112)\"},\"mode\":\"lines\",\"x\":[0.7274411650717802,0.8129466067160354,0.8129466067160354,0.0],\"xaxis\":\"x\",\"y\":[-506.875,-506.875,-535.0,-535.0],\"yaxis\":\"y\",\"type\":\"scatter\"},{\"hoverinfo\":\"text\",\"marker\":{\"color\":\"rgb(61,153,112)\"},\"mode\":\"lines\",\"x\":[0.7631379999890212,0.8755534153592536,0.8755534153592536,0.8129466067160354],\"xaxis\":\"x\",\"y\":[-224.51452016830444,-224.51452016830444,-520.9375,-520.9375],\"yaxis\":\"y\",\"type\":\"scatter\"},{\"hoverinfo\":\"text\",\"marker\":{\"color\":\"rgb(61,153,112)\"},\"mode\":\"lines\",\"x\":[0.8370598866345437,0.9177413807692615,0.9177413807692615,0.8755534153592536],\"xaxis\":\"x\",\"y\":[-61.5625,-61.5625,-372.7260100841522,-372.7260100841522],\"yaxis\":\"y\",\"type\":\"scatter\"},{\"hoverinfo\":\"text\",\"marker\":{\"color\":\"rgb(61,153,112)\"},\"mode\":\"lines\",\"x\":[0.0,0.6348553030284398,0.6348553030284398,0.0],\"xaxis\":\"x\",\"y\":[-545.0,-545.0,-555.0,-555.0],\"yaxis\":\"y\",\"type\":\"scatter\"},{\"hoverinfo\":\"text\",\"marker\":{\"color\":\"rgb(61,153,112)\"},\"mode\":\"lines\",\"x\":[0.0,0.7118017857652033,0.7118017857652033,0.0],\"xaxis\":\"x\",\"y\":[-565.0,-565.0,-575.0,-575.0],\"yaxis\":\"y\",\"type\":\"scatter\"},{\"hoverinfo\":\"text\",\"marker\":{\"color\":\"rgb(61,153,112)\"},\"mode\":\"lines\",\"x\":[0.0,0.5788964547070931,0.5788964547070931,0.0],\"xaxis\":\"x\",\"y\":[-615.0,-615.0,-625.0,-625.0],\"yaxis\":\"y\",\"type\":\"scatter\"},{\"hoverinfo\":\"text\",\"marker\":{\"color\":\"rgb(61,153,112)\"},\"mode\":\"lines\",\"x\":[0.0,0.616266936175881,0.616266936175881,0.5788964547070931],\"xaxis\":\"x\",\"y\":[-605.0,-605.0,-620.0,-620.0],\"yaxis\":\"y\",\"type\":\"scatter\"},{\"hoverinfo\":\"text\",\"marker\":{\"color\":\"rgb(61,153,112)\"},\"mode\":\"lines\",\"x\":[0.0,0.688958286985769,0.688958286985769,0.0],\"xaxis\":\"x\",\"y\":[-635.0,-635.0,-645.0,-645.0],\"yaxis\":\"y\",\"type\":\"scatter\"},{\"hoverinfo\":\"text\",\"marker\":{\"color\":\"rgb(61,153,112)\"},\"mode\":\"lines\",\"x\":[0.616266936175881,0.6950431674178845,0.6950431674178845,0.688958286985769],\"xaxis\":\"x\",\"y\":[-612.5,-612.5,-640.0,-640.0],\"yaxis\":\"y\",\"type\":\"scatter\"},{\"hoverinfo\":\"text\",\"marker\":{\"color\":\"rgb(61,153,112)\"},\"mode\":\"lines\",\"x\":[0.0,0.7176857779983618,0.7176857779983618,0.6950431674178845],\"xaxis\":\"x\",\"y\":[-595.0,-595.0,-626.25,-626.25],\"yaxis\":\"y\",\"type\":\"scatter\"},{\"hoverinfo\":\"text\",\"marker\":{\"color\":\"rgb(61,153,112)\"},\"mode\":\"lines\",\"x\":[0.0,0.6558033055886222,0.6558033055886222,0.0],\"xaxis\":\"x\",\"y\":[-655.0,-655.0,-665.0,-665.0],\"yaxis\":\"y\",\"type\":\"scatter\"},{\"hoverinfo\":\"text\",\"marker\":{\"color\":\"rgb(61,153,112)\"},\"mode\":\"lines\",\"x\":[0.7176857779983618,0.7757524641876036,0.7757524641876036,0.6558033055886222],\"xaxis\":\"x\",\"y\":[-610.625,-610.625,-660.0,-660.0],\"yaxis\":\"y\",\"type\":\"scatter\"},{\"hoverinfo\":\"text\",\"marker\":{\"color\":\"rgb(61,153,112)\"},\"mode\":\"lines\",\"x\":[0.0,0.7890701910759691,0.7890701910759691,0.7757524641876036],\"xaxis\":\"x\",\"y\":[-585.0,-585.0,-635.3125,-635.3125],\"yaxis\":\"y\",\"type\":\"scatter\"},{\"hoverinfo\":\"text\",\"marker\":{\"color\":\"rgb(61,153,112)\"},\"mode\":\"lines\",\"x\":[0.0,0.7151097130509043,0.7151097130509043,0.0],\"xaxis\":\"x\",\"y\":[-675.0,-675.0,-685.0,-685.0],\"yaxis\":\"y\",\"type\":\"scatter\"},{\"hoverinfo\":\"text\",\"marker\":{\"color\":\"rgb(61,153,112)\"},\"mode\":\"lines\",\"x\":[0.0,0.7057117997042475,0.7057117997042475,0.0],\"xaxis\":\"x\",\"y\":[-695.0,-695.0,-705.0,-705.0],\"yaxis\":\"y\",\"type\":\"scatter\"},{\"hoverinfo\":\"text\",\"marker\":{\"color\":\"rgb(61,153,112)\"},\"mode\":\"lines\",\"x\":[0.7057117997042475,0.7387813540312688,0.7387813540312688,0.0],\"xaxis\":\"x\",\"y\":[-700.0,-700.0,-715.0,-715.0],\"yaxis\":\"y\",\"type\":\"scatter\"},{\"hoverinfo\":\"text\",\"marker\":{\"color\":\"rgb(61,153,112)\"},\"mode\":\"lines\",\"x\":[0.7151097130509043,0.7821648813429154,0.7821648813429154,0.7387813540312688],\"xaxis\":\"x\",\"y\":[-680.0,-680.0,-707.5,-707.5],\"yaxis\":\"y\",\"type\":\"scatter\"},{\"hoverinfo\":\"text\",\"marker\":{\"color\":\"rgb(61,153,112)\"},\"mode\":\"lines\",\"x\":[0.7821648813429154,0.7932251890104436,0.7932251890104436,0.0],\"xaxis\":\"x\",\"y\":[-693.75,-693.75,-725.0,-725.0],\"yaxis\":\"y\",\"type\":\"scatter\"},{\"hoverinfo\":\"text\",\"marker\":{\"color\":\"rgb(61,153,112)\"},\"mode\":\"lines\",\"x\":[0.7890701910759691,0.8073189983724028,0.8073189983724028,0.7932251890104436],\"xaxis\":\"x\",\"y\":[-610.15625,-610.15625,-709.375,-709.375],\"yaxis\":\"y\",\"type\":\"scatter\"},{\"hoverinfo\":\"text\",\"marker\":{\"color\":\"rgb(61,153,112)\"},\"mode\":\"lines\",\"x\":[0.7118017857652033,0.8196642655074492,0.8196642655074492,0.8073189983724028],\"xaxis\":\"x\",\"y\":[-570.0,-570.0,-659.765625,-659.765625],\"yaxis\":\"y\",\"type\":\"scatter\"},{\"hoverinfo\":\"text\",\"marker\":{\"color\":\"rgb(61,153,112)\"},\"mode\":\"lines\",\"x\":[0.0,0.6377608249209133,0.6377608249209133,0.0],\"xaxis\":\"x\",\"y\":[-745.0,-745.0,-755.0,-755.0],\"yaxis\":\"y\",\"type\":\"scatter\"},{\"hoverinfo\":\"text\",\"marker\":{\"color\":\"rgb(61,153,112)\"},\"mode\":\"lines\",\"x\":[0.0,0.7190138914178258,0.7190138914178258,0.6377608249209133],\"xaxis\":\"x\",\"y\":[-735.0,-735.0,-750.0,-750.0],\"yaxis\":\"y\",\"type\":\"scatter\"},{\"hoverinfo\":\"text\",\"marker\":{\"color\":\"rgb(61,153,112)\"},\"mode\":\"lines\",\"x\":[0.8196642655074492,0.8272287405720646,0.8272287405720646,0.7190138914178258],\"xaxis\":\"x\",\"y\":[-614.8828125,-614.8828125,-742.5,-742.5],\"yaxis\":\"y\",\"type\":\"scatter\"},{\"hoverinfo\":\"text\",\"marker\":{\"color\":\"rgb(61,153,112)\"},\"mode\":\"lines\",\"x\":[0.0,0.8212880053454226,0.8212880053454226,0.0],\"xaxis\":\"x\",\"y\":[-765.0,-765.0,-775.0,-775.0],\"yaxis\":\"y\",\"type\":\"scatter\"},{\"hoverinfo\":\"text\",\"marker\":{\"color\":\"rgb(61,153,112)\"},\"mode\":\"lines\",\"x\":[0.8272287405720646,0.8338479192017733,0.8338479192017733,0.8212880053454226],\"xaxis\":\"x\",\"y\":[-678.69140625,-678.69140625,-770.0,-770.0],\"yaxis\":\"y\",\"type\":\"scatter\"},{\"hoverinfo\":\"text\",\"marker\":{\"color\":\"rgb(61,153,112)\"},\"mode\":\"lines\",\"x\":[0.6348553030284398,0.8510455632660068,0.8510455632660068,0.8338479192017733],\"xaxis\":\"x\",\"y\":[-550.0,-550.0,-724.345703125,-724.345703125],\"yaxis\":\"y\",\"type\":\"scatter\"},{\"hoverinfo\":\"text\",\"marker\":{\"color\":\"rgb(61,153,112)\"},\"mode\":\"lines\",\"x\":[0.9177413807692615,0.9224717087218649,0.9224717087218649,0.8510455632660068],\"xaxis\":\"x\",\"y\":[-217.1442550420761,-217.1442550420761,-637.1728515625,-637.1728515625],\"yaxis\":\"y\",\"type\":\"scatter\"},{\"hoverinfo\":\"text\",\"marker\":{\"color\":\"rgb(61,153,112)\"},\"mode\":\"lines\",\"x\":[0.40085038446721555,0.963484047550437,0.963484047550437,0.9224717087218649],\"xaxis\":\"x\",\"y\":[-10.0,-10.0,-427.15855330228806,-427.15855330228806],\"yaxis\":\"y\",\"type\":\"scatter\"},{\"hoverinfo\":\"text\",\"marker\":{\"color\":\"rgb(255,65,54)\"},\"mode\":\"lines\",\"x\":[0.0,0.6044694075304204,0.6044694075304204,0.0],\"xaxis\":\"x\",\"y\":[-785.0,-785.0,-795.0,-795.0],\"yaxis\":\"y\",\"type\":\"scatter\"},{\"hoverinfo\":\"text\",\"marker\":{\"color\":\"rgb(35,205,205)\"},\"mode\":\"lines\",\"x\":[0.0,0.5316691946980077,0.5316691946980077,0.0],\"xaxis\":\"x\",\"y\":[-815.0,-815.0,-825.0,-825.0],\"yaxis\":\"y\",\"type\":\"scatter\"},{\"hoverinfo\":\"text\",\"marker\":{\"color\":\"rgb(35,205,205)\"},\"mode\":\"lines\",\"x\":[0.0,0.749319547450558,0.749319547450558,0.5316691946980077],\"xaxis\":\"x\",\"y\":[-805.0,-805.0,-820.0,-820.0],\"yaxis\":\"y\",\"type\":\"scatter\"},{\"hoverinfo\":\"text\",\"marker\":{\"color\":\"rgb(35,205,205)\"},\"mode\":\"lines\",\"x\":[0.0,0.4592728124987945,0.4592728124987945,0.0],\"xaxis\":\"x\",\"y\":[-845.0,-845.0,-855.0,-855.0],\"yaxis\":\"y\",\"type\":\"scatter\"},{\"hoverinfo\":\"text\",\"marker\":{\"color\":\"rgb(35,205,205)\"},\"mode\":\"lines\",\"x\":[0.0,0.5779757470424326,0.5779757470424326,0.4592728124987945],\"xaxis\":\"x\",\"y\":[-835.0,-835.0,-850.0,-850.0],\"yaxis\":\"y\",\"type\":\"scatter\"},{\"hoverinfo\":\"text\",\"marker\":{\"color\":\"rgb(35,205,205)\"},\"mode\":\"lines\",\"x\":[0.0,0.6683768594387216,0.6683768594387216,0.0],\"xaxis\":\"x\",\"y\":[-865.0,-865.0,-875.0,-875.0],\"yaxis\":\"y\",\"type\":\"scatter\"},{\"hoverinfo\":\"text\",\"marker\":{\"color\":\"rgb(35,205,205)\"},\"mode\":\"lines\",\"x\":[0.5779757470424326,0.762793641767023,0.762793641767023,0.6683768594387216],\"xaxis\":\"x\",\"y\":[-842.5,-842.5,-870.0,-870.0],\"yaxis\":\"y\",\"type\":\"scatter\"},{\"hoverinfo\":\"text\",\"marker\":{\"color\":\"rgb(35,205,205)\"},\"mode\":\"lines\",\"x\":[0.749319547450558,0.8101645252011289,0.8101645252011289,0.762793641767023],\"xaxis\":\"x\",\"y\":[-812.5,-812.5,-856.25,-856.25],\"yaxis\":\"y\",\"type\":\"scatter\"},{\"hoverinfo\":\"text\",\"marker\":{\"color\":\"rgb(35,205,205)\"},\"mode\":\"lines\",\"x\":[0.0,0.7574770976870894,0.7574770976870894,0.0],\"xaxis\":\"x\",\"y\":[-885.0,-885.0,-895.0,-895.0],\"yaxis\":\"y\",\"type\":\"scatter\"},{\"hoverinfo\":\"text\",\"marker\":{\"color\":\"rgb(35,205,205)\"},\"mode\":\"lines\",\"x\":[0.0,0.848229647482109,0.848229647482109,0.0],\"xaxis\":\"x\",\"y\":[-915.0,-915.0,-925.0,-925.0],\"yaxis\":\"y\",\"type\":\"scatter\"},{\"hoverinfo\":\"text\",\"marker\":{\"color\":\"rgb(35,205,205)\"},\"mode\":\"lines\",\"x\":[0.0,0.8685202473753483,0.8685202473753483,0.848229647482109],\"xaxis\":\"x\",\"y\":[-905.0,-905.0,-920.0,-920.0],\"yaxis\":\"y\",\"type\":\"scatter\"},{\"hoverinfo\":\"text\",\"marker\":{\"color\":\"rgb(35,205,205)\"},\"mode\":\"lines\",\"x\":[0.8685202473753483,0.8808437406067502,0.8808437406067502,0.0],\"xaxis\":\"x\",\"y\":[-912.5,-912.5,-935.0,-935.0],\"yaxis\":\"y\",\"type\":\"scatter\"},{\"hoverinfo\":\"text\",\"marker\":{\"color\":\"rgb(35,205,205)\"},\"mode\":\"lines\",\"x\":[0.7574770976870894,0.8914247539030441,0.8914247539030441,0.8808437406067502],\"xaxis\":\"x\",\"y\":[-890.0,-890.0,-923.75,-923.75],\"yaxis\":\"y\",\"type\":\"scatter\"},{\"hoverinfo\":\"text\",\"marker\":{\"color\":\"rgb(35,205,205)\"},\"mode\":\"lines\",\"x\":[0.8101645252011289,0.9548368741813357,0.9548368741813357,0.8914247539030441],\"xaxis\":\"x\",\"y\":[-834.375,-834.375,-906.875,-906.875],\"yaxis\":\"y\",\"type\":\"scatter\"},{\"hoverinfo\":\"text\",\"marker\":{\"color\":\"rgb(0,116,217)\"},\"mode\":\"lines\",\"x\":[0.6044694075304204,1.0167844609449688,1.0167844609449688,0.9548368741813357],\"xaxis\":\"x\",\"y\":[-790.0,-790.0,-870.625,-870.625],\"yaxis\":\"y\",\"type\":\"scatter\"},{\"hoverinfo\":\"text\",\"marker\":{\"color\":\"rgb(0,116,217)\"},\"mode\":\"lines\",\"x\":[0.963484047550437,1.1112219629286053,1.1112219629286053,1.0167844609449688],\"xaxis\":\"x\",\"y\":[-218.57927665114403,-218.57927665114403,-830.3125,-830.3125],\"yaxis\":\"y\",\"type\":\"scatter\"},{\"hoverinfo\":\"text\",\"marker\":{\"color\":\"rgb(133,20,75)\"},\"mode\":\"lines\",\"x\":[0.0,0.48147800093833615,0.48147800093833615,0.0],\"xaxis\":\"x\",\"y\":[-945.0,-945.0,-955.0,-955.0],\"yaxis\":\"y\",\"type\":\"scatter\"},{\"hoverinfo\":\"text\",\"marker\":{\"color\":\"rgb(255,220,0)\"},\"mode\":\"lines\",\"x\":[0.0,0.6814742506199771,0.6814742506199771,0.0],\"xaxis\":\"x\",\"y\":[-975.0,-975.0,-985.0,-985.0],\"yaxis\":\"y\",\"type\":\"scatter\"},{\"hoverinfo\":\"text\",\"marker\":{\"color\":\"rgb(255,220,0)\"},\"mode\":\"lines\",\"x\":[0.0,0.9581573366792556,0.9581573366792556,0.6814742506199771],\"xaxis\":\"x\",\"y\":[-965.0,-965.0,-980.0,-980.0],\"yaxis\":\"y\",\"type\":\"scatter\"},{\"hoverinfo\":\"text\",\"marker\":{\"color\":\"rgb(40,35,35)\"},\"mode\":\"lines\",\"x\":[0.0,0.8834306563962061,0.8834306563962061,0.0],\"xaxis\":\"x\",\"y\":[-1015.0,-1015.0,-1025.0,-1025.0],\"yaxis\":\"y\",\"type\":\"scatter\"},{\"hoverinfo\":\"text\",\"marker\":{\"color\":\"rgb(40,35,35)\"},\"mode\":\"lines\",\"x\":[0.0,0.9381368380958042,0.9381368380958042,0.8834306563962061],\"xaxis\":\"x\",\"y\":[-1005.0,-1005.0,-1020.0,-1020.0],\"yaxis\":\"y\",\"type\":\"scatter\"},{\"hoverinfo\":\"text\",\"marker\":{\"color\":\"rgb(40,35,35)\"},\"mode\":\"lines\",\"x\":[0.9381368380958042,0.9437847949034673,0.9437847949034673,0.0],\"xaxis\":\"x\",\"y\":[-1012.5,-1012.5,-1035.0,-1035.0],\"yaxis\":\"y\",\"type\":\"scatter\"},{\"hoverinfo\":\"text\",\"marker\":{\"color\":\"rgb(40,35,35)\"},\"mode\":\"lines\",\"x\":[0.9437847949034673,0.9552468991904601,0.9552468991904601,0.0],\"xaxis\":\"x\",\"y\":[-1023.75,-1023.75,-1045.0,-1045.0],\"yaxis\":\"y\",\"type\":\"scatter\"},{\"hoverinfo\":\"text\",\"marker\":{\"color\":\"rgb(40,35,35)\"},\"mode\":\"lines\",\"x\":[0.0,0.9628365743412385,0.9628365743412385,0.9552468991904601],\"xaxis\":\"x\",\"y\":[-995.0,-995.0,-1034.375,-1034.375],\"yaxis\":\"y\",\"type\":\"scatter\"},{\"hoverinfo\":\"text\",\"marker\":{\"color\":\"rgb(40,35,35)\"},\"mode\":\"lines\",\"x\":[0.9628365743412385,0.9919791279841241,0.9919791279841241,0.0],\"xaxis\":\"x\",\"y\":[-1014.6875,-1014.6875,-1055.0,-1055.0],\"yaxis\":\"y\",\"type\":\"scatter\"},{\"hoverinfo\":\"text\",\"marker\":{\"color\":\"rgb(61,153,112)\"},\"mode\":\"lines\",\"x\":[0.0,0.7570893674638453,0.7570893674638453,0.0],\"xaxis\":\"x\",\"y\":[-1065.0,-1065.0,-1075.0,-1075.0],\"yaxis\":\"y\",\"type\":\"scatter\"},{\"hoverinfo\":\"text\",\"marker\":{\"color\":\"rgb(61,153,112)\"},\"mode\":\"lines\",\"x\":[0.7570893674638453,0.8407589295537782,0.8407589295537782,0.0],\"xaxis\":\"x\",\"y\":[-1070.0,-1070.0,-1085.0,-1085.0],\"yaxis\":\"y\",\"type\":\"scatter\"},{\"hoverinfo\":\"text\",\"marker\":{\"color\":\"rgb(61,153,112)\"},\"mode\":\"lines\",\"x\":[0.0,0.8433451862882165,0.8433451862882165,0.0],\"xaxis\":\"x\",\"y\":[-1095.0,-1095.0,-1105.0,-1105.0],\"yaxis\":\"y\",\"type\":\"scatter\"},{\"hoverinfo\":\"text\",\"marker\":{\"color\":\"rgb(61,153,112)\"},\"mode\":\"lines\",\"x\":[0.0,0.9124015444165515,0.9124015444165515,0.0],\"xaxis\":\"x\",\"y\":[-1115.0,-1115.0,-1125.0,-1125.0],\"yaxis\":\"y\",\"type\":\"scatter\"},{\"hoverinfo\":\"text\",\"marker\":{\"color\":\"rgb(61,153,112)\"},\"mode\":\"lines\",\"x\":[0.8433451862882165,0.9479243264582041,0.9479243264582041,0.9124015444165515],\"xaxis\":\"x\",\"y\":[-1100.0,-1100.0,-1120.0,-1120.0],\"yaxis\":\"y\",\"type\":\"scatter\"},{\"hoverinfo\":\"text\",\"marker\":{\"color\":\"rgb(61,153,112)\"},\"mode\":\"lines\",\"x\":[0.8407589295537782,0.9719383247478495,0.9719383247478495,0.9479243264582041],\"xaxis\":\"x\",\"y\":[-1077.5,-1077.5,-1110.0,-1110.0],\"yaxis\":\"y\",\"type\":\"scatter\"},{\"hoverinfo\":\"text\",\"marker\":{\"color\":\"rgb(0,116,217)\"},\"mode\":\"lines\",\"x\":[0.9919791279841241,1.007380650158372,1.007380650158372,0.9719383247478495],\"xaxis\":\"x\",\"y\":[-1034.84375,-1034.84375,-1093.75,-1093.75],\"yaxis\":\"y\",\"type\":\"scatter\"},{\"hoverinfo\":\"text\",\"marker\":{\"color\":\"rgb(255,65,54)\"},\"mode\":\"lines\",\"x\":[0.0,0.7609788471252118,0.7609788471252118,0.0],\"xaxis\":\"x\",\"y\":[-1145.0,-1145.0,-1155.0,-1155.0],\"yaxis\":\"y\",\"type\":\"scatter\"},{\"hoverinfo\":\"text\",\"marker\":{\"color\":\"rgb(255,65,54)\"},\"mode\":\"lines\",\"x\":[0.0,0.8023674556994344,0.8023674556994344,0.7609788471252118],\"xaxis\":\"x\",\"y\":[-1135.0,-1135.0,-1150.0,-1150.0],\"yaxis\":\"y\",\"type\":\"scatter\"},{\"hoverinfo\":\"text\",\"marker\":{\"color\":\"rgb(255,65,54)\"},\"mode\":\"lines\",\"x\":[0.8023674556994344,0.864721273697658,0.864721273697658,0.0],\"xaxis\":\"x\",\"y\":[-1142.5,-1142.5,-1165.0,-1165.0],\"yaxis\":\"y\",\"type\":\"scatter\"},{\"hoverinfo\":\"text\",\"marker\":{\"color\":\"rgb(0,116,217)\"},\"mode\":\"lines\",\"x\":[1.007380650158372,1.0399984424631765,1.0399984424631765,0.864721273697658],\"xaxis\":\"x\",\"y\":[-1064.296875,-1064.296875,-1153.75,-1153.75],\"yaxis\":\"y\",\"type\":\"scatter\"},{\"hoverinfo\":\"text\",\"marker\":{\"color\":\"rgb(0,116,217)\"},\"mode\":\"lines\",\"x\":[0.9581573366792556,1.0911233263438085,1.0911233263438085,1.0399984424631765],\"xaxis\":\"x\",\"y\":[-972.5,-972.5,-1109.0234375,-1109.0234375],\"yaxis\":\"y\",\"type\":\"scatter\"},{\"hoverinfo\":\"text\",\"marker\":{\"color\":\"rgb(35,205,205)\"},\"mode\":\"lines\",\"x\":[0.0,0.5281637370568422,0.5281637370568422,0.0],\"xaxis\":\"x\",\"y\":[-1175.0,-1175.0,-1185.0,-1185.0],\"yaxis\":\"y\",\"type\":\"scatter\"},{\"hoverinfo\":\"text\",\"marker\":{\"color\":\"rgb(0,116,217)\"},\"mode\":\"lines\",\"x\":[1.0911233263438085,1.1759454860137382,1.1759454860137382,0.5281637370568422],\"xaxis\":\"x\",\"y\":[-1040.76171875,-1040.76171875,-1180.0,-1180.0],\"yaxis\":\"y\",\"type\":\"scatter\"},{\"hoverinfo\":\"text\",\"marker\":{\"color\":\"rgb(0,116,217)\"},\"mode\":\"lines\",\"x\":[0.48147800093833615,1.2210925750388455,1.2210925750388455,1.1759454860137382],\"xaxis\":\"x\",\"y\":[-950.0,-950.0,-1110.380859375,-1110.380859375],\"yaxis\":\"y\",\"type\":\"scatter\"},{\"hoverinfo\":\"text\",\"marker\":{\"color\":\"rgb(61,153,112)\"},\"mode\":\"lines\",\"x\":[0.0,0.7504248697979073,0.7504248697979073,0.0],\"xaxis\":\"x\",\"y\":[-1195.0,-1195.0,-1205.0,-1205.0],\"yaxis\":\"y\",\"type\":\"scatter\"},{\"hoverinfo\":\"text\",\"marker\":{\"color\":\"rgb(255,65,54)\"},\"mode\":\"lines\",\"x\":[0.0,0.6428407061619108,0.6428407061619108,0.0],\"xaxis\":\"x\",\"y\":[-1215.0,-1215.0,-1225.0,-1225.0],\"yaxis\":\"y\",\"type\":\"scatter\"},{\"hoverinfo\":\"text\",\"marker\":{\"color\":\"rgb(255,65,54)\"},\"mode\":\"lines\",\"x\":[0.0,0.798899623124242,0.798899623124242,0.0],\"xaxis\":\"x\",\"y\":[-1235.0,-1235.0,-1245.0,-1245.0],\"yaxis\":\"y\",\"type\":\"scatter\"},{\"hoverinfo\":\"text\",\"marker\":{\"color\":\"rgb(255,65,54)\"},\"mode\":\"lines\",\"x\":[0.6428407061619108,0.8518422892908261,0.8518422892908261,0.798899623124242],\"xaxis\":\"x\",\"y\":[-1220.0,-1220.0,-1240.0,-1240.0],\"yaxis\":\"y\",\"type\":\"scatter\"},{\"hoverinfo\":\"text\",\"marker\":{\"color\":\"rgb(255,65,54)\"},\"mode\":\"lines\",\"x\":[0.0,0.8744558760336403,0.8744558760336403,0.0],\"xaxis\":\"x\",\"y\":[-1255.0,-1255.0,-1265.0,-1265.0],\"yaxis\":\"y\",\"type\":\"scatter\"},{\"hoverinfo\":\"text\",\"marker\":{\"color\":\"rgb(255,65,54)\"},\"mode\":\"lines\",\"x\":[0.0,0.8215223583133167,0.8215223583133167,0.0],\"xaxis\":\"x\",\"y\":[-1285.0,-1285.0,-1295.0,-1295.0],\"yaxis\":\"y\",\"type\":\"scatter\"},{\"hoverinfo\":\"text\",\"marker\":{\"color\":\"rgb(255,65,54)\"},\"mode\":\"lines\",\"x\":[0.0,0.8460552961027075,0.8460552961027075,0.8215223583133167],\"xaxis\":\"x\",\"y\":[-1275.0,-1275.0,-1290.0,-1290.0],\"yaxis\":\"y\",\"type\":\"scatter\"},{\"hoverinfo\":\"text\",\"marker\":{\"color\":\"rgb(255,65,54)\"},\"mode\":\"lines\",\"x\":[0.0,0.805231370731966,0.805231370731966,0.0],\"xaxis\":\"x\",\"y\":[-1305.0,-1305.0,-1315.0,-1315.0],\"yaxis\":\"y\",\"type\":\"scatter\"},{\"hoverinfo\":\"text\",\"marker\":{\"color\":\"rgb(255,65,54)\"},\"mode\":\"lines\",\"x\":[0.8460552961027075,0.8518972486832644,0.8518972486832644,0.805231370731966],\"xaxis\":\"x\",\"y\":[-1282.5,-1282.5,-1310.0,-1310.0],\"yaxis\":\"y\",\"type\":\"scatter\"},{\"hoverinfo\":\"text\",\"marker\":{\"color\":\"rgb(255,65,54)\"},\"mode\":\"lines\",\"x\":[0.8518972486832644,0.8652171966303451,0.8652171966303451,0.0],\"xaxis\":\"x\",\"y\":[-1296.25,-1296.25,-1325.0,-1325.0],\"yaxis\":\"y\",\"type\":\"scatter\"},{\"hoverinfo\":\"text\",\"marker\":{\"color\":\"rgb(255,65,54)\"},\"mode\":\"lines\",\"x\":[0.8744558760336403,0.9080000921557062,0.9080000921557062,0.8652171966303451],\"xaxis\":\"x\",\"y\":[-1260.0,-1260.0,-1310.625,-1310.625],\"yaxis\":\"y\",\"type\":\"scatter\"},{\"hoverinfo\":\"text\",\"marker\":{\"color\":\"rgb(255,65,54)\"},\"mode\":\"lines\",\"x\":[0.0,0.8874954426405501,0.8874954426405501,0.0],\"xaxis\":\"x\",\"y\":[-1335.0,-1335.0,-1345.0,-1345.0],\"yaxis\":\"y\",\"type\":\"scatter\"},{\"hoverinfo\":\"text\",\"marker\":{\"color\":\"rgb(255,65,54)\"},\"mode\":\"lines\",\"x\":[0.9080000921557062,0.9255155414736729,0.9255155414736729,0.8874954426405501],\"xaxis\":\"x\",\"y\":[-1285.3125,-1285.3125,-1340.0,-1340.0],\"yaxis\":\"y\",\"type\":\"scatter\"},{\"hoverinfo\":\"text\",\"marker\":{\"color\":\"rgb(255,65,54)\"},\"mode\":\"lines\",\"x\":[0.8518422892908261,0.9637766116271944,0.9637766116271944,0.9255155414736729],\"xaxis\":\"x\",\"y\":[-1230.0,-1230.0,-1312.65625,-1312.65625],\"yaxis\":\"y\",\"type\":\"scatter\"},{\"hoverinfo\":\"text\",\"marker\":{\"color\":\"rgb(0,116,217)\"},\"mode\":\"lines\",\"x\":[0.7504248697979073,1.0058829368319733,1.0058829368319733,0.9637766116271944],\"xaxis\":\"x\",\"y\":[-1200.0,-1200.0,-1271.328125,-1271.328125],\"yaxis\":\"y\",\"type\":\"scatter\"},{\"hoverinfo\":\"text\",\"marker\":{\"color\":\"rgb(35,205,205)\"},\"mode\":\"lines\",\"x\":[0.0,0.38165562228898864,0.38165562228898864,0.0],\"xaxis\":\"x\",\"y\":[-1365.0,-1365.0,-1375.0,-1375.0],\"yaxis\":\"y\",\"type\":\"scatter\"},{\"hoverinfo\":\"text\",\"marker\":{\"color\":\"rgb(35,205,205)\"},\"mode\":\"lines\",\"x\":[0.0,0.7126546832485074,0.7126546832485074,0.0],\"xaxis\":\"x\",\"y\":[-1385.0,-1385.0,-1395.0,-1395.0],\"yaxis\":\"y\",\"type\":\"scatter\"},{\"hoverinfo\":\"text\",\"marker\":{\"color\":\"rgb(35,205,205)\"},\"mode\":\"lines\",\"x\":[0.38165562228898864,0.822997329907922,0.822997329907922,0.7126546832485074],\"xaxis\":\"x\",\"y\":[-1370.0,-1370.0,-1390.0,-1390.0],\"yaxis\":\"y\",\"type\":\"scatter\"},{\"hoverinfo\":\"text\",\"marker\":{\"color\":\"rgb(35,205,205)\"},\"mode\":\"lines\",\"x\":[0.0,0.8657339937959605,0.8657339937959605,0.822997329907922],\"xaxis\":\"x\",\"y\":[-1355.0,-1355.0,-1380.0,-1380.0],\"yaxis\":\"y\",\"type\":\"scatter\"},{\"hoverinfo\":\"text\",\"marker\":{\"color\":\"rgb(35,205,205)\"},\"mode\":\"lines\",\"x\":[0.0,0.8582717992648717,0.8582717992648717,0.0],\"xaxis\":\"x\",\"y\":[-1405.0,-1405.0,-1415.0,-1415.0],\"yaxis\":\"y\",\"type\":\"scatter\"},{\"hoverinfo\":\"text\",\"marker\":{\"color\":\"rgb(35,205,205)\"},\"mode\":\"lines\",\"x\":[0.8657339937959605,0.9016061204886013,0.9016061204886013,0.8582717992648717],\"xaxis\":\"x\",\"y\":[-1367.5,-1367.5,-1410.0,-1410.0],\"yaxis\":\"y\",\"type\":\"scatter\"},{\"hoverinfo\":\"text\",\"marker\":{\"color\":\"rgb(0,116,217)\"},\"mode\":\"lines\",\"x\":[1.0058829368319733,1.0321175063186951,1.0321175063186951,0.9016061204886013],\"xaxis\":\"x\",\"y\":[-1235.6640625,-1235.6640625,-1388.75,-1388.75],\"yaxis\":\"y\",\"type\":\"scatter\"},{\"hoverinfo\":\"text\",\"marker\":{\"color\":\"rgb(133,20,75)\"},\"mode\":\"lines\",\"x\":[0.0,0.5271822564739206,0.5271822564739206,0.0],\"xaxis\":\"x\",\"y\":[-1425.0,-1425.0,-1435.0,-1435.0],\"yaxis\":\"y\",\"type\":\"scatter\"},{\"hoverinfo\":\"text\",\"marker\":{\"color\":\"rgb(0,116,217)\"},\"mode\":\"lines\",\"x\":[1.0321175063186951,1.0353080644247343,1.0353080644247343,0.5271822564739206],\"xaxis\":\"x\",\"y\":[-1312.20703125,-1312.20703125,-1430.0,-1430.0],\"yaxis\":\"y\",\"type\":\"scatter\"},{\"hoverinfo\":\"text\",\"marker\":{\"color\":\"rgb(255,220,0)\"},\"mode\":\"lines\",\"x\":[0.0,0.6386442841819431,0.6386442841819431,0.0],\"xaxis\":\"x\",\"y\":[-1445.0,-1445.0,-1455.0,-1455.0],\"yaxis\":\"y\",\"type\":\"scatter\"},{\"hoverinfo\":\"text\",\"marker\":{\"color\":\"rgb(0,116,217)\"},\"mode\":\"lines\",\"x\":[1.0353080644247343,1.1472596665318446,1.1472596665318446,0.6386442841819431],\"xaxis\":\"x\",\"y\":[-1371.103515625,-1371.103515625,-1450.0,-1450.0],\"yaxis\":\"y\",\"type\":\"scatter\"},{\"hoverinfo\":\"text\",\"marker\":{\"color\":\"rgb(0,116,217)\"},\"mode\":\"lines\",\"x\":[1.2210925750388455,1.2688392555457424,1.2688392555457424,1.1472596665318446],\"xaxis\":\"x\",\"y\":[-1030.1904296875,-1030.1904296875,-1410.5517578125,-1410.5517578125],\"yaxis\":\"y\",\"type\":\"scatter\"},{\"hoverinfo\":\"text\",\"marker\":{\"color\":\"rgb(40,35,35)\"},\"mode\":\"lines\",\"x\":[0.0,0.5094204999538487,0.5094204999538487,0.0],\"xaxis\":\"x\",\"y\":[-1465.0,-1465.0,-1475.0,-1475.0],\"yaxis\":\"y\",\"type\":\"scatter\"},{\"hoverinfo\":\"text\",\"marker\":{\"color\":\"rgb(0,116,217)\"},\"mode\":\"lines\",\"x\":[1.2688392555457424,1.364852717994501,1.364852717994501,0.5094204999538487],\"xaxis\":\"x\",\"y\":[-1220.37109375,-1220.37109375,-1470.0,-1470.0],\"yaxis\":\"y\",\"type\":\"scatter\"},{\"hoverinfo\":\"text\",\"marker\":{\"color\":\"rgb(0,116,217)\"},\"mode\":\"lines\",\"x\":[1.1112219629286053,2.4534680920994423,2.4534680920994423,1.364852717994501],\"xaxis\":\"x\",\"y\":[-524.445888325572,-524.445888325572,-1345.185546875,-1345.185546875],\"yaxis\":\"y\",\"type\":\"scatter\"}],                        {\"autosize\":false,\"height\":2420,\"hovermode\":\"closest\",\"showlegend\":false,\"width\":1000,\"xaxis\":{\"mirror\":\"allticks\",\"rangemode\":\"tozero\",\"showgrid\":false,\"showline\":true,\"showticklabels\":true,\"ticks\":\"outside\",\"type\":\"linear\",\"zeroline\":false},\"yaxis\":{\"mirror\":\"allticks\",\"rangemode\":\"tozero\",\"showgrid\":false,\"showline\":true,\"showticklabels\":true,\"tickmode\":\"array\",\"ticks\":\"outside\",\"ticktext\":[\"60_spotify_rogan_joe rogan\",\"51_rogan_joe rogan_joe\",\"76_crack_pipes_crack pipes\",\"71_formula_baby formula_baby\",\"131_heartbeat_heart_fetal\",\"99_ivermectin_of ivermectin...\",\"112_myocarditis_that_it\",\"89_pfizer_that_the\",\"95_fda_the fda_pharma\",\"141_dioxide_carbon dioxide_...\",\"140_that_you_depression\",\"117_marijuana_pot_cannabis\",\"138_breyer_justice_court\",\"70_osha_passports_hair\",\"127_doctor_the_and\",\"31_omicron_delta_variant\",\"19_fauci_lab_wuhan\",\"39_fentanyl_drug_the\",\"100_socialism_the_of\",\"92_you_that_and\",\"17_disney_the_to\",\"68_airlines_the_airline\",\"14_mask_masks_wear\",\"29_tucker_lee_carlson\",\"30_gender_puberty_children\",\"21_sports_women_womens\",\"9_canada_trudeau_truckers\",\"8_gun_guns_the\",\"4_abortion_the_that\",\"7_woman_women_that\",\"0_the_and_to\",\"2_covid_vaccine_the\",\"27_fat_you_is\",\"45_the_to_and\",\"25_queen_she_the queen\",\"11_book_the_you\",\"1_ukraine_putin_russia\",\"13_afghanistan_war_we\",\"3_energy_oil_gas\",\"5_inflation_the_to\",\"6_border_the border_the\",\"37_starbucks_the_to\",\"52_the_columbus_of\",\"36_irs_the irs_agents\",\"48_hurricane_storm_florida\",\"66_alzheimers_brady_you\",\"61_sri_sri lanka_lanka\",\"65_olympics_china_the olymp...\",\"12_china_chinese_the\",\"10_taiwan_china_chinese\",\"18_hunter_biden_hunter biden\",\"22_iran_saudi_nuclear\",\"78_israel_peace_the\",\"53_nord_nord stream_stream\",\"146_marriage_divorce_babylon\",\"69_marriage_gay marriage_gay\",\"115_nfl_the nfl_coaches\",\"133_skateboarding_and_you\",\"63_tiktok_libs of_of tiktok\",\"43_depp_johnny_amber\",\"73_jews_jewish_antisemitic\",\"44_smith_will smith_chris r...\",\"34_kanye_knowles_michael kn...\",\"46_cuomo_zucker_cnn\",\"77_epstein_veritas_beto\",\"23_rumble_on rumble_youtube\",\"62_tickets_tour_dave\",\"81_esg_esg is_the esg\",\"80_italy_italian_maloney\",\"145_military_the military_you\",\"75_leah_leah thomas_thomas\",\"134_page_ellen_ellen page\",\"128_tulsi_gabbard_tulsi gab...\",\"35_civil war_civil_war\",\"58_slavery_slaves_slave\",\"130_juneteenth_lebron_holiday\",\"124_no more_has arrived_arr...\",\"110_bolsonaro_lula_brazil\",\"120_gold_silver_goldline\",\"85_gold_silver_dollar\",\"16_american financing_finan...\",\"20_student_debt_loan\",\"103_college_to college_degree\",\"50_digital_bitcoin_currency\",\"32_rates_interest_market\",\"113_reserve_fed_currency\",\"106_jobs_unemployment_job\",\"33_recession_in recession_q...\",\"119_parallel_parallel econo...\",\"132_paypal_parallel economy...\",\"102_title 42_42_title\",\"121_chips_finals_nba\",\"93_kansas_in kansas_blaze m...\",\"108_zone_fly zone_no fly zone\",\"144_title_home_your\",\"111_title_home_home title\",\"139_abnormal_50_abnormal 50\",\"84_levin_levin podcast_prom...\",\"114_target_firearm_save\",\"123_ziprecruiter_ziprecruit...\",\"101_ring_alarm_ring alarm\",\"59_laughing laughing_laughi...\",\"72_car_car shield_your car\",\"136_hr_bambi_hr manager\",\"98_listerine_fracking_bjs\",\"147_heart_heart disease_dis...\",\"109_glasses_better spectacl...\",\"49_ben_ben shapiro_shapiro\",\"41_expressvpn_expressvpncom...\",\"126_formulated_zstack_vitamin\",\"104_megyn kelly_megyn_kelly\",\"135_beautiful anonymous_ano...\",\"83_cash back_cash_app\",\"28_patriot_mobile_patriot m...\",\"91_sheets_phone_your phone\",\"122_month_pure talk_pure\",\"74_betmgm_unlimited_free\",\"88_your_consult with_consul...\",\"118_consult with your_consu...\",\"96_mattress_helix_sleep\",\"90_sleep_bed_of sleep\",\"129_wine_wines_athletic gre...\",\"15_monkeypox_mark levin_877...\",\"67_skin_retinol_free\",\"94_cash_cash from_bank\",\"55_real estate_estate_real ...\",\"116_blindscom_window_blinds\",\"57_insurance_life insurance...\",\"137_socks_grip6_grip\",\"86_ranchers_good ranchers_m...\",\"82_bar_protein_chocolate\",\"47_sponsor_about this spons...\",\"97_razors_jeremys_jeremys r...\",\"125_shoes_vivo_barefoot\",\"64_of certain us_certain us...\",\"79_sweat_sweat block_block\",\"24_glenn_glenn beck_beck\",\"56_glenn_blaze_blaze tv\",\"54_pillow_mypillowcom_promo\",\"38_lifelock_lifelockcom_ide...\",\"26_relief_relief factor_fac...\",\"42_dog_rough greens_rough\",\"40_sheets_naturally_thats t...\",\"142_wikipedia_epic_will\",\"87_oreilly_bill oreilly_bill\",\"105_oreilly_update heres_or...\",\"107_quinton_fedex_clothing ...\",\"143_quinton_fedex_quinton h...\"],\"tickvals\":[-5.0,-15.0,-25.0,-35.0,-45.0,-55.0,-65.0,-75.0,-85.0,-95.0,-105.0,-115.0,-125.0,-135.0,-145.0,-155.0,-165.0,-175.0,-185.0,-195.0,-205.0,-215.0,-225.0,-235.0,-245.0,-255.0,-265.0,-275.0,-285.0,-295.0,-305.0,-315.0,-325.0,-335.0,-345.0,-355.0,-365.0,-375.0,-385.0,-395.0,-405.0,-415.0,-425.0,-435.0,-445.0,-455.0,-465.0,-475.0,-485.0,-495.0,-505.0,-515.0,-525.0,-535.0,-545.0,-555.0,-565.0,-575.0,-585.0,-595.0,-605.0,-615.0,-625.0,-635.0,-645.0,-655.0,-665.0,-675.0,-685.0,-695.0,-705.0,-715.0,-725.0,-735.0,-745.0,-755.0,-765.0,-775.0,-785.0,-795.0,-805.0,-815.0,-825.0,-835.0,-845.0,-855.0,-865.0,-875.0,-885.0,-895.0,-905.0,-915.0,-925.0,-935.0,-945.0,-955.0,-965.0,-975.0,-985.0,-995.0,-1005.0,-1015.0,-1025.0,-1035.0,-1045.0,-1055.0,-1065.0,-1075.0,-1085.0,-1095.0,-1105.0,-1115.0,-1125.0,-1135.0,-1145.0,-1155.0,-1165.0,-1175.0,-1185.0,-1195.0,-1205.0,-1215.0,-1225.0,-1235.0,-1245.0,-1255.0,-1265.0,-1275.0,-1285.0,-1295.0,-1305.0,-1315.0,-1325.0,-1335.0,-1345.0,-1355.0,-1365.0,-1375.0,-1385.0,-1395.0,-1405.0,-1415.0,-1425.0,-1435.0,-1445.0,-1455.0,-1465.0,-1475.0],\"type\":\"linear\",\"zeroline\":false,\"range\":[-1480.0,0.0]},\"template\":{\"data\":{\"barpolar\":[{\"marker\":{\"line\":{\"color\":\"white\",\"width\":0.5},\"pattern\":{\"fillmode\":\"overlay\",\"size\":10,\"solidity\":0.2}},\"type\":\"barpolar\"}],\"bar\":[{\"error_x\":{\"color\":\"#2a3f5f\"},\"error_y\":{\"color\":\"#2a3f5f\"},\"marker\":{\"line\":{\"color\":\"white\",\"width\":0.5},\"pattern\":{\"fillmode\":\"overlay\",\"size\":10,\"solidity\":0.2}},\"type\":\"bar\"}],\"carpet\":[{\"aaxis\":{\"endlinecolor\":\"#2a3f5f\",\"gridcolor\":\"#C8D4E3\",\"linecolor\":\"#C8D4E3\",\"minorgridcolor\":\"#C8D4E3\",\"startlinecolor\":\"#2a3f5f\"},\"baxis\":{\"endlinecolor\":\"#2a3f5f\",\"gridcolor\":\"#C8D4E3\",\"linecolor\":\"#C8D4E3\",\"minorgridcolor\":\"#C8D4E3\",\"startlinecolor\":\"#2a3f5f\"},\"type\":\"carpet\"}],\"choropleth\":[{\"colorbar\":{\"outlinewidth\":0,\"ticks\":\"\"},\"type\":\"choropleth\"}],\"contourcarpet\":[{\"colorbar\":{\"outlinewidth\":0,\"ticks\":\"\"},\"type\":\"contourcarpet\"}],\"contour\":[{\"colorbar\":{\"outlinewidth\":0,\"ticks\":\"\"},\"colorscale\":[[0.0,\"#0d0887\"],[0.1111111111111111,\"#46039f\"],[0.2222222222222222,\"#7201a8\"],[0.3333333333333333,\"#9c179e\"],[0.4444444444444444,\"#bd3786\"],[0.5555555555555556,\"#d8576b\"],[0.6666666666666666,\"#ed7953\"],[0.7777777777777778,\"#fb9f3a\"],[0.8888888888888888,\"#fdca26\"],[1.0,\"#f0f921\"]],\"type\":\"contour\"}],\"heatmapgl\":[{\"colorbar\":{\"outlinewidth\":0,\"ticks\":\"\"},\"colorscale\":[[0.0,\"#0d0887\"],[0.1111111111111111,\"#46039f\"],[0.2222222222222222,\"#7201a8\"],[0.3333333333333333,\"#9c179e\"],[0.4444444444444444,\"#bd3786\"],[0.5555555555555556,\"#d8576b\"],[0.6666666666666666,\"#ed7953\"],[0.7777777777777778,\"#fb9f3a\"],[0.8888888888888888,\"#fdca26\"],[1.0,\"#f0f921\"]],\"type\":\"heatmapgl\"}],\"heatmap\":[{\"colorbar\":{\"outlinewidth\":0,\"ticks\":\"\"},\"colorscale\":[[0.0,\"#0d0887\"],[0.1111111111111111,\"#46039f\"],[0.2222222222222222,\"#7201a8\"],[0.3333333333333333,\"#9c179e\"],[0.4444444444444444,\"#bd3786\"],[0.5555555555555556,\"#d8576b\"],[0.6666666666666666,\"#ed7953\"],[0.7777777777777778,\"#fb9f3a\"],[0.8888888888888888,\"#fdca26\"],[1.0,\"#f0f921\"]],\"type\":\"heatmap\"}],\"histogram2dcontour\":[{\"colorbar\":{\"outlinewidth\":0,\"ticks\":\"\"},\"colorscale\":[[0.0,\"#0d0887\"],[0.1111111111111111,\"#46039f\"],[0.2222222222222222,\"#7201a8\"],[0.3333333333333333,\"#9c179e\"],[0.4444444444444444,\"#bd3786\"],[0.5555555555555556,\"#d8576b\"],[0.6666666666666666,\"#ed7953\"],[0.7777777777777778,\"#fb9f3a\"],[0.8888888888888888,\"#fdca26\"],[1.0,\"#f0f921\"]],\"type\":\"histogram2dcontour\"}],\"histogram2d\":[{\"colorbar\":{\"outlinewidth\":0,\"ticks\":\"\"},\"colorscale\":[[0.0,\"#0d0887\"],[0.1111111111111111,\"#46039f\"],[0.2222222222222222,\"#7201a8\"],[0.3333333333333333,\"#9c179e\"],[0.4444444444444444,\"#bd3786\"],[0.5555555555555556,\"#d8576b\"],[0.6666666666666666,\"#ed7953\"],[0.7777777777777778,\"#fb9f3a\"],[0.8888888888888888,\"#fdca26\"],[1.0,\"#f0f921\"]],\"type\":\"histogram2d\"}],\"histogram\":[{\"marker\":{\"pattern\":{\"fillmode\":\"overlay\",\"size\":10,\"solidity\":0.2}},\"type\":\"histogram\"}],\"mesh3d\":[{\"colorbar\":{\"outlinewidth\":0,\"ticks\":\"\"},\"type\":\"mesh3d\"}],\"parcoords\":[{\"line\":{\"colorbar\":{\"outlinewidth\":0,\"ticks\":\"\"}},\"type\":\"parcoords\"}],\"pie\":[{\"automargin\":true,\"type\":\"pie\"}],\"scatter3d\":[{\"line\":{\"colorbar\":{\"outlinewidth\":0,\"ticks\":\"\"}},\"marker\":{\"colorbar\":{\"outlinewidth\":0,\"ticks\":\"\"}},\"type\":\"scatter3d\"}],\"scattercarpet\":[{\"marker\":{\"colorbar\":{\"outlinewidth\":0,\"ticks\":\"\"}},\"type\":\"scattercarpet\"}],\"scattergeo\":[{\"marker\":{\"colorbar\":{\"outlinewidth\":0,\"ticks\":\"\"}},\"type\":\"scattergeo\"}],\"scattergl\":[{\"marker\":{\"colorbar\":{\"outlinewidth\":0,\"ticks\":\"\"}},\"type\":\"scattergl\"}],\"scattermapbox\":[{\"marker\":{\"colorbar\":{\"outlinewidth\":0,\"ticks\":\"\"}},\"type\":\"scattermapbox\"}],\"scatterpolargl\":[{\"marker\":{\"colorbar\":{\"outlinewidth\":0,\"ticks\":\"\"}},\"type\":\"scatterpolargl\"}],\"scatterpolar\":[{\"marker\":{\"colorbar\":{\"outlinewidth\":0,\"ticks\":\"\"}},\"type\":\"scatterpolar\"}],\"scatter\":[{\"fillpattern\":{\"fillmode\":\"overlay\",\"size\":10,\"solidity\":0.2},\"type\":\"scatter\"}],\"scatterternary\":[{\"marker\":{\"colorbar\":{\"outlinewidth\":0,\"ticks\":\"\"}},\"type\":\"scatterternary\"}],\"surface\":[{\"colorbar\":{\"outlinewidth\":0,\"ticks\":\"\"},\"colorscale\":[[0.0,\"#0d0887\"],[0.1111111111111111,\"#46039f\"],[0.2222222222222222,\"#7201a8\"],[0.3333333333333333,\"#9c179e\"],[0.4444444444444444,\"#bd3786\"],[0.5555555555555556,\"#d8576b\"],[0.6666666666666666,\"#ed7953\"],[0.7777777777777778,\"#fb9f3a\"],[0.8888888888888888,\"#fdca26\"],[1.0,\"#f0f921\"]],\"type\":\"surface\"}],\"table\":[{\"cells\":{\"fill\":{\"color\":\"#EBF0F8\"},\"line\":{\"color\":\"white\"}},\"header\":{\"fill\":{\"color\":\"#C8D4E3\"},\"line\":{\"color\":\"white\"}},\"type\":\"table\"}]},\"layout\":{\"annotationdefaults\":{\"arrowcolor\":\"#2a3f5f\",\"arrowhead\":0,\"arrowwidth\":1},\"autotypenumbers\":\"strict\",\"coloraxis\":{\"colorbar\":{\"outlinewidth\":0,\"ticks\":\"\"}},\"colorscale\":{\"diverging\":[[0,\"#8e0152\"],[0.1,\"#c51b7d\"],[0.2,\"#de77ae\"],[0.3,\"#f1b6da\"],[0.4,\"#fde0ef\"],[0.5,\"#f7f7f7\"],[0.6,\"#e6f5d0\"],[0.7,\"#b8e186\"],[0.8,\"#7fbc41\"],[0.9,\"#4d9221\"],[1,\"#276419\"]],\"sequential\":[[0.0,\"#0d0887\"],[0.1111111111111111,\"#46039f\"],[0.2222222222222222,\"#7201a8\"],[0.3333333333333333,\"#9c179e\"],[0.4444444444444444,\"#bd3786\"],[0.5555555555555556,\"#d8576b\"],[0.6666666666666666,\"#ed7953\"],[0.7777777777777778,\"#fb9f3a\"],[0.8888888888888888,\"#fdca26\"],[1.0,\"#f0f921\"]],\"sequentialminus\":[[0.0,\"#0d0887\"],[0.1111111111111111,\"#46039f\"],[0.2222222222222222,\"#7201a8\"],[0.3333333333333333,\"#9c179e\"],[0.4444444444444444,\"#bd3786\"],[0.5555555555555556,\"#d8576b\"],[0.6666666666666666,\"#ed7953\"],[0.7777777777777778,\"#fb9f3a\"],[0.8888888888888888,\"#fdca26\"],[1.0,\"#f0f921\"]]},\"colorway\":[\"#636efa\",\"#EF553B\",\"#00cc96\",\"#ab63fa\",\"#FFA15A\",\"#19d3f3\",\"#FF6692\",\"#B6E880\",\"#FF97FF\",\"#FECB52\"],\"font\":{\"color\":\"#2a3f5f\"},\"geo\":{\"bgcolor\":\"white\",\"lakecolor\":\"white\",\"landcolor\":\"white\",\"showlakes\":true,\"showland\":true,\"subunitcolor\":\"#C8D4E3\"},\"hoverlabel\":{\"align\":\"left\"},\"hovermode\":\"closest\",\"mapbox\":{\"style\":\"light\"},\"paper_bgcolor\":\"white\",\"plot_bgcolor\":\"white\",\"polar\":{\"angularaxis\":{\"gridcolor\":\"#EBF0F8\",\"linecolor\":\"#EBF0F8\",\"ticks\":\"\"},\"bgcolor\":\"white\",\"radialaxis\":{\"gridcolor\":\"#EBF0F8\",\"linecolor\":\"#EBF0F8\",\"ticks\":\"\"}},\"scene\":{\"xaxis\":{\"backgroundcolor\":\"white\",\"gridcolor\":\"#DFE8F3\",\"gridwidth\":2,\"linecolor\":\"#EBF0F8\",\"showbackground\":true,\"ticks\":\"\",\"zerolinecolor\":\"#EBF0F8\"},\"yaxis\":{\"backgroundcolor\":\"white\",\"gridcolor\":\"#DFE8F3\",\"gridwidth\":2,\"linecolor\":\"#EBF0F8\",\"showbackground\":true,\"ticks\":\"\",\"zerolinecolor\":\"#EBF0F8\"},\"zaxis\":{\"backgroundcolor\":\"white\",\"gridcolor\":\"#DFE8F3\",\"gridwidth\":2,\"linecolor\":\"#EBF0F8\",\"showbackground\":true,\"ticks\":\"\",\"zerolinecolor\":\"#EBF0F8\"}},\"shapedefaults\":{\"line\":{\"color\":\"#2a3f5f\"}},\"ternary\":{\"aaxis\":{\"gridcolor\":\"#DFE8F3\",\"linecolor\":\"#A2B1C6\",\"ticks\":\"\"},\"baxis\":{\"gridcolor\":\"#DFE8F3\",\"linecolor\":\"#A2B1C6\",\"ticks\":\"\"},\"bgcolor\":\"white\",\"caxis\":{\"gridcolor\":\"#DFE8F3\",\"linecolor\":\"#A2B1C6\",\"ticks\":\"\"}},\"title\":{\"x\":0.05},\"xaxis\":{\"automargin\":true,\"gridcolor\":\"#EBF0F8\",\"linecolor\":\"#EBF0F8\",\"ticks\":\"\",\"title\":{\"standoff\":15},\"zerolinecolor\":\"#EBF0F8\",\"zerolinewidth\":2},\"yaxis\":{\"automargin\":true,\"gridcolor\":\"#EBF0F8\",\"linecolor\":\"#EBF0F8\",\"ticks\":\"\",\"title\":{\"standoff\":15},\"zerolinecolor\":\"#EBF0F8\",\"zerolinewidth\":2}}},\"title\":{\"font\":{\"size\":22,\"color\":\"Black\"},\"text\":\"\\u003cb\\u003eHierarchical Clustering\\u003c\\u002fb\\u003e\",\"x\":0.5,\"xanchor\":\"center\",\"yanchor\":\"top\"},\"hoverlabel\":{\"font\":{\"size\":16,\"family\":\"Rockwell\"},\"bgcolor\":\"white\"},\"plot_bgcolor\":\"#ECEFF1\"},                        {\"responsive\": true}                    ).then(function(){\n",
       "                            \n",
       "var gd = document.getElementById('83f47c49-4241-4ed4-8e13-29ba47eb9625');\n",
       "var x = new MutationObserver(function (mutations, observer) {{\n",
       "        var display = window.getComputedStyle(gd).display;\n",
       "        if (!display || display === 'none') {{\n",
       "            console.log([gd, 'removed!']);\n",
       "            Plotly.purge(gd);\n",
       "            observer.disconnect();\n",
       "        }}\n",
       "}});\n",
       "\n",
       "// Listen for the removal of the full notebook cells\n",
       "var notebookContainer = gd.closest('#notebook-container');\n",
       "if (notebookContainer) {{\n",
       "    x.observe(notebookContainer, {childList: true});\n",
       "}}\n",
       "\n",
       "// Listen for the clearing of the current output cell\n",
       "var outputEl = gd.closest('.output');\n",
       "if (outputEl) {{\n",
       "    x.observe(outputEl, {childList: true});\n",
       "}}\n",
       "\n",
       "                        })                };                });            </script>        </div>"
      ]
     },
     "metadata": {},
     "output_type": "display_data"
    }
   ],
   "source": [
    "topic_model.visualize_hierarchy()"
   ]
  },
  {
   "cell_type": "code",
   "execution_count": 16,
   "id": "afe245c5",
   "metadata": {},
   "outputs": [],
   "source": [
    "topic_model.visualize_hierarchy().write_html('Podcast/podcast-bert-clust.html')"
   ]
  },
  {
   "cell_type": "code",
   "execution_count": 17,
   "id": "1b332e13",
   "metadata": {},
   "outputs": [],
   "source": [
    "topic_model.get_topic_info().to_pickle('Podcast/podcast-bert-clust.pkl')"
   ]
  },
  {
   "cell_type": "code",
   "execution_count": null,
   "id": "adb7a813",
   "metadata": {},
   "outputs": [],
   "source": []
  },
  {
   "cell_type": "code",
   "execution_count": null,
   "id": "5616635d",
   "metadata": {},
   "outputs": [],
   "source": []
  },
  {
   "cell_type": "code",
   "execution_count": 11,
   "id": "002c6ec3",
   "metadata": {},
   "outputs": [],
   "source": [
    "# # Define a list of parameters to try for UMAP\n",
    "# umap_params = [\n",
    "#     {'n_neighbors': 3,'min_dist': 0.05},\n",
    "#     {'n_neighbors': 3,'min_dist': 0.1},\n",
    "#     {'n_neighbors': 6,'min_dist': 0.05}\n",
    "# ]\n",
    "\n",
    "# # Define a list of parameters to try for HDBSCAN\n",
    "# hdbscan_params = [\n",
    "#     {'min_cluster_size': 40},\n",
    "#     {'min_cluster_size': 50}\n",
    "# ]\n",
    "\n",
    "# # Loop over the parameter combinations and fit BERTopic models\n",
    "# for umap_param in umap_params:\n",
    "#     for hdbscan_param in hdbscan_params:\n",
    "#         # Create UMAP and HDBSCAN models with the current parameter combination\n",
    "#         umap_model = UMAP(**umap_param)\n",
    "#         hdbscan_model = HDBSCAN(**hdbscan_param, gen_min_span_tree=True, prediction_data=True)\n",
    "\n",
    "#         # Fit a BERTopic model with the current parameter combination\n",
    "#         model = BERTopic(\n",
    "#             umap_model=umap_model,\n",
    "#             hdbscan_model=hdbscan_model,\n",
    "#             top_n_words=10,\n",
    "#             language='english',\n",
    "#             calculate_probabilities=True,\n",
    "#             verbose=True,\n",
    "#             n_gram_range=(1, 2)\n",
    "#         )\n",
    "#         topics, probs = model.fit_transform(flattened_passages)\n",
    "#         model.get_topic_info().to_pickle(f'Email/email_model_umap_{umap_param}_hdbscan_{hdbscan_param}.pkl')\n",
    "\n",
    "#         # Visualize the hierarchy and save the figure to an HTML file\n",
    "#         fig = model.visualize_hierarchy()\n",
    "#         fig.write_html(f'Email/email_model_umap_{umap_param}_hdbscan_{hdbscan_param}.html')"
   ]
  },
  {
   "cell_type": "code",
   "execution_count": null,
   "id": "4f41bbad",
   "metadata": {},
   "outputs": [],
   "source": []
  }
 ],
 "metadata": {
  "kernelspec": {
   "display_name": "Python 3 (ipykernel)",
   "language": "python",
   "name": "python3"
  },
  "language_info": {
   "codemirror_mode": {
    "name": "ipython",
    "version": 3
   },
   "file_extension": ".py",
   "mimetype": "text/x-python",
   "name": "python",
   "nbconvert_exporter": "python",
   "pygments_lexer": "ipython3",
   "version": "3.10.8"
  }
 },
 "nbformat": 4,
 "nbformat_minor": 5
}
