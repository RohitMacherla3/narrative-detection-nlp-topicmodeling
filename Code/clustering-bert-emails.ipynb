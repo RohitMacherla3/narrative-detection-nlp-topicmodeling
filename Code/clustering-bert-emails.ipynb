{
 "cells": [
  {
   "cell_type": "code",
   "execution_count": 1,
   "id": "812cf0fd",
   "metadata": {},
   "outputs": [],
   "source": [
    "import pandas as pd\n",
    "import numpy as np\n",
    "import matplotlib.pyplot as plt\n",
    "%matplotlib inline\n",
    "import plotly.express as px\n",
    "from collections import Counter\n",
    "import time\n",
    "\n",
    "from bertopic import BERTopic\n",
    "from itertools import chain\n",
    "from nltk.corpus import stopwords\n",
    "from nltk.tokenize import word_tokenize\n",
    "from umap import UMAP\n",
    "from hdbscan import HDBSCAN"
   ]
  },
  {
   "cell_type": "code",
   "execution_count": 2,
   "id": "d9ccbc34",
   "metadata": {},
   "outputs": [],
   "source": [
    "email_df = pd.read_pickle('Email/emails_data_processed.pkl')"
   ]
  },
  {
   "cell_type": "code",
   "execution_count": 3,
   "id": "b1a76e58",
   "metadata": {},
   "outputs": [],
   "source": [
    "flattened_passages = list(chain.from_iterable(email_df['Passages']))"
   ]
  },
  {
   "cell_type": "code",
   "execution_count": 4,
   "id": "5c11a338",
   "metadata": {},
   "outputs": [
    {
     "data": {
      "text/plain": [
       "337215"
      ]
     },
     "execution_count": 4,
     "metadata": {},
     "output_type": "execute_result"
    }
   ],
   "source": [
    "len(flattened_passages)"
   ]
  },
  {
   "cell_type": "code",
   "execution_count": 5,
   "id": "27025c2b",
   "metadata": {},
   "outputs": [],
   "source": [
    "umap_model = UMAP(n_neighbors=5, min_dist=0.3, random_state=42)\n",
    "\n",
    "hdbscan_model = HDBSCAN(min_cluster_size=145, gen_min_span_tree=True, prediction_data=True)"
   ]
  },
  {
   "cell_type": "code",
   "execution_count": 6,
   "id": "89b02b6d",
   "metadata": {},
   "outputs": [
    {
     "data": {
      "application/vnd.jupyter.widget-view+json": {
       "model_id": "a20b71844bb4448fae18400379c93be2",
       "version_major": 2,
       "version_minor": 0
      },
      "text/plain": [
       "Batches:   0%|          | 0/10538 [00:00<?, ?it/s]"
      ]
     },
     "metadata": {},
     "output_type": "display_data"
    },
    {
     "name": "stderr",
     "output_type": "stream",
     "text": [
      "2023-11-07 15:20:20,988 - BERTopic - Transformed documents to Embeddings\n",
      "2023-11-07 15:31:11,859 - BERTopic - Reduced dimensionality\n",
      "huggingface/tokenizers: The current process just got forked, after parallelism has already been used. Disabling parallelism to avoid deadlocks...\n",
      "To disable this warning, you can either:\n",
      "\t- Avoid using `tokenizers` before the fork if possible\n",
      "\t- Explicitly set the environment variable TOKENIZERS_PARALLELISM=(true | false)\n",
      "huggingface/tokenizers: The current process just got forked, after parallelism has already been used. Disabling parallelism to avoid deadlocks...\n",
      "To disable this warning, you can either:\n",
      "\t- Avoid using `tokenizers` before the fork if possible\n",
      "\t- Explicitly set the environment variable TOKENIZERS_PARALLELISM=(true | false)\n",
      "huggingface/tokenizers: The current process just got forked, after parallelism has already been used. Disabling parallelism to avoid deadlocks...\n",
      "To disable this warning, you can either:\n",
      "\t- Avoid using `tokenizers` before the fork if possible\n",
      "\t- Explicitly set the environment variable TOKENIZERS_PARALLELISM=(true | false)\n",
      "huggingface/tokenizers: The current process just got forked, after parallelism has already been used. Disabling parallelism to avoid deadlocks...\n",
      "To disable this warning, you can either:\n",
      "\t- Avoid using `tokenizers` before the fork if possible\n",
      "\t- Explicitly set the environment variable TOKENIZERS_PARALLELISM=(true | false)\n",
      "huggingface/tokenizers: The current process just got forked, after parallelism has already been used. Disabling parallelism to avoid deadlocks...\n",
      "To disable this warning, you can either:\n",
      "\t- Avoid using `tokenizers` before the fork if possible\n",
      "\t- Explicitly set the environment variable TOKENIZERS_PARALLELISM=(true | false)\n",
      "huggingface/tokenizers: The current process just got forked, after parallelism has already been used. Disabling parallelism to avoid deadlocks...\n",
      "To disable this warning, you can either:\n",
      "\t- Avoid using `tokenizers` before the fork if possible\n",
      "\t- Explicitly set the environment variable TOKENIZERS_PARALLELISM=(true | false)\n",
      "2023-11-07 15:31:45,573 - BERTopic - Clustered reduced embeddings\n",
      "/projects/community/anaconda/2022.10/bd387/lib/python3.9/site-packages/scipy/sparse/_index.py:146: SparseEfficiencyWarning: Changing the sparsity structure of a csr_matrix is expensive. lil_matrix is more efficient.\n",
      "  self._set_arrayXarray(i, j, x)\n"
     ]
    }
   ],
   "source": [
    "topic_model = BERTopic(n_gram_range=(1, 3), top_n_words=10,\n",
    "                      umap_model=umap_model, hdbscan_model=hdbscan_model, verbose=True)\n",
    "topics, probs = topic_model.fit_transform(flattened_passages)\n",
    "topic_model.save(\"Email/bertopic_model\")"
   ]
  },
  {
   "cell_type": "code",
   "execution_count": 7,
   "id": "a084e0e4",
   "metadata": {},
   "outputs": [
    {
     "data": {
      "text/html": [
       "<div>\n",
       "<style scoped>\n",
       "    .dataframe tbody tr th:only-of-type {\n",
       "        vertical-align: middle;\n",
       "    }\n",
       "\n",
       "    .dataframe tbody tr th {\n",
       "        vertical-align: top;\n",
       "    }\n",
       "\n",
       "    .dataframe thead th {\n",
       "        text-align: right;\n",
       "    }\n",
       "</style>\n",
       "<table border=\"1\" class=\"dataframe\">\n",
       "  <thead>\n",
       "    <tr style=\"text-align: right;\">\n",
       "      <th></th>\n",
       "      <th>Topic</th>\n",
       "      <th>Count</th>\n",
       "      <th>Name</th>\n",
       "      <th>Representation</th>\n",
       "      <th>Representative_Docs</th>\n",
       "    </tr>\n",
       "  </thead>\n",
       "  <tbody>\n",
       "    <tr>\n",
       "      <th>0</th>\n",
       "      <td>-1</td>\n",
       "      <td>199971</td>\n",
       "      <td>-1_for_to_the_and</td>\n",
       "      <td>[for, to, the, and, you, of, in, by, this, our]</td>\n",
       "      <td>[DONATE: Paid for by LisaBlunt Rochester for C...</td>\n",
       "    </tr>\n",
       "    <tr>\n",
       "      <th>1</th>\n",
       "      <td>0</td>\n",
       "      <td>55358</td>\n",
       "      <td>0_we_to_our_the</td>\n",
       "      <td>[we, to, our, the, and, in, this, you, of, can]</td>\n",
       "      <td>[We've set a goal to raise $200,000 inthe next...</td>\n",
       "    </tr>\n",
       "    <tr>\n",
       "      <th>2</th>\n",
       "      <td>1</td>\n",
       "      <td>6494</td>\n",
       "      <td>1_abortion_roe_wade_roe wade</td>\n",
       "      <td>[abortion, roe, wade, roe wade, reproductive, ...</td>\n",
       "      <td>[Peter, With the Supreme Court’s devastating d...</td>\n",
       "    </tr>\n",
       "    <tr>\n",
       "      <th>3</th>\n",
       "      <td>2</td>\n",
       "      <td>3239</td>\n",
       "      <td>2_georgia_stacey_abrams_kemp</td>\n",
       "      <td>[georgia, stacey, abrams, kemp, stacey abrams,...</td>\n",
       "      <td>[Will you rush a donation right now to help el...</td>\n",
       "    </tr>\n",
       "    <tr>\n",
       "      <th>4</th>\n",
       "      <td>3</td>\n",
       "      <td>2704</td>\n",
       "      <td>3_pennsylvania_fetterman_john_pa</td>\n",
       "      <td>[pennsylvania, fetterman, john, pa, to, derek,...</td>\n",
       "      <td>[John John Fetterman Lieutenant Governor of Pe...</td>\n",
       "    </tr>\n",
       "    <tr>\n",
       "      <th>...</th>\n",
       "      <td>...</td>\n",
       "      <td>...</td>\n",
       "      <td>...</td>\n",
       "      <td>...</td>\n",
       "      <td>...</td>\n",
       "    </tr>\n",
       "    <tr>\n",
       "      <th>162</th>\n",
       "      <td>161</td>\n",
       "      <td>152</td>\n",
       "      <td>161_great maga king_maga king_great maga_status</td>\n",
       "      <td>[great maga king, maga king, great maga, statu...</td>\n",
       "      <td>[**_  But, I didn't want to send you _JUST_ an...</td>\n",
       "    </tr>\n",
       "    <tr>\n",
       "      <th>163</th>\n",
       "      <td>162</td>\n",
       "      <td>152</td>\n",
       "      <td>162_elissa_slotkin_gosar for congress_gosar for</td>\n",
       "      <td>[elissa, slotkin, gosar for congress, gosar fo...</td>\n",
       "      <td>[** PAID FOR BY GOSAR FOR CONGRESS------------...</td>\n",
       "    </tr>\n",
       "    <tr>\n",
       "      <th>164</th>\n",
       "      <td>163</td>\n",
       "      <td>151</td>\n",
       "      <td>163_king_dr_luther_dr king</td>\n",
       "      <td>[king, dr, luther, dr king, luther king, marti...</td>\n",
       "      <td>[“Life’s most persistent and urgent question i...</td>\n",
       "    </tr>\n",
       "    <tr>\n",
       "      <th>165</th>\n",
       "      <td>164</td>\n",
       "      <td>150</td>\n",
       "      <td>164_can click here_you can click_can click_if ...</td>\n",
       "      <td>[can click here, you can click, can click, if ...</td>\n",
       "      <td>[We rely on grassrootssupporters like you to f...</td>\n",
       "    </tr>\n",
       "    <tr>\n",
       "      <th>166</th>\n",
       "      <td>165</td>\n",
       "      <td>149</td>\n",
       "      <td>165_clerkship_court_supreme court_supreme</td>\n",
       "      <td>[clerkship, court, supreme court, supreme, wil...</td>\n",
       "      <td>[After his second clerkship, hejoined the Wash...</td>\n",
       "    </tr>\n",
       "  </tbody>\n",
       "</table>\n",
       "<p>167 rows × 5 columns</p>\n",
       "</div>"
      ],
      "text/plain": [
       "     Topic   Count                                               Name  \\\n",
       "0       -1  199971                                  -1_for_to_the_and   \n",
       "1        0   55358                                    0_we_to_our_the   \n",
       "2        1    6494                       1_abortion_roe_wade_roe wade   \n",
       "3        2    3239                       2_georgia_stacey_abrams_kemp   \n",
       "4        3    2704                   3_pennsylvania_fetterman_john_pa   \n",
       "..     ...     ...                                                ...   \n",
       "162    161     152    161_great maga king_maga king_great maga_status   \n",
       "163    162     152    162_elissa_slotkin_gosar for congress_gosar for   \n",
       "164    163     151                         163_king_dr_luther_dr king   \n",
       "165    164     150  164_can click here_you can click_can click_if ...   \n",
       "166    165     149          165_clerkship_court_supreme court_supreme   \n",
       "\n",
       "                                        Representation  \\\n",
       "0      [for, to, the, and, you, of, in, by, this, our]   \n",
       "1      [we, to, our, the, and, in, this, you, of, can]   \n",
       "2    [abortion, roe, wade, roe wade, reproductive, ...   \n",
       "3    [georgia, stacey, abrams, kemp, stacey abrams,...   \n",
       "4    [pennsylvania, fetterman, john, pa, to, derek,...   \n",
       "..                                                 ...   \n",
       "162  [great maga king, maga king, great maga, statu...   \n",
       "163  [elissa, slotkin, gosar for congress, gosar fo...   \n",
       "164  [king, dr, luther, dr king, luther king, marti...   \n",
       "165  [can click here, you can click, can click, if ...   \n",
       "166  [clerkship, court, supreme court, supreme, wil...   \n",
       "\n",
       "                                   Representative_Docs  \n",
       "0    [DONATE: Paid for by LisaBlunt Rochester for C...  \n",
       "1    [We've set a goal to raise $200,000 inthe next...  \n",
       "2    [Peter, With the Supreme Court’s devastating d...  \n",
       "3    [Will you rush a donation right now to help el...  \n",
       "4    [John John Fetterman Lieutenant Governor of Pe...  \n",
       "..                                                 ...  \n",
       "162  [**_  But, I didn't want to send you _JUST_ an...  \n",
       "163  [** PAID FOR BY GOSAR FOR CONGRESS------------...  \n",
       "164  [“Life’s most persistent and urgent question i...  \n",
       "165  [We rely on grassrootssupporters like you to f...  \n",
       "166  [After his second clerkship, hejoined the Wash...  \n",
       "\n",
       "[167 rows x 5 columns]"
      ]
     },
     "execution_count": 7,
     "metadata": {},
     "output_type": "execute_result"
    }
   ],
   "source": [
    "topic_model.get_topic_info()"
   ]
  },
  {
   "cell_type": "code",
   "execution_count": 8,
   "id": "37462782",
   "metadata": {},
   "outputs": [],
   "source": [
    "topic_model.get_topic_info().to_pickle('Email/email_cluster_bert.pkl')"
   ]
  },
  {
   "cell_type": "code",
   "execution_count": 9,
   "id": "afe245c5",
   "metadata": {},
   "outputs": [],
   "source": [
    "topic_model.visualize_hierarchy().write_html('Email/email-bert-clust.html')"
   ]
  },
  {
   "cell_type": "code",
   "execution_count": 10,
   "id": "c61b0800",
   "metadata": {},
   "outputs": [],
   "source": [
    "email_passage_splits = [len(embedding) for embedding in email_df['Passages']]"
   ]
  },
  {
   "cell_type": "code",
   "execution_count": 11,
   "id": "aa68d96c",
   "metadata": {},
   "outputs": [],
   "source": [
    "passage_mapping ={}\n",
    "j = 0\n",
    "for i in range(len(email_passage_splits)):\n",
    "    passages_count = email_passage_splits[i]\n",
    "    passage_mapping[i] = topics[j:j+passages_count]\n",
    "    j += passages_count"
   ]
  },
  {
   "cell_type": "code",
   "execution_count": 12,
   "id": "3ac5cdb1",
   "metadata": {},
   "outputs": [],
   "source": [
    "email_df['cluster_ids'] = passage_mapping.values()"
   ]
  },
  {
   "cell_type": "code",
   "execution_count": 13,
   "id": "f4114825",
   "metadata": {},
   "outputs": [],
   "source": [
    "email_df.to_pickle('Email/email_cluster_ids.pkl')"
   ]
  },
  {
   "cell_type": "markdown",
   "id": "a6f97cb8",
   "metadata": {},
   "source": [
    "# "
   ]
  }
 ],
 "metadata": {
  "kernelspec": {
   "display_name": "Python 3 (ipykernel)",
   "language": "python",
   "name": "python3"
  },
  "language_info": {
   "codemirror_mode": {
    "name": "ipython",
    "version": 3
   },
   "file_extension": ".py",
   "mimetype": "text/x-python",
   "name": "python",
   "nbconvert_exporter": "python",
   "pygments_lexer": "ipython3",
   "version": "3.9.13"
  }
 },
 "nbformat": 4,
 "nbformat_minor": 5
}
