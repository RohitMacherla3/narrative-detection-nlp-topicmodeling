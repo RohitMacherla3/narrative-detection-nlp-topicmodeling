{
 "cells": [
  {
   "cell_type": "code",
   "execution_count": 1,
   "metadata": {},
   "outputs": [],
   "source": [
    "from sentence_transformers import SentenceTransformer, util\n",
    "import torch\n",
    "import pandas as pd\n",
    "import numpy as np\n",
    "from concurrent.futures import ThreadPoolExecutor"
   ]
  },
  {
   "cell_type": "code",
   "execution_count": 2,
   "metadata": {},
   "outputs": [],
   "source": [
    "# Define the model\n",
    "\n",
    "model = SentenceTransformer('sentence-transformers/all-mpnet-base-v2')"
   ]
  },
  {
   "cell_type": "code",
   "execution_count": 3,
   "metadata": {},
   "outputs": [],
   "source": [
    "def generate_embeddings(text):\n",
    "    if not text:\n",
    "        return []  # Return an empty list if input is empty or None\n",
    "    embeddings = model.encode(text, convert_to_tensor=True)\n",
    "    return embeddings"
   ]
  },
  {
   "cell_type": "code",
   "execution_count": 4,
   "metadata": {},
   "outputs": [],
   "source": [
    "tv_data = pd.read_pickle('TV/tv_data_processed_part01.pkl')"
   ]
  },
  {
   "cell_type": "code",
   "execution_count": 5,
   "metadata": {},
   "outputs": [],
   "source": [
    "tv_data = tv_data['Passages']"
   ]
  },
  {
   "cell_type": "code",
   "execution_count": 6,
   "metadata": {},
   "outputs": [],
   "source": [
    "size = tv_data.shape[0]"
   ]
  },
  {
   "cell_type": "code",
   "execution_count": null,
   "metadata": {},
   "outputs": [
    {
     "name": "stdout",
     "output_type": "stream",
     "text": [
      "2000 4000\n",
      "4000 6000\n"
     ]
    }
   ],
   "source": [
    "j = 6000\n",
    "file_count = 2\n",
    "for i in range(4000, size, 2000):\n",
    "    print(i,j)\n",
    "    if j >= size:\n",
    "        current_data = tv_data[i:]\n",
    "        embeddings_list = current_data.apply(generate_embeddings)\n",
    "        \n",
    "    else:\n",
    "        current_data = tv_data[i:j]\n",
    "        embeddings_list = current_data.apply(generate_embeddings)\n",
    "        \n",
    "    j +=2000\n",
    "    if file_count < 10:\n",
    "        file_name = 'TV/tv_embeddings_0' + str(file_count) + 'part.npz'\n",
    "    else:\n",
    "        file_name = 'TV/tv_embeddings_' + str(file_count) + 'part.npz'\n",
    "    file_count += 1\n",
    "        \n",
    "    np.savez(file_name, embeddings_list.values, allow_pickle=True)"
   ]
  },
  {
   "cell_type": "code",
   "execution_count": null,
   "metadata": {},
   "outputs": [],
   "source": [
    "import os\n",
    "\n",
    "curr_dir = os.getcwd()\n",
    "work_dir = curr_dir + '/TV/'"
   ]
  },
  {
   "cell_type": "code",
   "execution_count": null,
   "metadata": {},
   "outputs": [],
   "source": [
    "npz_files = [file for file in os.listdir(work_dir) if file.endswith('.npz')]\n",
    "\n",
    "all_data = []\n",
    "\n",
    "for npz_file in sorted(npz_files):\n",
    "    curr_data = np.load(os.path.join(work_dir, npz_file), allow_pickle=True)\n",
    "    all_data.append(curr_data['arr_0'])\n",
    "        \n",
    "file_name = 'TV/tv_embeddings_part01.npz'\n",
    "np.savez(file_name, all_data)\n",
    "\n"
   ]
  },
  {
   "cell_type": "code",
   "execution_count": null,
   "metadata": {},
   "outputs": [],
   "source": [
    "npz_files = [file for file in os.listdir(work_dir) if file.endswith('part.npz')]\n",
    "for npz_file in npz_files:\n",
    "    os.remove(os.path.join(work_dir, npz_file))"
   ]
  },
  {
   "cell_type": "code",
   "execution_count": null,
   "metadata": {},
   "outputs": [],
   "source": []
  }
 ],
 "metadata": {
  "kernelspec": {
   "display_name": "Python 3",
   "language": "python",
   "name": "python3"
  },
  "language_info": {
   "codemirror_mode": {
    "name": "ipython",
    "version": 3
   },
   "file_extension": ".py",
   "mimetype": "text/x-python",
   "name": "python",
   "nbconvert_exporter": "python",
   "pygments_lexer": "ipython3",
   "version": "3.7.3"
  }
 },
 "nbformat": 4,
 "nbformat_minor": 5
}
