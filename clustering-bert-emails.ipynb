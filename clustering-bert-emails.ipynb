{
 "cells": [
  {
   "cell_type": "code",
   "execution_count": 4,
   "id": "812cf0fd",
   "metadata": {},
   "outputs": [],
   "source": [
    "import pandas as pd\n",
    "import numpy as np\n",
    "import matplotlib.pyplot as plt\n",
    "%matplotlib inline\n",
    "import plotly.express as px\n",
    "from collections import Counter\n",
    "import time\n",
    "\n",
    "from bertopic import BERTopic\n",
    "from itertools import chain\n",
    "from nltk.corpus import stopwords\n",
    "from nltk.tokenize import word_tokenize\n",
    "from umap import UMAP\n",
    "from hdbscan import HDBSCAN"
   ]
  },
  {
   "cell_type": "code",
   "execution_count": null,
   "id": "be68b495",
   "metadata": {},
   "outputs": [],
   "source": [
    "# email_passage_splits = [len(embedding) for embedding in email_embeddings_np]\n",
    "\n",
    "# passage_mapping ={}\n",
    "# j = 0\n",
    "# for i in range(len(email_passage_splits)):\n",
    "#     passages_count = email_passage_splits[i]\n",
    "#     passage_mapping[i] = cluster_labels[j:j+passages_count]\n",
    "#     j += passages_count"
   ]
  },
  {
   "cell_type": "code",
   "execution_count": 5,
   "id": "d9ccbc34",
   "metadata": {},
   "outputs": [],
   "source": [
    "email_df = pd.read_pickle('Email/emails_data_processed.pkl')"
   ]
  },
  {
   "cell_type": "code",
   "execution_count": 6,
   "id": "b1a76e58",
   "metadata": {},
   "outputs": [],
   "source": [
    "flattened_passages = list(chain.from_iterable(email_df['Passages']))"
   ]
  },
  {
   "cell_type": "code",
   "execution_count": 13,
   "id": "73d351cf",
   "metadata": {},
   "outputs": [],
   "source": [
    "import random\n",
    "samples = random.sample(flattened_passages, 50000)"
   ]
  },
  {
   "cell_type": "code",
   "execution_count": 14,
   "id": "27025c2b",
   "metadata": {},
   "outputs": [],
   "source": [
    "umap_model = UMAP(n_neighbors=3, min_dist=0.1)\n",
    "hdbscan_model = HDBSCAN(min_cluster_size=30, gen_min_span_tree=True, prediction_data=True)"
   ]
  },
  {
   "cell_type": "code",
   "execution_count": null,
   "id": "89b02b6d",
   "metadata": {},
   "outputs": [
    {
     "data": {
      "application/vnd.jupyter.widget-view+json": {
       "model_id": "2b79c712aeb742fa9e9b625b44e355b8",
       "version_major": 2,
       "version_minor": 0
      },
      "text/plain": [
       "Batches:   0%|          | 0/1563 [00:00<?, ?it/s]"
      ]
     },
     "metadata": {},
     "output_type": "display_data"
    }
   ],
   "source": [
    "topic_model = BERTopic(n_gram_range=(1, 2), min_topic_size=20, top_n_words=10,\n",
    "                      umap_model=umap_model, hdbscan_model=hdbscan_model, verbose=True)\n",
    "topics, probs = topic_model.fit_transform(samples)"
   ]
  },
  {
   "cell_type": "code",
   "execution_count": null,
   "id": "691debd1",
   "metadata": {},
   "outputs": [],
   "source": [
    "topic_model.get_topic_info()"
   ]
  },
  {
   "cell_type": "code",
   "execution_count": null,
   "id": "c41ff1e8",
   "metadata": {},
   "outputs": [],
   "source": [
    "topic_model.visualize_hierarchy()"
   ]
  },
  {
   "cell_type": "code",
   "execution_count": null,
   "id": "afe245c5",
   "metadata": {},
   "outputs": [],
   "source": [
    "# topic_model.visualize_hierarchy().write_html('Email/email-bert-clust.html')"
   ]
  },
  {
   "cell_type": "code",
   "execution_count": null,
   "id": "002c6ec3",
   "metadata": {},
   "outputs": [],
   "source": [
    "# # Define a list of parameters to try for UMAP\n",
    "# umap_params = [\n",
    "#     {'n_neighbors': 3,'min_dist': 0.05},\n",
    "#     {'n_neighbors': 3,'min_dist': 0.1},\n",
    "#     {'n_neighbors': 6,'min_dist': 0.05}\n",
    "# ]\n",
    "\n",
    "# # Define a list of parameters to try for HDBSCAN\n",
    "# hdbscan_params = [\n",
    "#     {'min_cluster_size': 40},\n",
    "#     {'min_cluster_size': 50}\n",
    "# ]\n",
    "\n",
    "# # Loop over the parameter combinations and fit BERTopic models\n",
    "# for umap_param in umap_params:\n",
    "#     for hdbscan_param in hdbscan_params:\n",
    "#         # Create UMAP and HDBSCAN models with the current parameter combination\n",
    "#         umap_model = UMAP(**umap_param)\n",
    "#         hdbscan_model = HDBSCAN(**hdbscan_param, gen_min_span_tree=True, prediction_data=True)\n",
    "\n",
    "#         # Fit a BERTopic model with the current parameter combination\n",
    "#         model = BERTopic(\n",
    "#             umap_model=umap_model,\n",
    "#             hdbscan_model=hdbscan_model,\n",
    "#             top_n_words=10,\n",
    "#             language='english',\n",
    "#             calculate_probabilities=True,\n",
    "#             verbose=True,\n",
    "#             n_gram_range=(1, 2)\n",
    "#         )\n",
    "#         topics, probs = model.fit_transform(flattened_passages)\n",
    "#         model.get_topic_info().to_pickle(f'Email/email_model_umap_{umap_param}_hdbscan_{hdbscan_param}.pkl')\n",
    "\n",
    "#         # Visualize the hierarchy and save the figure to an HTML file\n",
    "#         fig = model.visualize_hierarchy()\n",
    "#         fig.write_html(f'Email/email_model_umap_{umap_param}_hdbscan_{hdbscan_param}.html')"
   ]
  },
  {
   "cell_type": "code",
   "execution_count": null,
   "id": "4f41bbad",
   "metadata": {},
   "outputs": [],
   "source": []
  }
 ],
 "metadata": {
  "kernelspec": {
   "display_name": "Python 3 (ipykernel)",
   "language": "python",
   "name": "python3"
  },
  "language_info": {
   "codemirror_mode": {
    "name": "ipython",
    "version": 3
   },
   "file_extension": ".py",
   "mimetype": "text/x-python",
   "name": "python",
   "nbconvert_exporter": "python",
   "pygments_lexer": "ipython3",
   "version": "3.10.8"
  }
 },
 "nbformat": 4,
 "nbformat_minor": 5
}
