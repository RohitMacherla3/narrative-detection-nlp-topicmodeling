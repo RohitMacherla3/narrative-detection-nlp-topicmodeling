{
 "cells": [
  {
   "cell_type": "code",
   "execution_count": 4,
   "id": "812cf0fd",
   "metadata": {},
   "outputs": [],
   "source": [
    "import pandas as pd\n",
    "import numpy as np\n",
    "import matplotlib.pyplot as plt\n",
    "%matplotlib inline\n",
    "import plotly.express as px\n",
    "from collections import Counter\n",
    "import time\n",
    "\n",
    "from bertopic import BERTopic\n",
    "from itertools import chain\n",
    "from nltk.corpus import stopwords\n",
    "from nltk.tokenize import word_tokenize\n",
    "from umap import UMAP\n",
    "from hdbscan import HDBSCAN"
   ]
  },
  {
   "cell_type": "code",
   "execution_count": 2,
   "id": "be68b495",
   "metadata": {},
   "outputs": [],
   "source": [
    "# email_passage_splits = [len(embedding) for embedding in email_embeddings_np]\n",
    "\n",
    "# passage_mapping ={}\n",
    "# j = 0\n",
    "# for i in range(len(email_passage_splits)):\n",
    "#     passages_count = email_passage_splits[i]\n",
    "#     passage_mapping[i] = cluster_labels[j:j+passages_count]\n",
    "#     j += passages_count"
   ]
  },
  {
   "cell_type": "code",
   "execution_count": 5,
   "id": "d9ccbc34",
   "metadata": {},
   "outputs": [],
   "source": [
    "email_df = pd.read_pickle('Email/emails_data_processed.pkl')"
   ]
  },
  {
   "cell_type": "code",
   "execution_count": 6,
   "id": "b1a76e58",
   "metadata": {},
   "outputs": [],
   "source": [
    "flattened_passages = list(chain.from_iterable(email_df['Passages']))"
   ]
  },
  {
   "cell_type": "code",
   "execution_count": 7,
   "id": "5b9266c3",
   "metadata": {},
   "outputs": [
    {
     "data": {
      "text/plain": [
       "337215"
      ]
     },
     "execution_count": 7,
     "metadata": {},
     "output_type": "execute_result"
    }
   ],
   "source": [
    "len(flattened_passages)"
   ]
  },
  {
   "cell_type": "code",
   "execution_count": 13,
   "id": "27025c2b",
   "metadata": {},
   "outputs": [],
   "source": [
    "umap_model = UMAP(n_neighbors=6, min_dist=0.4)\n",
    "hdbscan_model = HDBSCAN(min_cluster_size=135, gen_min_span_tree=True, prediction_data=True)"
   ]
  },
  {
   "cell_type": "code",
   "execution_count": 14,
   "id": "cd9d90a4",
   "metadata": {},
   "outputs": [],
   "source": [
    "# import random\n",
    "# samples = random.sample(flattened_passages, 50000)"
   ]
  },
  {
   "cell_type": "code",
   "execution_count": 15,
   "id": "89b02b6d",
   "metadata": {},
   "outputs": [
    {
     "data": {
      "application/vnd.jupyter.widget-view+json": {
       "model_id": "5c9969daeddc433682e43306742c6c98",
       "version_major": 2,
       "version_minor": 0
      },
      "text/plain": [
       "Batches:   0%|          | 0/10538 [00:00<?, ?it/s]"
      ]
     },
     "metadata": {},
     "output_type": "display_data"
    },
    {
     "name": "stderr",
     "output_type": "stream",
     "text": [
      "2023-10-14 22:31:59,550 - BERTopic - Transformed documents to Embeddings\n",
      "2023-10-14 22:38:55,852 - BERTopic - Reduced dimensionality\n"
     ]
    },
    {
     "name": "stdout",
     "output_type": "stream",
     "text": [
      "huggingface/tokenizers: The current process just got forked, after parallelism has already been used. Disabling parallelism to avoid deadlocks...\n",
      "To disable this warning, you can either:\n",
      "\t- Avoid using `tokenizers` before the fork if possible\n",
      "huggingface/tokenizers: The current process just got forked, after parallelism has already been used. Disabling parallelism to avoid deadlocks...\n",
      "To disable this warning, you can either:\n",
      "\t- Avoid using `tokenizers` before the fork if possible\n",
      "huggingface/tokenizers: The current process just got forked, after parallelism has already been used. Disabling parallelism to avoid deadlocks...\n",
      "To disable this warning, you can either:\n",
      "\t- Avoid using `tokenizers` before the fork if possible\n",
      "\t- Explicitly set the environment variable TOKENIZERS_PARALLELISM=(true | false)\n",
      "\t- Explicitly set the environment variable TOKENIZERS_PARALLELISM=(true | false)\n",
      "\t- Explicitly set the environment variable TOKENIZERS_PARALLELISM=(true | false)\n",
      "huggingface/tokenizers: The current process just got forked, after parallelism has already been used. Disabling parallelism to avoid deadlocks...\n",
      "To disable this warning, you can either:\n",
      "\t- Avoid using `tokenizers` before the fork if possible\n",
      "\t- Explicitly set the environment variable TOKENIZERS_PARALLELISM=(true | false)\n"
     ]
    },
    {
     "name": "stderr",
     "output_type": "stream",
     "text": [
      "2023-10-14 22:39:21,546 - BERTopic - Clustered reduced embeddings\n"
     ]
    }
   ],
   "source": [
    "topic_model = BERTopic(n_gram_range=(1, 3), top_n_words=10,\n",
    "                      umap_model=umap_model, hdbscan_model=hdbscan_model, verbose=True)\n",
    "topics, probs = topic_model.fit_transform(flattened_passages)"
   ]
  },
  {
   "cell_type": "code",
   "execution_count": 16,
   "id": "691debd1",
   "metadata": {},
   "outputs": [
    {
     "data": {
      "text/html": [
       "<div>\n",
       "<style scoped>\n",
       "    .dataframe tbody tr th:only-of-type {\n",
       "        vertical-align: middle;\n",
       "    }\n",
       "\n",
       "    .dataframe tbody tr th {\n",
       "        vertical-align: top;\n",
       "    }\n",
       "\n",
       "    .dataframe thead th {\n",
       "        text-align: right;\n",
       "    }\n",
       "</style>\n",
       "<table border=\"1\" class=\"dataframe\">\n",
       "  <thead>\n",
       "    <tr style=\"text-align: right;\">\n",
       "      <th></th>\n",
       "      <th>Topic</th>\n",
       "      <th>Count</th>\n",
       "      <th>Name</th>\n",
       "      <th>Representation</th>\n",
       "      <th>Representative_Docs</th>\n",
       "    </tr>\n",
       "  </thead>\n",
       "  <tbody>\n",
       "    <tr>\n",
       "      <th>0</th>\n",
       "      <td>-1</td>\n",
       "      <td>219155</td>\n",
       "      <td>-1_to_for_the_and</td>\n",
       "      <td>[to, for, the, and, you, in, of, this, by, our]</td>\n",
       "      <td>[Paid for by Michael Franken for Iowa, IncMich...</td>\n",
       "    </tr>\n",
       "    <tr>\n",
       "      <th>1</th>\n",
       "      <td>0</td>\n",
       "      <td>36745</td>\n",
       "      <td>0_we_our_to_the</td>\n",
       "      <td>[we, our, to, the, and, in, this, of, you, can]</td>\n",
       "      <td>[And with so much on the ballot this year, fro...</td>\n",
       "    </tr>\n",
       "    <tr>\n",
       "      <th>2</th>\n",
       "      <td>1</td>\n",
       "      <td>4718</td>\n",
       "      <td>1_abortion_roe_wade_roe wade</td>\n",
       "      <td>[abortion, roe, wade, roe wade, reproductive, ...</td>\n",
       "      <td>[Today marks the 49th anniversary of the Supre...</td>\n",
       "    </tr>\n",
       "    <tr>\n",
       "      <th>3</th>\n",
       "      <td>2</td>\n",
       "      <td>4209</td>\n",
       "      <td>2_georgia_stacey_abrams_kemp</td>\n",
       "      <td>[georgia, stacey, abrams, kemp, warnock, brian...</td>\n",
       "      <td>[–Georgia Democrats --------------------------...</td>\n",
       "    </tr>\n",
       "    <tr>\n",
       "      <th>4</th>\n",
       "      <td>3</td>\n",
       "      <td>2821</td>\n",
       "      <td>3_biden_joe_inflation_joe biden</td>\n",
       "      <td>[biden, joe, inflation, joe biden, the, gas, b...</td>\n",
       "      <td>[Peter, Joe Biden blames everyone but himself ...</td>\n",
       "    </tr>\n",
       "    <tr>\n",
       "      <th>...</th>\n",
       "      <td>...</td>\n",
       "      <td>...</td>\n",
       "      <td>...</td>\n",
       "      <td>...</td>\n",
       "      <td>...</td>\n",
       "    </tr>\n",
       "    <tr>\n",
       "      <th>193</th>\n",
       "      <td>192</td>\n",
       "      <td>139</td>\n",
       "      <td>192_andrews for_annie andrews for_andrews_anni...</td>\n",
       "      <td>[andrews for, annie andrews for, andrews, anni...</td>\n",
       "      <td>[Followinghis clerkship, Mike joined the Salt ...</td>\n",
       "    </tr>\n",
       "    <tr>\n",
       "      <th>194</th>\n",
       "      <td>193</td>\n",
       "      <td>139</td>\n",
       "      <td>193_mullin_kevin mullin_kevin_strahan</td>\n",
       "      <td>[mullin, kevin mullin, kevin, strahan, kevin m...</td>\n",
       "      <td>[( you, Kevin Mullin==========================...</td>\n",
       "    </tr>\n",
       "    <tr>\n",
       "      <th>195</th>\n",
       "      <td>194</td>\n",
       "      <td>137</td>\n",
       "      <td>194_few things that_few things_maga hat_things...</td>\n",
       "      <td>[few things that, few things, maga hat, things...</td>\n",
       "      <td>[I have 15 minutes of free time this morning, ...</td>\n",
       "    </tr>\n",
       "    <tr>\n",
       "      <th>196</th>\n",
       "      <td>195</td>\n",
       "      <td>137</td>\n",
       "      <td>195_ken_russell_ken russell_russell is</td>\n",
       "      <td>[ken, russell, ken russell, russell is, ken ru...</td>\n",
       "      <td>[Thank you, Russell HQ  Ken Russell is a Democ...</td>\n",
       "    </tr>\n",
       "    <tr>\n",
       "      <th>197</th>\n",
       "      <td>196</td>\n",
       "      <td>135</td>\n",
       "      <td>196_trudy_trudy busch valentine_busch valentin...</td>\n",
       "      <td>[trudy, trudy busch valentine, busch valentine...</td>\n",
       "      <td>[Mandela  -------- This email wassent to dpwil...</td>\n",
       "    </tr>\n",
       "  </tbody>\n",
       "</table>\n",
       "<p>198 rows × 5 columns</p>\n",
       "</div>"
      ],
      "text/plain": [
       "     Topic   Count                                               Name  \\\n",
       "0       -1  219155                                  -1_to_for_the_and   \n",
       "1        0   36745                                    0_we_our_to_the   \n",
       "2        1    4718                       1_abortion_roe_wade_roe wade   \n",
       "3        2    4209                       2_georgia_stacey_abrams_kemp   \n",
       "4        3    2821                    3_biden_joe_inflation_joe biden   \n",
       "..     ...     ...                                                ...   \n",
       "193    192     139  192_andrews for_annie andrews for_andrews_anni...   \n",
       "194    193     139              193_mullin_kevin mullin_kevin_strahan   \n",
       "195    194     137  194_few things that_few things_maga hat_things...   \n",
       "196    195     137             195_ken_russell_ken russell_russell is   \n",
       "197    196     135  196_trudy_trudy busch valentine_busch valentin...   \n",
       "\n",
       "                                        Representation  \\\n",
       "0      [to, for, the, and, you, in, of, this, by, our]   \n",
       "1      [we, our, to, the, and, in, this, of, you, can]   \n",
       "2    [abortion, roe, wade, roe wade, reproductive, ...   \n",
       "3    [georgia, stacey, abrams, kemp, warnock, brian...   \n",
       "4    [biden, joe, inflation, joe biden, the, gas, b...   \n",
       "..                                                 ...   \n",
       "193  [andrews for, annie andrews for, andrews, anni...   \n",
       "194  [mullin, kevin mullin, kevin, strahan, kevin m...   \n",
       "195  [few things that, few things, maga hat, things...   \n",
       "196  [ken, russell, ken russell, russell is, ken ru...   \n",
       "197  [trudy, trudy busch valentine, busch valentine...   \n",
       "\n",
       "                                   Representative_Docs  \n",
       "0    [Paid for by Michael Franken for Iowa, IncMich...  \n",
       "1    [And with so much on the ballot this year, fro...  \n",
       "2    [Today marks the 49th anniversary of the Supre...  \n",
       "3    [–Georgia Democrats --------------------------...  \n",
       "4    [Peter, Joe Biden blames everyone but himself ...  \n",
       "..                                                 ...  \n",
       "193  [Followinghis clerkship, Mike joined the Salt ...  \n",
       "194  [( you, Kevin Mullin==========================...  \n",
       "195  [I have 15 minutes of free time this morning, ...  \n",
       "196  [Thank you, Russell HQ  Ken Russell is a Democ...  \n",
       "197  [Mandela  -------- This email wassent to dpwil...  \n",
       "\n",
       "[198 rows x 5 columns]"
      ]
     },
     "execution_count": 16,
     "metadata": {},
     "output_type": "execute_result"
    }
   ],
   "source": [
    "topic_model.get_topic_info()"
   ]
  },
  {
   "cell_type": "code",
   "execution_count": 19,
   "id": "37462782",
   "metadata": {},
   "outputs": [],
   "source": [
    "topic_model.get_topic_info().to_pickle('Email/email_cluster_bert.pkl')"
   ]
  },
  {
   "cell_type": "code",
   "execution_count": 17,
   "id": "f43d53f3",
   "metadata": {},
   "outputs": [
    {
     "data": {
      "application/vnd.plotly.v1+json": {
       "config": {
        "plotlyServerURL": "https://plot.ly"
       },
       "data": [
        {
         "hoverinfo": "text",
         "marker": {
          "color": "rgb(61,153,112)"
         },
         "mode": "lines",
         "type": "scatter",
         "x": [
          0,
          0.7754795565002193,
          0.7754795565002193,
          0
         ],
         "xaxis": "x",
         "y": [
          -5,
          -5,
          -15,
          -15
         ],
         "yaxis": "y"
        },
        {
         "hoverinfo": "text",
         "marker": {
          "color": "rgb(255,65,54)"
         },
         "mode": "lines",
         "type": "scatter",
         "x": [
          0,
          0.6900934870228301,
          0.6900934870228301,
          0
         ],
         "xaxis": "x",
         "y": [
          -35,
          -35,
          -45,
          -45
         ],
         "yaxis": "y"
        },
        {
         "hoverinfo": "text",
         "marker": {
          "color": "rgb(255,65,54)"
         },
         "mode": "lines",
         "type": "scatter",
         "x": [
          0.6900934870228301,
          0.7562414256771516,
          0.7562414256771516,
          0
         ],
         "xaxis": "x",
         "y": [
          -40,
          -40,
          -55,
          -55
         ],
         "yaxis": "y"
        },
        {
         "hoverinfo": "text",
         "marker": {
          "color": "rgb(255,65,54)"
         },
         "mode": "lines",
         "type": "scatter",
         "x": [
          0,
          0.8293188599473491,
          0.8293188599473491,
          0.7562414256771516
         ],
         "xaxis": "x",
         "y": [
          -25,
          -25,
          -47.5,
          -47.5
         ],
         "yaxis": "y"
        },
        {
         "hoverinfo": "text",
         "marker": {
          "color": "rgb(255,65,54)"
         },
         "mode": "lines",
         "type": "scatter",
         "x": [
          0,
          0.5214693905960246,
          0.5214693905960246,
          0
         ],
         "xaxis": "x",
         "y": [
          -75,
          -75,
          -85,
          -85
         ],
         "yaxis": "y"
        },
        {
         "hoverinfo": "text",
         "marker": {
          "color": "rgb(255,65,54)"
         },
         "mode": "lines",
         "type": "scatter",
         "x": [
          0.5214693905960246,
          0.6203781911578937,
          0.6203781911578937,
          0
         ],
         "xaxis": "x",
         "y": [
          -80,
          -80,
          -95,
          -95
         ],
         "yaxis": "y"
        },
        {
         "hoverinfo": "text",
         "marker": {
          "color": "rgb(255,65,54)"
         },
         "mode": "lines",
         "type": "scatter",
         "x": [
          0,
          0.6927458030894262,
          0.6927458030894262,
          0.6203781911578937
         ],
         "xaxis": "x",
         "y": [
          -65,
          -65,
          -87.5,
          -87.5
         ],
         "yaxis": "y"
        },
        {
         "hoverinfo": "text",
         "marker": {
          "color": "rgb(255,65,54)"
         },
         "mode": "lines",
         "type": "scatter",
         "x": [
          0.6927458030894262,
          0.7433239694524095,
          0.7433239694524095,
          0
         ],
         "xaxis": "x",
         "y": [
          -76.25,
          -76.25,
          -105,
          -105
         ],
         "yaxis": "y"
        },
        {
         "hoverinfo": "text",
         "marker": {
          "color": "rgb(255,65,54)"
         },
         "mode": "lines",
         "type": "scatter",
         "x": [
          0,
          0.4901658783743731,
          0.4901658783743731,
          0
         ],
         "xaxis": "x",
         "y": [
          -125,
          -125,
          -135,
          -135
         ],
         "yaxis": "y"
        },
        {
         "hoverinfo": "text",
         "marker": {
          "color": "rgb(255,65,54)"
         },
         "mode": "lines",
         "type": "scatter",
         "x": [
          0,
          0.5885696861026082,
          0.5885696861026082,
          0.4901658783743731
         ],
         "xaxis": "x",
         "y": [
          -115,
          -115,
          -130,
          -130
         ],
         "yaxis": "y"
        },
        {
         "hoverinfo": "text",
         "marker": {
          "color": "rgb(255,65,54)"
         },
         "mode": "lines",
         "type": "scatter",
         "x": [
          0.5885696861026082,
          0.6340914475187057,
          0.6340914475187057,
          0
         ],
         "xaxis": "x",
         "y": [
          -122.5,
          -122.5,
          -145,
          -145
         ],
         "yaxis": "y"
        },
        {
         "hoverinfo": "text",
         "marker": {
          "color": "rgb(255,65,54)"
         },
         "mode": "lines",
         "type": "scatter",
         "x": [
          0.6340914475187057,
          0.6425955741617053,
          0.6425955741617053,
          0
         ],
         "xaxis": "x",
         "y": [
          -133.75,
          -133.75,
          -155,
          -155
         ],
         "yaxis": "y"
        },
        {
         "hoverinfo": "text",
         "marker": {
          "color": "rgb(255,65,54)"
         },
         "mode": "lines",
         "type": "scatter",
         "x": [
          0.7433239694524095,
          0.8017749494397163,
          0.8017749494397163,
          0.6425955741617053
         ],
         "xaxis": "x",
         "y": [
          -90.625,
          -90.625,
          -144.375,
          -144.375
         ],
         "yaxis": "y"
        },
        {
         "hoverinfo": "text",
         "marker": {
          "color": "rgb(255,65,54)"
         },
         "mode": "lines",
         "type": "scatter",
         "x": [
          0.8017749494397163,
          0.8423032692420135,
          0.8423032692420135,
          0
         ],
         "xaxis": "x",
         "y": [
          -117.5,
          -117.5,
          -165,
          -165
         ],
         "yaxis": "y"
        },
        {
         "hoverinfo": "text",
         "marker": {
          "color": "rgb(255,65,54)"
         },
         "mode": "lines",
         "type": "scatter",
         "x": [
          0.8293188599473491,
          0.8736844177164371,
          0.8736844177164371,
          0.8423032692420135
         ],
         "xaxis": "x",
         "y": [
          -36.25,
          -36.25,
          -141.25,
          -141.25
         ],
         "yaxis": "y"
        },
        {
         "hoverinfo": "text",
         "marker": {
          "color": "rgb(255,65,54)"
         },
         "mode": "lines",
         "type": "scatter",
         "x": [
          0,
          0.8715557643887264,
          0.8715557643887264,
          0
         ],
         "xaxis": "x",
         "y": [
          -175,
          -175,
          -185,
          -185
         ],
         "yaxis": "y"
        },
        {
         "hoverinfo": "text",
         "marker": {
          "color": "rgb(255,65,54)"
         },
         "mode": "lines",
         "type": "scatter",
         "x": [
          0.8715557643887264,
          0.9149599797284031,
          0.9149599797284031,
          0
         ],
         "xaxis": "x",
         "y": [
          -180,
          -180,
          -195,
          -195
         ],
         "yaxis": "y"
        },
        {
         "hoverinfo": "text",
         "marker": {
          "color": "rgb(255,65,54)"
         },
         "mode": "lines",
         "type": "scatter",
         "x": [
          0,
          0.7989557700379094,
          0.7989557700379094,
          0
         ],
         "xaxis": "x",
         "y": [
          -215,
          -215,
          -225,
          -225
         ],
         "yaxis": "y"
        },
        {
         "hoverinfo": "text",
         "marker": {
          "color": "rgb(255,65,54)"
         },
         "mode": "lines",
         "type": "scatter",
         "x": [
          0.7989557700379094,
          0.8486289193956965,
          0.8486289193956965,
          0
         ],
         "xaxis": "x",
         "y": [
          -220,
          -220,
          -235,
          -235
         ],
         "yaxis": "y"
        },
        {
         "hoverinfo": "text",
         "marker": {
          "color": "rgb(255,65,54)"
         },
         "mode": "lines",
         "type": "scatter",
         "x": [
          0,
          0.8904832175498633,
          0.8904832175498633,
          0.8486289193956965
         ],
         "xaxis": "x",
         "y": [
          -205,
          -205,
          -227.5,
          -227.5
         ],
         "yaxis": "y"
        },
        {
         "hoverinfo": "text",
         "marker": {
          "color": "rgb(255,65,54)"
         },
         "mode": "lines",
         "type": "scatter",
         "x": [
          0.8904832175498633,
          0.9075767284001183,
          0.9075767284001183,
          0
         ],
         "xaxis": "x",
         "y": [
          -216.25,
          -216.25,
          -245,
          -245
         ],
         "yaxis": "y"
        },
        {
         "hoverinfo": "text",
         "marker": {
          "color": "rgb(255,65,54)"
         },
         "mode": "lines",
         "type": "scatter",
         "x": [
          0.9149599797284031,
          0.9353358171695759,
          0.9353358171695759,
          0.9075767284001183
         ],
         "xaxis": "x",
         "y": [
          -187.5,
          -187.5,
          -230.625,
          -230.625
         ],
         "yaxis": "y"
        },
        {
         "hoverinfo": "text",
         "marker": {
          "color": "rgb(255,65,54)"
         },
         "mode": "lines",
         "type": "scatter",
         "x": [
          0.8736844177164371,
          0.9935650437918946,
          0.9935650437918946,
          0.9353358171695759
         ],
         "xaxis": "x",
         "y": [
          -88.75,
          -88.75,
          -209.0625,
          -209.0625
         ],
         "yaxis": "y"
        },
        {
         "hoverinfo": "text",
         "marker": {
          "color": "rgb(0,116,217)"
         },
         "mode": "lines",
         "type": "scatter",
         "x": [
          0.7754795565002193,
          1.0477192269988616,
          1.0477192269988616,
          0.9935650437918946
         ],
         "xaxis": "x",
         "y": [
          -10,
          -10,
          -148.90625,
          -148.90625
         ],
         "yaxis": "y"
        },
        {
         "hoverinfo": "text",
         "marker": {
          "color": "rgb(35,205,205)"
         },
         "mode": "lines",
         "type": "scatter",
         "x": [
          0,
          0.7290031022098391,
          0.7290031022098391,
          0
         ],
         "xaxis": "x",
         "y": [
          -255,
          -255,
          -265,
          -265
         ],
         "yaxis": "y"
        },
        {
         "hoverinfo": "text",
         "marker": {
          "color": "rgb(0,116,217)"
         },
         "mode": "lines",
         "type": "scatter",
         "x": [
          1.0477192269988616,
          1.06183044410458,
          1.06183044410458,
          0.7290031022098391
         ],
         "xaxis": "x",
         "y": [
          -79.453125,
          -79.453125,
          -260,
          -260
         ],
         "yaxis": "y"
        },
        {
         "hoverinfo": "text",
         "marker": {
          "color": "rgb(133,20,75)"
         },
         "mode": "lines",
         "type": "scatter",
         "x": [
          0,
          0.59581925166086,
          0.59581925166086,
          0
         ],
         "xaxis": "x",
         "y": [
          -285,
          -285,
          -295,
          -295
         ],
         "yaxis": "y"
        },
        {
         "hoverinfo": "text",
         "marker": {
          "color": "rgb(133,20,75)"
         },
         "mode": "lines",
         "type": "scatter",
         "x": [
          0,
          0.7604870763914278,
          0.7604870763914278,
          0.59581925166086
         ],
         "xaxis": "x",
         "y": [
          -275,
          -275,
          -290,
          -290
         ],
         "yaxis": "y"
        },
        {
         "hoverinfo": "text",
         "marker": {
          "color": "rgb(133,20,75)"
         },
         "mode": "lines",
         "type": "scatter",
         "x": [
          0,
          0.7839564632009114,
          0.7839564632009114,
          0
         ],
         "xaxis": "x",
         "y": [
          -305,
          -305,
          -315,
          -315
         ],
         "yaxis": "y"
        },
        {
         "hoverinfo": "text",
         "marker": {
          "color": "rgb(133,20,75)"
         },
         "mode": "lines",
         "type": "scatter",
         "x": [
          0,
          0.7761887896901254,
          0.7761887896901254,
          0
         ],
         "xaxis": "x",
         "y": [
          -335,
          -335,
          -345,
          -345
         ],
         "yaxis": "y"
        },
        {
         "hoverinfo": "text",
         "marker": {
          "color": "rgb(133,20,75)"
         },
         "mode": "lines",
         "type": "scatter",
         "x": [
          0.7761887896901254,
          0.8201416863801377,
          0.8201416863801377,
          0
         ],
         "xaxis": "x",
         "y": [
          -340,
          -340,
          -355,
          -355
         ],
         "yaxis": "y"
        },
        {
         "hoverinfo": "text",
         "marker": {
          "color": "rgb(133,20,75)"
         },
         "mode": "lines",
         "type": "scatter",
         "x": [
          0,
          0.8293317096986687,
          0.8293317096986687,
          0.8201416863801377
         ],
         "xaxis": "x",
         "y": [
          -325,
          -325,
          -347.5,
          -347.5
         ],
         "yaxis": "y"
        },
        {
         "hoverinfo": "text",
         "marker": {
          "color": "rgb(133,20,75)"
         },
         "mode": "lines",
         "type": "scatter",
         "x": [
          0.8293317096986687,
          0.8371917476156849,
          0.8371917476156849,
          0
         ],
         "xaxis": "x",
         "y": [
          -336.25,
          -336.25,
          -365,
          -365
         ],
         "yaxis": "y"
        },
        {
         "hoverinfo": "text",
         "marker": {
          "color": "rgb(133,20,75)"
         },
         "mode": "lines",
         "type": "scatter",
         "x": [
          0,
          0.3647049573830875,
          0.3647049573830875,
          0
         ],
         "xaxis": "x",
         "y": [
          -405,
          -405,
          -415,
          -415
         ],
         "yaxis": "y"
        },
        {
         "hoverinfo": "text",
         "marker": {
          "color": "rgb(133,20,75)"
         },
         "mode": "lines",
         "type": "scatter",
         "x": [
          0.3647049573830875,
          0.5302098377187924,
          0.5302098377187924,
          0
         ],
         "xaxis": "x",
         "y": [
          -410,
          -410,
          -425,
          -425
         ],
         "yaxis": "y"
        },
        {
         "hoverinfo": "text",
         "marker": {
          "color": "rgb(133,20,75)"
         },
         "mode": "lines",
         "type": "scatter",
         "x": [
          0,
          0.6069131587154675,
          0.6069131587154675,
          0.5302098377187924
         ],
         "xaxis": "x",
         "y": [
          -395,
          -395,
          -417.5,
          -417.5
         ],
         "yaxis": "y"
        },
        {
         "hoverinfo": "text",
         "marker": {
          "color": "rgb(133,20,75)"
         },
         "mode": "lines",
         "type": "scatter",
         "x": [
          0.6069131587154675,
          0.6610336940116356,
          0.6610336940116356,
          0
         ],
         "xaxis": "x",
         "y": [
          -406.25,
          -406.25,
          -435,
          -435
         ],
         "yaxis": "y"
        },
        {
         "hoverinfo": "text",
         "marker": {
          "color": "rgb(133,20,75)"
         },
         "mode": "lines",
         "type": "scatter",
         "x": [
          0,
          0.6887583345239435,
          0.6887583345239435,
          0.6610336940116356
         ],
         "xaxis": "x",
         "y": [
          -385,
          -385,
          -420.625,
          -420.625
         ],
         "yaxis": "y"
        },
        {
         "hoverinfo": "text",
         "marker": {
          "color": "rgb(133,20,75)"
         },
         "mode": "lines",
         "type": "scatter",
         "x": [
          0,
          0.5981800668972459,
          0.5981800668972459,
          0
         ],
         "xaxis": "x",
         "y": [
          -445,
          -445,
          -455,
          -455
         ],
         "yaxis": "y"
        },
        {
         "hoverinfo": "text",
         "marker": {
          "color": "rgb(133,20,75)"
         },
         "mode": "lines",
         "type": "scatter",
         "x": [
          0.5981800668972459,
          0.6849486706648935,
          0.6849486706648935,
          0
         ],
         "xaxis": "x",
         "y": [
          -450,
          -450,
          -465,
          -465
         ],
         "yaxis": "y"
        },
        {
         "hoverinfo": "text",
         "marker": {
          "color": "rgb(133,20,75)"
         },
         "mode": "lines",
         "type": "scatter",
         "x": [
          0.6887583345239435,
          0.7489141793337779,
          0.7489141793337779,
          0.6849486706648935
         ],
         "xaxis": "x",
         "y": [
          -402.8125,
          -402.8125,
          -457.5,
          -457.5
         ],
         "yaxis": "y"
        },
        {
         "hoverinfo": "text",
         "marker": {
          "color": "rgb(133,20,75)"
         },
         "mode": "lines",
         "type": "scatter",
         "x": [
          0,
          0.7821804746535371,
          0.7821804746535371,
          0.7489141793337779
         ],
         "xaxis": "x",
         "y": [
          -375,
          -375,
          -430.15625,
          -430.15625
         ],
         "yaxis": "y"
        },
        {
         "hoverinfo": "text",
         "marker": {
          "color": "rgb(133,20,75)"
         },
         "mode": "lines",
         "type": "scatter",
         "x": [
          0,
          0.7856636499600553,
          0.7856636499600553,
          0
         ],
         "xaxis": "x",
         "y": [
          -475,
          -475,
          -485,
          -485
         ],
         "yaxis": "y"
        },
        {
         "hoverinfo": "text",
         "marker": {
          "color": "rgb(133,20,75)"
         },
         "mode": "lines",
         "type": "scatter",
         "x": [
          0.7821804746535371,
          0.8114648694082595,
          0.8114648694082595,
          0.7856636499600553
         ],
         "xaxis": "x",
         "y": [
          -402.578125,
          -402.578125,
          -480,
          -480
         ],
         "yaxis": "y"
        },
        {
         "hoverinfo": "text",
         "marker": {
          "color": "rgb(133,20,75)"
         },
         "mode": "lines",
         "type": "scatter",
         "x": [
          0.8371917476156849,
          0.8729700432854207,
          0.8729700432854207,
          0.8114648694082595
         ],
         "xaxis": "x",
         "y": [
          -350.625,
          -350.625,
          -441.2890625,
          -441.2890625
         ],
         "yaxis": "y"
        },
        {
         "hoverinfo": "text",
         "marker": {
          "color": "rgb(133,20,75)"
         },
         "mode": "lines",
         "type": "scatter",
         "x": [
          0,
          0.8332995777390698,
          0.8332995777390698,
          0
         ],
         "xaxis": "x",
         "y": [
          -495,
          -495,
          -505,
          -505
         ],
         "yaxis": "y"
        },
        {
         "hoverinfo": "text",
         "marker": {
          "color": "rgb(133,20,75)"
         },
         "mode": "lines",
         "type": "scatter",
         "x": [
          0,
          0.7845838618205906,
          0.7845838618205906,
          0
         ],
         "xaxis": "x",
         "y": [
          -525,
          -525,
          -535,
          -535
         ],
         "yaxis": "y"
        },
        {
         "hoverinfo": "text",
         "marker": {
          "color": "rgb(133,20,75)"
         },
         "mode": "lines",
         "type": "scatter",
         "x": [
          0,
          0.8073276859935468,
          0.8073276859935468,
          0.7845838618205906
         ],
         "xaxis": "x",
         "y": [
          -515,
          -515,
          -530,
          -530
         ],
         "yaxis": "y"
        },
        {
         "hoverinfo": "text",
         "marker": {
          "color": "rgb(133,20,75)"
         },
         "mode": "lines",
         "type": "scatter",
         "x": [
          0.8073276859935468,
          0.8529301622426013,
          0.8529301622426013,
          0
         ],
         "xaxis": "x",
         "y": [
          -522.5,
          -522.5,
          -545,
          -545
         ],
         "yaxis": "y"
        },
        {
         "hoverinfo": "text",
         "marker": {
          "color": "rgb(133,20,75)"
         },
         "mode": "lines",
         "type": "scatter",
         "x": [
          0.8332995777390698,
          0.8624001221682156,
          0.8624001221682156,
          0.8529301622426013
         ],
         "xaxis": "x",
         "y": [
          -500,
          -500,
          -533.75,
          -533.75
         ],
         "yaxis": "y"
        },
        {
         "hoverinfo": "text",
         "marker": {
          "color": "rgb(133,20,75)"
         },
         "mode": "lines",
         "type": "scatter",
         "x": [
          0.8729700432854207,
          0.8994856815202972,
          0.8994856815202972,
          0.8624001221682156
         ],
         "xaxis": "x",
         "y": [
          -395.95703125,
          -395.95703125,
          -516.875,
          -516.875
         ],
         "yaxis": "y"
        },
        {
         "hoverinfo": "text",
         "marker": {
          "color": "rgb(133,20,75)"
         },
         "mode": "lines",
         "type": "scatter",
         "x": [
          0.7839564632009114,
          0.913288590061444,
          0.913288590061444,
          0.8994856815202972
         ],
         "xaxis": "x",
         "y": [
          -310,
          -310,
          -456.416015625,
          -456.416015625
         ],
         "yaxis": "y"
        },
        {
         "hoverinfo": "text",
         "marker": {
          "color": "rgb(133,20,75)"
         },
         "mode": "lines",
         "type": "scatter",
         "x": [
          0,
          0.5699961936676075,
          0.5699961936676075,
          0
         ],
         "xaxis": "x",
         "y": [
          -555,
          -555,
          -565,
          -565
         ],
         "yaxis": "y"
        },
        {
         "hoverinfo": "text",
         "marker": {
          "color": "rgb(133,20,75)"
         },
         "mode": "lines",
         "type": "scatter",
         "x": [
          0.913288590061444,
          0.9459941489680787,
          0.9459941489680787,
          0.5699961936676075
         ],
         "xaxis": "x",
         "y": [
          -383.2080078125,
          -383.2080078125,
          -560,
          -560
         ],
         "yaxis": "y"
        },
        {
         "hoverinfo": "text",
         "marker": {
          "color": "rgb(133,20,75)"
         },
         "mode": "lines",
         "type": "scatter",
         "x": [
          0.7604870763914278,
          0.9739910125213536,
          0.9739910125213536,
          0.9459941489680787
         ],
         "xaxis": "x",
         "y": [
          -282.5,
          -282.5,
          -471.60400390625,
          -471.60400390625
         ],
         "yaxis": "y"
        },
        {
         "hoverinfo": "text",
         "marker": {
          "color": "rgb(255,220,0)"
         },
         "mode": "lines",
         "type": "scatter",
         "x": [
          0,
          0.5721088483919319,
          0.5721088483919319,
          0
         ],
         "xaxis": "x",
         "y": [
          -575,
          -575,
          -585,
          -585
         ],
         "yaxis": "y"
        },
        {
         "hoverinfo": "text",
         "marker": {
          "color": "rgb(255,220,0)"
         },
         "mode": "lines",
         "type": "scatter",
         "x": [
          0.5721088483919319,
          0.7631060741633025,
          0.7631060741633025,
          0
         ],
         "xaxis": "x",
         "y": [
          -580,
          -580,
          -595,
          -595
         ],
         "yaxis": "y"
        },
        {
         "hoverinfo": "text",
         "marker": {
          "color": "rgb(0,116,217)"
         },
         "mode": "lines",
         "type": "scatter",
         "x": [
          0.9739910125213536,
          1.0157633675490714,
          1.0157633675490714,
          0.7631060741633025
         ],
         "xaxis": "x",
         "y": [
          -377.052001953125,
          -377.052001953125,
          -587.5,
          -587.5
         ],
         "yaxis": "y"
        },
        {
         "hoverinfo": "text",
         "marker": {
          "color": "rgb(40,35,35)"
         },
         "mode": "lines",
         "type": "scatter",
         "x": [
          0,
          0.3904319817991212,
          0.3904319817991212,
          0
         ],
         "xaxis": "x",
         "y": [
          -625,
          -625,
          -635,
          -635
         ],
         "yaxis": "y"
        },
        {
         "hoverinfo": "text",
         "marker": {
          "color": "rgb(40,35,35)"
         },
         "mode": "lines",
         "type": "scatter",
         "x": [
          0.3904319817991212,
          0.5440723165553878,
          0.5440723165553878,
          0
         ],
         "xaxis": "x",
         "y": [
          -630,
          -630,
          -645,
          -645
         ],
         "yaxis": "y"
        },
        {
         "hoverinfo": "text",
         "marker": {
          "color": "rgb(40,35,35)"
         },
         "mode": "lines",
         "type": "scatter",
         "x": [
          0,
          0.7212695637698292,
          0.7212695637698292,
          0.5440723165553878
         ],
         "xaxis": "x",
         "y": [
          -615,
          -615,
          -637.5,
          -637.5
         ],
         "yaxis": "y"
        },
        {
         "hoverinfo": "text",
         "marker": {
          "color": "rgb(40,35,35)"
         },
         "mode": "lines",
         "type": "scatter",
         "x": [
          0.7212695637698292,
          0.8400100468824677,
          0.8400100468824677,
          0
         ],
         "xaxis": "x",
         "y": [
          -626.25,
          -626.25,
          -655,
          -655
         ],
         "yaxis": "y"
        },
        {
         "hoverinfo": "text",
         "marker": {
          "color": "rgb(40,35,35)"
         },
         "mode": "lines",
         "type": "scatter",
         "x": [
          0,
          0.8435529826992733,
          0.8435529826992733,
          0.8400100468824677
         ],
         "xaxis": "x",
         "y": [
          -605,
          -605,
          -640.625,
          -640.625
         ],
         "yaxis": "y"
        },
        {
         "hoverinfo": "text",
         "marker": {
          "color": "rgb(40,35,35)"
         },
         "mode": "lines",
         "type": "scatter",
         "x": [
          0,
          0.7352476093277283,
          0.7352476093277283,
          0
         ],
         "xaxis": "x",
         "y": [
          -675,
          -675,
          -685,
          -685
         ],
         "yaxis": "y"
        },
        {
         "hoverinfo": "text",
         "marker": {
          "color": "rgb(40,35,35)"
         },
         "mode": "lines",
         "type": "scatter",
         "x": [
          0,
          0.7408986535438247,
          0.7408986535438247,
          0.7352476093277283
         ],
         "xaxis": "x",
         "y": [
          -665,
          -665,
          -680,
          -680
         ],
         "yaxis": "y"
        },
        {
         "hoverinfo": "text",
         "marker": {
          "color": "rgb(40,35,35)"
         },
         "mode": "lines",
         "type": "scatter",
         "x": [
          0.7408986535438247,
          0.8449310643148155,
          0.8449310643148155,
          0
         ],
         "xaxis": "x",
         "y": [
          -672.5,
          -672.5,
          -695,
          -695
         ],
         "yaxis": "y"
        },
        {
         "hoverinfo": "text",
         "marker": {
          "color": "rgb(40,35,35)"
         },
         "mode": "lines",
         "type": "scatter",
         "x": [
          0.8435529826992733,
          0.9392403040384945,
          0.9392403040384945,
          0.8449310643148155
         ],
         "xaxis": "x",
         "y": [
          -622.8125,
          -622.8125,
          -683.75,
          -683.75
         ],
         "yaxis": "y"
        },
        {
         "hoverinfo": "text",
         "marker": {
          "color": "rgb(0,116,217)"
         },
         "mode": "lines",
         "type": "scatter",
         "x": [
          1.0157633675490714,
          1.0555297841067401,
          1.0555297841067401,
          0.9392403040384945
         ],
         "xaxis": "x",
         "y": [
          -482.2760009765625,
          -482.2760009765625,
          -653.28125,
          -653.28125
         ],
         "yaxis": "y"
        },
        {
         "hoverinfo": "text",
         "marker": {
          "color": "rgb(0,116,217)"
         },
         "mode": "lines",
         "type": "scatter",
         "x": [
          1.06183044410458,
          1.311932772098319,
          1.311932772098319,
          1.0555297841067401
         ],
         "xaxis": "x",
         "y": [
          -169.7265625,
          -169.7265625,
          -567.7786254882812,
          -567.7786254882812
         ],
         "yaxis": "y"
        },
        {
         "hoverinfo": "text",
         "marker": {
          "color": "rgb(61,153,112)"
         },
         "mode": "lines",
         "type": "scatter",
         "x": [
          0,
          0.13373819383697327,
          0.13373819383697327,
          0
         ],
         "xaxis": "x",
         "y": [
          -715,
          -715,
          -725,
          -725
         ],
         "yaxis": "y"
        },
        {
         "hoverinfo": "text",
         "marker": {
          "color": "rgb(61,153,112)"
         },
         "mode": "lines",
         "type": "scatter",
         "x": [
          0.13373819383697327,
          0.22593126216314935,
          0.22593126216314935,
          0
         ],
         "xaxis": "x",
         "y": [
          -720,
          -720,
          -735,
          -735
         ],
         "yaxis": "y"
        },
        {
         "hoverinfo": "text",
         "marker": {
          "color": "rgb(61,153,112)"
         },
         "mode": "lines",
         "type": "scatter",
         "x": [
          0,
          0.8949846578477347,
          0.8949846578477347,
          0.22593126216314935
         ],
         "xaxis": "x",
         "y": [
          -705,
          -705,
          -727.5,
          -727.5
         ],
         "yaxis": "y"
        },
        {
         "hoverinfo": "text",
         "marker": {
          "color": "rgb(255,65,54)"
         },
         "mode": "lines",
         "type": "scatter",
         "x": [
          0,
          0.056539292486024184,
          0.056539292486024184,
          0
         ],
         "xaxis": "x",
         "y": [
          -755,
          -755,
          -765,
          -765
         ],
         "yaxis": "y"
        },
        {
         "hoverinfo": "text",
         "marker": {
          "color": "rgb(255,65,54)"
         },
         "mode": "lines",
         "type": "scatter",
         "x": [
          0,
          0.5318195847013842,
          0.5318195847013842,
          0.056539292486024184
         ],
         "xaxis": "x",
         "y": [
          -745,
          -745,
          -760,
          -760
         ],
         "yaxis": "y"
        },
        {
         "hoverinfo": "text",
         "marker": {
          "color": "rgb(0,116,217)"
         },
         "mode": "lines",
         "type": "scatter",
         "x": [
          0.8949846578477347,
          1.5081398966561361,
          1.5081398966561361,
          0.5318195847013842
         ],
         "xaxis": "x",
         "y": [
          -716.25,
          -716.25,
          -752.5,
          -752.5
         ],
         "yaxis": "y"
        },
        {
         "hoverinfo": "text",
         "marker": {
          "color": "rgb(35,205,205)"
         },
         "mode": "lines",
         "type": "scatter",
         "x": [
          0,
          0.3072647260614295,
          0.3072647260614295,
          0
         ],
         "xaxis": "x",
         "y": [
          -785,
          -785,
          -795,
          -795
         ],
         "yaxis": "y"
        },
        {
         "hoverinfo": "text",
         "marker": {
          "color": "rgb(35,205,205)"
         },
         "mode": "lines",
         "type": "scatter",
         "x": [
          0,
          0.9866566592049395,
          0.9866566592049395,
          0.3072647260614295
         ],
         "xaxis": "x",
         "y": [
          -775,
          -775,
          -790,
          -790
         ],
         "yaxis": "y"
        },
        {
         "hoverinfo": "text",
         "marker": {
          "color": "rgb(61,153,112)"
         },
         "mode": "lines",
         "type": "scatter",
         "x": [
          0,
          0.20265475889631213,
          0.20265475889631213,
          0
         ],
         "xaxis": "x",
         "y": [
          -815,
          -815,
          -825,
          -825
         ],
         "yaxis": "y"
        },
        {
         "hoverinfo": "text",
         "marker": {
          "color": "rgb(61,153,112)"
         },
         "mode": "lines",
         "type": "scatter",
         "x": [
          0,
          0.855113377967918,
          0.855113377967918,
          0.20265475889631213
         ],
         "xaxis": "x",
         "y": [
          -805,
          -805,
          -820,
          -820
         ],
         "yaxis": "y"
        },
        {
         "hoverinfo": "text",
         "marker": {
          "color": "rgb(255,65,54)"
         },
         "mode": "lines",
         "type": "scatter",
         "x": [
          0,
          0.4261401540569578,
          0.4261401540569578,
          0
         ],
         "xaxis": "x",
         "y": [
          -835,
          -835,
          -845,
          -845
         ],
         "yaxis": "y"
        },
        {
         "hoverinfo": "text",
         "marker": {
          "color": "rgb(0,116,217)"
         },
         "mode": "lines",
         "type": "scatter",
         "x": [
          0.855113377967918,
          1.2638151047816655,
          1.2638151047816655,
          0.4261401540569578
         ],
         "xaxis": "x",
         "y": [
          -812.5,
          -812.5,
          -840,
          -840
         ],
         "yaxis": "y"
        },
        {
         "hoverinfo": "text",
         "marker": {
          "color": "rgb(0,116,217)"
         },
         "mode": "lines",
         "type": "scatter",
         "x": [
          0.9866566592049395,
          1.3209075922443656,
          1.3209075922443656,
          1.2638151047816655
         ],
         "xaxis": "x",
         "y": [
          -782.5,
          -782.5,
          -826.25,
          -826.25
         ],
         "yaxis": "y"
        },
        {
         "hoverinfo": "text",
         "marker": {
          "color": "rgb(35,205,205)"
         },
         "mode": "lines",
         "type": "scatter",
         "x": [
          0,
          0.40577458995017057,
          0.40577458995017057,
          0
         ],
         "xaxis": "x",
         "y": [
          -855,
          -855,
          -865,
          -865
         ],
         "yaxis": "y"
        },
        {
         "hoverinfo": "text",
         "marker": {
          "color": "rgb(133,20,75)"
         },
         "mode": "lines",
         "type": "scatter",
         "x": [
          0,
          0.5590922123939869,
          0.5590922123939869,
          0
         ],
         "xaxis": "x",
         "y": [
          -875,
          -875,
          -885,
          -885
         ],
         "yaxis": "y"
        },
        {
         "hoverinfo": "text",
         "marker": {
          "color": "rgb(133,20,75)"
         },
         "mode": "lines",
         "type": "scatter",
         "x": [
          0.5590922123939869,
          0.6644876158966363,
          0.6644876158966363,
          0
         ],
         "xaxis": "x",
         "y": [
          -880,
          -880,
          -895,
          -895
         ],
         "yaxis": "y"
        },
        {
         "hoverinfo": "text",
         "marker": {
          "color": "rgb(255,220,0)"
         },
         "mode": "lines",
         "type": "scatter",
         "x": [
          0,
          0.41292407444828816,
          0.41292407444828816,
          0
         ],
         "xaxis": "x",
         "y": [
          -905,
          -905,
          -915,
          -915
         ],
         "yaxis": "y"
        },
        {
         "hoverinfo": "text",
         "marker": {
          "color": "rgb(0,116,217)"
         },
         "mode": "lines",
         "type": "scatter",
         "x": [
          0.6644876158966363,
          1.19999676293555,
          1.19999676293555,
          0.41292407444828816
         ],
         "xaxis": "x",
         "y": [
          -887.5,
          -887.5,
          -910,
          -910
         ],
         "yaxis": "y"
        },
        {
         "hoverinfo": "text",
         "marker": {
          "color": "rgb(0,116,217)"
         },
         "mode": "lines",
         "type": "scatter",
         "x": [
          0.40577458995017057,
          1.2580389439204402,
          1.2580389439204402,
          1.19999676293555
         ],
         "xaxis": "x",
         "y": [
          -860,
          -860,
          -898.75,
          -898.75
         ],
         "yaxis": "y"
        },
        {
         "hoverinfo": "text",
         "marker": {
          "color": "rgb(40,35,35)"
         },
         "mode": "lines",
         "type": "scatter",
         "x": [
          0,
          0.6598484101492642,
          0.6598484101492642,
          0
         ],
         "xaxis": "x",
         "y": [
          -925,
          -925,
          -935,
          -935
         ],
         "yaxis": "y"
        },
        {
         "hoverinfo": "text",
         "marker": {
          "color": "rgb(40,35,35)"
         },
         "mode": "lines",
         "type": "scatter",
         "x": [
          0.6598484101492642,
          0.7413110515315852,
          0.7413110515315852,
          0
         ],
         "xaxis": "x",
         "y": [
          -930,
          -930,
          -945,
          -945
         ],
         "yaxis": "y"
        },
        {
         "hoverinfo": "text",
         "marker": {
          "color": "rgb(61,153,112)"
         },
         "mode": "lines",
         "type": "scatter",
         "x": [
          0,
          0.6512681768989361,
          0.6512681768989361,
          0
         ],
         "xaxis": "x",
         "y": [
          -955,
          -955,
          -965,
          -965
         ],
         "yaxis": "y"
        },
        {
         "hoverinfo": "text",
         "marker": {
          "color": "rgb(255,65,54)"
         },
         "mode": "lines",
         "type": "scatter",
         "x": [
          0,
          0.48673223636431284,
          0.48673223636431284,
          0
         ],
         "xaxis": "x",
         "y": [
          -985,
          -985,
          -995,
          -995
         ],
         "yaxis": "y"
        },
        {
         "hoverinfo": "text",
         "marker": {
          "color": "rgb(255,65,54)"
         },
         "mode": "lines",
         "type": "scatter",
         "x": [
          0,
          0.7592407560380755,
          0.7592407560380755,
          0.48673223636431284
         ],
         "xaxis": "x",
         "y": [
          -975,
          -975,
          -990,
          -990
         ],
         "yaxis": "y"
        },
        {
         "hoverinfo": "text",
         "marker": {
          "color": "rgb(255,65,54)"
         },
         "mode": "lines",
         "type": "scatter",
         "x": [
          0.7592407560380755,
          0.8511176619516494,
          0.8511176619516494,
          0
         ],
         "xaxis": "x",
         "y": [
          -982.5,
          -982.5,
          -1005,
          -1005
         ],
         "yaxis": "y"
        },
        {
         "hoverinfo": "text",
         "marker": {
          "color": "rgb(0,116,217)"
         },
         "mode": "lines",
         "type": "scatter",
         "x": [
          0.6512681768989361,
          1.024788692350907,
          1.024788692350907,
          0.8511176619516494
         ],
         "xaxis": "x",
         "y": [
          -960,
          -960,
          -993.75,
          -993.75
         ],
         "yaxis": "y"
        },
        {
         "hoverinfo": "text",
         "marker": {
          "color": "rgb(0,116,217)"
         },
         "mode": "lines",
         "type": "scatter",
         "x": [
          0.7413110515315852,
          1.1240872902140355,
          1.1240872902140355,
          1.024788692350907
         ],
         "xaxis": "x",
         "y": [
          -937.5,
          -937.5,
          -976.875,
          -976.875
         ],
         "yaxis": "y"
        },
        {
         "hoverinfo": "text",
         "marker": {
          "color": "rgb(35,205,205)"
         },
         "mode": "lines",
         "type": "scatter",
         "x": [
          0,
          0.35653115859400764,
          0.35653115859400764,
          0
         ],
         "xaxis": "x",
         "y": [
          -1015,
          -1015,
          -1025,
          -1025
         ],
         "yaxis": "y"
        },
        {
         "hoverinfo": "text",
         "marker": {
          "color": "rgb(35,205,205)"
         },
         "mode": "lines",
         "type": "scatter",
         "x": [
          0.35653115859400764,
          0.7134689640621014,
          0.7134689640621014,
          0
         ],
         "xaxis": "x",
         "y": [
          -1020,
          -1020,
          -1035,
          -1035
         ],
         "yaxis": "y"
        },
        {
         "hoverinfo": "text",
         "marker": {
          "color": "rgb(61,153,112)"
         },
         "mode": "lines",
         "type": "scatter",
         "x": [
          0,
          0.4912532762548998,
          0.4912532762548998,
          0
         ],
         "xaxis": "x",
         "y": [
          -1045,
          -1045,
          -1055,
          -1055
         ],
         "yaxis": "y"
        },
        {
         "hoverinfo": "text",
         "marker": {
          "color": "rgb(61,153,112)"
         },
         "mode": "lines",
         "type": "scatter",
         "x": [
          0,
          0.7483526979745858,
          0.7483526979745858,
          0
         ],
         "xaxis": "x",
         "y": [
          -1065,
          -1065,
          -1075,
          -1075
         ],
         "yaxis": "y"
        },
        {
         "hoverinfo": "text",
         "marker": {
          "color": "rgb(61,153,112)"
         },
         "mode": "lines",
         "type": "scatter",
         "x": [
          0.4912532762548998,
          0.8771529774290282,
          0.8771529774290282,
          0.7483526979745858
         ],
         "xaxis": "x",
         "y": [
          -1050,
          -1050,
          -1070,
          -1070
         ],
         "yaxis": "y"
        },
        {
         "hoverinfo": "text",
         "marker": {
          "color": "rgb(0,116,217)"
         },
         "mode": "lines",
         "type": "scatter",
         "x": [
          0.7134689640621014,
          1.2214348126117514,
          1.2214348126117514,
          0.8771529774290282
         ],
         "xaxis": "x",
         "y": [
          -1027.5,
          -1027.5,
          -1060,
          -1060
         ],
         "yaxis": "y"
        },
        {
         "hoverinfo": "text",
         "marker": {
          "color": "rgb(0,116,217)"
         },
         "mode": "lines",
         "type": "scatter",
         "x": [
          1.1240872902140355,
          1.458330285073578,
          1.458330285073578,
          1.2214348126117514
         ],
         "xaxis": "x",
         "y": [
          -957.1875,
          -957.1875,
          -1043.75,
          -1043.75
         ],
         "yaxis": "y"
        },
        {
         "hoverinfo": "text",
         "marker": {
          "color": "rgb(255,65,54)"
         },
         "mode": "lines",
         "type": "scatter",
         "x": [
          0,
          0.8829683735089683,
          0.8829683735089683,
          0
         ],
         "xaxis": "x",
         "y": [
          -1095,
          -1095,
          -1105,
          -1105
         ],
         "yaxis": "y"
        },
        {
         "hoverinfo": "text",
         "marker": {
          "color": "rgb(255,65,54)"
         },
         "mode": "lines",
         "type": "scatter",
         "x": [
          0,
          0.925703280393835,
          0.925703280393835,
          0.8829683735089683
         ],
         "xaxis": "x",
         "y": [
          -1085,
          -1085,
          -1100,
          -1100
         ],
         "yaxis": "y"
        },
        {
         "hoverinfo": "text",
         "marker": {
          "color": "rgb(35,205,205)"
         },
         "mode": "lines",
         "type": "scatter",
         "x": [
          0,
          0.6089971178486231,
          0.6089971178486231,
          0
         ],
         "xaxis": "x",
         "y": [
          -1115,
          -1115,
          -1125,
          -1125
         ],
         "yaxis": "y"
        },
        {
         "hoverinfo": "text",
         "marker": {
          "color": "rgb(0,116,217)"
         },
         "mode": "lines",
         "type": "scatter",
         "x": [
          0.925703280393835,
          1.1157325115328467,
          1.1157325115328467,
          0.6089971178486231
         ],
         "xaxis": "x",
         "y": [
          -1092.5,
          -1092.5,
          -1120,
          -1120
         ],
         "yaxis": "y"
        },
        {
         "hoverinfo": "text",
         "marker": {
          "color": "rgb(133,20,75)"
         },
         "mode": "lines",
         "type": "scatter",
         "x": [
          0,
          0.8225766023111017,
          0.8225766023111017,
          0
         ],
         "xaxis": "x",
         "y": [
          -1135,
          -1135,
          -1145,
          -1145
         ],
         "yaxis": "y"
        },
        {
         "hoverinfo": "text",
         "marker": {
          "color": "rgb(255,220,0)"
         },
         "mode": "lines",
         "type": "scatter",
         "x": [
          0,
          0.8766834417992859,
          0.8766834417992859,
          0
         ],
         "xaxis": "x",
         "y": [
          -1155,
          -1155,
          -1165,
          -1165
         ],
         "yaxis": "y"
        },
        {
         "hoverinfo": "text",
         "marker": {
          "color": "rgb(255,220,0)"
         },
         "mode": "lines",
         "type": "scatter",
         "x": [
          0,
          0.8335333944940262,
          0.8335333944940262,
          0
         ],
         "xaxis": "x",
         "y": [
          -1185,
          -1185,
          -1195,
          -1195
         ],
         "yaxis": "y"
        },
        {
         "hoverinfo": "text",
         "marker": {
          "color": "rgb(255,220,0)"
         },
         "mode": "lines",
         "type": "scatter",
         "x": [
          0,
          0.9077331319361729,
          0.9077331319361729,
          0.8335333944940262
         ],
         "xaxis": "x",
         "y": [
          -1175,
          -1175,
          -1190,
          -1190
         ],
         "yaxis": "y"
        },
        {
         "hoverinfo": "text",
         "marker": {
          "color": "rgb(255,220,0)"
         },
         "mode": "lines",
         "type": "scatter",
         "x": [
          0.9077331319361729,
          0.9215992517108033,
          0.9215992517108033,
          0
         ],
         "xaxis": "x",
         "y": [
          -1182.5,
          -1182.5,
          -1205,
          -1205
         ],
         "yaxis": "y"
        },
        {
         "hoverinfo": "text",
         "marker": {
          "color": "rgb(255,220,0)"
         },
         "mode": "lines",
         "type": "scatter",
         "x": [
          0.9215992517108033,
          0.955374272596072,
          0.955374272596072,
          0
         ],
         "xaxis": "x",
         "y": [
          -1193.75,
          -1193.75,
          -1215,
          -1215
         ],
         "yaxis": "y"
        },
        {
         "hoverinfo": "text",
         "marker": {
          "color": "rgb(255,220,0)"
         },
         "mode": "lines",
         "type": "scatter",
         "x": [
          0.8766834417992859,
          0.9658094330663213,
          0.9658094330663213,
          0.955374272596072
         ],
         "xaxis": "x",
         "y": [
          -1160,
          -1160,
          -1204.375,
          -1204.375
         ],
         "yaxis": "y"
        },
        {
         "hoverinfo": "text",
         "marker": {
          "color": "rgb(0,116,217)"
         },
         "mode": "lines",
         "type": "scatter",
         "x": [
          0.8225766023111017,
          1.0356494417014996,
          1.0356494417014996,
          0.9658094330663213
         ],
         "xaxis": "x",
         "y": [
          -1140,
          -1140,
          -1182.1875,
          -1182.1875
         ],
         "yaxis": "y"
        },
        {
         "hoverinfo": "text",
         "marker": {
          "color": "rgb(40,35,35)"
         },
         "mode": "lines",
         "type": "scatter",
         "x": [
          0,
          0.801599021406608,
          0.801599021406608,
          0
         ],
         "xaxis": "x",
         "y": [
          -1225,
          -1225,
          -1235,
          -1235
         ],
         "yaxis": "y"
        },
        {
         "hoverinfo": "text",
         "marker": {
          "color": "rgb(61,153,112)"
         },
         "mode": "lines",
         "type": "scatter",
         "x": [
          0,
          0.7126649427004148,
          0.7126649427004148,
          0
         ],
         "xaxis": "x",
         "y": [
          -1245,
          -1245,
          -1255,
          -1255
         ],
         "yaxis": "y"
        },
        {
         "hoverinfo": "text",
         "marker": {
          "color": "rgb(61,153,112)"
         },
         "mode": "lines",
         "type": "scatter",
         "x": [
          0.7126649427004148,
          0.9402413724542662,
          0.9402413724542662,
          0
         ],
         "xaxis": "x",
         "y": [
          -1250,
          -1250,
          -1265,
          -1265
         ],
         "yaxis": "y"
        },
        {
         "hoverinfo": "text",
         "marker": {
          "color": "rgb(0,116,217)"
         },
         "mode": "lines",
         "type": "scatter",
         "x": [
          0.801599021406608,
          1.034806381806475,
          1.034806381806475,
          0.9402413724542662
         ],
         "xaxis": "x",
         "y": [
          -1230,
          -1230,
          -1257.5,
          -1257.5
         ],
         "yaxis": "y"
        },
        {
         "hoverinfo": "text",
         "marker": {
          "color": "rgb(0,116,217)"
         },
         "mode": "lines",
         "type": "scatter",
         "x": [
          1.0356494417014996,
          1.0857215875906414,
          1.0857215875906414,
          1.034806381806475
         ],
         "xaxis": "x",
         "y": [
          -1161.09375,
          -1161.09375,
          -1243.75,
          -1243.75
         ],
         "yaxis": "y"
        },
        {
         "hoverinfo": "text",
         "marker": {
          "color": "rgb(0,116,217)"
         },
         "mode": "lines",
         "type": "scatter",
         "x": [
          1.1157325115328467,
          1.147488585857051,
          1.147488585857051,
          1.0857215875906414
         ],
         "xaxis": "x",
         "y": [
          -1106.25,
          -1106.25,
          -1202.421875,
          -1202.421875
         ],
         "yaxis": "y"
        },
        {
         "hoverinfo": "text",
         "marker": {
          "color": "rgb(255,65,54)"
         },
         "mode": "lines",
         "type": "scatter",
         "x": [
          0,
          0.5110044351815182,
          0.5110044351815182,
          0
         ],
         "xaxis": "x",
         "y": [
          -1275,
          -1275,
          -1285,
          -1285
         ],
         "yaxis": "y"
        },
        {
         "hoverinfo": "text",
         "marker": {
          "color": "rgb(35,205,205)"
         },
         "mode": "lines",
         "type": "scatter",
         "x": [
          0,
          0.779808162682599,
          0.779808162682599,
          0
         ],
         "xaxis": "x",
         "y": [
          -1295,
          -1295,
          -1305,
          -1305
         ],
         "yaxis": "y"
        },
        {
         "hoverinfo": "text",
         "marker": {
          "color": "rgb(61,153,112)"
         },
         "mode": "lines",
         "type": "scatter",
         "x": [
          0,
          0.9577863314369103,
          0.9577863314369103,
          0
         ],
         "xaxis": "x",
         "y": [
          -1315,
          -1315,
          -1325,
          -1325
         ],
         "yaxis": "y"
        },
        {
         "hoverinfo": "text",
         "marker": {
          "color": "rgb(61,153,112)"
         },
         "mode": "lines",
         "type": "scatter",
         "x": [
          0,
          0.8494860345884825,
          0.8494860345884825,
          0
         ],
         "xaxis": "x",
         "y": [
          -1335,
          -1335,
          -1345,
          -1345
         ],
         "yaxis": "y"
        },
        {
         "hoverinfo": "text",
         "marker": {
          "color": "rgb(61,153,112)"
         },
         "mode": "lines",
         "type": "scatter",
         "x": [
          0.9577863314369103,
          0.977701235686359,
          0.977701235686359,
          0.8494860345884825
         ],
         "xaxis": "x",
         "y": [
          -1320,
          -1320,
          -1340,
          -1340
         ],
         "yaxis": "y"
        },
        {
         "hoverinfo": "text",
         "marker": {
          "color": "rgb(255,65,54)"
         },
         "mode": "lines",
         "type": "scatter",
         "x": [
          0,
          0.9429902835278825,
          0.9429902835278825,
          0
         ],
         "xaxis": "x",
         "y": [
          -1365,
          -1365,
          -1375,
          -1375
         ],
         "yaxis": "y"
        },
        {
         "hoverinfo": "text",
         "marker": {
          "color": "rgb(255,65,54)"
         },
         "mode": "lines",
         "type": "scatter",
         "x": [
          0,
          0.8966151487406404,
          0.8966151487406404,
          0
         ],
         "xaxis": "x",
         "y": [
          -1385,
          -1385,
          -1395,
          -1395
         ],
         "yaxis": "y"
        },
        {
         "hoverinfo": "text",
         "marker": {
          "color": "rgb(255,65,54)"
         },
         "mode": "lines",
         "type": "scatter",
         "x": [
          0,
          0.8795564879381015,
          0.8795564879381015,
          0
         ],
         "xaxis": "x",
         "y": [
          -1415,
          -1415,
          -1425,
          -1425
         ],
         "yaxis": "y"
        },
        {
         "hoverinfo": "text",
         "marker": {
          "color": "rgb(255,65,54)"
         },
         "mode": "lines",
         "type": "scatter",
         "x": [
          0,
          0.9257974578931754,
          0.9257974578931754,
          0.8795564879381015
         ],
         "xaxis": "x",
         "y": [
          -1405,
          -1405,
          -1420,
          -1420
         ],
         "yaxis": "y"
        },
        {
         "hoverinfo": "text",
         "marker": {
          "color": "rgb(255,65,54)"
         },
         "mode": "lines",
         "type": "scatter",
         "x": [
          0.9257974578931754,
          0.9289112597502158,
          0.9289112597502158,
          0
         ],
         "xaxis": "x",
         "y": [
          -1412.5,
          -1412.5,
          -1435,
          -1435
         ],
         "yaxis": "y"
        },
        {
         "hoverinfo": "text",
         "marker": {
          "color": "rgb(255,65,54)"
         },
         "mode": "lines",
         "type": "scatter",
         "x": [
          0.8966151487406404,
          0.9444315582874302,
          0.9444315582874302,
          0.9289112597502158
         ],
         "xaxis": "x",
         "y": [
          -1390,
          -1390,
          -1423.75,
          -1423.75
         ],
         "yaxis": "y"
        },
        {
         "hoverinfo": "text",
         "marker": {
          "color": "rgb(255,65,54)"
         },
         "mode": "lines",
         "type": "scatter",
         "x": [
          0.9429902835278825,
          0.959039303348598,
          0.959039303348598,
          0.9444315582874302
         ],
         "xaxis": "x",
         "y": [
          -1370,
          -1370,
          -1406.875,
          -1406.875
         ],
         "yaxis": "y"
        },
        {
         "hoverinfo": "text",
         "marker": {
          "color": "rgb(255,65,54)"
         },
         "mode": "lines",
         "type": "scatter",
         "x": [
          0,
          0.8876656121207351,
          0.8876656121207351,
          0
         ],
         "xaxis": "x",
         "y": [
          -1445,
          -1445,
          -1455,
          -1455
         ],
         "yaxis": "y"
        },
        {
         "hoverinfo": "text",
         "marker": {
          "color": "rgb(255,65,54)"
         },
         "mode": "lines",
         "type": "scatter",
         "x": [
          0.8876656121207351,
          0.9070024932926319,
          0.9070024932926319,
          0
         ],
         "xaxis": "x",
         "y": [
          -1450,
          -1450,
          -1465,
          -1465
         ],
         "yaxis": "y"
        },
        {
         "hoverinfo": "text",
         "marker": {
          "color": "rgb(255,65,54)"
         },
         "mode": "lines",
         "type": "scatter",
         "x": [
          0.959039303348598,
          0.9649437143839741,
          0.9649437143839741,
          0.9070024932926319
         ],
         "xaxis": "x",
         "y": [
          -1388.4375,
          -1388.4375,
          -1457.5,
          -1457.5
         ],
         "yaxis": "y"
        },
        {
         "hoverinfo": "text",
         "marker": {
          "color": "rgb(255,65,54)"
         },
         "mode": "lines",
         "type": "scatter",
         "x": [
          0,
          0.8800440525910189,
          0.8800440525910189,
          0
         ],
         "xaxis": "x",
         "y": [
          -1475,
          -1475,
          -1485,
          -1485
         ],
         "yaxis": "y"
        },
        {
         "hoverinfo": "text",
         "marker": {
          "color": "rgb(255,65,54)"
         },
         "mode": "lines",
         "type": "scatter",
         "x": [
          0.9649437143839741,
          0.9676158206840471,
          0.9676158206840471,
          0.8800440525910189
         ],
         "xaxis": "x",
         "y": [
          -1422.96875,
          -1422.96875,
          -1480,
          -1480
         ],
         "yaxis": "y"
        },
        {
         "hoverinfo": "text",
         "marker": {
          "color": "rgb(255,65,54)"
         },
         "mode": "lines",
         "type": "scatter",
         "x": [
          0,
          0.9733715052175744,
          0.9733715052175744,
          0.9676158206840471
         ],
         "xaxis": "x",
         "y": [
          -1355,
          -1355,
          -1451.484375,
          -1451.484375
         ],
         "yaxis": "y"
        },
        {
         "hoverinfo": "text",
         "marker": {
          "color": "rgb(0,116,217)"
         },
         "mode": "lines",
         "type": "scatter",
         "x": [
          0.977701235686359,
          1.009923573319533,
          1.009923573319533,
          0.9733715052175744
         ],
         "xaxis": "x",
         "y": [
          -1330,
          -1330,
          -1403.2421875,
          -1403.2421875
         ],
         "yaxis": "y"
        },
        {
         "hoverinfo": "text",
         "marker": {
          "color": "rgb(35,205,205)"
         },
         "mode": "lines",
         "type": "scatter",
         "x": [
          0,
          0.8401735781084145,
          0.8401735781084145,
          0
         ],
         "xaxis": "x",
         "y": [
          -1495,
          -1495,
          -1505,
          -1505
         ],
         "yaxis": "y"
        },
        {
         "hoverinfo": "text",
         "marker": {
          "color": "rgb(0,116,217)"
         },
         "mode": "lines",
         "type": "scatter",
         "x": [
          1.009923573319533,
          1.0281261500232715,
          1.0281261500232715,
          0.8401735781084145
         ],
         "xaxis": "x",
         "y": [
          -1366.62109375,
          -1366.62109375,
          -1500,
          -1500
         ],
         "yaxis": "y"
        },
        {
         "hoverinfo": "text",
         "marker": {
          "color": "rgb(133,20,75)"
         },
         "mode": "lines",
         "type": "scatter",
         "x": [
          0,
          0.7811573387581718,
          0.7811573387581718,
          0
         ],
         "xaxis": "x",
         "y": [
          -1515,
          -1515,
          -1525,
          -1525
         ],
         "yaxis": "y"
        },
        {
         "hoverinfo": "text",
         "marker": {
          "color": "rgb(133,20,75)"
         },
         "mode": "lines",
         "type": "scatter",
         "x": [
          0,
          0.7257383155625224,
          0.7257383155625224,
          0
         ],
         "xaxis": "x",
         "y": [
          -1535,
          -1535,
          -1545,
          -1545
         ],
         "yaxis": "y"
        },
        {
         "hoverinfo": "text",
         "marker": {
          "color": "rgb(133,20,75)"
         },
         "mode": "lines",
         "type": "scatter",
         "x": [
          0.7811573387581718,
          0.9852021807381768,
          0.9852021807381768,
          0.7257383155625224
         ],
         "xaxis": "x",
         "y": [
          -1520,
          -1520,
          -1540,
          -1540
         ],
         "yaxis": "y"
        },
        {
         "hoverinfo": "text",
         "marker": {
          "color": "rgb(0,116,217)"
         },
         "mode": "lines",
         "type": "scatter",
         "x": [
          1.0281261500232715,
          1.0503700985712592,
          1.0503700985712592,
          0.9852021807381768
         ],
         "xaxis": "x",
         "y": [
          -1433.310546875,
          -1433.310546875,
          -1530,
          -1530
         ],
         "yaxis": "y"
        },
        {
         "hoverinfo": "text",
         "marker": {
          "color": "rgb(255,220,0)"
         },
         "mode": "lines",
         "type": "scatter",
         "x": [
          0,
          0.7770680809630646,
          0.7770680809630646,
          0
         ],
         "xaxis": "x",
         "y": [
          -1555,
          -1555,
          -1565,
          -1565
         ],
         "yaxis": "y"
        },
        {
         "hoverinfo": "text",
         "marker": {
          "color": "rgb(0,116,217)"
         },
         "mode": "lines",
         "type": "scatter",
         "x": [
          1.0503700985712592,
          1.0766216154596602,
          1.0766216154596602,
          0.7770680809630646
         ],
         "xaxis": "x",
         "y": [
          -1481.6552734375,
          -1481.6552734375,
          -1560,
          -1560
         ],
         "yaxis": "y"
        },
        {
         "hoverinfo": "text",
         "marker": {
          "color": "rgb(0,116,217)"
         },
         "mode": "lines",
         "type": "scatter",
         "x": [
          0.779808162682599,
          1.0808403985577637,
          1.0808403985577637,
          1.0766216154596602
         ],
         "xaxis": "x",
         "y": [
          -1300,
          -1300,
          -1520.82763671875,
          -1520.82763671875
         ],
         "yaxis": "y"
        },
        {
         "hoverinfo": "text",
         "marker": {
          "color": "rgb(0,116,217)"
         },
         "mode": "lines",
         "type": "scatter",
         "x": [
          0.5110044351815182,
          1.1809179014473437,
          1.1809179014473437,
          1.0808403985577637
         ],
         "xaxis": "x",
         "y": [
          -1280,
          -1280,
          -1410.413818359375,
          -1410.413818359375
         ],
         "yaxis": "y"
        },
        {
         "hoverinfo": "text",
         "marker": {
          "color": "rgb(0,116,217)"
         },
         "mode": "lines",
         "type": "scatter",
         "x": [
          1.147488585857051,
          1.3017199280042597,
          1.3017199280042597,
          1.1809179014473437
         ],
         "xaxis": "x",
         "y": [
          -1154.3359375,
          -1154.3359375,
          -1345.2069091796875,
          -1345.2069091796875
         ],
         "yaxis": "y"
        },
        {
         "hoverinfo": "text",
         "marker": {
          "color": "rgb(40,35,35)"
         },
         "mode": "lines",
         "type": "scatter",
         "x": [
          0,
          0.7579097040330051,
          0.7579097040330051,
          0
         ],
         "xaxis": "x",
         "y": [
          -1585,
          -1585,
          -1595,
          -1595
         ],
         "yaxis": "y"
        },
        {
         "hoverinfo": "text",
         "marker": {
          "color": "rgb(40,35,35)"
         },
         "mode": "lines",
         "type": "scatter",
         "x": [
          0.7579097040330051,
          0.9349901975318428,
          0.9349901975318428,
          0
         ],
         "xaxis": "x",
         "y": [
          -1590,
          -1590,
          -1605,
          -1605
         ],
         "yaxis": "y"
        },
        {
         "hoverinfo": "text",
         "marker": {
          "color": "rgb(40,35,35)"
         },
         "mode": "lines",
         "type": "scatter",
         "x": [
          0,
          0.9869776553138147,
          0.9869776553138147,
          0.9349901975318428
         ],
         "xaxis": "x",
         "y": [
          -1575,
          -1575,
          -1597.5,
          -1597.5
         ],
         "yaxis": "y"
        },
        {
         "hoverinfo": "text",
         "marker": {
          "color": "rgb(61,153,112)"
         },
         "mode": "lines",
         "type": "scatter",
         "x": [
          0,
          0.8401913124508894,
          0.8401913124508894,
          0
         ],
         "xaxis": "x",
         "y": [
          -1615,
          -1615,
          -1625,
          -1625
         ],
         "yaxis": "y"
        },
        {
         "hoverinfo": "text",
         "marker": {
          "color": "rgb(0,116,217)"
         },
         "mode": "lines",
         "type": "scatter",
         "x": [
          0.9869776553138147,
          1.0532810159622965,
          1.0532810159622965,
          0.8401913124508894
         ],
         "xaxis": "x",
         "y": [
          -1586.25,
          -1586.25,
          -1620,
          -1620
         ],
         "yaxis": "y"
        },
        {
         "hoverinfo": "text",
         "marker": {
          "color": "rgb(255,65,54)"
         },
         "mode": "lines",
         "type": "scatter",
         "x": [
          0,
          0.7815819689205656,
          0.7815819689205656,
          0
         ],
         "xaxis": "x",
         "y": [
          -1635,
          -1635,
          -1645,
          -1645
         ],
         "yaxis": "y"
        },
        {
         "hoverinfo": "text",
         "marker": {
          "color": "rgb(255,65,54)"
         },
         "mode": "lines",
         "type": "scatter",
         "x": [
          0.7815819689205656,
          0.9450876184525605,
          0.9450876184525605,
          0
         ],
         "xaxis": "x",
         "y": [
          -1640,
          -1640,
          -1655,
          -1655
         ],
         "yaxis": "y"
        },
        {
         "hoverinfo": "text",
         "marker": {
          "color": "rgb(0,116,217)"
         },
         "mode": "lines",
         "type": "scatter",
         "x": [
          1.0532810159622965,
          1.1125833143116974,
          1.1125833143116974,
          0.9450876184525605
         ],
         "xaxis": "x",
         "y": [
          -1603.125,
          -1603.125,
          -1647.5,
          -1647.5
         ],
         "yaxis": "y"
        },
        {
         "hoverinfo": "text",
         "marker": {
          "color": "rgb(35,205,205)"
         },
         "mode": "lines",
         "type": "scatter",
         "x": [
          0,
          0.4961969179015825,
          0.4961969179015825,
          0
         ],
         "xaxis": "x",
         "y": [
          -1665,
          -1665,
          -1675,
          -1675
         ],
         "yaxis": "y"
        },
        {
         "hoverinfo": "text",
         "marker": {
          "color": "rgb(0,116,217)"
         },
         "mode": "lines",
         "type": "scatter",
         "x": [
          1.1125833143116974,
          1.1457951267826931,
          1.1457951267826931,
          0.4961969179015825
         ],
         "xaxis": "x",
         "y": [
          -1625.3125,
          -1625.3125,
          -1670,
          -1670
         ],
         "yaxis": "y"
        },
        {
         "hoverinfo": "text",
         "marker": {
          "color": "rgb(61,153,112)"
         },
         "mode": "lines",
         "type": "scatter",
         "x": [
          0,
          0.7450267338564563,
          0.7450267338564563,
          0
         ],
         "xaxis": "x",
         "y": [
          -1685,
          -1685,
          -1695,
          -1695
         ],
         "yaxis": "y"
        },
        {
         "hoverinfo": "text",
         "marker": {
          "color": "rgb(255,65,54)"
         },
         "mode": "lines",
         "type": "scatter",
         "x": [
          0,
          0.8729668510846904,
          0.8729668510846904,
          0
         ],
         "xaxis": "x",
         "y": [
          -1705,
          -1705,
          -1715,
          -1715
         ],
         "yaxis": "y"
        },
        {
         "hoverinfo": "text",
         "marker": {
          "color": "rgb(35,205,205)"
         },
         "mode": "lines",
         "type": "scatter",
         "x": [
          0,
          0.7419569800691148,
          0.7419569800691148,
          0
         ],
         "xaxis": "x",
         "y": [
          -1725,
          -1725,
          -1735,
          -1735
         ],
         "yaxis": "y"
        },
        {
         "hoverinfo": "text",
         "marker": {
          "color": "rgb(0,116,217)"
         },
         "mode": "lines",
         "type": "scatter",
         "x": [
          0.8729668510846904,
          1.027546567912856,
          1.027546567912856,
          0.7419569800691148
         ],
         "xaxis": "x",
         "y": [
          -1710,
          -1710,
          -1730,
          -1730
         ],
         "yaxis": "y"
        },
        {
         "hoverinfo": "text",
         "marker": {
          "color": "rgb(133,20,75)"
         },
         "mode": "lines",
         "type": "scatter",
         "x": [
          0,
          0.6880695892938922,
          0.6880695892938922,
          0
         ],
         "xaxis": "x",
         "y": [
          -1745,
          -1745,
          -1755,
          -1755
         ],
         "yaxis": "y"
        },
        {
         "hoverinfo": "text",
         "marker": {
          "color": "rgb(255,220,0)"
         },
         "mode": "lines",
         "type": "scatter",
         "x": [
          0,
          0.9741114163686938,
          0.9741114163686938,
          0
         ],
         "xaxis": "x",
         "y": [
          -1765,
          -1765,
          -1775,
          -1775
         ],
         "yaxis": "y"
        },
        {
         "hoverinfo": "text",
         "marker": {
          "color": "rgb(40,35,35)"
         },
         "mode": "lines",
         "type": "scatter",
         "x": [
          0,
          0.9564210853348182,
          0.9564210853348182,
          0
         ],
         "xaxis": "x",
         "y": [
          -1785,
          -1785,
          -1795,
          -1795
         ],
         "yaxis": "y"
        },
        {
         "hoverinfo": "text",
         "marker": {
          "color": "rgb(0,116,217)"
         },
         "mode": "lines",
         "type": "scatter",
         "x": [
          0.9741114163686938,
          1.0164025108832244,
          1.0164025108832244,
          0.9564210853348182
         ],
         "xaxis": "x",
         "y": [
          -1770,
          -1770,
          -1790,
          -1790
         ],
         "yaxis": "y"
        },
        {
         "hoverinfo": "text",
         "marker": {
          "color": "rgb(61,153,112)"
         },
         "mode": "lines",
         "type": "scatter",
         "x": [
          0,
          0.851628732478823,
          0.851628732478823,
          0
         ],
         "xaxis": "x",
         "y": [
          -1805,
          -1805,
          -1815,
          -1815
         ],
         "yaxis": "y"
        },
        {
         "hoverinfo": "text",
         "marker": {
          "color": "rgb(255,65,54)"
         },
         "mode": "lines",
         "type": "scatter",
         "x": [
          0,
          0.8848143835267366,
          0.8848143835267366,
          0
         ],
         "xaxis": "x",
         "y": [
          -1825,
          -1825,
          -1835,
          -1835
         ],
         "yaxis": "y"
        },
        {
         "hoverinfo": "text",
         "marker": {
          "color": "rgb(255,65,54)"
         },
         "mode": "lines",
         "type": "scatter",
         "x": [
          0.8848143835267366,
          0.9525833489254231,
          0.9525833489254231,
          0
         ],
         "xaxis": "x",
         "y": [
          -1830,
          -1830,
          -1845,
          -1845
         ],
         "yaxis": "y"
        },
        {
         "hoverinfo": "text",
         "marker": {
          "color": "rgb(0,116,217)"
         },
         "mode": "lines",
         "type": "scatter",
         "x": [
          0.851628732478823,
          1.0493091596815356,
          1.0493091596815356,
          0.9525833489254231
         ],
         "xaxis": "x",
         "y": [
          -1810,
          -1810,
          -1837.5,
          -1837.5
         ],
         "yaxis": "y"
        },
        {
         "hoverinfo": "text",
         "marker": {
          "color": "rgb(0,116,217)"
         },
         "mode": "lines",
         "type": "scatter",
         "x": [
          1.0164025108832244,
          1.0540987284702592,
          1.0540987284702592,
          1.0493091596815356
         ],
         "xaxis": "x",
         "y": [
          -1780,
          -1780,
          -1823.75,
          -1823.75
         ],
         "yaxis": "y"
        },
        {
         "hoverinfo": "text",
         "marker": {
          "color": "rgb(35,205,205)"
         },
         "mode": "lines",
         "type": "scatter",
         "x": [
          0,
          0.8270164206340234,
          0.8270164206340234,
          0
         ],
         "xaxis": "x",
         "y": [
          -1865,
          -1865,
          -1875,
          -1875
         ],
         "yaxis": "y"
        },
        {
         "hoverinfo": "text",
         "marker": {
          "color": "rgb(35,205,205)"
         },
         "mode": "lines",
         "type": "scatter",
         "x": [
          0,
          0.9416474425656071,
          0.9416474425656071,
          0.8270164206340234
         ],
         "xaxis": "x",
         "y": [
          -1855,
          -1855,
          -1870,
          -1870
         ],
         "yaxis": "y"
        },
        {
         "hoverinfo": "text",
         "marker": {
          "color": "rgb(0,116,217)"
         },
         "mode": "lines",
         "type": "scatter",
         "x": [
          1.0540987284702592,
          1.0983377855200869,
          1.0983377855200869,
          0.9416474425656071
         ],
         "xaxis": "x",
         "y": [
          -1801.875,
          -1801.875,
          -1862.5,
          -1862.5
         ],
         "yaxis": "y"
        },
        {
         "hoverinfo": "text",
         "marker": {
          "color": "rgb(0,116,217)"
         },
         "mode": "lines",
         "type": "scatter",
         "x": [
          0.6880695892938922,
          1.114150822360729,
          1.114150822360729,
          1.0983377855200869
         ],
         "xaxis": "x",
         "y": [
          -1750,
          -1750,
          -1832.1875,
          -1832.1875
         ],
         "yaxis": "y"
        },
        {
         "hoverinfo": "text",
         "marker": {
          "color": "rgb(0,116,217)"
         },
         "mode": "lines",
         "type": "scatter",
         "x": [
          1.027546567912856,
          1.130688136652629,
          1.130688136652629,
          1.114150822360729
         ],
         "xaxis": "x",
         "y": [
          -1720,
          -1720,
          -1791.09375,
          -1791.09375
         ],
         "yaxis": "y"
        },
        {
         "hoverinfo": "text",
         "marker": {
          "color": "rgb(0,116,217)"
         },
         "mode": "lines",
         "type": "scatter",
         "x": [
          0.7450267338564563,
          1.164398726218625,
          1.164398726218625,
          1.130688136652629
         ],
         "xaxis": "x",
         "y": [
          -1690,
          -1690,
          -1755.546875,
          -1755.546875
         ],
         "yaxis": "y"
        },
        {
         "hoverinfo": "text",
         "marker": {
          "color": "rgb(61,153,112)"
         },
         "mode": "lines",
         "type": "scatter",
         "x": [
          0,
          0.7427634917029378,
          0.7427634917029378,
          0
         ],
         "xaxis": "x",
         "y": [
          -1885,
          -1885,
          -1895,
          -1895
         ],
         "yaxis": "y"
        },
        {
         "hoverinfo": "text",
         "marker": {
          "color": "rgb(61,153,112)"
         },
         "mode": "lines",
         "type": "scatter",
         "x": [
          0.7427634917029378,
          0.9500756153274759,
          0.9500756153274759,
          0
         ],
         "xaxis": "x",
         "y": [
          -1890,
          -1890,
          -1905,
          -1905
         ],
         "yaxis": "y"
        },
        {
         "hoverinfo": "text",
         "marker": {
          "color": "rgb(0,116,217)"
         },
         "mode": "lines",
         "type": "scatter",
         "x": [
          1.164398726218625,
          1.1713037371980477,
          1.1713037371980477,
          0.9500756153274759
         ],
         "xaxis": "x",
         "y": [
          -1722.7734375,
          -1722.7734375,
          -1897.5,
          -1897.5
         ],
         "yaxis": "y"
        },
        {
         "hoverinfo": "text",
         "marker": {
          "color": "rgb(0,116,217)"
         },
         "mode": "lines",
         "type": "scatter",
         "x": [
          1.1457951267826931,
          1.2084603374733363,
          1.2084603374733363,
          1.1713037371980477
         ],
         "xaxis": "x",
         "y": [
          -1647.65625,
          -1647.65625,
          -1810.13671875,
          -1810.13671875
         ],
         "yaxis": "y"
        },
        {
         "hoverinfo": "text",
         "marker": {
          "color": "rgb(0,116,217)"
         },
         "mode": "lines",
         "type": "scatter",
         "x": [
          1.3017199280042597,
          1.3777721716814553,
          1.3777721716814553,
          1.2084603374733363
         ],
         "xaxis": "x",
         "y": [
          -1249.7714233398438,
          -1249.7714233398438,
          -1728.896484375,
          -1728.896484375
         ],
         "yaxis": "y"
        },
        {
         "hoverinfo": "text",
         "marker": {
          "color": "rgb(255,65,54)"
         },
         "mode": "lines",
         "type": "scatter",
         "x": [
          0,
          0.01355045520824083,
          0.01355045520824083,
          0
         ],
         "xaxis": "x",
         "y": [
          -1915,
          -1915,
          -1925,
          -1925
         ],
         "yaxis": "y"
        },
        {
         "hoverinfo": "text",
         "marker": {
          "color": "rgb(0,116,217)"
         },
         "mode": "lines",
         "type": "scatter",
         "x": [
          1.3777721716814553,
          1.4342988799671328,
          1.4342988799671328,
          0.01355045520824083
         ],
         "xaxis": "x",
         "y": [
          -1489.3339538574219,
          -1489.3339538574219,
          -1920,
          -1920
         ],
         "yaxis": "y"
        },
        {
         "hoverinfo": "text",
         "marker": {
          "color": "rgb(0,116,217)"
         },
         "mode": "lines",
         "type": "scatter",
         "x": [
          1.458330285073578,
          1.4898134641728809,
          1.4898134641728809,
          1.4342988799671328
         ],
         "xaxis": "x",
         "y": [
          -1000.46875,
          -1000.46875,
          -1704.666976928711,
          -1704.666976928711
         ],
         "yaxis": "y"
        },
        {
         "hoverinfo": "text",
         "marker": {
          "color": "rgb(0,116,217)"
         },
         "mode": "lines",
         "type": "scatter",
         "x": [
          1.2580389439204402,
          1.576436101516065,
          1.576436101516065,
          1.4898134641728809
         ],
         "xaxis": "x",
         "y": [
          -879.375,
          -879.375,
          -1352.5678634643555,
          -1352.5678634643555
         ],
         "yaxis": "y"
        },
        {
         "hoverinfo": "text",
         "marker": {
          "color": "rgb(0,116,217)"
         },
         "mode": "lines",
         "type": "scatter",
         "x": [
          1.3209075922443656,
          1.6143916536657652,
          1.6143916536657652,
          1.576436101516065
         ],
         "xaxis": "x",
         "y": [
          -804.375,
          -804.375,
          -1115.9714317321777,
          -1115.9714317321777
         ],
         "yaxis": "y"
        },
        {
         "hoverinfo": "text",
         "marker": {
          "color": "rgb(35,205,205)"
         },
         "mode": "lines",
         "type": "scatter",
         "x": [
          0,
          0.004407336688925567,
          0.004407336688925567,
          0
         ],
         "xaxis": "x",
         "y": [
          -1945,
          -1945,
          -1955,
          -1955
         ],
         "yaxis": "y"
        },
        {
         "hoverinfo": "text",
         "marker": {
          "color": "rgb(35,205,205)"
         },
         "mode": "lines",
         "type": "scatter",
         "x": [
          0.004407336688925567,
          0.46990999890731366,
          0.46990999890731366,
          0
         ],
         "xaxis": "x",
         "y": [
          -1950,
          -1950,
          -1965,
          -1965
         ],
         "yaxis": "y"
        },
        {
         "hoverinfo": "text",
         "marker": {
          "color": "rgb(35,205,205)"
         },
         "mode": "lines",
         "type": "scatter",
         "x": [
          0,
          0.7614525134950434,
          0.7614525134950434,
          0.46990999890731366
         ],
         "xaxis": "x",
         "y": [
          -1935,
          -1935,
          -1957.5,
          -1957.5
         ],
         "yaxis": "y"
        },
        {
         "hoverinfo": "text",
         "marker": {
          "color": "rgb(0,116,217)"
         },
         "mode": "lines",
         "type": "scatter",
         "x": [
          1.6143916536657652,
          1.7836332074983796,
          1.7836332074983796,
          0.7614525134950434
         ],
         "xaxis": "x",
         "y": [
          -960.1732158660889,
          -960.1732158660889,
          -1946.25,
          -1946.25
         ],
         "yaxis": "y"
        },
        {
         "hoverinfo": "text",
         "marker": {
          "color": "rgb(0,116,217)"
         },
         "mode": "lines",
         "type": "scatter",
         "x": [
          1.5081398966561361,
          1.8564022691089581,
          1.8564022691089581,
          1.7836332074983796
         ],
         "xaxis": "x",
         "y": [
          -734.375,
          -734.375,
          -1453.2116079330444,
          -1453.2116079330444
         ],
         "yaxis": "y"
        },
        {
         "hoverinfo": "text",
         "marker": {
          "color": "rgb(0,116,217)"
         },
         "mode": "lines",
         "type": "scatter",
         "x": [
          1.311932772098319,
          2.8284626201869814,
          2.8284626201869814,
          1.8564022691089581
         ],
         "xaxis": "x",
         "y": [
          -368.7525939941406,
          -368.7525939941406,
          -1093.7933039665222,
          -1093.7933039665222
         ],
         "yaxis": "y"
        }
       ],
       "layout": {
        "autosize": false,
        "height": 3155,
        "hoverlabel": {
         "bgcolor": "white",
         "font": {
          "family": "Rockwell",
          "size": 16
         }
        },
        "hovermode": "closest",
        "plot_bgcolor": "#ECEFF1",
        "showlegend": false,
        "template": {
         "data": {
          "bar": [
           {
            "error_x": {
             "color": "#2a3f5f"
            },
            "error_y": {
             "color": "#2a3f5f"
            },
            "marker": {
             "line": {
              "color": "white",
              "width": 0.5
             },
             "pattern": {
              "fillmode": "overlay",
              "size": 10,
              "solidity": 0.2
             }
            },
            "type": "bar"
           }
          ],
          "barpolar": [
           {
            "marker": {
             "line": {
              "color": "white",
              "width": 0.5
             },
             "pattern": {
              "fillmode": "overlay",
              "size": 10,
              "solidity": 0.2
             }
            },
            "type": "barpolar"
           }
          ],
          "carpet": [
           {
            "aaxis": {
             "endlinecolor": "#2a3f5f",
             "gridcolor": "#C8D4E3",
             "linecolor": "#C8D4E3",
             "minorgridcolor": "#C8D4E3",
             "startlinecolor": "#2a3f5f"
            },
            "baxis": {
             "endlinecolor": "#2a3f5f",
             "gridcolor": "#C8D4E3",
             "linecolor": "#C8D4E3",
             "minorgridcolor": "#C8D4E3",
             "startlinecolor": "#2a3f5f"
            },
            "type": "carpet"
           }
          ],
          "choropleth": [
           {
            "colorbar": {
             "outlinewidth": 0,
             "ticks": ""
            },
            "type": "choropleth"
           }
          ],
          "contour": [
           {
            "colorbar": {
             "outlinewidth": 0,
             "ticks": ""
            },
            "colorscale": [
             [
              0,
              "#0d0887"
             ],
             [
              0.1111111111111111,
              "#46039f"
             ],
             [
              0.2222222222222222,
              "#7201a8"
             ],
             [
              0.3333333333333333,
              "#9c179e"
             ],
             [
              0.4444444444444444,
              "#bd3786"
             ],
             [
              0.5555555555555556,
              "#d8576b"
             ],
             [
              0.6666666666666666,
              "#ed7953"
             ],
             [
              0.7777777777777778,
              "#fb9f3a"
             ],
             [
              0.8888888888888888,
              "#fdca26"
             ],
             [
              1,
              "#f0f921"
             ]
            ],
            "type": "contour"
           }
          ],
          "contourcarpet": [
           {
            "colorbar": {
             "outlinewidth": 0,
             "ticks": ""
            },
            "type": "contourcarpet"
           }
          ],
          "heatmap": [
           {
            "colorbar": {
             "outlinewidth": 0,
             "ticks": ""
            },
            "colorscale": [
             [
              0,
              "#0d0887"
             ],
             [
              0.1111111111111111,
              "#46039f"
             ],
             [
              0.2222222222222222,
              "#7201a8"
             ],
             [
              0.3333333333333333,
              "#9c179e"
             ],
             [
              0.4444444444444444,
              "#bd3786"
             ],
             [
              0.5555555555555556,
              "#d8576b"
             ],
             [
              0.6666666666666666,
              "#ed7953"
             ],
             [
              0.7777777777777778,
              "#fb9f3a"
             ],
             [
              0.8888888888888888,
              "#fdca26"
             ],
             [
              1,
              "#f0f921"
             ]
            ],
            "type": "heatmap"
           }
          ],
          "heatmapgl": [
           {
            "colorbar": {
             "outlinewidth": 0,
             "ticks": ""
            },
            "colorscale": [
             [
              0,
              "#0d0887"
             ],
             [
              0.1111111111111111,
              "#46039f"
             ],
             [
              0.2222222222222222,
              "#7201a8"
             ],
             [
              0.3333333333333333,
              "#9c179e"
             ],
             [
              0.4444444444444444,
              "#bd3786"
             ],
             [
              0.5555555555555556,
              "#d8576b"
             ],
             [
              0.6666666666666666,
              "#ed7953"
             ],
             [
              0.7777777777777778,
              "#fb9f3a"
             ],
             [
              0.8888888888888888,
              "#fdca26"
             ],
             [
              1,
              "#f0f921"
             ]
            ],
            "type": "heatmapgl"
           }
          ],
          "histogram": [
           {
            "marker": {
             "pattern": {
              "fillmode": "overlay",
              "size": 10,
              "solidity": 0.2
             }
            },
            "type": "histogram"
           }
          ],
          "histogram2d": [
           {
            "colorbar": {
             "outlinewidth": 0,
             "ticks": ""
            },
            "colorscale": [
             [
              0,
              "#0d0887"
             ],
             [
              0.1111111111111111,
              "#46039f"
             ],
             [
              0.2222222222222222,
              "#7201a8"
             ],
             [
              0.3333333333333333,
              "#9c179e"
             ],
             [
              0.4444444444444444,
              "#bd3786"
             ],
             [
              0.5555555555555556,
              "#d8576b"
             ],
             [
              0.6666666666666666,
              "#ed7953"
             ],
             [
              0.7777777777777778,
              "#fb9f3a"
             ],
             [
              0.8888888888888888,
              "#fdca26"
             ],
             [
              1,
              "#f0f921"
             ]
            ],
            "type": "histogram2d"
           }
          ],
          "histogram2dcontour": [
           {
            "colorbar": {
             "outlinewidth": 0,
             "ticks": ""
            },
            "colorscale": [
             [
              0,
              "#0d0887"
             ],
             [
              0.1111111111111111,
              "#46039f"
             ],
             [
              0.2222222222222222,
              "#7201a8"
             ],
             [
              0.3333333333333333,
              "#9c179e"
             ],
             [
              0.4444444444444444,
              "#bd3786"
             ],
             [
              0.5555555555555556,
              "#d8576b"
             ],
             [
              0.6666666666666666,
              "#ed7953"
             ],
             [
              0.7777777777777778,
              "#fb9f3a"
             ],
             [
              0.8888888888888888,
              "#fdca26"
             ],
             [
              1,
              "#f0f921"
             ]
            ],
            "type": "histogram2dcontour"
           }
          ],
          "mesh3d": [
           {
            "colorbar": {
             "outlinewidth": 0,
             "ticks": ""
            },
            "type": "mesh3d"
           }
          ],
          "parcoords": [
           {
            "line": {
             "colorbar": {
              "outlinewidth": 0,
              "ticks": ""
             }
            },
            "type": "parcoords"
           }
          ],
          "pie": [
           {
            "automargin": true,
            "type": "pie"
           }
          ],
          "scatter": [
           {
            "fillpattern": {
             "fillmode": "overlay",
             "size": 10,
             "solidity": 0.2
            },
            "type": "scatter"
           }
          ],
          "scatter3d": [
           {
            "line": {
             "colorbar": {
              "outlinewidth": 0,
              "ticks": ""
             }
            },
            "marker": {
             "colorbar": {
              "outlinewidth": 0,
              "ticks": ""
             }
            },
            "type": "scatter3d"
           }
          ],
          "scattercarpet": [
           {
            "marker": {
             "colorbar": {
              "outlinewidth": 0,
              "ticks": ""
             }
            },
            "type": "scattercarpet"
           }
          ],
          "scattergeo": [
           {
            "marker": {
             "colorbar": {
              "outlinewidth": 0,
              "ticks": ""
             }
            },
            "type": "scattergeo"
           }
          ],
          "scattergl": [
           {
            "marker": {
             "colorbar": {
              "outlinewidth": 0,
              "ticks": ""
             }
            },
            "type": "scattergl"
           }
          ],
          "scattermapbox": [
           {
            "marker": {
             "colorbar": {
              "outlinewidth": 0,
              "ticks": ""
             }
            },
            "type": "scattermapbox"
           }
          ],
          "scatterpolar": [
           {
            "marker": {
             "colorbar": {
              "outlinewidth": 0,
              "ticks": ""
             }
            },
            "type": "scatterpolar"
           }
          ],
          "scatterpolargl": [
           {
            "marker": {
             "colorbar": {
              "outlinewidth": 0,
              "ticks": ""
             }
            },
            "type": "scatterpolargl"
           }
          ],
          "scatterternary": [
           {
            "marker": {
             "colorbar": {
              "outlinewidth": 0,
              "ticks": ""
             }
            },
            "type": "scatterternary"
           }
          ],
          "surface": [
           {
            "colorbar": {
             "outlinewidth": 0,
             "ticks": ""
            },
            "colorscale": [
             [
              0,
              "#0d0887"
             ],
             [
              0.1111111111111111,
              "#46039f"
             ],
             [
              0.2222222222222222,
              "#7201a8"
             ],
             [
              0.3333333333333333,
              "#9c179e"
             ],
             [
              0.4444444444444444,
              "#bd3786"
             ],
             [
              0.5555555555555556,
              "#d8576b"
             ],
             [
              0.6666666666666666,
              "#ed7953"
             ],
             [
              0.7777777777777778,
              "#fb9f3a"
             ],
             [
              0.8888888888888888,
              "#fdca26"
             ],
             [
              1,
              "#f0f921"
             ]
            ],
            "type": "surface"
           }
          ],
          "table": [
           {
            "cells": {
             "fill": {
              "color": "#EBF0F8"
             },
             "line": {
              "color": "white"
             }
            },
            "header": {
             "fill": {
              "color": "#C8D4E3"
             },
             "line": {
              "color": "white"
             }
            },
            "type": "table"
           }
          ]
         },
         "layout": {
          "annotationdefaults": {
           "arrowcolor": "#2a3f5f",
           "arrowhead": 0,
           "arrowwidth": 1
          },
          "autotypenumbers": "strict",
          "coloraxis": {
           "colorbar": {
            "outlinewidth": 0,
            "ticks": ""
           }
          },
          "colorscale": {
           "diverging": [
            [
             0,
             "#8e0152"
            ],
            [
             0.1,
             "#c51b7d"
            ],
            [
             0.2,
             "#de77ae"
            ],
            [
             0.3,
             "#f1b6da"
            ],
            [
             0.4,
             "#fde0ef"
            ],
            [
             0.5,
             "#f7f7f7"
            ],
            [
             0.6,
             "#e6f5d0"
            ],
            [
             0.7,
             "#b8e186"
            ],
            [
             0.8,
             "#7fbc41"
            ],
            [
             0.9,
             "#4d9221"
            ],
            [
             1,
             "#276419"
            ]
           ],
           "sequential": [
            [
             0,
             "#0d0887"
            ],
            [
             0.1111111111111111,
             "#46039f"
            ],
            [
             0.2222222222222222,
             "#7201a8"
            ],
            [
             0.3333333333333333,
             "#9c179e"
            ],
            [
             0.4444444444444444,
             "#bd3786"
            ],
            [
             0.5555555555555556,
             "#d8576b"
            ],
            [
             0.6666666666666666,
             "#ed7953"
            ],
            [
             0.7777777777777778,
             "#fb9f3a"
            ],
            [
             0.8888888888888888,
             "#fdca26"
            ],
            [
             1,
             "#f0f921"
            ]
           ],
           "sequentialminus": [
            [
             0,
             "#0d0887"
            ],
            [
             0.1111111111111111,
             "#46039f"
            ],
            [
             0.2222222222222222,
             "#7201a8"
            ],
            [
             0.3333333333333333,
             "#9c179e"
            ],
            [
             0.4444444444444444,
             "#bd3786"
            ],
            [
             0.5555555555555556,
             "#d8576b"
            ],
            [
             0.6666666666666666,
             "#ed7953"
            ],
            [
             0.7777777777777778,
             "#fb9f3a"
            ],
            [
             0.8888888888888888,
             "#fdca26"
            ],
            [
             1,
             "#f0f921"
            ]
           ]
          },
          "colorway": [
           "#636efa",
           "#EF553B",
           "#00cc96",
           "#ab63fa",
           "#FFA15A",
           "#19d3f3",
           "#FF6692",
           "#B6E880",
           "#FF97FF",
           "#FECB52"
          ],
          "font": {
           "color": "#2a3f5f"
          },
          "geo": {
           "bgcolor": "white",
           "lakecolor": "white",
           "landcolor": "white",
           "showlakes": true,
           "showland": true,
           "subunitcolor": "#C8D4E3"
          },
          "hoverlabel": {
           "align": "left"
          },
          "hovermode": "closest",
          "mapbox": {
           "style": "light"
          },
          "paper_bgcolor": "white",
          "plot_bgcolor": "white",
          "polar": {
           "angularaxis": {
            "gridcolor": "#EBF0F8",
            "linecolor": "#EBF0F8",
            "ticks": ""
           },
           "bgcolor": "white",
           "radialaxis": {
            "gridcolor": "#EBF0F8",
            "linecolor": "#EBF0F8",
            "ticks": ""
           }
          },
          "scene": {
           "xaxis": {
            "backgroundcolor": "white",
            "gridcolor": "#DFE8F3",
            "gridwidth": 2,
            "linecolor": "#EBF0F8",
            "showbackground": true,
            "ticks": "",
            "zerolinecolor": "#EBF0F8"
           },
           "yaxis": {
            "backgroundcolor": "white",
            "gridcolor": "#DFE8F3",
            "gridwidth": 2,
            "linecolor": "#EBF0F8",
            "showbackground": true,
            "ticks": "",
            "zerolinecolor": "#EBF0F8"
           },
           "zaxis": {
            "backgroundcolor": "white",
            "gridcolor": "#DFE8F3",
            "gridwidth": 2,
            "linecolor": "#EBF0F8",
            "showbackground": true,
            "ticks": "",
            "zerolinecolor": "#EBF0F8"
           }
          },
          "shapedefaults": {
           "line": {
            "color": "#2a3f5f"
           }
          },
          "ternary": {
           "aaxis": {
            "gridcolor": "#DFE8F3",
            "linecolor": "#A2B1C6",
            "ticks": ""
           },
           "baxis": {
            "gridcolor": "#DFE8F3",
            "linecolor": "#A2B1C6",
            "ticks": ""
           },
           "bgcolor": "white",
           "caxis": {
            "gridcolor": "#DFE8F3",
            "linecolor": "#A2B1C6",
            "ticks": ""
           }
          },
          "title": {
           "x": 0.05
          },
          "xaxis": {
           "automargin": true,
           "gridcolor": "#EBF0F8",
           "linecolor": "#EBF0F8",
           "ticks": "",
           "title": {
            "standoff": 15
           },
           "zerolinecolor": "#EBF0F8",
           "zerolinewidth": 2
          },
          "yaxis": {
           "automargin": true,
           "gridcolor": "#EBF0F8",
           "linecolor": "#EBF0F8",
           "ticks": "",
           "title": {
            "standoff": 15
           },
           "zerolinecolor": "#EBF0F8",
           "zerolinewidth": 2
          }
         }
        },
        "title": {
         "font": {
          "color": "Black",
          "size": 22
         },
         "text": "<b>Hierarchical Clustering</b>",
         "x": 0.5,
         "xanchor": "center",
         "yanchor": "top"
        },
        "width": 1000,
        "xaxis": {
         "mirror": "allticks",
         "rangemode": "tozero",
         "showgrid": false,
         "showline": true,
         "showticklabels": true,
         "ticks": "outside",
         "type": "linear",
         "zeroline": false
        },
        "yaxis": {
         "mirror": "allticks",
         "range": [
          -1970,
          0
         ],
         "rangemode": "tozero",
         "showgrid": false,
         "showline": true,
         "showticklabels": true,
         "tickmode": "array",
         "ticks": "outside",
         "ticktext": [
          "80_donald jtrump_jtrump_don...",
          "86_birthday_juneteenth_card",
          "150_my_she_her",
          "83_workers_labor_unions",
          "57_sacrifice_veterans_memor...",
          "147_the_and_of",
          "71_mcmaster_south_south car...",
          "7_schools_school_children",
          "1_abortion_roe_wade",
          "43_care_health_medicare",
          "18_gun_violence_gun violence",
          "25_filibuster_the filibuste...",
          "11_the_democracy_election",
          "3_biden_joe_inflation",
          "19_climate_climate change_the",
          "20_january_capitol_6th",
          "54_chabot_greg_marijuana",
          "190_thomas_january_6th",
          "35_jackson_court_judge",
          "144_app_trumps_new app",
          "168_social security_securit...",
          "69_ukraine_putin_russian",
          "40_border_biden_crisis",
          "108_paxton_ken paxton_ken",
          "78_student_debt_loan",
          "24_maps_fair_redistricting",
          "42_ndrc_the ndrc_redistrict...",
          "16_ted_budd_ted budd",
          "34_mandela_oklahoma_barnes",
          "12_johnson_ron johnson_ron",
          "48_alabama_britt_katie",
          "74_porter_schmitt_katie por...",
          "5_desantis_charlie_crist",
          "33_tennessee_tennesseans_wh...",
          "37_kansas_schmidt_derek sch...",
          "122_mastriano_doug_doug mas...",
          "103_brenda_vermont_vermonters",
          "28_tina_oregon_tina for",
          "102_we_the_of",
          "21_survey_issues_take",
          "2_georgia_stacey_abrams",
          "0_we_our_to",
          "32_vega_virginia_yesli",
          "79_vote_the_democracy",
          "30_christy_jasmine_nina",
          "14_stefanik_elise_her",
          "46_brad_orden_van",
          "124_andy_andys_healey",
          "119_kim_kims_schrier",
          "26_sinema_kyrsten_kyrsten s...",
          "166_maggie_hassan_hampshire",
          "44_caraveo_dr caraveo_yadira",
          "39_jessica_cuellar_cisneros",
          "68_michelle_chip_chip in",
          "138_karen_caruso_los",
          "17_mexico_new mexico_new",
          "159_lujan_grisham_lujan gri...",
          "10_jd_vance_jd vance",
          "106_ohio_the ohio_ohio demo...",
          "63_nan_dewine_ohio",
          "149_salvi_salvi for_salvi f...",
          "8_oz_dr oz_dr",
          "53_fetterman_pennsylvania_j...",
          "15_fetterman_john_pennsylva...",
          "67_fetterman_john_the",
          "174_pm_mi_jocelyn",
          "6_beto_abbott_texas",
          "45_pramila_jayapal_jayapal ...",
          "31_kentucky_rand_rand paul",
          "157_erica_smith_erica smith",
          "23_account_account the_cont...",
          "116_account_you may_may",
          "182_account_you may_may",
          "36_account_to house majorit...",
          "125_to house majority_to ho...",
          "49_obama_to protect our_pro...",
          "163_obama_to protect our_pr...",
          "121_long haul we_haul we_ha...",
          "177_pelosi for congress_nan...",
          "107_pelosi for congress_nan...",
          "176_the ndrc twitter_ndrc t...",
          "105_if youd like_youd like_...",
          "64_states ifyoud like_unite...",
          "60_can click here_you can c...",
          "165_win donate to_to win do...",
          "41_card_card were going_per...",
          "133_going to take_going to_...",
          "9_text_lira_trump",
          "90_text_trump_president trump",
          "137_save america jfc_americ...",
          "82_tanya_america_save",
          "189_contribute_save_america",
          "160_val demings_demings_val",
          "184_demings for us_val demi...",
          "70_nikki_fried_nikki fried",
          "109_abby_abby for_abby for ...",
          "22_abby_sen_sen grassley",
          "153_melanie_rubio_darrigo is",
          "91_rubio_me_senate",
          "13_demings_val_val demings",
          "126_insulin_of insulin_cap",
          "95_now chip_chip_now chip in",
          "4_express_actblue_with actb...",
          "61_morgan_harper_morgan har...",
          "84_waltz_michael waltz_of t...",
          "140_pitch_waltz_pitch in",
          "38_pitch_pitch in_100 pitch",
          "85_karen_pitch_pitch in",
          "161_our revolution_revoluti...",
          "59_rick scott_rick_by rick",
          "127_jacobs_contributions_ma...",
          "128_username_nevada_truth s...",
          "136_rosen_nevada_rosen for",
          "101_vernon_jones_vernon jones",
          "72_kermit_jones_kermit jones",
          "185_94704_94704 united_9470...",
          "27_marjorie_greene_taylor",
          "188_web version_web_version",
          "65_evergreen_evergreen acti...",
          "152_rochester_rochester for...",
          "154_geller_action fund_eddi...",
          "187_jd_jd vancefor_vancefor",
          "167_mondaire_mondaire for_w...",
          "94_malcolm_malcolm pac_for ...",
          "96_garza for_garza_garza fo...",
          "73_usplease unsubscribe vic...",
          "131_jesse_jensen_jesse jensen",
          "130_whitmer_gretchen_michigan",
          "89_bob_whitmer_michigan",
          "55_elissa_slotkin_elissa sl...",
          "156_doug_doug white_white",
          "76_emilia_akron_create change",
          "66_deluzio_andrea_chris",
          "47_liz_mathis_liz mathis",
          "132_annette_taddeo_taddeo is",
          "195_ken_russell_ken russell",
          "143_dccc_the dccc_angie",
          "181_ballard_jack ballard_jack",
          "164_amanda_makki_amanda makki",
          "110_salazar_mara_elvira",
          "113_idaho_finchem_bundy",
          "51_yard_signs_yard signs",
          "183_kara_hahn_kara hahn",
          "87_eric_californias_democra...",
          "97_hawley_josh hawley_josh",
          "75_josh_josh is_most pivotal",
          "52_lisa_cochair_delaware",
          "50_greg_congress in 2018_st...",
          "194_few things that_few thi...",
          "98_kennedy_john kennedy_john",
          "115_cooper_cooper for_coope...",
          "139_millermeeks_kina_collins",
          "104_odessa_odessa kelly_ode...",
          "56_boebert_adam_susan",
          "117_susan_goldman_of melani...",
          "29_annie_ortt_dr annie",
          "192_andrews for_annie andre...",
          "145_or unsubscribe privacy_...",
          "162_01915privacy_america 13...",
          "100_img_time box 189_any ti...",
          "58_dpwillis67gmailcom email...",
          "155_our movement_progressiv...",
          "196_trudy_trudy busch valen...",
          "193_mullin_kevin mullin_kevin",
          "118_this list you_list you ...",
          "186_follow theurl_follow th...",
          "88_booker for kentucky_book...",
          "112_booker for kentucky_boo...",
          "172_emails anymoreunsubscri...",
          "180_deb_mcgrath_wi03",
          "129_marcy_kaptur_marcy kaptur",
          "178_association of secretar...",
          "93_dass_warner_friends of m...",
          "158_trading_stocks_members",
          "62_eric_lynn_eric lynn",
          "179_eric_to unsubscribe_eri...",
          "146_riley_josh riley_riley ...",
          "191_spanberger_spanberger f...",
          "173_want to see_sb_if you w...",
          "169_here we hate_unsubscrib...",
          "77_abrams_abrams for_abrams...",
          "111_however if you_ga30312 ...",
          "175_arizona 2024_for arizon...",
          "123_mckayla_mckayla 2022_by...",
          "151_to unsubscribe 303_unsu...",
          "81_unsubscribe box 15282_15...",
          "114_wexton_jennifer_youd li...",
          "134_recurring believe these...",
          "92_us on_follow us on_follo...",
          "171_follow us on_follow us_...",
          "120_king_follow on_john king",
          "142_calls and_nrcc_calls",
          "135_calls and_nrcc_calls",
          "170_activate_card_trump gol...",
          "99_this link_activate_link",
          "148_this link_activate_link",
          "141_supportprivacy policy i..."
         ],
         "tickvals": [
          -5,
          -15,
          -25,
          -35,
          -45,
          -55,
          -65,
          -75,
          -85,
          -95,
          -105,
          -115,
          -125,
          -135,
          -145,
          -155,
          -165,
          -175,
          -185,
          -195,
          -205,
          -215,
          -225,
          -235,
          -245,
          -255,
          -265,
          -275,
          -285,
          -295,
          -305,
          -315,
          -325,
          -335,
          -345,
          -355,
          -365,
          -375,
          -385,
          -395,
          -405,
          -415,
          -425,
          -435,
          -445,
          -455,
          -465,
          -475,
          -485,
          -495,
          -505,
          -515,
          -525,
          -535,
          -545,
          -555,
          -565,
          -575,
          -585,
          -595,
          -605,
          -615,
          -625,
          -635,
          -645,
          -655,
          -665,
          -675,
          -685,
          -695,
          -705,
          -715,
          -725,
          -735,
          -745,
          -755,
          -765,
          -775,
          -785,
          -795,
          -805,
          -815,
          -825,
          -835,
          -845,
          -855,
          -865,
          -875,
          -885,
          -895,
          -905,
          -915,
          -925,
          -935,
          -945,
          -955,
          -965,
          -975,
          -985,
          -995,
          -1005,
          -1015,
          -1025,
          -1035,
          -1045,
          -1055,
          -1065,
          -1075,
          -1085,
          -1095,
          -1105,
          -1115,
          -1125,
          -1135,
          -1145,
          -1155,
          -1165,
          -1175,
          -1185,
          -1195,
          -1205,
          -1215,
          -1225,
          -1235,
          -1245,
          -1255,
          -1265,
          -1275,
          -1285,
          -1295,
          -1305,
          -1315,
          -1325,
          -1335,
          -1345,
          -1355,
          -1365,
          -1375,
          -1385,
          -1395,
          -1405,
          -1415,
          -1425,
          -1435,
          -1445,
          -1455,
          -1465,
          -1475,
          -1485,
          -1495,
          -1505,
          -1515,
          -1525,
          -1535,
          -1545,
          -1555,
          -1565,
          -1575,
          -1585,
          -1595,
          -1605,
          -1615,
          -1625,
          -1635,
          -1645,
          -1655,
          -1665,
          -1675,
          -1685,
          -1695,
          -1705,
          -1715,
          -1725,
          -1735,
          -1745,
          -1755,
          -1765,
          -1775,
          -1785,
          -1795,
          -1805,
          -1815,
          -1825,
          -1835,
          -1845,
          -1855,
          -1865,
          -1875,
          -1885,
          -1895,
          -1905,
          -1915,
          -1925,
          -1935,
          -1945,
          -1955,
          -1965
         ],
         "type": "linear",
         "zeroline": false
        }
       }
      },
      "text/html": [
       "<div>                            <div id=\"92515504-22a1-451c-9acd-0f26900fec6a\" class=\"plotly-graph-div\" style=\"height:3155px; width:1000px;\"></div>            <script type=\"text/javascript\">                require([\"plotly\"], function(Plotly) {                    window.PLOTLYENV=window.PLOTLYENV || {};                                    if (document.getElementById(\"92515504-22a1-451c-9acd-0f26900fec6a\")) {                    Plotly.newPlot(                        \"92515504-22a1-451c-9acd-0f26900fec6a\",                        [{\"hoverinfo\":\"text\",\"marker\":{\"color\":\"rgb(61,153,112)\"},\"mode\":\"lines\",\"x\":[0.0,0.7754795565002193,0.7754795565002193,0.0],\"xaxis\":\"x\",\"y\":[-5.0,-5.0,-15.0,-15.0],\"yaxis\":\"y\",\"type\":\"scatter\"},{\"hoverinfo\":\"text\",\"marker\":{\"color\":\"rgb(255,65,54)\"},\"mode\":\"lines\",\"x\":[0.0,0.6900934870228301,0.6900934870228301,0.0],\"xaxis\":\"x\",\"y\":[-35.0,-35.0,-45.0,-45.0],\"yaxis\":\"y\",\"type\":\"scatter\"},{\"hoverinfo\":\"text\",\"marker\":{\"color\":\"rgb(255,65,54)\"},\"mode\":\"lines\",\"x\":[0.6900934870228301,0.7562414256771516,0.7562414256771516,0.0],\"xaxis\":\"x\",\"y\":[-40.0,-40.0,-55.0,-55.0],\"yaxis\":\"y\",\"type\":\"scatter\"},{\"hoverinfo\":\"text\",\"marker\":{\"color\":\"rgb(255,65,54)\"},\"mode\":\"lines\",\"x\":[0.0,0.8293188599473491,0.8293188599473491,0.7562414256771516],\"xaxis\":\"x\",\"y\":[-25.0,-25.0,-47.5,-47.5],\"yaxis\":\"y\",\"type\":\"scatter\"},{\"hoverinfo\":\"text\",\"marker\":{\"color\":\"rgb(255,65,54)\"},\"mode\":\"lines\",\"x\":[0.0,0.5214693905960246,0.5214693905960246,0.0],\"xaxis\":\"x\",\"y\":[-75.0,-75.0,-85.0,-85.0],\"yaxis\":\"y\",\"type\":\"scatter\"},{\"hoverinfo\":\"text\",\"marker\":{\"color\":\"rgb(255,65,54)\"},\"mode\":\"lines\",\"x\":[0.5214693905960246,0.6203781911578937,0.6203781911578937,0.0],\"xaxis\":\"x\",\"y\":[-80.0,-80.0,-95.0,-95.0],\"yaxis\":\"y\",\"type\":\"scatter\"},{\"hoverinfo\":\"text\",\"marker\":{\"color\":\"rgb(255,65,54)\"},\"mode\":\"lines\",\"x\":[0.0,0.6927458030894262,0.6927458030894262,0.6203781911578937],\"xaxis\":\"x\",\"y\":[-65.0,-65.0,-87.5,-87.5],\"yaxis\":\"y\",\"type\":\"scatter\"},{\"hoverinfo\":\"text\",\"marker\":{\"color\":\"rgb(255,65,54)\"},\"mode\":\"lines\",\"x\":[0.6927458030894262,0.7433239694524095,0.7433239694524095,0.0],\"xaxis\":\"x\",\"y\":[-76.25,-76.25,-105.0,-105.0],\"yaxis\":\"y\",\"type\":\"scatter\"},{\"hoverinfo\":\"text\",\"marker\":{\"color\":\"rgb(255,65,54)\"},\"mode\":\"lines\",\"x\":[0.0,0.4901658783743731,0.4901658783743731,0.0],\"xaxis\":\"x\",\"y\":[-125.0,-125.0,-135.0,-135.0],\"yaxis\":\"y\",\"type\":\"scatter\"},{\"hoverinfo\":\"text\",\"marker\":{\"color\":\"rgb(255,65,54)\"},\"mode\":\"lines\",\"x\":[0.0,0.5885696861026082,0.5885696861026082,0.4901658783743731],\"xaxis\":\"x\",\"y\":[-115.0,-115.0,-130.0,-130.0],\"yaxis\":\"y\",\"type\":\"scatter\"},{\"hoverinfo\":\"text\",\"marker\":{\"color\":\"rgb(255,65,54)\"},\"mode\":\"lines\",\"x\":[0.5885696861026082,0.6340914475187057,0.6340914475187057,0.0],\"xaxis\":\"x\",\"y\":[-122.5,-122.5,-145.0,-145.0],\"yaxis\":\"y\",\"type\":\"scatter\"},{\"hoverinfo\":\"text\",\"marker\":{\"color\":\"rgb(255,65,54)\"},\"mode\":\"lines\",\"x\":[0.6340914475187057,0.6425955741617053,0.6425955741617053,0.0],\"xaxis\":\"x\",\"y\":[-133.75,-133.75,-155.0,-155.0],\"yaxis\":\"y\",\"type\":\"scatter\"},{\"hoverinfo\":\"text\",\"marker\":{\"color\":\"rgb(255,65,54)\"},\"mode\":\"lines\",\"x\":[0.7433239694524095,0.8017749494397163,0.8017749494397163,0.6425955741617053],\"xaxis\":\"x\",\"y\":[-90.625,-90.625,-144.375,-144.375],\"yaxis\":\"y\",\"type\":\"scatter\"},{\"hoverinfo\":\"text\",\"marker\":{\"color\":\"rgb(255,65,54)\"},\"mode\":\"lines\",\"x\":[0.8017749494397163,0.8423032692420135,0.8423032692420135,0.0],\"xaxis\":\"x\",\"y\":[-117.5,-117.5,-165.0,-165.0],\"yaxis\":\"y\",\"type\":\"scatter\"},{\"hoverinfo\":\"text\",\"marker\":{\"color\":\"rgb(255,65,54)\"},\"mode\":\"lines\",\"x\":[0.8293188599473491,0.8736844177164371,0.8736844177164371,0.8423032692420135],\"xaxis\":\"x\",\"y\":[-36.25,-36.25,-141.25,-141.25],\"yaxis\":\"y\",\"type\":\"scatter\"},{\"hoverinfo\":\"text\",\"marker\":{\"color\":\"rgb(255,65,54)\"},\"mode\":\"lines\",\"x\":[0.0,0.8715557643887264,0.8715557643887264,0.0],\"xaxis\":\"x\",\"y\":[-175.0,-175.0,-185.0,-185.0],\"yaxis\":\"y\",\"type\":\"scatter\"},{\"hoverinfo\":\"text\",\"marker\":{\"color\":\"rgb(255,65,54)\"},\"mode\":\"lines\",\"x\":[0.8715557643887264,0.9149599797284031,0.9149599797284031,0.0],\"xaxis\":\"x\",\"y\":[-180.0,-180.0,-195.0,-195.0],\"yaxis\":\"y\",\"type\":\"scatter\"},{\"hoverinfo\":\"text\",\"marker\":{\"color\":\"rgb(255,65,54)\"},\"mode\":\"lines\",\"x\":[0.0,0.7989557700379094,0.7989557700379094,0.0],\"xaxis\":\"x\",\"y\":[-215.0,-215.0,-225.0,-225.0],\"yaxis\":\"y\",\"type\":\"scatter\"},{\"hoverinfo\":\"text\",\"marker\":{\"color\":\"rgb(255,65,54)\"},\"mode\":\"lines\",\"x\":[0.7989557700379094,0.8486289193956965,0.8486289193956965,0.0],\"xaxis\":\"x\",\"y\":[-220.0,-220.0,-235.0,-235.0],\"yaxis\":\"y\",\"type\":\"scatter\"},{\"hoverinfo\":\"text\",\"marker\":{\"color\":\"rgb(255,65,54)\"},\"mode\":\"lines\",\"x\":[0.0,0.8904832175498633,0.8904832175498633,0.8486289193956965],\"xaxis\":\"x\",\"y\":[-205.0,-205.0,-227.5,-227.5],\"yaxis\":\"y\",\"type\":\"scatter\"},{\"hoverinfo\":\"text\",\"marker\":{\"color\":\"rgb(255,65,54)\"},\"mode\":\"lines\",\"x\":[0.8904832175498633,0.9075767284001183,0.9075767284001183,0.0],\"xaxis\":\"x\",\"y\":[-216.25,-216.25,-245.0,-245.0],\"yaxis\":\"y\",\"type\":\"scatter\"},{\"hoverinfo\":\"text\",\"marker\":{\"color\":\"rgb(255,65,54)\"},\"mode\":\"lines\",\"x\":[0.9149599797284031,0.9353358171695759,0.9353358171695759,0.9075767284001183],\"xaxis\":\"x\",\"y\":[-187.5,-187.5,-230.625,-230.625],\"yaxis\":\"y\",\"type\":\"scatter\"},{\"hoverinfo\":\"text\",\"marker\":{\"color\":\"rgb(255,65,54)\"},\"mode\":\"lines\",\"x\":[0.8736844177164371,0.9935650437918946,0.9935650437918946,0.9353358171695759],\"xaxis\":\"x\",\"y\":[-88.75,-88.75,-209.0625,-209.0625],\"yaxis\":\"y\",\"type\":\"scatter\"},{\"hoverinfo\":\"text\",\"marker\":{\"color\":\"rgb(0,116,217)\"},\"mode\":\"lines\",\"x\":[0.7754795565002193,1.0477192269988616,1.0477192269988616,0.9935650437918946],\"xaxis\":\"x\",\"y\":[-10.0,-10.0,-148.90625,-148.90625],\"yaxis\":\"y\",\"type\":\"scatter\"},{\"hoverinfo\":\"text\",\"marker\":{\"color\":\"rgb(35,205,205)\"},\"mode\":\"lines\",\"x\":[0.0,0.7290031022098391,0.7290031022098391,0.0],\"xaxis\":\"x\",\"y\":[-255.0,-255.0,-265.0,-265.0],\"yaxis\":\"y\",\"type\":\"scatter\"},{\"hoverinfo\":\"text\",\"marker\":{\"color\":\"rgb(0,116,217)\"},\"mode\":\"lines\",\"x\":[1.0477192269988616,1.06183044410458,1.06183044410458,0.7290031022098391],\"xaxis\":\"x\",\"y\":[-79.453125,-79.453125,-260.0,-260.0],\"yaxis\":\"y\",\"type\":\"scatter\"},{\"hoverinfo\":\"text\",\"marker\":{\"color\":\"rgb(133,20,75)\"},\"mode\":\"lines\",\"x\":[0.0,0.59581925166086,0.59581925166086,0.0],\"xaxis\":\"x\",\"y\":[-285.0,-285.0,-295.0,-295.0],\"yaxis\":\"y\",\"type\":\"scatter\"},{\"hoverinfo\":\"text\",\"marker\":{\"color\":\"rgb(133,20,75)\"},\"mode\":\"lines\",\"x\":[0.0,0.7604870763914278,0.7604870763914278,0.59581925166086],\"xaxis\":\"x\",\"y\":[-275.0,-275.0,-290.0,-290.0],\"yaxis\":\"y\",\"type\":\"scatter\"},{\"hoverinfo\":\"text\",\"marker\":{\"color\":\"rgb(133,20,75)\"},\"mode\":\"lines\",\"x\":[0.0,0.7839564632009114,0.7839564632009114,0.0],\"xaxis\":\"x\",\"y\":[-305.0,-305.0,-315.0,-315.0],\"yaxis\":\"y\",\"type\":\"scatter\"},{\"hoverinfo\":\"text\",\"marker\":{\"color\":\"rgb(133,20,75)\"},\"mode\":\"lines\",\"x\":[0.0,0.7761887896901254,0.7761887896901254,0.0],\"xaxis\":\"x\",\"y\":[-335.0,-335.0,-345.0,-345.0],\"yaxis\":\"y\",\"type\":\"scatter\"},{\"hoverinfo\":\"text\",\"marker\":{\"color\":\"rgb(133,20,75)\"},\"mode\":\"lines\",\"x\":[0.7761887896901254,0.8201416863801377,0.8201416863801377,0.0],\"xaxis\":\"x\",\"y\":[-340.0,-340.0,-355.0,-355.0],\"yaxis\":\"y\",\"type\":\"scatter\"},{\"hoverinfo\":\"text\",\"marker\":{\"color\":\"rgb(133,20,75)\"},\"mode\":\"lines\",\"x\":[0.0,0.8293317096986687,0.8293317096986687,0.8201416863801377],\"xaxis\":\"x\",\"y\":[-325.0,-325.0,-347.5,-347.5],\"yaxis\":\"y\",\"type\":\"scatter\"},{\"hoverinfo\":\"text\",\"marker\":{\"color\":\"rgb(133,20,75)\"},\"mode\":\"lines\",\"x\":[0.8293317096986687,0.8371917476156849,0.8371917476156849,0.0],\"xaxis\":\"x\",\"y\":[-336.25,-336.25,-365.0,-365.0],\"yaxis\":\"y\",\"type\":\"scatter\"},{\"hoverinfo\":\"text\",\"marker\":{\"color\":\"rgb(133,20,75)\"},\"mode\":\"lines\",\"x\":[0.0,0.3647049573830875,0.3647049573830875,0.0],\"xaxis\":\"x\",\"y\":[-405.0,-405.0,-415.0,-415.0],\"yaxis\":\"y\",\"type\":\"scatter\"},{\"hoverinfo\":\"text\",\"marker\":{\"color\":\"rgb(133,20,75)\"},\"mode\":\"lines\",\"x\":[0.3647049573830875,0.5302098377187924,0.5302098377187924,0.0],\"xaxis\":\"x\",\"y\":[-410.0,-410.0,-425.0,-425.0],\"yaxis\":\"y\",\"type\":\"scatter\"},{\"hoverinfo\":\"text\",\"marker\":{\"color\":\"rgb(133,20,75)\"},\"mode\":\"lines\",\"x\":[0.0,0.6069131587154675,0.6069131587154675,0.5302098377187924],\"xaxis\":\"x\",\"y\":[-395.0,-395.0,-417.5,-417.5],\"yaxis\":\"y\",\"type\":\"scatter\"},{\"hoverinfo\":\"text\",\"marker\":{\"color\":\"rgb(133,20,75)\"},\"mode\":\"lines\",\"x\":[0.6069131587154675,0.6610336940116356,0.6610336940116356,0.0],\"xaxis\":\"x\",\"y\":[-406.25,-406.25,-435.0,-435.0],\"yaxis\":\"y\",\"type\":\"scatter\"},{\"hoverinfo\":\"text\",\"marker\":{\"color\":\"rgb(133,20,75)\"},\"mode\":\"lines\",\"x\":[0.0,0.6887583345239435,0.6887583345239435,0.6610336940116356],\"xaxis\":\"x\",\"y\":[-385.0,-385.0,-420.625,-420.625],\"yaxis\":\"y\",\"type\":\"scatter\"},{\"hoverinfo\":\"text\",\"marker\":{\"color\":\"rgb(133,20,75)\"},\"mode\":\"lines\",\"x\":[0.0,0.5981800668972459,0.5981800668972459,0.0],\"xaxis\":\"x\",\"y\":[-445.0,-445.0,-455.0,-455.0],\"yaxis\":\"y\",\"type\":\"scatter\"},{\"hoverinfo\":\"text\",\"marker\":{\"color\":\"rgb(133,20,75)\"},\"mode\":\"lines\",\"x\":[0.5981800668972459,0.6849486706648935,0.6849486706648935,0.0],\"xaxis\":\"x\",\"y\":[-450.0,-450.0,-465.0,-465.0],\"yaxis\":\"y\",\"type\":\"scatter\"},{\"hoverinfo\":\"text\",\"marker\":{\"color\":\"rgb(133,20,75)\"},\"mode\":\"lines\",\"x\":[0.6887583345239435,0.7489141793337779,0.7489141793337779,0.6849486706648935],\"xaxis\":\"x\",\"y\":[-402.8125,-402.8125,-457.5,-457.5],\"yaxis\":\"y\",\"type\":\"scatter\"},{\"hoverinfo\":\"text\",\"marker\":{\"color\":\"rgb(133,20,75)\"},\"mode\":\"lines\",\"x\":[0.0,0.7821804746535371,0.7821804746535371,0.7489141793337779],\"xaxis\":\"x\",\"y\":[-375.0,-375.0,-430.15625,-430.15625],\"yaxis\":\"y\",\"type\":\"scatter\"},{\"hoverinfo\":\"text\",\"marker\":{\"color\":\"rgb(133,20,75)\"},\"mode\":\"lines\",\"x\":[0.0,0.7856636499600553,0.7856636499600553,0.0],\"xaxis\":\"x\",\"y\":[-475.0,-475.0,-485.0,-485.0],\"yaxis\":\"y\",\"type\":\"scatter\"},{\"hoverinfo\":\"text\",\"marker\":{\"color\":\"rgb(133,20,75)\"},\"mode\":\"lines\",\"x\":[0.7821804746535371,0.8114648694082595,0.8114648694082595,0.7856636499600553],\"xaxis\":\"x\",\"y\":[-402.578125,-402.578125,-480.0,-480.0],\"yaxis\":\"y\",\"type\":\"scatter\"},{\"hoverinfo\":\"text\",\"marker\":{\"color\":\"rgb(133,20,75)\"},\"mode\":\"lines\",\"x\":[0.8371917476156849,0.8729700432854207,0.8729700432854207,0.8114648694082595],\"xaxis\":\"x\",\"y\":[-350.625,-350.625,-441.2890625,-441.2890625],\"yaxis\":\"y\",\"type\":\"scatter\"},{\"hoverinfo\":\"text\",\"marker\":{\"color\":\"rgb(133,20,75)\"},\"mode\":\"lines\",\"x\":[0.0,0.8332995777390698,0.8332995777390698,0.0],\"xaxis\":\"x\",\"y\":[-495.0,-495.0,-505.0,-505.0],\"yaxis\":\"y\",\"type\":\"scatter\"},{\"hoverinfo\":\"text\",\"marker\":{\"color\":\"rgb(133,20,75)\"},\"mode\":\"lines\",\"x\":[0.0,0.7845838618205906,0.7845838618205906,0.0],\"xaxis\":\"x\",\"y\":[-525.0,-525.0,-535.0,-535.0],\"yaxis\":\"y\",\"type\":\"scatter\"},{\"hoverinfo\":\"text\",\"marker\":{\"color\":\"rgb(133,20,75)\"},\"mode\":\"lines\",\"x\":[0.0,0.8073276859935468,0.8073276859935468,0.7845838618205906],\"xaxis\":\"x\",\"y\":[-515.0,-515.0,-530.0,-530.0],\"yaxis\":\"y\",\"type\":\"scatter\"},{\"hoverinfo\":\"text\",\"marker\":{\"color\":\"rgb(133,20,75)\"},\"mode\":\"lines\",\"x\":[0.8073276859935468,0.8529301622426013,0.8529301622426013,0.0],\"xaxis\":\"x\",\"y\":[-522.5,-522.5,-545.0,-545.0],\"yaxis\":\"y\",\"type\":\"scatter\"},{\"hoverinfo\":\"text\",\"marker\":{\"color\":\"rgb(133,20,75)\"},\"mode\":\"lines\",\"x\":[0.8332995777390698,0.8624001221682156,0.8624001221682156,0.8529301622426013],\"xaxis\":\"x\",\"y\":[-500.0,-500.0,-533.75,-533.75],\"yaxis\":\"y\",\"type\":\"scatter\"},{\"hoverinfo\":\"text\",\"marker\":{\"color\":\"rgb(133,20,75)\"},\"mode\":\"lines\",\"x\":[0.8729700432854207,0.8994856815202972,0.8994856815202972,0.8624001221682156],\"xaxis\":\"x\",\"y\":[-395.95703125,-395.95703125,-516.875,-516.875],\"yaxis\":\"y\",\"type\":\"scatter\"},{\"hoverinfo\":\"text\",\"marker\":{\"color\":\"rgb(133,20,75)\"},\"mode\":\"lines\",\"x\":[0.7839564632009114,0.913288590061444,0.913288590061444,0.8994856815202972],\"xaxis\":\"x\",\"y\":[-310.0,-310.0,-456.416015625,-456.416015625],\"yaxis\":\"y\",\"type\":\"scatter\"},{\"hoverinfo\":\"text\",\"marker\":{\"color\":\"rgb(133,20,75)\"},\"mode\":\"lines\",\"x\":[0.0,0.5699961936676075,0.5699961936676075,0.0],\"xaxis\":\"x\",\"y\":[-555.0,-555.0,-565.0,-565.0],\"yaxis\":\"y\",\"type\":\"scatter\"},{\"hoverinfo\":\"text\",\"marker\":{\"color\":\"rgb(133,20,75)\"},\"mode\":\"lines\",\"x\":[0.913288590061444,0.9459941489680787,0.9459941489680787,0.5699961936676075],\"xaxis\":\"x\",\"y\":[-383.2080078125,-383.2080078125,-560.0,-560.0],\"yaxis\":\"y\",\"type\":\"scatter\"},{\"hoverinfo\":\"text\",\"marker\":{\"color\":\"rgb(133,20,75)\"},\"mode\":\"lines\",\"x\":[0.7604870763914278,0.9739910125213536,0.9739910125213536,0.9459941489680787],\"xaxis\":\"x\",\"y\":[-282.5,-282.5,-471.60400390625,-471.60400390625],\"yaxis\":\"y\",\"type\":\"scatter\"},{\"hoverinfo\":\"text\",\"marker\":{\"color\":\"rgb(255,220,0)\"},\"mode\":\"lines\",\"x\":[0.0,0.5721088483919319,0.5721088483919319,0.0],\"xaxis\":\"x\",\"y\":[-575.0,-575.0,-585.0,-585.0],\"yaxis\":\"y\",\"type\":\"scatter\"},{\"hoverinfo\":\"text\",\"marker\":{\"color\":\"rgb(255,220,0)\"},\"mode\":\"lines\",\"x\":[0.5721088483919319,0.7631060741633025,0.7631060741633025,0.0],\"xaxis\":\"x\",\"y\":[-580.0,-580.0,-595.0,-595.0],\"yaxis\":\"y\",\"type\":\"scatter\"},{\"hoverinfo\":\"text\",\"marker\":{\"color\":\"rgb(0,116,217)\"},\"mode\":\"lines\",\"x\":[0.9739910125213536,1.0157633675490714,1.0157633675490714,0.7631060741633025],\"xaxis\":\"x\",\"y\":[-377.052001953125,-377.052001953125,-587.5,-587.5],\"yaxis\":\"y\",\"type\":\"scatter\"},{\"hoverinfo\":\"text\",\"marker\":{\"color\":\"rgb(40,35,35)\"},\"mode\":\"lines\",\"x\":[0.0,0.3904319817991212,0.3904319817991212,0.0],\"xaxis\":\"x\",\"y\":[-625.0,-625.0,-635.0,-635.0],\"yaxis\":\"y\",\"type\":\"scatter\"},{\"hoverinfo\":\"text\",\"marker\":{\"color\":\"rgb(40,35,35)\"},\"mode\":\"lines\",\"x\":[0.3904319817991212,0.5440723165553878,0.5440723165553878,0.0],\"xaxis\":\"x\",\"y\":[-630.0,-630.0,-645.0,-645.0],\"yaxis\":\"y\",\"type\":\"scatter\"},{\"hoverinfo\":\"text\",\"marker\":{\"color\":\"rgb(40,35,35)\"},\"mode\":\"lines\",\"x\":[0.0,0.7212695637698292,0.7212695637698292,0.5440723165553878],\"xaxis\":\"x\",\"y\":[-615.0,-615.0,-637.5,-637.5],\"yaxis\":\"y\",\"type\":\"scatter\"},{\"hoverinfo\":\"text\",\"marker\":{\"color\":\"rgb(40,35,35)\"},\"mode\":\"lines\",\"x\":[0.7212695637698292,0.8400100468824677,0.8400100468824677,0.0],\"xaxis\":\"x\",\"y\":[-626.25,-626.25,-655.0,-655.0],\"yaxis\":\"y\",\"type\":\"scatter\"},{\"hoverinfo\":\"text\",\"marker\":{\"color\":\"rgb(40,35,35)\"},\"mode\":\"lines\",\"x\":[0.0,0.8435529826992733,0.8435529826992733,0.8400100468824677],\"xaxis\":\"x\",\"y\":[-605.0,-605.0,-640.625,-640.625],\"yaxis\":\"y\",\"type\":\"scatter\"},{\"hoverinfo\":\"text\",\"marker\":{\"color\":\"rgb(40,35,35)\"},\"mode\":\"lines\",\"x\":[0.0,0.7352476093277283,0.7352476093277283,0.0],\"xaxis\":\"x\",\"y\":[-675.0,-675.0,-685.0,-685.0],\"yaxis\":\"y\",\"type\":\"scatter\"},{\"hoverinfo\":\"text\",\"marker\":{\"color\":\"rgb(40,35,35)\"},\"mode\":\"lines\",\"x\":[0.0,0.7408986535438247,0.7408986535438247,0.7352476093277283],\"xaxis\":\"x\",\"y\":[-665.0,-665.0,-680.0,-680.0],\"yaxis\":\"y\",\"type\":\"scatter\"},{\"hoverinfo\":\"text\",\"marker\":{\"color\":\"rgb(40,35,35)\"},\"mode\":\"lines\",\"x\":[0.7408986535438247,0.8449310643148155,0.8449310643148155,0.0],\"xaxis\":\"x\",\"y\":[-672.5,-672.5,-695.0,-695.0],\"yaxis\":\"y\",\"type\":\"scatter\"},{\"hoverinfo\":\"text\",\"marker\":{\"color\":\"rgb(40,35,35)\"},\"mode\":\"lines\",\"x\":[0.8435529826992733,0.9392403040384945,0.9392403040384945,0.8449310643148155],\"xaxis\":\"x\",\"y\":[-622.8125,-622.8125,-683.75,-683.75],\"yaxis\":\"y\",\"type\":\"scatter\"},{\"hoverinfo\":\"text\",\"marker\":{\"color\":\"rgb(0,116,217)\"},\"mode\":\"lines\",\"x\":[1.0157633675490714,1.0555297841067401,1.0555297841067401,0.9392403040384945],\"xaxis\":\"x\",\"y\":[-482.2760009765625,-482.2760009765625,-653.28125,-653.28125],\"yaxis\":\"y\",\"type\":\"scatter\"},{\"hoverinfo\":\"text\",\"marker\":{\"color\":\"rgb(0,116,217)\"},\"mode\":\"lines\",\"x\":[1.06183044410458,1.311932772098319,1.311932772098319,1.0555297841067401],\"xaxis\":\"x\",\"y\":[-169.7265625,-169.7265625,-567.7786254882812,-567.7786254882812],\"yaxis\":\"y\",\"type\":\"scatter\"},{\"hoverinfo\":\"text\",\"marker\":{\"color\":\"rgb(61,153,112)\"},\"mode\":\"lines\",\"x\":[0.0,0.13373819383697327,0.13373819383697327,0.0],\"xaxis\":\"x\",\"y\":[-715.0,-715.0,-725.0,-725.0],\"yaxis\":\"y\",\"type\":\"scatter\"},{\"hoverinfo\":\"text\",\"marker\":{\"color\":\"rgb(61,153,112)\"},\"mode\":\"lines\",\"x\":[0.13373819383697327,0.22593126216314935,0.22593126216314935,0.0],\"xaxis\":\"x\",\"y\":[-720.0,-720.0,-735.0,-735.0],\"yaxis\":\"y\",\"type\":\"scatter\"},{\"hoverinfo\":\"text\",\"marker\":{\"color\":\"rgb(61,153,112)\"},\"mode\":\"lines\",\"x\":[0.0,0.8949846578477347,0.8949846578477347,0.22593126216314935],\"xaxis\":\"x\",\"y\":[-705.0,-705.0,-727.5,-727.5],\"yaxis\":\"y\",\"type\":\"scatter\"},{\"hoverinfo\":\"text\",\"marker\":{\"color\":\"rgb(255,65,54)\"},\"mode\":\"lines\",\"x\":[0.0,0.056539292486024184,0.056539292486024184,0.0],\"xaxis\":\"x\",\"y\":[-755.0,-755.0,-765.0,-765.0],\"yaxis\":\"y\",\"type\":\"scatter\"},{\"hoverinfo\":\"text\",\"marker\":{\"color\":\"rgb(255,65,54)\"},\"mode\":\"lines\",\"x\":[0.0,0.5318195847013842,0.5318195847013842,0.056539292486024184],\"xaxis\":\"x\",\"y\":[-745.0,-745.0,-760.0,-760.0],\"yaxis\":\"y\",\"type\":\"scatter\"},{\"hoverinfo\":\"text\",\"marker\":{\"color\":\"rgb(0,116,217)\"},\"mode\":\"lines\",\"x\":[0.8949846578477347,1.5081398966561361,1.5081398966561361,0.5318195847013842],\"xaxis\":\"x\",\"y\":[-716.25,-716.25,-752.5,-752.5],\"yaxis\":\"y\",\"type\":\"scatter\"},{\"hoverinfo\":\"text\",\"marker\":{\"color\":\"rgb(35,205,205)\"},\"mode\":\"lines\",\"x\":[0.0,0.3072647260614295,0.3072647260614295,0.0],\"xaxis\":\"x\",\"y\":[-785.0,-785.0,-795.0,-795.0],\"yaxis\":\"y\",\"type\":\"scatter\"},{\"hoverinfo\":\"text\",\"marker\":{\"color\":\"rgb(35,205,205)\"},\"mode\":\"lines\",\"x\":[0.0,0.9866566592049395,0.9866566592049395,0.3072647260614295],\"xaxis\":\"x\",\"y\":[-775.0,-775.0,-790.0,-790.0],\"yaxis\":\"y\",\"type\":\"scatter\"},{\"hoverinfo\":\"text\",\"marker\":{\"color\":\"rgb(61,153,112)\"},\"mode\":\"lines\",\"x\":[0.0,0.20265475889631213,0.20265475889631213,0.0],\"xaxis\":\"x\",\"y\":[-815.0,-815.0,-825.0,-825.0],\"yaxis\":\"y\",\"type\":\"scatter\"},{\"hoverinfo\":\"text\",\"marker\":{\"color\":\"rgb(61,153,112)\"},\"mode\":\"lines\",\"x\":[0.0,0.855113377967918,0.855113377967918,0.20265475889631213],\"xaxis\":\"x\",\"y\":[-805.0,-805.0,-820.0,-820.0],\"yaxis\":\"y\",\"type\":\"scatter\"},{\"hoverinfo\":\"text\",\"marker\":{\"color\":\"rgb(255,65,54)\"},\"mode\":\"lines\",\"x\":[0.0,0.4261401540569578,0.4261401540569578,0.0],\"xaxis\":\"x\",\"y\":[-835.0,-835.0,-845.0,-845.0],\"yaxis\":\"y\",\"type\":\"scatter\"},{\"hoverinfo\":\"text\",\"marker\":{\"color\":\"rgb(0,116,217)\"},\"mode\":\"lines\",\"x\":[0.855113377967918,1.2638151047816655,1.2638151047816655,0.4261401540569578],\"xaxis\":\"x\",\"y\":[-812.5,-812.5,-840.0,-840.0],\"yaxis\":\"y\",\"type\":\"scatter\"},{\"hoverinfo\":\"text\",\"marker\":{\"color\":\"rgb(0,116,217)\"},\"mode\":\"lines\",\"x\":[0.9866566592049395,1.3209075922443656,1.3209075922443656,1.2638151047816655],\"xaxis\":\"x\",\"y\":[-782.5,-782.5,-826.25,-826.25],\"yaxis\":\"y\",\"type\":\"scatter\"},{\"hoverinfo\":\"text\",\"marker\":{\"color\":\"rgb(35,205,205)\"},\"mode\":\"lines\",\"x\":[0.0,0.40577458995017057,0.40577458995017057,0.0],\"xaxis\":\"x\",\"y\":[-855.0,-855.0,-865.0,-865.0],\"yaxis\":\"y\",\"type\":\"scatter\"},{\"hoverinfo\":\"text\",\"marker\":{\"color\":\"rgb(133,20,75)\"},\"mode\":\"lines\",\"x\":[0.0,0.5590922123939869,0.5590922123939869,0.0],\"xaxis\":\"x\",\"y\":[-875.0,-875.0,-885.0,-885.0],\"yaxis\":\"y\",\"type\":\"scatter\"},{\"hoverinfo\":\"text\",\"marker\":{\"color\":\"rgb(133,20,75)\"},\"mode\":\"lines\",\"x\":[0.5590922123939869,0.6644876158966363,0.6644876158966363,0.0],\"xaxis\":\"x\",\"y\":[-880.0,-880.0,-895.0,-895.0],\"yaxis\":\"y\",\"type\":\"scatter\"},{\"hoverinfo\":\"text\",\"marker\":{\"color\":\"rgb(255,220,0)\"},\"mode\":\"lines\",\"x\":[0.0,0.41292407444828816,0.41292407444828816,0.0],\"xaxis\":\"x\",\"y\":[-905.0,-905.0,-915.0,-915.0],\"yaxis\":\"y\",\"type\":\"scatter\"},{\"hoverinfo\":\"text\",\"marker\":{\"color\":\"rgb(0,116,217)\"},\"mode\":\"lines\",\"x\":[0.6644876158966363,1.19999676293555,1.19999676293555,0.41292407444828816],\"xaxis\":\"x\",\"y\":[-887.5,-887.5,-910.0,-910.0],\"yaxis\":\"y\",\"type\":\"scatter\"},{\"hoverinfo\":\"text\",\"marker\":{\"color\":\"rgb(0,116,217)\"},\"mode\":\"lines\",\"x\":[0.40577458995017057,1.2580389439204402,1.2580389439204402,1.19999676293555],\"xaxis\":\"x\",\"y\":[-860.0,-860.0,-898.75,-898.75],\"yaxis\":\"y\",\"type\":\"scatter\"},{\"hoverinfo\":\"text\",\"marker\":{\"color\":\"rgb(40,35,35)\"},\"mode\":\"lines\",\"x\":[0.0,0.6598484101492642,0.6598484101492642,0.0],\"xaxis\":\"x\",\"y\":[-925.0,-925.0,-935.0,-935.0],\"yaxis\":\"y\",\"type\":\"scatter\"},{\"hoverinfo\":\"text\",\"marker\":{\"color\":\"rgb(40,35,35)\"},\"mode\":\"lines\",\"x\":[0.6598484101492642,0.7413110515315852,0.7413110515315852,0.0],\"xaxis\":\"x\",\"y\":[-930.0,-930.0,-945.0,-945.0],\"yaxis\":\"y\",\"type\":\"scatter\"},{\"hoverinfo\":\"text\",\"marker\":{\"color\":\"rgb(61,153,112)\"},\"mode\":\"lines\",\"x\":[0.0,0.6512681768989361,0.6512681768989361,0.0],\"xaxis\":\"x\",\"y\":[-955.0,-955.0,-965.0,-965.0],\"yaxis\":\"y\",\"type\":\"scatter\"},{\"hoverinfo\":\"text\",\"marker\":{\"color\":\"rgb(255,65,54)\"},\"mode\":\"lines\",\"x\":[0.0,0.48673223636431284,0.48673223636431284,0.0],\"xaxis\":\"x\",\"y\":[-985.0,-985.0,-995.0,-995.0],\"yaxis\":\"y\",\"type\":\"scatter\"},{\"hoverinfo\":\"text\",\"marker\":{\"color\":\"rgb(255,65,54)\"},\"mode\":\"lines\",\"x\":[0.0,0.7592407560380755,0.7592407560380755,0.48673223636431284],\"xaxis\":\"x\",\"y\":[-975.0,-975.0,-990.0,-990.0],\"yaxis\":\"y\",\"type\":\"scatter\"},{\"hoverinfo\":\"text\",\"marker\":{\"color\":\"rgb(255,65,54)\"},\"mode\":\"lines\",\"x\":[0.7592407560380755,0.8511176619516494,0.8511176619516494,0.0],\"xaxis\":\"x\",\"y\":[-982.5,-982.5,-1005.0,-1005.0],\"yaxis\":\"y\",\"type\":\"scatter\"},{\"hoverinfo\":\"text\",\"marker\":{\"color\":\"rgb(0,116,217)\"},\"mode\":\"lines\",\"x\":[0.6512681768989361,1.024788692350907,1.024788692350907,0.8511176619516494],\"xaxis\":\"x\",\"y\":[-960.0,-960.0,-993.75,-993.75],\"yaxis\":\"y\",\"type\":\"scatter\"},{\"hoverinfo\":\"text\",\"marker\":{\"color\":\"rgb(0,116,217)\"},\"mode\":\"lines\",\"x\":[0.7413110515315852,1.1240872902140355,1.1240872902140355,1.024788692350907],\"xaxis\":\"x\",\"y\":[-937.5,-937.5,-976.875,-976.875],\"yaxis\":\"y\",\"type\":\"scatter\"},{\"hoverinfo\":\"text\",\"marker\":{\"color\":\"rgb(35,205,205)\"},\"mode\":\"lines\",\"x\":[0.0,0.35653115859400764,0.35653115859400764,0.0],\"xaxis\":\"x\",\"y\":[-1015.0,-1015.0,-1025.0,-1025.0],\"yaxis\":\"y\",\"type\":\"scatter\"},{\"hoverinfo\":\"text\",\"marker\":{\"color\":\"rgb(35,205,205)\"},\"mode\":\"lines\",\"x\":[0.35653115859400764,0.7134689640621014,0.7134689640621014,0.0],\"xaxis\":\"x\",\"y\":[-1020.0,-1020.0,-1035.0,-1035.0],\"yaxis\":\"y\",\"type\":\"scatter\"},{\"hoverinfo\":\"text\",\"marker\":{\"color\":\"rgb(61,153,112)\"},\"mode\":\"lines\",\"x\":[0.0,0.4912532762548998,0.4912532762548998,0.0],\"xaxis\":\"x\",\"y\":[-1045.0,-1045.0,-1055.0,-1055.0],\"yaxis\":\"y\",\"type\":\"scatter\"},{\"hoverinfo\":\"text\",\"marker\":{\"color\":\"rgb(61,153,112)\"},\"mode\":\"lines\",\"x\":[0.0,0.7483526979745858,0.7483526979745858,0.0],\"xaxis\":\"x\",\"y\":[-1065.0,-1065.0,-1075.0,-1075.0],\"yaxis\":\"y\",\"type\":\"scatter\"},{\"hoverinfo\":\"text\",\"marker\":{\"color\":\"rgb(61,153,112)\"},\"mode\":\"lines\",\"x\":[0.4912532762548998,0.8771529774290282,0.8771529774290282,0.7483526979745858],\"xaxis\":\"x\",\"y\":[-1050.0,-1050.0,-1070.0,-1070.0],\"yaxis\":\"y\",\"type\":\"scatter\"},{\"hoverinfo\":\"text\",\"marker\":{\"color\":\"rgb(0,116,217)\"},\"mode\":\"lines\",\"x\":[0.7134689640621014,1.2214348126117514,1.2214348126117514,0.8771529774290282],\"xaxis\":\"x\",\"y\":[-1027.5,-1027.5,-1060.0,-1060.0],\"yaxis\":\"y\",\"type\":\"scatter\"},{\"hoverinfo\":\"text\",\"marker\":{\"color\":\"rgb(0,116,217)\"},\"mode\":\"lines\",\"x\":[1.1240872902140355,1.458330285073578,1.458330285073578,1.2214348126117514],\"xaxis\":\"x\",\"y\":[-957.1875,-957.1875,-1043.75,-1043.75],\"yaxis\":\"y\",\"type\":\"scatter\"},{\"hoverinfo\":\"text\",\"marker\":{\"color\":\"rgb(255,65,54)\"},\"mode\":\"lines\",\"x\":[0.0,0.8829683735089683,0.8829683735089683,0.0],\"xaxis\":\"x\",\"y\":[-1095.0,-1095.0,-1105.0,-1105.0],\"yaxis\":\"y\",\"type\":\"scatter\"},{\"hoverinfo\":\"text\",\"marker\":{\"color\":\"rgb(255,65,54)\"},\"mode\":\"lines\",\"x\":[0.0,0.925703280393835,0.925703280393835,0.8829683735089683],\"xaxis\":\"x\",\"y\":[-1085.0,-1085.0,-1100.0,-1100.0],\"yaxis\":\"y\",\"type\":\"scatter\"},{\"hoverinfo\":\"text\",\"marker\":{\"color\":\"rgb(35,205,205)\"},\"mode\":\"lines\",\"x\":[0.0,0.6089971178486231,0.6089971178486231,0.0],\"xaxis\":\"x\",\"y\":[-1115.0,-1115.0,-1125.0,-1125.0],\"yaxis\":\"y\",\"type\":\"scatter\"},{\"hoverinfo\":\"text\",\"marker\":{\"color\":\"rgb(0,116,217)\"},\"mode\":\"lines\",\"x\":[0.925703280393835,1.1157325115328467,1.1157325115328467,0.6089971178486231],\"xaxis\":\"x\",\"y\":[-1092.5,-1092.5,-1120.0,-1120.0],\"yaxis\":\"y\",\"type\":\"scatter\"},{\"hoverinfo\":\"text\",\"marker\":{\"color\":\"rgb(133,20,75)\"},\"mode\":\"lines\",\"x\":[0.0,0.8225766023111017,0.8225766023111017,0.0],\"xaxis\":\"x\",\"y\":[-1135.0,-1135.0,-1145.0,-1145.0],\"yaxis\":\"y\",\"type\":\"scatter\"},{\"hoverinfo\":\"text\",\"marker\":{\"color\":\"rgb(255,220,0)\"},\"mode\":\"lines\",\"x\":[0.0,0.8766834417992859,0.8766834417992859,0.0],\"xaxis\":\"x\",\"y\":[-1155.0,-1155.0,-1165.0,-1165.0],\"yaxis\":\"y\",\"type\":\"scatter\"},{\"hoverinfo\":\"text\",\"marker\":{\"color\":\"rgb(255,220,0)\"},\"mode\":\"lines\",\"x\":[0.0,0.8335333944940262,0.8335333944940262,0.0],\"xaxis\":\"x\",\"y\":[-1185.0,-1185.0,-1195.0,-1195.0],\"yaxis\":\"y\",\"type\":\"scatter\"},{\"hoverinfo\":\"text\",\"marker\":{\"color\":\"rgb(255,220,0)\"},\"mode\":\"lines\",\"x\":[0.0,0.9077331319361729,0.9077331319361729,0.8335333944940262],\"xaxis\":\"x\",\"y\":[-1175.0,-1175.0,-1190.0,-1190.0],\"yaxis\":\"y\",\"type\":\"scatter\"},{\"hoverinfo\":\"text\",\"marker\":{\"color\":\"rgb(255,220,0)\"},\"mode\":\"lines\",\"x\":[0.9077331319361729,0.9215992517108033,0.9215992517108033,0.0],\"xaxis\":\"x\",\"y\":[-1182.5,-1182.5,-1205.0,-1205.0],\"yaxis\":\"y\",\"type\":\"scatter\"},{\"hoverinfo\":\"text\",\"marker\":{\"color\":\"rgb(255,220,0)\"},\"mode\":\"lines\",\"x\":[0.9215992517108033,0.955374272596072,0.955374272596072,0.0],\"xaxis\":\"x\",\"y\":[-1193.75,-1193.75,-1215.0,-1215.0],\"yaxis\":\"y\",\"type\":\"scatter\"},{\"hoverinfo\":\"text\",\"marker\":{\"color\":\"rgb(255,220,0)\"},\"mode\":\"lines\",\"x\":[0.8766834417992859,0.9658094330663213,0.9658094330663213,0.955374272596072],\"xaxis\":\"x\",\"y\":[-1160.0,-1160.0,-1204.375,-1204.375],\"yaxis\":\"y\",\"type\":\"scatter\"},{\"hoverinfo\":\"text\",\"marker\":{\"color\":\"rgb(0,116,217)\"},\"mode\":\"lines\",\"x\":[0.8225766023111017,1.0356494417014996,1.0356494417014996,0.9658094330663213],\"xaxis\":\"x\",\"y\":[-1140.0,-1140.0,-1182.1875,-1182.1875],\"yaxis\":\"y\",\"type\":\"scatter\"},{\"hoverinfo\":\"text\",\"marker\":{\"color\":\"rgb(40,35,35)\"},\"mode\":\"lines\",\"x\":[0.0,0.801599021406608,0.801599021406608,0.0],\"xaxis\":\"x\",\"y\":[-1225.0,-1225.0,-1235.0,-1235.0],\"yaxis\":\"y\",\"type\":\"scatter\"},{\"hoverinfo\":\"text\",\"marker\":{\"color\":\"rgb(61,153,112)\"},\"mode\":\"lines\",\"x\":[0.0,0.7126649427004148,0.7126649427004148,0.0],\"xaxis\":\"x\",\"y\":[-1245.0,-1245.0,-1255.0,-1255.0],\"yaxis\":\"y\",\"type\":\"scatter\"},{\"hoverinfo\":\"text\",\"marker\":{\"color\":\"rgb(61,153,112)\"},\"mode\":\"lines\",\"x\":[0.7126649427004148,0.9402413724542662,0.9402413724542662,0.0],\"xaxis\":\"x\",\"y\":[-1250.0,-1250.0,-1265.0,-1265.0],\"yaxis\":\"y\",\"type\":\"scatter\"},{\"hoverinfo\":\"text\",\"marker\":{\"color\":\"rgb(0,116,217)\"},\"mode\":\"lines\",\"x\":[0.801599021406608,1.034806381806475,1.034806381806475,0.9402413724542662],\"xaxis\":\"x\",\"y\":[-1230.0,-1230.0,-1257.5,-1257.5],\"yaxis\":\"y\",\"type\":\"scatter\"},{\"hoverinfo\":\"text\",\"marker\":{\"color\":\"rgb(0,116,217)\"},\"mode\":\"lines\",\"x\":[1.0356494417014996,1.0857215875906414,1.0857215875906414,1.034806381806475],\"xaxis\":\"x\",\"y\":[-1161.09375,-1161.09375,-1243.75,-1243.75],\"yaxis\":\"y\",\"type\":\"scatter\"},{\"hoverinfo\":\"text\",\"marker\":{\"color\":\"rgb(0,116,217)\"},\"mode\":\"lines\",\"x\":[1.1157325115328467,1.147488585857051,1.147488585857051,1.0857215875906414],\"xaxis\":\"x\",\"y\":[-1106.25,-1106.25,-1202.421875,-1202.421875],\"yaxis\":\"y\",\"type\":\"scatter\"},{\"hoverinfo\":\"text\",\"marker\":{\"color\":\"rgb(255,65,54)\"},\"mode\":\"lines\",\"x\":[0.0,0.5110044351815182,0.5110044351815182,0.0],\"xaxis\":\"x\",\"y\":[-1275.0,-1275.0,-1285.0,-1285.0],\"yaxis\":\"y\",\"type\":\"scatter\"},{\"hoverinfo\":\"text\",\"marker\":{\"color\":\"rgb(35,205,205)\"},\"mode\":\"lines\",\"x\":[0.0,0.779808162682599,0.779808162682599,0.0],\"xaxis\":\"x\",\"y\":[-1295.0,-1295.0,-1305.0,-1305.0],\"yaxis\":\"y\",\"type\":\"scatter\"},{\"hoverinfo\":\"text\",\"marker\":{\"color\":\"rgb(61,153,112)\"},\"mode\":\"lines\",\"x\":[0.0,0.9577863314369103,0.9577863314369103,0.0],\"xaxis\":\"x\",\"y\":[-1315.0,-1315.0,-1325.0,-1325.0],\"yaxis\":\"y\",\"type\":\"scatter\"},{\"hoverinfo\":\"text\",\"marker\":{\"color\":\"rgb(61,153,112)\"},\"mode\":\"lines\",\"x\":[0.0,0.8494860345884825,0.8494860345884825,0.0],\"xaxis\":\"x\",\"y\":[-1335.0,-1335.0,-1345.0,-1345.0],\"yaxis\":\"y\",\"type\":\"scatter\"},{\"hoverinfo\":\"text\",\"marker\":{\"color\":\"rgb(61,153,112)\"},\"mode\":\"lines\",\"x\":[0.9577863314369103,0.977701235686359,0.977701235686359,0.8494860345884825],\"xaxis\":\"x\",\"y\":[-1320.0,-1320.0,-1340.0,-1340.0],\"yaxis\":\"y\",\"type\":\"scatter\"},{\"hoverinfo\":\"text\",\"marker\":{\"color\":\"rgb(255,65,54)\"},\"mode\":\"lines\",\"x\":[0.0,0.9429902835278825,0.9429902835278825,0.0],\"xaxis\":\"x\",\"y\":[-1365.0,-1365.0,-1375.0,-1375.0],\"yaxis\":\"y\",\"type\":\"scatter\"},{\"hoverinfo\":\"text\",\"marker\":{\"color\":\"rgb(255,65,54)\"},\"mode\":\"lines\",\"x\":[0.0,0.8966151487406404,0.8966151487406404,0.0],\"xaxis\":\"x\",\"y\":[-1385.0,-1385.0,-1395.0,-1395.0],\"yaxis\":\"y\",\"type\":\"scatter\"},{\"hoverinfo\":\"text\",\"marker\":{\"color\":\"rgb(255,65,54)\"},\"mode\":\"lines\",\"x\":[0.0,0.8795564879381015,0.8795564879381015,0.0],\"xaxis\":\"x\",\"y\":[-1415.0,-1415.0,-1425.0,-1425.0],\"yaxis\":\"y\",\"type\":\"scatter\"},{\"hoverinfo\":\"text\",\"marker\":{\"color\":\"rgb(255,65,54)\"},\"mode\":\"lines\",\"x\":[0.0,0.9257974578931754,0.9257974578931754,0.8795564879381015],\"xaxis\":\"x\",\"y\":[-1405.0,-1405.0,-1420.0,-1420.0],\"yaxis\":\"y\",\"type\":\"scatter\"},{\"hoverinfo\":\"text\",\"marker\":{\"color\":\"rgb(255,65,54)\"},\"mode\":\"lines\",\"x\":[0.9257974578931754,0.9289112597502158,0.9289112597502158,0.0],\"xaxis\":\"x\",\"y\":[-1412.5,-1412.5,-1435.0,-1435.0],\"yaxis\":\"y\",\"type\":\"scatter\"},{\"hoverinfo\":\"text\",\"marker\":{\"color\":\"rgb(255,65,54)\"},\"mode\":\"lines\",\"x\":[0.8966151487406404,0.9444315582874302,0.9444315582874302,0.9289112597502158],\"xaxis\":\"x\",\"y\":[-1390.0,-1390.0,-1423.75,-1423.75],\"yaxis\":\"y\",\"type\":\"scatter\"},{\"hoverinfo\":\"text\",\"marker\":{\"color\":\"rgb(255,65,54)\"},\"mode\":\"lines\",\"x\":[0.9429902835278825,0.959039303348598,0.959039303348598,0.9444315582874302],\"xaxis\":\"x\",\"y\":[-1370.0,-1370.0,-1406.875,-1406.875],\"yaxis\":\"y\",\"type\":\"scatter\"},{\"hoverinfo\":\"text\",\"marker\":{\"color\":\"rgb(255,65,54)\"},\"mode\":\"lines\",\"x\":[0.0,0.8876656121207351,0.8876656121207351,0.0],\"xaxis\":\"x\",\"y\":[-1445.0,-1445.0,-1455.0,-1455.0],\"yaxis\":\"y\",\"type\":\"scatter\"},{\"hoverinfo\":\"text\",\"marker\":{\"color\":\"rgb(255,65,54)\"},\"mode\":\"lines\",\"x\":[0.8876656121207351,0.9070024932926319,0.9070024932926319,0.0],\"xaxis\":\"x\",\"y\":[-1450.0,-1450.0,-1465.0,-1465.0],\"yaxis\":\"y\",\"type\":\"scatter\"},{\"hoverinfo\":\"text\",\"marker\":{\"color\":\"rgb(255,65,54)\"},\"mode\":\"lines\",\"x\":[0.959039303348598,0.9649437143839741,0.9649437143839741,0.9070024932926319],\"xaxis\":\"x\",\"y\":[-1388.4375,-1388.4375,-1457.5,-1457.5],\"yaxis\":\"y\",\"type\":\"scatter\"},{\"hoverinfo\":\"text\",\"marker\":{\"color\":\"rgb(255,65,54)\"},\"mode\":\"lines\",\"x\":[0.0,0.8800440525910189,0.8800440525910189,0.0],\"xaxis\":\"x\",\"y\":[-1475.0,-1475.0,-1485.0,-1485.0],\"yaxis\":\"y\",\"type\":\"scatter\"},{\"hoverinfo\":\"text\",\"marker\":{\"color\":\"rgb(255,65,54)\"},\"mode\":\"lines\",\"x\":[0.9649437143839741,0.9676158206840471,0.9676158206840471,0.8800440525910189],\"xaxis\":\"x\",\"y\":[-1422.96875,-1422.96875,-1480.0,-1480.0],\"yaxis\":\"y\",\"type\":\"scatter\"},{\"hoverinfo\":\"text\",\"marker\":{\"color\":\"rgb(255,65,54)\"},\"mode\":\"lines\",\"x\":[0.0,0.9733715052175744,0.9733715052175744,0.9676158206840471],\"xaxis\":\"x\",\"y\":[-1355.0,-1355.0,-1451.484375,-1451.484375],\"yaxis\":\"y\",\"type\":\"scatter\"},{\"hoverinfo\":\"text\",\"marker\":{\"color\":\"rgb(0,116,217)\"},\"mode\":\"lines\",\"x\":[0.977701235686359,1.009923573319533,1.009923573319533,0.9733715052175744],\"xaxis\":\"x\",\"y\":[-1330.0,-1330.0,-1403.2421875,-1403.2421875],\"yaxis\":\"y\",\"type\":\"scatter\"},{\"hoverinfo\":\"text\",\"marker\":{\"color\":\"rgb(35,205,205)\"},\"mode\":\"lines\",\"x\":[0.0,0.8401735781084145,0.8401735781084145,0.0],\"xaxis\":\"x\",\"y\":[-1495.0,-1495.0,-1505.0,-1505.0],\"yaxis\":\"y\",\"type\":\"scatter\"},{\"hoverinfo\":\"text\",\"marker\":{\"color\":\"rgb(0,116,217)\"},\"mode\":\"lines\",\"x\":[1.009923573319533,1.0281261500232715,1.0281261500232715,0.8401735781084145],\"xaxis\":\"x\",\"y\":[-1366.62109375,-1366.62109375,-1500.0,-1500.0],\"yaxis\":\"y\",\"type\":\"scatter\"},{\"hoverinfo\":\"text\",\"marker\":{\"color\":\"rgb(133,20,75)\"},\"mode\":\"lines\",\"x\":[0.0,0.7811573387581718,0.7811573387581718,0.0],\"xaxis\":\"x\",\"y\":[-1515.0,-1515.0,-1525.0,-1525.0],\"yaxis\":\"y\",\"type\":\"scatter\"},{\"hoverinfo\":\"text\",\"marker\":{\"color\":\"rgb(133,20,75)\"},\"mode\":\"lines\",\"x\":[0.0,0.7257383155625224,0.7257383155625224,0.0],\"xaxis\":\"x\",\"y\":[-1535.0,-1535.0,-1545.0,-1545.0],\"yaxis\":\"y\",\"type\":\"scatter\"},{\"hoverinfo\":\"text\",\"marker\":{\"color\":\"rgb(133,20,75)\"},\"mode\":\"lines\",\"x\":[0.7811573387581718,0.9852021807381768,0.9852021807381768,0.7257383155625224],\"xaxis\":\"x\",\"y\":[-1520.0,-1520.0,-1540.0,-1540.0],\"yaxis\":\"y\",\"type\":\"scatter\"},{\"hoverinfo\":\"text\",\"marker\":{\"color\":\"rgb(0,116,217)\"},\"mode\":\"lines\",\"x\":[1.0281261500232715,1.0503700985712592,1.0503700985712592,0.9852021807381768],\"xaxis\":\"x\",\"y\":[-1433.310546875,-1433.310546875,-1530.0,-1530.0],\"yaxis\":\"y\",\"type\":\"scatter\"},{\"hoverinfo\":\"text\",\"marker\":{\"color\":\"rgb(255,220,0)\"},\"mode\":\"lines\",\"x\":[0.0,0.7770680809630646,0.7770680809630646,0.0],\"xaxis\":\"x\",\"y\":[-1555.0,-1555.0,-1565.0,-1565.0],\"yaxis\":\"y\",\"type\":\"scatter\"},{\"hoverinfo\":\"text\",\"marker\":{\"color\":\"rgb(0,116,217)\"},\"mode\":\"lines\",\"x\":[1.0503700985712592,1.0766216154596602,1.0766216154596602,0.7770680809630646],\"xaxis\":\"x\",\"y\":[-1481.6552734375,-1481.6552734375,-1560.0,-1560.0],\"yaxis\":\"y\",\"type\":\"scatter\"},{\"hoverinfo\":\"text\",\"marker\":{\"color\":\"rgb(0,116,217)\"},\"mode\":\"lines\",\"x\":[0.779808162682599,1.0808403985577637,1.0808403985577637,1.0766216154596602],\"xaxis\":\"x\",\"y\":[-1300.0,-1300.0,-1520.82763671875,-1520.82763671875],\"yaxis\":\"y\",\"type\":\"scatter\"},{\"hoverinfo\":\"text\",\"marker\":{\"color\":\"rgb(0,116,217)\"},\"mode\":\"lines\",\"x\":[0.5110044351815182,1.1809179014473437,1.1809179014473437,1.0808403985577637],\"xaxis\":\"x\",\"y\":[-1280.0,-1280.0,-1410.413818359375,-1410.413818359375],\"yaxis\":\"y\",\"type\":\"scatter\"},{\"hoverinfo\":\"text\",\"marker\":{\"color\":\"rgb(0,116,217)\"},\"mode\":\"lines\",\"x\":[1.147488585857051,1.3017199280042597,1.3017199280042597,1.1809179014473437],\"xaxis\":\"x\",\"y\":[-1154.3359375,-1154.3359375,-1345.2069091796875,-1345.2069091796875],\"yaxis\":\"y\",\"type\":\"scatter\"},{\"hoverinfo\":\"text\",\"marker\":{\"color\":\"rgb(40,35,35)\"},\"mode\":\"lines\",\"x\":[0.0,0.7579097040330051,0.7579097040330051,0.0],\"xaxis\":\"x\",\"y\":[-1585.0,-1585.0,-1595.0,-1595.0],\"yaxis\":\"y\",\"type\":\"scatter\"},{\"hoverinfo\":\"text\",\"marker\":{\"color\":\"rgb(40,35,35)\"},\"mode\":\"lines\",\"x\":[0.7579097040330051,0.9349901975318428,0.9349901975318428,0.0],\"xaxis\":\"x\",\"y\":[-1590.0,-1590.0,-1605.0,-1605.0],\"yaxis\":\"y\",\"type\":\"scatter\"},{\"hoverinfo\":\"text\",\"marker\":{\"color\":\"rgb(40,35,35)\"},\"mode\":\"lines\",\"x\":[0.0,0.9869776553138147,0.9869776553138147,0.9349901975318428],\"xaxis\":\"x\",\"y\":[-1575.0,-1575.0,-1597.5,-1597.5],\"yaxis\":\"y\",\"type\":\"scatter\"},{\"hoverinfo\":\"text\",\"marker\":{\"color\":\"rgb(61,153,112)\"},\"mode\":\"lines\",\"x\":[0.0,0.8401913124508894,0.8401913124508894,0.0],\"xaxis\":\"x\",\"y\":[-1615.0,-1615.0,-1625.0,-1625.0],\"yaxis\":\"y\",\"type\":\"scatter\"},{\"hoverinfo\":\"text\",\"marker\":{\"color\":\"rgb(0,116,217)\"},\"mode\":\"lines\",\"x\":[0.9869776553138147,1.0532810159622965,1.0532810159622965,0.8401913124508894],\"xaxis\":\"x\",\"y\":[-1586.25,-1586.25,-1620.0,-1620.0],\"yaxis\":\"y\",\"type\":\"scatter\"},{\"hoverinfo\":\"text\",\"marker\":{\"color\":\"rgb(255,65,54)\"},\"mode\":\"lines\",\"x\":[0.0,0.7815819689205656,0.7815819689205656,0.0],\"xaxis\":\"x\",\"y\":[-1635.0,-1635.0,-1645.0,-1645.0],\"yaxis\":\"y\",\"type\":\"scatter\"},{\"hoverinfo\":\"text\",\"marker\":{\"color\":\"rgb(255,65,54)\"},\"mode\":\"lines\",\"x\":[0.7815819689205656,0.9450876184525605,0.9450876184525605,0.0],\"xaxis\":\"x\",\"y\":[-1640.0,-1640.0,-1655.0,-1655.0],\"yaxis\":\"y\",\"type\":\"scatter\"},{\"hoverinfo\":\"text\",\"marker\":{\"color\":\"rgb(0,116,217)\"},\"mode\":\"lines\",\"x\":[1.0532810159622965,1.1125833143116974,1.1125833143116974,0.9450876184525605],\"xaxis\":\"x\",\"y\":[-1603.125,-1603.125,-1647.5,-1647.5],\"yaxis\":\"y\",\"type\":\"scatter\"},{\"hoverinfo\":\"text\",\"marker\":{\"color\":\"rgb(35,205,205)\"},\"mode\":\"lines\",\"x\":[0.0,0.4961969179015825,0.4961969179015825,0.0],\"xaxis\":\"x\",\"y\":[-1665.0,-1665.0,-1675.0,-1675.0],\"yaxis\":\"y\",\"type\":\"scatter\"},{\"hoverinfo\":\"text\",\"marker\":{\"color\":\"rgb(0,116,217)\"},\"mode\":\"lines\",\"x\":[1.1125833143116974,1.1457951267826931,1.1457951267826931,0.4961969179015825],\"xaxis\":\"x\",\"y\":[-1625.3125,-1625.3125,-1670.0,-1670.0],\"yaxis\":\"y\",\"type\":\"scatter\"},{\"hoverinfo\":\"text\",\"marker\":{\"color\":\"rgb(61,153,112)\"},\"mode\":\"lines\",\"x\":[0.0,0.7450267338564563,0.7450267338564563,0.0],\"xaxis\":\"x\",\"y\":[-1685.0,-1685.0,-1695.0,-1695.0],\"yaxis\":\"y\",\"type\":\"scatter\"},{\"hoverinfo\":\"text\",\"marker\":{\"color\":\"rgb(255,65,54)\"},\"mode\":\"lines\",\"x\":[0.0,0.8729668510846904,0.8729668510846904,0.0],\"xaxis\":\"x\",\"y\":[-1705.0,-1705.0,-1715.0,-1715.0],\"yaxis\":\"y\",\"type\":\"scatter\"},{\"hoverinfo\":\"text\",\"marker\":{\"color\":\"rgb(35,205,205)\"},\"mode\":\"lines\",\"x\":[0.0,0.7419569800691148,0.7419569800691148,0.0],\"xaxis\":\"x\",\"y\":[-1725.0,-1725.0,-1735.0,-1735.0],\"yaxis\":\"y\",\"type\":\"scatter\"},{\"hoverinfo\":\"text\",\"marker\":{\"color\":\"rgb(0,116,217)\"},\"mode\":\"lines\",\"x\":[0.8729668510846904,1.027546567912856,1.027546567912856,0.7419569800691148],\"xaxis\":\"x\",\"y\":[-1710.0,-1710.0,-1730.0,-1730.0],\"yaxis\":\"y\",\"type\":\"scatter\"},{\"hoverinfo\":\"text\",\"marker\":{\"color\":\"rgb(133,20,75)\"},\"mode\":\"lines\",\"x\":[0.0,0.6880695892938922,0.6880695892938922,0.0],\"xaxis\":\"x\",\"y\":[-1745.0,-1745.0,-1755.0,-1755.0],\"yaxis\":\"y\",\"type\":\"scatter\"},{\"hoverinfo\":\"text\",\"marker\":{\"color\":\"rgb(255,220,0)\"},\"mode\":\"lines\",\"x\":[0.0,0.9741114163686938,0.9741114163686938,0.0],\"xaxis\":\"x\",\"y\":[-1765.0,-1765.0,-1775.0,-1775.0],\"yaxis\":\"y\",\"type\":\"scatter\"},{\"hoverinfo\":\"text\",\"marker\":{\"color\":\"rgb(40,35,35)\"},\"mode\":\"lines\",\"x\":[0.0,0.9564210853348182,0.9564210853348182,0.0],\"xaxis\":\"x\",\"y\":[-1785.0,-1785.0,-1795.0,-1795.0],\"yaxis\":\"y\",\"type\":\"scatter\"},{\"hoverinfo\":\"text\",\"marker\":{\"color\":\"rgb(0,116,217)\"},\"mode\":\"lines\",\"x\":[0.9741114163686938,1.0164025108832244,1.0164025108832244,0.9564210853348182],\"xaxis\":\"x\",\"y\":[-1770.0,-1770.0,-1790.0,-1790.0],\"yaxis\":\"y\",\"type\":\"scatter\"},{\"hoverinfo\":\"text\",\"marker\":{\"color\":\"rgb(61,153,112)\"},\"mode\":\"lines\",\"x\":[0.0,0.851628732478823,0.851628732478823,0.0],\"xaxis\":\"x\",\"y\":[-1805.0,-1805.0,-1815.0,-1815.0],\"yaxis\":\"y\",\"type\":\"scatter\"},{\"hoverinfo\":\"text\",\"marker\":{\"color\":\"rgb(255,65,54)\"},\"mode\":\"lines\",\"x\":[0.0,0.8848143835267366,0.8848143835267366,0.0],\"xaxis\":\"x\",\"y\":[-1825.0,-1825.0,-1835.0,-1835.0],\"yaxis\":\"y\",\"type\":\"scatter\"},{\"hoverinfo\":\"text\",\"marker\":{\"color\":\"rgb(255,65,54)\"},\"mode\":\"lines\",\"x\":[0.8848143835267366,0.9525833489254231,0.9525833489254231,0.0],\"xaxis\":\"x\",\"y\":[-1830.0,-1830.0,-1845.0,-1845.0],\"yaxis\":\"y\",\"type\":\"scatter\"},{\"hoverinfo\":\"text\",\"marker\":{\"color\":\"rgb(0,116,217)\"},\"mode\":\"lines\",\"x\":[0.851628732478823,1.0493091596815356,1.0493091596815356,0.9525833489254231],\"xaxis\":\"x\",\"y\":[-1810.0,-1810.0,-1837.5,-1837.5],\"yaxis\":\"y\",\"type\":\"scatter\"},{\"hoverinfo\":\"text\",\"marker\":{\"color\":\"rgb(0,116,217)\"},\"mode\":\"lines\",\"x\":[1.0164025108832244,1.0540987284702592,1.0540987284702592,1.0493091596815356],\"xaxis\":\"x\",\"y\":[-1780.0,-1780.0,-1823.75,-1823.75],\"yaxis\":\"y\",\"type\":\"scatter\"},{\"hoverinfo\":\"text\",\"marker\":{\"color\":\"rgb(35,205,205)\"},\"mode\":\"lines\",\"x\":[0.0,0.8270164206340234,0.8270164206340234,0.0],\"xaxis\":\"x\",\"y\":[-1865.0,-1865.0,-1875.0,-1875.0],\"yaxis\":\"y\",\"type\":\"scatter\"},{\"hoverinfo\":\"text\",\"marker\":{\"color\":\"rgb(35,205,205)\"},\"mode\":\"lines\",\"x\":[0.0,0.9416474425656071,0.9416474425656071,0.8270164206340234],\"xaxis\":\"x\",\"y\":[-1855.0,-1855.0,-1870.0,-1870.0],\"yaxis\":\"y\",\"type\":\"scatter\"},{\"hoverinfo\":\"text\",\"marker\":{\"color\":\"rgb(0,116,217)\"},\"mode\":\"lines\",\"x\":[1.0540987284702592,1.0983377855200869,1.0983377855200869,0.9416474425656071],\"xaxis\":\"x\",\"y\":[-1801.875,-1801.875,-1862.5,-1862.5],\"yaxis\":\"y\",\"type\":\"scatter\"},{\"hoverinfo\":\"text\",\"marker\":{\"color\":\"rgb(0,116,217)\"},\"mode\":\"lines\",\"x\":[0.6880695892938922,1.114150822360729,1.114150822360729,1.0983377855200869],\"xaxis\":\"x\",\"y\":[-1750.0,-1750.0,-1832.1875,-1832.1875],\"yaxis\":\"y\",\"type\":\"scatter\"},{\"hoverinfo\":\"text\",\"marker\":{\"color\":\"rgb(0,116,217)\"},\"mode\":\"lines\",\"x\":[1.027546567912856,1.130688136652629,1.130688136652629,1.114150822360729],\"xaxis\":\"x\",\"y\":[-1720.0,-1720.0,-1791.09375,-1791.09375],\"yaxis\":\"y\",\"type\":\"scatter\"},{\"hoverinfo\":\"text\",\"marker\":{\"color\":\"rgb(0,116,217)\"},\"mode\":\"lines\",\"x\":[0.7450267338564563,1.164398726218625,1.164398726218625,1.130688136652629],\"xaxis\":\"x\",\"y\":[-1690.0,-1690.0,-1755.546875,-1755.546875],\"yaxis\":\"y\",\"type\":\"scatter\"},{\"hoverinfo\":\"text\",\"marker\":{\"color\":\"rgb(61,153,112)\"},\"mode\":\"lines\",\"x\":[0.0,0.7427634917029378,0.7427634917029378,0.0],\"xaxis\":\"x\",\"y\":[-1885.0,-1885.0,-1895.0,-1895.0],\"yaxis\":\"y\",\"type\":\"scatter\"},{\"hoverinfo\":\"text\",\"marker\":{\"color\":\"rgb(61,153,112)\"},\"mode\":\"lines\",\"x\":[0.7427634917029378,0.9500756153274759,0.9500756153274759,0.0],\"xaxis\":\"x\",\"y\":[-1890.0,-1890.0,-1905.0,-1905.0],\"yaxis\":\"y\",\"type\":\"scatter\"},{\"hoverinfo\":\"text\",\"marker\":{\"color\":\"rgb(0,116,217)\"},\"mode\":\"lines\",\"x\":[1.164398726218625,1.1713037371980477,1.1713037371980477,0.9500756153274759],\"xaxis\":\"x\",\"y\":[-1722.7734375,-1722.7734375,-1897.5,-1897.5],\"yaxis\":\"y\",\"type\":\"scatter\"},{\"hoverinfo\":\"text\",\"marker\":{\"color\":\"rgb(0,116,217)\"},\"mode\":\"lines\",\"x\":[1.1457951267826931,1.2084603374733363,1.2084603374733363,1.1713037371980477],\"xaxis\":\"x\",\"y\":[-1647.65625,-1647.65625,-1810.13671875,-1810.13671875],\"yaxis\":\"y\",\"type\":\"scatter\"},{\"hoverinfo\":\"text\",\"marker\":{\"color\":\"rgb(0,116,217)\"},\"mode\":\"lines\",\"x\":[1.3017199280042597,1.3777721716814553,1.3777721716814553,1.2084603374733363],\"xaxis\":\"x\",\"y\":[-1249.7714233398438,-1249.7714233398438,-1728.896484375,-1728.896484375],\"yaxis\":\"y\",\"type\":\"scatter\"},{\"hoverinfo\":\"text\",\"marker\":{\"color\":\"rgb(255,65,54)\"},\"mode\":\"lines\",\"x\":[0.0,0.01355045520824083,0.01355045520824083,0.0],\"xaxis\":\"x\",\"y\":[-1915.0,-1915.0,-1925.0,-1925.0],\"yaxis\":\"y\",\"type\":\"scatter\"},{\"hoverinfo\":\"text\",\"marker\":{\"color\":\"rgb(0,116,217)\"},\"mode\":\"lines\",\"x\":[1.3777721716814553,1.4342988799671328,1.4342988799671328,0.01355045520824083],\"xaxis\":\"x\",\"y\":[-1489.3339538574219,-1489.3339538574219,-1920.0,-1920.0],\"yaxis\":\"y\",\"type\":\"scatter\"},{\"hoverinfo\":\"text\",\"marker\":{\"color\":\"rgb(0,116,217)\"},\"mode\":\"lines\",\"x\":[1.458330285073578,1.4898134641728809,1.4898134641728809,1.4342988799671328],\"xaxis\":\"x\",\"y\":[-1000.46875,-1000.46875,-1704.666976928711,-1704.666976928711],\"yaxis\":\"y\",\"type\":\"scatter\"},{\"hoverinfo\":\"text\",\"marker\":{\"color\":\"rgb(0,116,217)\"},\"mode\":\"lines\",\"x\":[1.2580389439204402,1.576436101516065,1.576436101516065,1.4898134641728809],\"xaxis\":\"x\",\"y\":[-879.375,-879.375,-1352.5678634643555,-1352.5678634643555],\"yaxis\":\"y\",\"type\":\"scatter\"},{\"hoverinfo\":\"text\",\"marker\":{\"color\":\"rgb(0,116,217)\"},\"mode\":\"lines\",\"x\":[1.3209075922443656,1.6143916536657652,1.6143916536657652,1.576436101516065],\"xaxis\":\"x\",\"y\":[-804.375,-804.375,-1115.9714317321777,-1115.9714317321777],\"yaxis\":\"y\",\"type\":\"scatter\"},{\"hoverinfo\":\"text\",\"marker\":{\"color\":\"rgb(35,205,205)\"},\"mode\":\"lines\",\"x\":[0.0,0.004407336688925567,0.004407336688925567,0.0],\"xaxis\":\"x\",\"y\":[-1945.0,-1945.0,-1955.0,-1955.0],\"yaxis\":\"y\",\"type\":\"scatter\"},{\"hoverinfo\":\"text\",\"marker\":{\"color\":\"rgb(35,205,205)\"},\"mode\":\"lines\",\"x\":[0.004407336688925567,0.46990999890731366,0.46990999890731366,0.0],\"xaxis\":\"x\",\"y\":[-1950.0,-1950.0,-1965.0,-1965.0],\"yaxis\":\"y\",\"type\":\"scatter\"},{\"hoverinfo\":\"text\",\"marker\":{\"color\":\"rgb(35,205,205)\"},\"mode\":\"lines\",\"x\":[0.0,0.7614525134950434,0.7614525134950434,0.46990999890731366],\"xaxis\":\"x\",\"y\":[-1935.0,-1935.0,-1957.5,-1957.5],\"yaxis\":\"y\",\"type\":\"scatter\"},{\"hoverinfo\":\"text\",\"marker\":{\"color\":\"rgb(0,116,217)\"},\"mode\":\"lines\",\"x\":[1.6143916536657652,1.7836332074983796,1.7836332074983796,0.7614525134950434],\"xaxis\":\"x\",\"y\":[-960.1732158660889,-960.1732158660889,-1946.25,-1946.25],\"yaxis\":\"y\",\"type\":\"scatter\"},{\"hoverinfo\":\"text\",\"marker\":{\"color\":\"rgb(0,116,217)\"},\"mode\":\"lines\",\"x\":[1.5081398966561361,1.8564022691089581,1.8564022691089581,1.7836332074983796],\"xaxis\":\"x\",\"y\":[-734.375,-734.375,-1453.2116079330444,-1453.2116079330444],\"yaxis\":\"y\",\"type\":\"scatter\"},{\"hoverinfo\":\"text\",\"marker\":{\"color\":\"rgb(0,116,217)\"},\"mode\":\"lines\",\"x\":[1.311932772098319,2.8284626201869814,2.8284626201869814,1.8564022691089581],\"xaxis\":\"x\",\"y\":[-368.7525939941406,-368.7525939941406,-1093.7933039665222,-1093.7933039665222],\"yaxis\":\"y\",\"type\":\"scatter\"}],                        {\"autosize\":false,\"height\":3155,\"hovermode\":\"closest\",\"showlegend\":false,\"width\":1000,\"xaxis\":{\"mirror\":\"allticks\",\"rangemode\":\"tozero\",\"showgrid\":false,\"showline\":true,\"showticklabels\":true,\"ticks\":\"outside\",\"type\":\"linear\",\"zeroline\":false},\"yaxis\":{\"mirror\":\"allticks\",\"rangemode\":\"tozero\",\"showgrid\":false,\"showline\":true,\"showticklabels\":true,\"tickmode\":\"array\",\"ticks\":\"outside\",\"ticktext\":[\"80_donald jtrump_jtrump_don...\",\"86_birthday_juneteenth_card\",\"150_my_she_her\",\"83_workers_labor_unions\",\"57_sacrifice_veterans_memor...\",\"147_the_and_of\",\"71_mcmaster_south_south car...\",\"7_schools_school_children\",\"1_abortion_roe_wade\",\"43_care_health_medicare\",\"18_gun_violence_gun violence\",\"25_filibuster_the filibuste...\",\"11_the_democracy_election\",\"3_biden_joe_inflation\",\"19_climate_climate change_the\",\"20_january_capitol_6th\",\"54_chabot_greg_marijuana\",\"190_thomas_january_6th\",\"35_jackson_court_judge\",\"144_app_trumps_new app\",\"168_social security_securit...\",\"69_ukraine_putin_russian\",\"40_border_biden_crisis\",\"108_paxton_ken paxton_ken\",\"78_student_debt_loan\",\"24_maps_fair_redistricting\",\"42_ndrc_the ndrc_redistrict...\",\"16_ted_budd_ted budd\",\"34_mandela_oklahoma_barnes\",\"12_johnson_ron johnson_ron\",\"48_alabama_britt_katie\",\"74_porter_schmitt_katie por...\",\"5_desantis_charlie_crist\",\"33_tennessee_tennesseans_wh...\",\"37_kansas_schmidt_derek sch...\",\"122_mastriano_doug_doug mas...\",\"103_brenda_vermont_vermonters\",\"28_tina_oregon_tina for\",\"102_we_the_of\",\"21_survey_issues_take\",\"2_georgia_stacey_abrams\",\"0_we_our_to\",\"32_vega_virginia_yesli\",\"79_vote_the_democracy\",\"30_christy_jasmine_nina\",\"14_stefanik_elise_her\",\"46_brad_orden_van\",\"124_andy_andys_healey\",\"119_kim_kims_schrier\",\"26_sinema_kyrsten_kyrsten s...\",\"166_maggie_hassan_hampshire\",\"44_caraveo_dr caraveo_yadira\",\"39_jessica_cuellar_cisneros\",\"68_michelle_chip_chip in\",\"138_karen_caruso_los\",\"17_mexico_new mexico_new\",\"159_lujan_grisham_lujan gri...\",\"10_jd_vance_jd vance\",\"106_ohio_the ohio_ohio demo...\",\"63_nan_dewine_ohio\",\"149_salvi_salvi for_salvi f...\",\"8_oz_dr oz_dr\",\"53_fetterman_pennsylvania_j...\",\"15_fetterman_john_pennsylva...\",\"67_fetterman_john_the\",\"174_pm_mi_jocelyn\",\"6_beto_abbott_texas\",\"45_pramila_jayapal_jayapal ...\",\"31_kentucky_rand_rand paul\",\"157_erica_smith_erica smith\",\"23_account_account the_cont...\",\"116_account_you may_may\",\"182_account_you may_may\",\"36_account_to house majorit...\",\"125_to house majority_to ho...\",\"49_obama_to protect our_pro...\",\"163_obama_to protect our_pr...\",\"121_long haul we_haul we_ha...\",\"177_pelosi for congress_nan...\",\"107_pelosi for congress_nan...\",\"176_the ndrc twitter_ndrc t...\",\"105_if youd like_youd like_...\",\"64_states ifyoud like_unite...\",\"60_can click here_you can c...\",\"165_win donate to_to win do...\",\"41_card_card were going_per...\",\"133_going to take_going to_...\",\"9_text_lira_trump\",\"90_text_trump_president trump\",\"137_save america jfc_americ...\",\"82_tanya_america_save\",\"189_contribute_save_america\",\"160_val demings_demings_val\",\"184_demings for us_val demi...\",\"70_nikki_fried_nikki fried\",\"109_abby_abby for_abby for ...\",\"22_abby_sen_sen grassley\",\"153_melanie_rubio_darrigo is\",\"91_rubio_me_senate\",\"13_demings_val_val demings\",\"126_insulin_of insulin_cap\",\"95_now chip_chip_now chip in\",\"4_express_actblue_with actb...\",\"61_morgan_harper_morgan har...\",\"84_waltz_michael waltz_of t...\",\"140_pitch_waltz_pitch in\",\"38_pitch_pitch in_100 pitch\",\"85_karen_pitch_pitch in\",\"161_our revolution_revoluti...\",\"59_rick scott_rick_by rick\",\"127_jacobs_contributions_ma...\",\"128_username_nevada_truth s...\",\"136_rosen_nevada_rosen for\",\"101_vernon_jones_vernon jones\",\"72_kermit_jones_kermit jones\",\"185_94704_94704 united_9470...\",\"27_marjorie_greene_taylor\",\"188_web version_web_version\",\"65_evergreen_evergreen acti...\",\"152_rochester_rochester for...\",\"154_geller_action fund_eddi...\",\"187_jd_jd vancefor_vancefor\",\"167_mondaire_mondaire for_w...\",\"94_malcolm_malcolm pac_for ...\",\"96_garza for_garza_garza fo...\",\"73_usplease unsubscribe vic...\",\"131_jesse_jensen_jesse jensen\",\"130_whitmer_gretchen_michigan\",\"89_bob_whitmer_michigan\",\"55_elissa_slotkin_elissa sl...\",\"156_doug_doug white_white\",\"76_emilia_akron_create change\",\"66_deluzio_andrea_chris\",\"47_liz_mathis_liz mathis\",\"132_annette_taddeo_taddeo is\",\"195_ken_russell_ken russell\",\"143_dccc_the dccc_angie\",\"181_ballard_jack ballard_jack\",\"164_amanda_makki_amanda makki\",\"110_salazar_mara_elvira\",\"113_idaho_finchem_bundy\",\"51_yard_signs_yard signs\",\"183_kara_hahn_kara hahn\",\"87_eric_californias_democra...\",\"97_hawley_josh hawley_josh\",\"75_josh_josh is_most pivotal\",\"52_lisa_cochair_delaware\",\"50_greg_congress in 2018_st...\",\"194_few things that_few thi...\",\"98_kennedy_john kennedy_john\",\"115_cooper_cooper for_coope...\",\"139_millermeeks_kina_collins\",\"104_odessa_odessa kelly_ode...\",\"56_boebert_adam_susan\",\"117_susan_goldman_of melani...\",\"29_annie_ortt_dr annie\",\"192_andrews for_annie andre...\",\"145_or unsubscribe privacy_...\",\"162_01915privacy_america 13...\",\"100_img_time box 189_any ti...\",\"58_dpwillis67gmailcom email...\",\"155_our movement_progressiv...\",\"196_trudy_trudy busch valen...\",\"193_mullin_kevin mullin_kevin\",\"118_this list you_list you ...\",\"186_follow theurl_follow th...\",\"88_booker for kentucky_book...\",\"112_booker for kentucky_boo...\",\"172_emails anymoreunsubscri...\",\"180_deb_mcgrath_wi03\",\"129_marcy_kaptur_marcy kaptur\",\"178_association of secretar...\",\"93_dass_warner_friends of m...\",\"158_trading_stocks_members\",\"62_eric_lynn_eric lynn\",\"179_eric_to unsubscribe_eri...\",\"146_riley_josh riley_riley ...\",\"191_spanberger_spanberger f...\",\"173_want to see_sb_if you w...\",\"169_here we hate_unsubscrib...\",\"77_abrams_abrams for_abrams...\",\"111_however if you_ga30312 ...\",\"175_arizona 2024_for arizon...\",\"123_mckayla_mckayla 2022_by...\",\"151_to unsubscribe 303_unsu...\",\"81_unsubscribe box 15282_15...\",\"114_wexton_jennifer_youd li...\",\"134_recurring believe these...\",\"92_us on_follow us on_follo...\",\"171_follow us on_follow us_...\",\"120_king_follow on_john king\",\"142_calls and_nrcc_calls\",\"135_calls and_nrcc_calls\",\"170_activate_card_trump gol...\",\"99_this link_activate_link\",\"148_this link_activate_link\",\"141_supportprivacy policy i...\"],\"tickvals\":[-5.0,-15.0,-25.0,-35.0,-45.0,-55.0,-65.0,-75.0,-85.0,-95.0,-105.0,-115.0,-125.0,-135.0,-145.0,-155.0,-165.0,-175.0,-185.0,-195.0,-205.0,-215.0,-225.0,-235.0,-245.0,-255.0,-265.0,-275.0,-285.0,-295.0,-305.0,-315.0,-325.0,-335.0,-345.0,-355.0,-365.0,-375.0,-385.0,-395.0,-405.0,-415.0,-425.0,-435.0,-445.0,-455.0,-465.0,-475.0,-485.0,-495.0,-505.0,-515.0,-525.0,-535.0,-545.0,-555.0,-565.0,-575.0,-585.0,-595.0,-605.0,-615.0,-625.0,-635.0,-645.0,-655.0,-665.0,-675.0,-685.0,-695.0,-705.0,-715.0,-725.0,-735.0,-745.0,-755.0,-765.0,-775.0,-785.0,-795.0,-805.0,-815.0,-825.0,-835.0,-845.0,-855.0,-865.0,-875.0,-885.0,-895.0,-905.0,-915.0,-925.0,-935.0,-945.0,-955.0,-965.0,-975.0,-985.0,-995.0,-1005.0,-1015.0,-1025.0,-1035.0,-1045.0,-1055.0,-1065.0,-1075.0,-1085.0,-1095.0,-1105.0,-1115.0,-1125.0,-1135.0,-1145.0,-1155.0,-1165.0,-1175.0,-1185.0,-1195.0,-1205.0,-1215.0,-1225.0,-1235.0,-1245.0,-1255.0,-1265.0,-1275.0,-1285.0,-1295.0,-1305.0,-1315.0,-1325.0,-1335.0,-1345.0,-1355.0,-1365.0,-1375.0,-1385.0,-1395.0,-1405.0,-1415.0,-1425.0,-1435.0,-1445.0,-1455.0,-1465.0,-1475.0,-1485.0,-1495.0,-1505.0,-1515.0,-1525.0,-1535.0,-1545.0,-1555.0,-1565.0,-1575.0,-1585.0,-1595.0,-1605.0,-1615.0,-1625.0,-1635.0,-1645.0,-1655.0,-1665.0,-1675.0,-1685.0,-1695.0,-1705.0,-1715.0,-1725.0,-1735.0,-1745.0,-1755.0,-1765.0,-1775.0,-1785.0,-1795.0,-1805.0,-1815.0,-1825.0,-1835.0,-1845.0,-1855.0,-1865.0,-1875.0,-1885.0,-1895.0,-1905.0,-1915.0,-1925.0,-1935.0,-1945.0,-1955.0,-1965.0],\"type\":\"linear\",\"zeroline\":false,\"range\":[-1970.0,0.0]},\"template\":{\"data\":{\"barpolar\":[{\"marker\":{\"line\":{\"color\":\"white\",\"width\":0.5},\"pattern\":{\"fillmode\":\"overlay\",\"size\":10,\"solidity\":0.2}},\"type\":\"barpolar\"}],\"bar\":[{\"error_x\":{\"color\":\"#2a3f5f\"},\"error_y\":{\"color\":\"#2a3f5f\"},\"marker\":{\"line\":{\"color\":\"white\",\"width\":0.5},\"pattern\":{\"fillmode\":\"overlay\",\"size\":10,\"solidity\":0.2}},\"type\":\"bar\"}],\"carpet\":[{\"aaxis\":{\"endlinecolor\":\"#2a3f5f\",\"gridcolor\":\"#C8D4E3\",\"linecolor\":\"#C8D4E3\",\"minorgridcolor\":\"#C8D4E3\",\"startlinecolor\":\"#2a3f5f\"},\"baxis\":{\"endlinecolor\":\"#2a3f5f\",\"gridcolor\":\"#C8D4E3\",\"linecolor\":\"#C8D4E3\",\"minorgridcolor\":\"#C8D4E3\",\"startlinecolor\":\"#2a3f5f\"},\"type\":\"carpet\"}],\"choropleth\":[{\"colorbar\":{\"outlinewidth\":0,\"ticks\":\"\"},\"type\":\"choropleth\"}],\"contourcarpet\":[{\"colorbar\":{\"outlinewidth\":0,\"ticks\":\"\"},\"type\":\"contourcarpet\"}],\"contour\":[{\"colorbar\":{\"outlinewidth\":0,\"ticks\":\"\"},\"colorscale\":[[0.0,\"#0d0887\"],[0.1111111111111111,\"#46039f\"],[0.2222222222222222,\"#7201a8\"],[0.3333333333333333,\"#9c179e\"],[0.4444444444444444,\"#bd3786\"],[0.5555555555555556,\"#d8576b\"],[0.6666666666666666,\"#ed7953\"],[0.7777777777777778,\"#fb9f3a\"],[0.8888888888888888,\"#fdca26\"],[1.0,\"#f0f921\"]],\"type\":\"contour\"}],\"heatmapgl\":[{\"colorbar\":{\"outlinewidth\":0,\"ticks\":\"\"},\"colorscale\":[[0.0,\"#0d0887\"],[0.1111111111111111,\"#46039f\"],[0.2222222222222222,\"#7201a8\"],[0.3333333333333333,\"#9c179e\"],[0.4444444444444444,\"#bd3786\"],[0.5555555555555556,\"#d8576b\"],[0.6666666666666666,\"#ed7953\"],[0.7777777777777778,\"#fb9f3a\"],[0.8888888888888888,\"#fdca26\"],[1.0,\"#f0f921\"]],\"type\":\"heatmapgl\"}],\"heatmap\":[{\"colorbar\":{\"outlinewidth\":0,\"ticks\":\"\"},\"colorscale\":[[0.0,\"#0d0887\"],[0.1111111111111111,\"#46039f\"],[0.2222222222222222,\"#7201a8\"],[0.3333333333333333,\"#9c179e\"],[0.4444444444444444,\"#bd3786\"],[0.5555555555555556,\"#d8576b\"],[0.6666666666666666,\"#ed7953\"],[0.7777777777777778,\"#fb9f3a\"],[0.8888888888888888,\"#fdca26\"],[1.0,\"#f0f921\"]],\"type\":\"heatmap\"}],\"histogram2dcontour\":[{\"colorbar\":{\"outlinewidth\":0,\"ticks\":\"\"},\"colorscale\":[[0.0,\"#0d0887\"],[0.1111111111111111,\"#46039f\"],[0.2222222222222222,\"#7201a8\"],[0.3333333333333333,\"#9c179e\"],[0.4444444444444444,\"#bd3786\"],[0.5555555555555556,\"#d8576b\"],[0.6666666666666666,\"#ed7953\"],[0.7777777777777778,\"#fb9f3a\"],[0.8888888888888888,\"#fdca26\"],[1.0,\"#f0f921\"]],\"type\":\"histogram2dcontour\"}],\"histogram2d\":[{\"colorbar\":{\"outlinewidth\":0,\"ticks\":\"\"},\"colorscale\":[[0.0,\"#0d0887\"],[0.1111111111111111,\"#46039f\"],[0.2222222222222222,\"#7201a8\"],[0.3333333333333333,\"#9c179e\"],[0.4444444444444444,\"#bd3786\"],[0.5555555555555556,\"#d8576b\"],[0.6666666666666666,\"#ed7953\"],[0.7777777777777778,\"#fb9f3a\"],[0.8888888888888888,\"#fdca26\"],[1.0,\"#f0f921\"]],\"type\":\"histogram2d\"}],\"histogram\":[{\"marker\":{\"pattern\":{\"fillmode\":\"overlay\",\"size\":10,\"solidity\":0.2}},\"type\":\"histogram\"}],\"mesh3d\":[{\"colorbar\":{\"outlinewidth\":0,\"ticks\":\"\"},\"type\":\"mesh3d\"}],\"parcoords\":[{\"line\":{\"colorbar\":{\"outlinewidth\":0,\"ticks\":\"\"}},\"type\":\"parcoords\"}],\"pie\":[{\"automargin\":true,\"type\":\"pie\"}],\"scatter3d\":[{\"line\":{\"colorbar\":{\"outlinewidth\":0,\"ticks\":\"\"}},\"marker\":{\"colorbar\":{\"outlinewidth\":0,\"ticks\":\"\"}},\"type\":\"scatter3d\"}],\"scattercarpet\":[{\"marker\":{\"colorbar\":{\"outlinewidth\":0,\"ticks\":\"\"}},\"type\":\"scattercarpet\"}],\"scattergeo\":[{\"marker\":{\"colorbar\":{\"outlinewidth\":0,\"ticks\":\"\"}},\"type\":\"scattergeo\"}],\"scattergl\":[{\"marker\":{\"colorbar\":{\"outlinewidth\":0,\"ticks\":\"\"}},\"type\":\"scattergl\"}],\"scattermapbox\":[{\"marker\":{\"colorbar\":{\"outlinewidth\":0,\"ticks\":\"\"}},\"type\":\"scattermapbox\"}],\"scatterpolargl\":[{\"marker\":{\"colorbar\":{\"outlinewidth\":0,\"ticks\":\"\"}},\"type\":\"scatterpolargl\"}],\"scatterpolar\":[{\"marker\":{\"colorbar\":{\"outlinewidth\":0,\"ticks\":\"\"}},\"type\":\"scatterpolar\"}],\"scatter\":[{\"fillpattern\":{\"fillmode\":\"overlay\",\"size\":10,\"solidity\":0.2},\"type\":\"scatter\"}],\"scatterternary\":[{\"marker\":{\"colorbar\":{\"outlinewidth\":0,\"ticks\":\"\"}},\"type\":\"scatterternary\"}],\"surface\":[{\"colorbar\":{\"outlinewidth\":0,\"ticks\":\"\"},\"colorscale\":[[0.0,\"#0d0887\"],[0.1111111111111111,\"#46039f\"],[0.2222222222222222,\"#7201a8\"],[0.3333333333333333,\"#9c179e\"],[0.4444444444444444,\"#bd3786\"],[0.5555555555555556,\"#d8576b\"],[0.6666666666666666,\"#ed7953\"],[0.7777777777777778,\"#fb9f3a\"],[0.8888888888888888,\"#fdca26\"],[1.0,\"#f0f921\"]],\"type\":\"surface\"}],\"table\":[{\"cells\":{\"fill\":{\"color\":\"#EBF0F8\"},\"line\":{\"color\":\"white\"}},\"header\":{\"fill\":{\"color\":\"#C8D4E3\"},\"line\":{\"color\":\"white\"}},\"type\":\"table\"}]},\"layout\":{\"annotationdefaults\":{\"arrowcolor\":\"#2a3f5f\",\"arrowhead\":0,\"arrowwidth\":1},\"autotypenumbers\":\"strict\",\"coloraxis\":{\"colorbar\":{\"outlinewidth\":0,\"ticks\":\"\"}},\"colorscale\":{\"diverging\":[[0,\"#8e0152\"],[0.1,\"#c51b7d\"],[0.2,\"#de77ae\"],[0.3,\"#f1b6da\"],[0.4,\"#fde0ef\"],[0.5,\"#f7f7f7\"],[0.6,\"#e6f5d0\"],[0.7,\"#b8e186\"],[0.8,\"#7fbc41\"],[0.9,\"#4d9221\"],[1,\"#276419\"]],\"sequential\":[[0.0,\"#0d0887\"],[0.1111111111111111,\"#46039f\"],[0.2222222222222222,\"#7201a8\"],[0.3333333333333333,\"#9c179e\"],[0.4444444444444444,\"#bd3786\"],[0.5555555555555556,\"#d8576b\"],[0.6666666666666666,\"#ed7953\"],[0.7777777777777778,\"#fb9f3a\"],[0.8888888888888888,\"#fdca26\"],[1.0,\"#f0f921\"]],\"sequentialminus\":[[0.0,\"#0d0887\"],[0.1111111111111111,\"#46039f\"],[0.2222222222222222,\"#7201a8\"],[0.3333333333333333,\"#9c179e\"],[0.4444444444444444,\"#bd3786\"],[0.5555555555555556,\"#d8576b\"],[0.6666666666666666,\"#ed7953\"],[0.7777777777777778,\"#fb9f3a\"],[0.8888888888888888,\"#fdca26\"],[1.0,\"#f0f921\"]]},\"colorway\":[\"#636efa\",\"#EF553B\",\"#00cc96\",\"#ab63fa\",\"#FFA15A\",\"#19d3f3\",\"#FF6692\",\"#B6E880\",\"#FF97FF\",\"#FECB52\"],\"font\":{\"color\":\"#2a3f5f\"},\"geo\":{\"bgcolor\":\"white\",\"lakecolor\":\"white\",\"landcolor\":\"white\",\"showlakes\":true,\"showland\":true,\"subunitcolor\":\"#C8D4E3\"},\"hoverlabel\":{\"align\":\"left\"},\"hovermode\":\"closest\",\"mapbox\":{\"style\":\"light\"},\"paper_bgcolor\":\"white\",\"plot_bgcolor\":\"white\",\"polar\":{\"angularaxis\":{\"gridcolor\":\"#EBF0F8\",\"linecolor\":\"#EBF0F8\",\"ticks\":\"\"},\"bgcolor\":\"white\",\"radialaxis\":{\"gridcolor\":\"#EBF0F8\",\"linecolor\":\"#EBF0F8\",\"ticks\":\"\"}},\"scene\":{\"xaxis\":{\"backgroundcolor\":\"white\",\"gridcolor\":\"#DFE8F3\",\"gridwidth\":2,\"linecolor\":\"#EBF0F8\",\"showbackground\":true,\"ticks\":\"\",\"zerolinecolor\":\"#EBF0F8\"},\"yaxis\":{\"backgroundcolor\":\"white\",\"gridcolor\":\"#DFE8F3\",\"gridwidth\":2,\"linecolor\":\"#EBF0F8\",\"showbackground\":true,\"ticks\":\"\",\"zerolinecolor\":\"#EBF0F8\"},\"zaxis\":{\"backgroundcolor\":\"white\",\"gridcolor\":\"#DFE8F3\",\"gridwidth\":2,\"linecolor\":\"#EBF0F8\",\"showbackground\":true,\"ticks\":\"\",\"zerolinecolor\":\"#EBF0F8\"}},\"shapedefaults\":{\"line\":{\"color\":\"#2a3f5f\"}},\"ternary\":{\"aaxis\":{\"gridcolor\":\"#DFE8F3\",\"linecolor\":\"#A2B1C6\",\"ticks\":\"\"},\"baxis\":{\"gridcolor\":\"#DFE8F3\",\"linecolor\":\"#A2B1C6\",\"ticks\":\"\"},\"bgcolor\":\"white\",\"caxis\":{\"gridcolor\":\"#DFE8F3\",\"linecolor\":\"#A2B1C6\",\"ticks\":\"\"}},\"title\":{\"x\":0.05},\"xaxis\":{\"automargin\":true,\"gridcolor\":\"#EBF0F8\",\"linecolor\":\"#EBF0F8\",\"ticks\":\"\",\"title\":{\"standoff\":15},\"zerolinecolor\":\"#EBF0F8\",\"zerolinewidth\":2},\"yaxis\":{\"automargin\":true,\"gridcolor\":\"#EBF0F8\",\"linecolor\":\"#EBF0F8\",\"ticks\":\"\",\"title\":{\"standoff\":15},\"zerolinecolor\":\"#EBF0F8\",\"zerolinewidth\":2}}},\"title\":{\"font\":{\"size\":22,\"color\":\"Black\"},\"text\":\"\\u003cb\\u003eHierarchical Clustering\\u003c\\u002fb\\u003e\",\"x\":0.5,\"xanchor\":\"center\",\"yanchor\":\"top\"},\"hoverlabel\":{\"font\":{\"size\":16,\"family\":\"Rockwell\"},\"bgcolor\":\"white\"},\"plot_bgcolor\":\"#ECEFF1\"},                        {\"responsive\": true}                    ).then(function(){\n",
       "                            \n",
       "var gd = document.getElementById('92515504-22a1-451c-9acd-0f26900fec6a');\n",
       "var x = new MutationObserver(function (mutations, observer) {{\n",
       "        var display = window.getComputedStyle(gd).display;\n",
       "        if (!display || display === 'none') {{\n",
       "            console.log([gd, 'removed!']);\n",
       "            Plotly.purge(gd);\n",
       "            observer.disconnect();\n",
       "        }}\n",
       "}});\n",
       "\n",
       "// Listen for the removal of the full notebook cells\n",
       "var notebookContainer = gd.closest('#notebook-container');\n",
       "if (notebookContainer) {{\n",
       "    x.observe(notebookContainer, {childList: true});\n",
       "}}\n",
       "\n",
       "// Listen for the clearing of the current output cell\n",
       "var outputEl = gd.closest('.output');\n",
       "if (outputEl) {{\n",
       "    x.observe(outputEl, {childList: true});\n",
       "}}\n",
       "\n",
       "                        })                };                });            </script>        </div>"
      ]
     },
     "metadata": {},
     "output_type": "display_data"
    }
   ],
   "source": [
    "topic_model.visualize_hierarchy()"
   ]
  },
  {
   "cell_type": "code",
   "execution_count": 18,
   "id": "afe245c5",
   "metadata": {},
   "outputs": [],
   "source": [
    "topic_model.visualize_hierarchy().write_html('Email/email-bert-clust.html')"
   ]
  },
  {
   "cell_type": "code",
   "execution_count": null,
   "id": "f38f2694",
   "metadata": {},
   "outputs": [],
   "source": []
  },
  {
   "cell_type": "code",
   "execution_count": null,
   "id": "55511acd",
   "metadata": {},
   "outputs": [],
   "source": []
  },
  {
   "cell_type": "code",
   "execution_count": null,
   "id": "24efadde",
   "metadata": {},
   "outputs": [],
   "source": []
  },
  {
   "cell_type": "code",
   "execution_count": null,
   "id": "002c6ec3",
   "metadata": {},
   "outputs": [],
   "source": [
    "# # Define a list of parameters to try for UMAP\n",
    "# umap_params = [\n",
    "#     {'n_neighbors': 3,'min_dist': 0.05},\n",
    "#     {'n_neighbors': 3,'min_dist': 0.1},\n",
    "#     {'n_neighbors': 6,'min_dist': 0.05}\n",
    "# ]\n",
    "\n",
    "# # Define a list of parameters to try for HDBSCAN\n",
    "# hdbscan_params = [\n",
    "#     {'min_cluster_size': 40},\n",
    "#     {'min_cluster_size': 50}\n",
    "# ]\n",
    "\n",
    "# # Loop over the parameter combinations and fit BERTopic models\n",
    "# for umap_param in umap_params:\n",
    "#     for hdbscan_param in hdbscan_params:\n",
    "#         # Create UMAP and HDBSCAN models with the current parameter combination\n",
    "#         umap_model = UMAP(**umap_param)\n",
    "#         hdbscan_model = HDBSCAN(**hdbscan_param, gen_min_span_tree=True, prediction_data=True)\n",
    "\n",
    "#         # Fit a BERTopic model with the current parameter combination\n",
    "#         model = BERTopic(\n",
    "#             umap_model=umap_model,\n",
    "#             hdbscan_model=hdbscan_model,\n",
    "#             top_n_words=10,\n",
    "#             language='english',\n",
    "#             calculate_probabilities=True,\n",
    "#             verbose=True,\n",
    "#             n_gram_range=(1, 2)\n",
    "#         )\n",
    "#         topics, probs = model.fit_transform(flattened_passages)\n",
    "#         model.get_topic_info().to_pickle(f'Email/email_model_umap_{umap_param}_hdbscan_{hdbscan_param}.pkl')\n",
    "\n",
    "#         # Visualize the hierarchy and save the figure to an HTML file\n",
    "#         fig = model.visualize_hierarchy()\n",
    "#         fig.write_html(f'Email/email_model_umap_{umap_param}_hdbscan_{hdbscan_param}.html')"
   ]
  },
  {
   "cell_type": "code",
   "execution_count": null,
   "id": "4f41bbad",
   "metadata": {},
   "outputs": [],
   "source": []
  }
 ],
 "metadata": {
  "kernelspec": {
   "display_name": "Python 3 (ipykernel)",
   "language": "python",
   "name": "python3"
  },
  "language_info": {
   "codemirror_mode": {
    "name": "ipython",
    "version": 3
   },
   "file_extension": ".py",
   "mimetype": "text/x-python",
   "name": "python",
   "nbconvert_exporter": "python",
   "pygments_lexer": "ipython3",
   "version": "3.10.8"
  }
 },
 "nbformat": 4,
 "nbformat_minor": 5
}
